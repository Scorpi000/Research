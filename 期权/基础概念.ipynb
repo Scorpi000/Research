{
 "cells": [
  {
   "cell_type": "markdown",
   "metadata": {},
   "source": [
    "# 基础概念\n",
    "\n",
    "## 基本概念\n",
    "\n",
    "我国内地推出的第一个期权是 2015 年 2 月 9 日上市交易的上证 50 ETF 期权, 其基本概况如下: \n",
    "\n",
    "![上证 50 ETF 期权合约基本条款](./images/上证50ETF期权合约基本条款.png)"
   ]
  },
  {
   "cell_type": "markdown",
   "metadata": {},
   "source": [
    "## 相关费用\n",
    "\n",
    "期权相关费用主要包括: 印花税, 经手费, 证管费, 过户费, 结算金, 券商佣金. 印花税是由税务机关按成交金额比例收取, 证管费是证券监管机构按成交金额比例收取, 经手费是由交易所按成交金额比例收取, 过户费是由中登公司按成交面额比例收取, 结算金也是由中登公司按照成交金额比例收取, 佣金是由证券公司按照成交金额比例收取.\n",
    "\n",
    "上海证券交易所期权的相关费用\n",
    "\n",
    "| 品种操作 | 印花税 | 经手费 | 证管费 | 过户费 | 结算金 | 券商净佣金 |\n",
    "| -------- | ------ | ------ | ------ | ------ | ------ | ---------- |\n",
    "| 期权买入开仓 | - | 合约标的为股票的为每张 3 元; 合约标的为交易所交易基金的每张 1.3 元 | - | - | - | - |\n",
    "| 期权卖出开仓 | - | - | - | - | - | - |\n",
    "| 期权买入平仓 | - | 合约标的为股票的为每张 3 元; 合约标的为交易所交易基金的每张 1.3 元 | - | - | - | - |\n",
    "| 期权卖出平仓 | - | 合约标的为股票的为每张 3 元; 合约标的为交易所交易基金的每张 1.3 元 | - | - | - | - |\n",
    "| 期权行权 | - | - | - | - | 成交数量 × 0.6 | - |\n"
   ]
  }
 ],
 "metadata": {
  "kernelspec": {
   "display_name": "Python 3",
   "language": "python",
   "name": "python3"
  },
  "language_info": {
   "codemirror_mode": {
    "name": "ipython",
    "version": 3
   },
   "file_extension": ".py",
   "mimetype": "text/x-python",
   "name": "python",
   "nbconvert_exporter": "python",
   "pygments_lexer": "ipython3",
   "version": "3.5.4"
  },
  "latex_envs": {
   "LaTeX_envs_menu_present": true,
   "autoclose": true,
   "autocomplete": true,
   "bibliofile": "biblio.bib",
   "cite_by": "apalike",
   "current_citInitial": 1,
   "eqLabelWithNumbers": true,
   "eqNumInitial": 1,
   "hotkeys": {
    "equation": "Ctrl-E",
    "itemize": "Ctrl-I"
   },
   "labels_anchors": false,
   "latex_user_defs": false,
   "report_style_numbering": false,
   "user_envs_cfg": false
  },
  "toc": {
   "base_numbering": 1,
   "nav_menu": {},
   "number_sections": true,
   "sideBar": true,
   "skip_h1_title": false,
   "title_cell": "Table of Contents",
   "title_sidebar": "Contents",
   "toc_cell": false,
   "toc_position": {},
   "toc_section_display": true,
   "toc_window_display": false
  },
  "varInspector": {
   "cols": {
    "lenName": 16,
    "lenType": 16,
    "lenVar": 40
   },
   "kernels_config": {
    "python": {
     "delete_cmd_postfix": "",
     "delete_cmd_prefix": "del ",
     "library": "var_list.py",
     "varRefreshCmd": "print(var_dic_list())"
    },
    "r": {
     "delete_cmd_postfix": ") ",
     "delete_cmd_prefix": "rm(",
     "library": "var_list.r",
     "varRefreshCmd": "cat(var_dic_list()) "
    }
   },
   "types_to_exclude": [
    "module",
    "function",
    "builtin_function_or_method",
    "instance",
    "_Feature"
   ],
   "window_display": false
  }
 },
 "nbformat": 4,
 "nbformat_minor": 2
}
