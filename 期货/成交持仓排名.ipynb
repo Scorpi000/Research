{
 "cells": [
  {
   "cell_type": "markdown",
   "metadata": {},
   "source": [
    "# 摘要\n",
    "\n",
    "期货期限结构的定义和经济解释, 展期收益率的定义和建模, 利用期限结构的期货交易策略"
   ]
  },
  {
   "cell_type": "markdown",
   "metadata": {},
   "source": [
    "# 理论模型\n",
    "\n",
    "会员席位成交持仓排名分析理论\n",
    "假设交易所会员席位的持仓变化一定程度上反映了期货投资者对市场价格的认可程度及交易行为目的；通过挖掘成交持仓历史变化信息，按会员席位的交易行为、 品种持仓结构和换手率等要素将会员席位分类，解析席位交易者的成交持仓因子并构建对冲组合，获得一定超额收益。\n",
    "\n",
    "## 套期保值压力理论\n",
    "\n",
    "期货市场的参与者可以分为套期保值者和投机者，前者的目的在于锁定自身收益，对冲未来标的价格变动的风险，愿意支付风险补偿来转移风险；投机者是风险偏好者，愿意承担风险但需要风险补偿。\n",
    "\n",
    "套期保值压力理论认为，正是这种风险的转移导致了现货市场与期货市场的基差。具体解释如下：如果套保者是一个生产商，他希望对冲掉未来产品价格下降而带来的风险，卖出期货合约，此时持有空头的净头寸。为了将风险转移宁愿支付风险补偿，所以期货合约价格将低于基于现货价格的未来期望价格。随着期货合约的到期，期货价格不断上升，趋于现货的期望价格，持有多头净头寸的投机者获得风险补偿；如果套保者是希望锁定原材料成本的加工商，持有净的多头头寸。为了对冲掉原材料价格上涨的风险， 愿意支付高于现货未来期望的价格来购买合约。因此，期货价格在到期的过程中下降，持有空头头寸的投机者获得风险补偿。\n",
    "\n",
    "## 成交持仓排名因子\n",
    "\n"
   ]
  },
  {
   "cell_type": "markdown",
   "metadata": {},
   "source": [
    "# References\n",
    "\n",
    "1. 华泰期货, CTA 量化策略因子系列（六）：商品成交持仓排名因子（上），2018-03-30\n",
    "2. 五矿实达，对沪铜成交与持仓排名表的量化分析，2010-06\n",
    "3. 华创证券，华创金工 CTA 系列专题报告（一）——持仓博弈异常信号的挖掘，2018-05-10"
   ]
  }
 ],
 "metadata": {
  "kernelspec": {
   "display_name": "Python 3",
   "language": "python",
   "name": "python3"
  },
  "language_info": {
   "codemirror_mode": {
    "name": "ipython",
    "version": 3
   },
   "file_extension": ".py",
   "mimetype": "text/x-python",
   "name": "python",
   "nbconvert_exporter": "python",
   "pygments_lexer": "ipython3",
   "version": "3.5.4"
  },
  "latex_envs": {
   "LaTeX_envs_menu_present": true,
   "autoclose": true,
   "autocomplete": true,
   "bibliofile": "biblio.bib",
   "cite_by": "apalike",
   "current_citInitial": 1,
   "eqLabelWithNumbers": true,
   "eqNumInitial": 1,
   "hotkeys": {
    "equation": "Ctrl-E",
    "itemize": "Ctrl-I"
   },
   "labels_anchors": false,
   "latex_user_defs": false,
   "report_style_numbering": false,
   "user_envs_cfg": false
  },
  "toc": {
   "base_numbering": 1,
   "nav_menu": {},
   "number_sections": true,
   "sideBar": true,
   "skip_h1_title": false,
   "title_cell": "Table of Contents",
   "title_sidebar": "Contents",
   "toc_cell": false,
   "toc_position": {},
   "toc_section_display": true,
   "toc_window_display": false
  },
  "varInspector": {
   "cols": {
    "lenName": 16,
    "lenType": 16,
    "lenVar": 40
   },
   "kernels_config": {
    "python": {
     "delete_cmd_postfix": "",
     "delete_cmd_prefix": "del ",
     "library": "var_list.py",
     "varRefreshCmd": "print(var_dic_list())"
    },
    "r": {
     "delete_cmd_postfix": ") ",
     "delete_cmd_prefix": "rm(",
     "library": "var_list.r",
     "varRefreshCmd": "cat(var_dic_list()) "
    }
   },
   "types_to_exclude": [
    "module",
    "function",
    "builtin_function_or_method",
    "instance",
    "_Feature"
   ],
   "window_display": false
  }
 },
 "nbformat": 4,
 "nbformat_minor": 2
}
