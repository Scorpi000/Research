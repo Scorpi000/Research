{
 "cells": [
  {
   "cell_type": "markdown",
   "metadata": {},
   "source": [
    "# 摘要"
   ]
  },
  {
   "cell_type": "markdown",
   "metadata": {},
   "source": [
    "# 理论模型\n",
    "\n",
    "菜籽提油套利的模式主要是在油菜籽，菜籽油，菜籽粕期货间展开。\n",
    "\n",
    "油菜籽压榨油粕产出比例为 37% 菜籽油，63% 菜籽粕。\n",
    "\n",
    "压榨的利润公式为：\n",
    "\n",
    "压榨利润 = 0.37 * 菜籽油价格 + 0.63 * 菜籽粕价格 - 其他费用"
   ]
  },
  {
   "cell_type": "markdown",
   "metadata": {},
   "source": [
    "# 实证分析"
   ]
  },
  {
   "cell_type": "code",
   "execution_count": 1,
   "metadata": {
    "ExecuteTime": {
     "end_time": "2019-02-21T05:32:49.248770Z",
     "start_time": "2019-02-21T05:32:34.252116Z"
    },
    "code_folding": [
     0
    ]
   },
   "outputs": [],
   "source": [
    "# coding=utf-8\n",
    "import sys\n",
    "sys.path.append(\"D:\\\\HST\\\\QuantStudio\")\n",
    "sys.path.append(\"C:\\\\Users\\\\hushuntai\\\\svn\\\\python\")\n",
    "import datetime as dt\n",
    "\n",
    "import numpy as np\n",
    "import pandas as pd\n",
    "import statsmodels.api as sm\n",
    "import matplotlib.pyplot as plt\n",
    "%matplotlib inline\n",
    "from tqdm import tqdm_notebook\n",
    "\n",
    "import QuantStudio.api as QS\n",
    "WDB = QS.FactorDB.WindDB2();"
   ]
  },
  {
   "cell_type": "code",
   "execution_count": 2,
   "metadata": {
    "ExecuteTime": {
     "end_time": "2019-02-21T05:35:57.390516Z",
     "start_time": "2019-02-21T05:35:08.440723Z"
    }
   },
   "outputs": [
    {
     "ename": "OperationalError",
     "evalue": "('08001', '[08001] [Microsoft][ODBC SQL Server Driver][DBNETLIB]SQL Server 不存在或访问被拒绝 (17) (SQLDriverConnect); [08001] [Microsoft][ODBC SQL Server Driver][DBNETLIB]ConnectionOpen (Connect()). (53)')",
     "output_type": "error",
     "traceback": [
      "\u001b[1;31m---------------------------------------------------------------------------\u001b[0m",
      "\u001b[1;31mOperationalError\u001b[0m                          Traceback (most recent call last)",
      "\u001b[1;32m<ipython-input-2-883d236e55eb>\u001b[0m in \u001b[0;36m<module>\u001b[1;34m\u001b[0m\n\u001b[0;32m      6\u001b[0m \u001b[0mPriceFactor\u001b[0m \u001b[1;33m=\u001b[0m \u001b[1;34m\"收盘价(元)\"\u001b[0m\u001b[1;33m\u001b[0m\u001b[0m\n\u001b[0;32m      7\u001b[0m \u001b[1;33m\u001b[0m\u001b[0m\n\u001b[1;32m----> 8\u001b[1;33m \u001b[0mWDB\u001b[0m\u001b[1;33m.\u001b[0m\u001b[0mconnect\u001b[0m\u001b[1;33m(\u001b[0m\u001b[1;33m)\u001b[0m\u001b[1;33m\u001b[0m\u001b[0m\n\u001b[0m\u001b[0;32m      9\u001b[0m \u001b[0mDTs\u001b[0m \u001b[1;33m=\u001b[0m \u001b[0mWDB\u001b[0m\u001b[1;33m.\u001b[0m\u001b[0mgetTable\u001b[0m\u001b[1;33m(\u001b[0m\u001b[1;34m\"中国期货交易日历\"\u001b[0m\u001b[1;33m)\u001b[0m\u001b[1;33m.\u001b[0m\u001b[0mgetDateTime\u001b[0m\u001b[1;33m(\u001b[0m\u001b[0miid\u001b[0m\u001b[1;33m=\u001b[0m\u001b[1;34m\"DCE\"\u001b[0m\u001b[1;33m,\u001b[0m \u001b[0mstart_dt\u001b[0m\u001b[1;33m=\u001b[0m\u001b[0mStartDT\u001b[0m\u001b[1;33m,\u001b[0m \u001b[0mend_dt\u001b[0m\u001b[1;33m=\u001b[0m\u001b[0mEndDT\u001b[0m\u001b[1;33m)\u001b[0m\u001b[1;33m\u001b[0m\u001b[0m\n\u001b[0;32m     10\u001b[0m \u001b[1;31m# 获取连续合约的月合约 ID\u001b[0m\u001b[1;33m\u001b[0m\u001b[1;33m\u001b[0m\u001b[0m\n",
      "\u001b[1;32mD:\\HST\\QuantStudio\\QuantStudio\\FactorDataBase\\WindDB2.py\u001b[0m in \u001b[0;36mconnect\u001b[1;34m(self)\u001b[0m\n\u001b[0;32m   1817\u001b[0m                 \u001b[0mself\u001b[0m\u001b[1;33m.\u001b[0m\u001b[0m_Connection\u001b[0m \u001b[1;33m=\u001b[0m \u001b[0mpyodbc\u001b[0m\u001b[1;33m.\u001b[0m\u001b[0mconnect\u001b[0m\u001b[1;33m(\u001b[0m\u001b[1;34m'DSN=%s;PWD=%s'\u001b[0m \u001b[1;33m%\u001b[0m \u001b[1;33m(\u001b[0m\u001b[0mself\u001b[0m\u001b[1;33m.\u001b[0m\u001b[0mDSN\u001b[0m\u001b[1;33m,\u001b[0m \u001b[0mself\u001b[0m\u001b[1;33m.\u001b[0m\u001b[0mPwd\u001b[0m\u001b[1;33m)\u001b[0m\u001b[1;33m)\u001b[0m\u001b[1;33m\u001b[0m\u001b[0m\n\u001b[0;32m   1818\u001b[0m             \u001b[1;32melse\u001b[0m\u001b[1;33m:\u001b[0m\u001b[1;33m\u001b[0m\u001b[0m\n\u001b[1;32m-> 1819\u001b[1;33m                 \u001b[0mself\u001b[0m\u001b[1;33m.\u001b[0m\u001b[0m_Connection\u001b[0m \u001b[1;33m=\u001b[0m \u001b[0mpyodbc\u001b[0m\u001b[1;33m.\u001b[0m\u001b[0mconnect\u001b[0m\u001b[1;33m(\u001b[0m\u001b[1;34m'DRIVER={%s};DATABASE=%s;SERVER=%s;UID=%s;PWD=%s'\u001b[0m \u001b[1;33m%\u001b[0m \u001b[1;33m(\u001b[0m\u001b[0mself\u001b[0m\u001b[1;33m.\u001b[0m\u001b[0mDBType\u001b[0m\u001b[1;33m,\u001b[0m \u001b[0mself\u001b[0m\u001b[1;33m.\u001b[0m\u001b[0mDBName\u001b[0m\u001b[1;33m,\u001b[0m \u001b[0mself\u001b[0m\u001b[1;33m.\u001b[0m\u001b[0mIPAddr\u001b[0m\u001b[1;33m,\u001b[0m \u001b[0mself\u001b[0m\u001b[1;33m.\u001b[0m\u001b[0mUser\u001b[0m\u001b[1;33m,\u001b[0m \u001b[0mself\u001b[0m\u001b[1;33m.\u001b[0m\u001b[0mPwd\u001b[0m\u001b[1;33m)\u001b[0m\u001b[1;33m)\u001b[0m\u001b[1;33m\u001b[0m\u001b[0m\n\u001b[0m\u001b[0;32m   1820\u001b[0m         \u001b[0mself\u001b[0m\u001b[1;33m.\u001b[0m\u001b[0m_Connection\u001b[0m\u001b[1;33m.\u001b[0m\u001b[0mautocommit\u001b[0m \u001b[1;33m=\u001b[0m \u001b[1;32mTrue\u001b[0m\u001b[1;33m\u001b[0m\u001b[0m\n\u001b[0;32m   1821\u001b[0m         \u001b[0mself\u001b[0m\u001b[1;33m.\u001b[0m\u001b[0m_AllTables\u001b[0m \u001b[1;33m=\u001b[0m \u001b[1;33m[\u001b[0m\u001b[1;33m]\u001b[0m\u001b[1;33m\u001b[0m\u001b[0m\n",
      "\u001b[1;31mOperationalError\u001b[0m: ('08001', '[08001] [Microsoft][ODBC SQL Server Driver][DBNETLIB]SQL Server 不存在或访问被拒绝 (17) (SQLDriverConnect); [08001] [Microsoft][ODBC SQL Server Driver][DBNETLIB]ConnectionOpen (Connect()). (53)')"
     ]
    }
   ],
   "source": [
    "# 参数设置和数据准备\n",
    "IDs = [\"RS.CZC\", \"OI.CZC\", \"RM.CZC\"]# 豆粕, 豆油, 豆2主力合约\n",
    "TheoryHedgeRatio = np.array([1, -0.37, -0.63])# 理论对冲比例\n",
    "StartDT = dt.datetime(2012, 12, 28)# 回测开始日期\n",
    "EndDT = dt.datetime(2018, 12, 31)# 回测截止日期\n",
    "PriceFactor = \"收盘价(元)\"\n",
    "\n",
    "WDB.connect()\n",
    "DTs = WDB.getTable(\"中国期货交易日历\").getDateTime(iid=\"DCE\", start_dt=StartDT, end_dt=EndDT)\n",
    "# 获取连续合约的月合约 ID\n",
    "FT = WDB.getTable(\"中国期货连续(主力)合约和月合约映射表\")\n",
    "FutureIDMap = FT.readData(factor_names=[\"映射月合约Wind代码\"], ids=IDs, dts=DTs).iloc[0,:,:]\n",
    "# 获取价格数据\n",
    "FT = WDB.getTable(\"中国商品期货日行情\")\n",
    "MonthIDs = FutureIDMap.values.flatten()\n",
    "MonthIDs = sorted(np.unique(MonthIDs[pd.notnull(MonthIDs)]))\n",
    "MonthPrice = FT.readData(factor_names=[PriceFactor], ids=MonthIDs, dts=DTs).iloc[0]\n",
    "CCPrice = FT.readData(factor_names=[PriceFactor], ids=IDs, dts=DTs).iloc[0]\n",
    "WDB.disconnect()\n",
    "\n",
    "# 对连续合约的价格进行展期调整\n",
    "AdjCCPrice = {iID: QS.Tools.Strategy.genContinuousContractPrice(FutureIDMap[iID], MonthPrice, adj_direction=\"前复权\", adj_type=\"收益率不变\", rollover_ahead=True) for iID in FutureIDMap.columns}\n",
    "AdjCCPrice = pd.DataFrame(AdjCCPrice).loc[:, FutureIDMap.columns]\n",
    "\n",
    "Fig, Axes = plt.subplots(1, 2, figsize=(32, 8))\n",
    "CCPrice.plot(kind=\"line\", ax=Axes[0])\n",
    "(CCPrice * TheoryHedgeRatio).sum(axis=1).plot(kind=\"line\", ax=Axes[1], title=\"理论价差\");"
   ]
  },
  {
   "cell_type": "code",
   "execution_count": null,
   "metadata": {},
   "outputs": [],
   "source": []
  }
 ],
 "metadata": {
  "kernelspec": {
   "display_name": "Python 3",
   "language": "python",
   "name": "python3"
  },
  "language_info": {
   "codemirror_mode": {
    "name": "ipython",
    "version": 3
   },
   "file_extension": ".py",
   "mimetype": "text/x-python",
   "name": "python",
   "nbconvert_exporter": "python",
   "pygments_lexer": "ipython3",
   "version": "3.5.4"
  },
  "latex_envs": {
   "LaTeX_envs_menu_present": true,
   "autoclose": true,
   "autocomplete": true,
   "bibliofile": "biblio.bib",
   "cite_by": "apalike",
   "current_citInitial": 1,
   "eqLabelWithNumbers": true,
   "eqNumInitial": 1,
   "hotkeys": {
    "equation": "Ctrl-E",
    "itemize": "Ctrl-I"
   },
   "labels_anchors": false,
   "latex_user_defs": false,
   "report_style_numbering": false,
   "user_envs_cfg": false
  },
  "toc": {
   "base_numbering": 1,
   "nav_menu": {},
   "number_sections": true,
   "sideBar": true,
   "skip_h1_title": false,
   "title_cell": "Table of Contents",
   "title_sidebar": "Contents",
   "toc_cell": false,
   "toc_position": {},
   "toc_section_display": true,
   "toc_window_display": false
  },
  "varInspector": {
   "cols": {
    "lenName": 16,
    "lenType": 16,
    "lenVar": 40
   },
   "kernels_config": {
    "python": {
     "delete_cmd_postfix": "",
     "delete_cmd_prefix": "del ",
     "library": "var_list.py",
     "varRefreshCmd": "print(var_dic_list())"
    },
    "r": {
     "delete_cmd_postfix": ") ",
     "delete_cmd_prefix": "rm(",
     "library": "var_list.r",
     "varRefreshCmd": "cat(var_dic_list()) "
    }
   },
   "types_to_exclude": [
    "module",
    "function",
    "builtin_function_or_method",
    "instance",
    "_Feature"
   ],
   "window_display": false
  }
 },
 "nbformat": 4,
 "nbformat_minor": 2
}
