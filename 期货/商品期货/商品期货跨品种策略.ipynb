{
 "cells": [
  {
   "cell_type": "markdown",
   "metadata": {},
   "source": [
    "# 商品期货跨品种策略\n",
    "\n",
    "## 摘要"
   ]
  },
  {
   "cell_type": "markdown",
   "metadata": {},
   "source": [
    "# 理论模型\n",
    "\n",
    "## 产业链套利\n",
    "\n",
    "产业链套利是产业链内部相关品种间的套利模式，主要有：\n",
    "* 炼钢套利，涉及品种：螺纹钢，铁矿石，焦炭，详见: [炼钢套利](.\\炼钢套利.ipynb)\n",
    "* 炼焦套利，涉及品种：焦煤，焦炭，详见：[炼焦套利](.\\炼焦套利.ipynb)\n",
    "* 甲醇制PP套利，涉及品种：甲醇，聚丙烯，详见：[甲醇制PP套利](.\\甲醇制PP套利.ipynb)\n",
    "* 产蛋套利，涉及品种：鸡蛋，豆粕，玉米，详见：[产蛋套利](.\\产蛋套利.ipynb)\n",
    "* 大豆提油套利，涉及品种：大豆，豆粕，豆油，详见：[大豆提油套利](.\\大豆提油套利.ipynb)\n",
    "\n",
    "## 替代品种套利\n",
    "\n",
    "替代品种套利是指在相同大类中有相似功能的品种之间的套利模式，由于功能的相互替代性期货价格呈现一定相关性，当价差偏离较大的时候可以入场进行套利。\n",
    "\n",
    "\n",
    "## 内外盘套利\n",
    "\n",
    "目前国内商品中对应有外盘的品种为：大豆，豆粕，豆油，玉米，黄金，白银，白糖，棉花，铜，铝，铅，锌，镍。\n",
    "\n",
    "内外盘套利主要是通过统计套利或者计算内外盘品种间的无套利成本区间把握套利的机会。\n",
    "\n",
    "## 对冲策略\n",
    "\n",
    "该类策略交易的对象是市场上全部活跃的合约，做多强势的，做空弱势的，或者进一步要求在各个期货大类内部实现多空平衡，比如黑色系、有色金属、能源化工、农产品、油脂油料、贵金属等。"
   ]
  },
  {
   "cell_type": "code",
   "execution_count": null,
   "metadata": {
    "code_folding": [
     0
    ]
   },
   "outputs": [],
   "source": [
    "# 所有期货的展期收益率\n",
    "TargetDT = dt.datetime.combine(dt.date.today(), dt.time(0))-dt.timedelta(1)# 设置目标日期\n",
    "\n",
    "WDB.connect()\n",
    "\n",
    "# 获取所有的主力合约和次主力合约\n",
    "FutureCodes = WDB.getFutureCode(exchange=[\"SHFE\", \"INE\", \"DCE\", \"CZCE\"], date=TargetDT, is_current=True)\n",
    "FutureIDs = WDB.getFutureID(future_code=FutureCodes, date=TargetDT, is_current=False, contract_type=\"连续合约\")\n",
    "FutureIDs = pd.Series(FutureIDs)\n",
    "FutureIDs = FutureIDs[~FutureIDs.str.findall(\"\\d+\").apply(bool)]\n",
    "FutureInfo = pd.DataFrame(FutureIDs[~FutureIDs.str.findall(\"_S\").apply(bool)].values, columns=[\"主力合约\"])\n",
    "FutureInfo[\"次主力合约\"] = FutureIDs[FutureIDs.str.findall(\"_S\").apply(bool)].values\n",
    "FutureInfo.index = FutureInfo[\"主力合约\"].apply(lambda x: x.split(\".\")[0]).values\n",
    "\n",
    "# 获取主力和次主力合约在目标日的月合约 ID\n",
    "FT = WDB.getTable(\"中国期货连续(主力)合约和月合约映射表\")\n",
    "FutureInfo[\"主力月合约\"] = FT.readData(factor_names=[\"映射月合约Wind代码\"], ids=FutureInfo[\"主力合约\"].tolist(), dts=[TargetDT]).iloc[0, 0].values\n",
    "FutureInfo[\"次主力月合约\"] = FT.readData(factor_names=[\"映射月合约Wind代码\"], ids=FutureInfo[\"次主力合约\"].tolist(), dts=[TargetDT]).iloc[0, 0].values\n",
    "\n",
    "# 去掉缺失值\n",
    "FutureInfo.dropna(how=\"any\", inplace=True)\n",
    "\n",
    "# 获取主力和次主力月合约的到期日\n",
    "FT = WDB.getTable(\"中国期货基本资料\")\n",
    "FutureInfo[\"主力月合约最后交易日\"] = FT.readData(factor_names=[\"最后交易日期\"], ids=FutureInfo[\"主力月合约\"].tolist(), dts=[TargetDT]).iloc[0, 0].values\n",
    "FutureInfo[\"次主力月合约最后交易日\"] = FT.readData(factor_names=[\"最后交易日期\"], ids=FutureInfo[\"次主力月合约\"].tolist(), dts=[TargetDT]).iloc[0, 0].values\n",
    "\n",
    "# 获取主力和次主力月合约在目标日的价格\n",
    "FT = WDB.getTable(\"中国商品期货日行情\")\n",
    "FutureInfo[\"主力合约结算价\"] = FT.readData(factor_names=[\"结算价(元)\"], ids=FutureInfo[\"主力合约\"].tolist(), dts=[TargetDT]).iloc[0,0].values\n",
    "FutureInfo[\"次主力合约结算价\"] = FT.readData(factor_names=[\"结算价(元)\"], ids=FutureInfo[\"次主力合约\"].tolist(), dts=[TargetDT]).iloc[0,0].values\n",
    "\n",
    "WDB.disconnect()\n",
    "\n",
    "# 计算展期收益率\n",
    "TimeDelta = FutureInfo[\"次主力月合约最后交易日\"].apply(lambda x: dt.datetime.strptime(x, \"%Y%m%d\")) - FutureInfo[\"主力月合约最后交易日\"].apply(lambda x: dt.datetime.strptime(x, \"%Y%m%d\"))\n",
    "TimeDelta = TimeDelta.apply(lambda x: x.days / 365)\n",
    "FutureInfo[\"展期收益率\"] = (np.log(FutureInfo[\"主力合约结算价\"]) - np.log(FutureInfo[\"次主力合约结算价\"])) / TimeDelta\n",
    "\n",
    "display(FutureInfo)"
   ]
  }
 ],
 "metadata": {
  "kernelspec": {
   "display_name": "Python 3",
   "language": "python",
   "name": "python3"
  },
  "language_info": {
   "codemirror_mode": {
    "name": "ipython",
    "version": 3
   },
   "file_extension": ".py",
   "mimetype": "text/x-python",
   "name": "python",
   "nbconvert_exporter": "python",
   "pygments_lexer": "ipython3",
   "version": "3.5.4"
  },
  "latex_envs": {
   "LaTeX_envs_menu_present": true,
   "autoclose": true,
   "autocomplete": true,
   "bibliofile": "biblio.bib",
   "cite_by": "apalike",
   "current_citInitial": 1,
   "eqLabelWithNumbers": true,
   "eqNumInitial": 1,
   "hotkeys": {
    "equation": "Ctrl-E",
    "itemize": "Ctrl-I"
   },
   "labels_anchors": false,
   "latex_user_defs": false,
   "report_style_numbering": false,
   "user_envs_cfg": false
  },
  "toc": {
   "base_numbering": 1,
   "nav_menu": {},
   "number_sections": true,
   "sideBar": true,
   "skip_h1_title": false,
   "title_cell": "Table of Contents",
   "title_sidebar": "Contents",
   "toc_cell": false,
   "toc_position": {},
   "toc_section_display": true,
   "toc_window_display": false
  },
  "varInspector": {
   "cols": {
    "lenName": 16,
    "lenType": 16,
    "lenVar": 40
   },
   "kernels_config": {
    "python": {
     "delete_cmd_postfix": "",
     "delete_cmd_prefix": "del ",
     "library": "var_list.py",
     "varRefreshCmd": "print(var_dic_list())"
    },
    "r": {
     "delete_cmd_postfix": ") ",
     "delete_cmd_prefix": "rm(",
     "library": "var_list.r",
     "varRefreshCmd": "cat(var_dic_list()) "
    }
   },
   "types_to_exclude": [
    "module",
    "function",
    "builtin_function_or_method",
    "instance",
    "_Feature"
   ],
   "window_display": true
  }
 },
 "nbformat": 4,
 "nbformat_minor": 2
}
