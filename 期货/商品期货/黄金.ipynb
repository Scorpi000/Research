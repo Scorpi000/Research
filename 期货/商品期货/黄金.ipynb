{
 "cells": [
  {
   "cell_type": "markdown",
   "metadata": {},
   "source": [
    "# 黄金\n",
    "\n",
    "## 摘要"
   ]
  },
  {
   "cell_type": "markdown",
   "metadata": {},
   "source": [
    "## 理论模型\n",
    "\n",
    "黄金，长时间以来都有“金属之王”的称号。\n",
    "\n",
    "### 黄金在货币体系中的变化\n",
    "\n",
    "**皇权贵族垄断时期**\n",
    "\n",
    "黄金本为帝王独占，一般平民很难拥有，抢掠和赏赐是黄金流通的主要方式。\n",
    "\n",
    "**金本位制时期**\n",
    "\n",
    "黄金被赋予货币价值功能，黄金就是货币，是硬通货，承担了商品交换的一般等价物功能，具有自由铸造、自由兑换（纸币与金币）、自由输入输出三个特点。\n",
    "\n",
    "**金砖本位制和金汇兑本位制时期**\n",
    "\n",
    "第一次世界大战后，多数欧美资本主义国家遭遇严重通货膨胀，另外黄金的分配极不均匀，难以恢复金本位制。1929 年世界货币会议上，为奉行“节约黄金”原则，金砖本位制和金汇兑本位制诞生。\n",
    "\n",
    "金砖本位制下，各国央行发行的纸币仍然规定含金量，但黄金只作为货币发行的准备金集中于中央银行，而不再铸造金币和实行金币流通，流通中货币完全由纸币代替，纸币在一定数额以上可以按规定的含金量与黄金兑换。各国通过设定兑换的最低限额来压制市场对黄金的需求，达到节约黄金的目的。\n",
    "\n",
    "金汇兑本位制下，一国国内不能流通金币，只能流通有法定含金量的纸币，并且纸币不能直接兑换黄金，只能兑换外汇。\n",
    "\n",
    "**布雷顿森林体系**\n",
    "\n",
    "第二次世界大战后，全世界的黄金大多流入美国，美国拥有的黄金占世界各国官方黄金储备总量的 75% 以上。布雷顿森林体系本质上是一种国际金汇兑本位制，各国货币只有通过美元才能同黄金产生联系，美元起着世界货币作用。即，美元成了黄金的等价物，美国作为黄金的管家。\n",
    "\n",
    "**非货币化时期**\n",
    "\n",
    "20 世纪 60年代美国遭遇信誉危机，各国为了避险和保值纷纷抛出美元兑换黄金，美国政府承诺的美元同黄金的固定兑换率难以维持并最终放弃，各西方国家货币纷纷与美元脱钩，金价进入由市场自由浮动定价时期，布雷顿森林体系崩溃。\n",
    "\n",
    "1976 年国际货币基金组织通过了《牙买加协定》，黄金价格走上市场化道路。但黄金的货币职能依然遗存，依然是国际上可以接受的硬通货，充当着国家或者个人的储备资产。\n",
    "\n",
    "### 黄金的属性\n",
    "\n",
    "* 一般商品属性：主要用于收藏和消费，比如珠宝首饰应用，工业与科技应用\n",
    "* 金融投资属性：金融工具之一，资产保值的重要手段\n",
    "* 货币属性：国际储备构成之一，是三大战略储备资源（石油、铁矿石、稀有金属）之一\n",
    "\n",
    "\n",
    "### 黄金的供给\n",
    "\n",
    "* 初级供给：矿产金，指由矿业公司开采出来的黄金，通过金矿石融化、提炼得到的实物黄金。\n",
    "* 次级供给：再生金，指由旧黄金制品的再回收而制成的黄金。\n",
    "* 三级供给：官方售金，指各国中央银行和金融机构出售的黄金，官方售金主要由央行售金协定（CBGA）的签约国的黄金销售构成，CBGA 签约国之外的央行每年售金量都比较小。\n",
    "\n",
    "矿产金的供给不太容易受市场因素影响，短期内不会发生大的波动，再生金和官方售金的供给更容易受市场因素影响。\n",
    "\n",
    "\n",
    "### 黄金的需求\n",
    "\n",
    "* 珠宝首饰需求：用于制造黄金饰品。\n",
    "* 工业与科技需求：包括医学应用、化工应用、科技应用等。\n",
    "* 投资需求：主要包括金条金币、各种金融衍生品的投资和储备用途。\n",
    "* 央行购金：各国中央银行购入作为一国金融储备资产。\n",
    "\n",
    "\n",
    "### 价格影响因素\n",
    "\n",
    "**美元价格**\n",
    "\n",
    "黄金在国际市场上以美元标价，一般以美元/盎司（1 盎司 = 28.350 克），黄金价格和美元基本上呈现负相关。"
   ]
  },
  {
   "cell_type": "markdown",
   "metadata": {},
   "source": [
    "## 实证分析"
   ]
  },
  {
   "cell_type": "code",
   "execution_count": 1,
   "metadata": {
    "ExecuteTime": {
     "end_time": "2019-01-09T02:56:44.438273Z",
     "start_time": "2019-01-09T02:56:26.150124Z"
    }
   },
   "outputs": [
    {
     "name": "stdout",
     "output_type": "stream",
     "text": [
      "Welcome to use Wind Quant API for Python (WindPy)!\n",
      "\n",
      "COPYRIGHT (C) 2017 WIND INFORMATION CO., LTD. ALL RIGHTS RESERVED.\n",
      "IN NO CIRCUMSTANCE SHALL WIND BE RESPONSIBLE FOR ANY DAMAGES OR LOSSES CAUSED BY USING WIND QUANT API FOR Python.\n"
     ]
    },
    {
     "data": {
      "text/plain": [
       ".ErrorCode=0\n",
       ".Data=[OK!]"
      ]
     },
     "execution_count": 1,
     "metadata": {},
     "output_type": "execute_result"
    }
   ],
   "source": [
    "# coding=utf-8\n",
    "import sys\n",
    "sys.path.append(\"D:\\\\HST\\\\QuantStudio\")\n",
    "sys.path.append(\"C:\\\\Users\\\\hushuntai\\\\svn\\\\python\")\n",
    "import datetime as dt\n",
    "\n",
    "import numpy as np\n",
    "import pandas as pd\n",
    "import statsmodels.api as sm\n",
    "import matplotlib.pyplot as plt\n",
    "import matplotlib.dates as mdate\n",
    "%matplotlib inline\n",
    "from tqdm import tqdm_notebook\n",
    "\n",
    "import QuantStudio.api as QS\n",
    "WDB = QS.FactorDB.WindDB2()\n",
    "\n",
    "from WindPy import w\n",
    "w.start()"
   ]
  },
  {
   "cell_type": "markdown",
   "metadata": {},
   "source": [
    "### 美元和金价\n",
    "\n",
    "美元指数由欧元/美元、美元/日元、英镑/美元、美元/瑞郎、美元/加元、澳元/美元等主要货币币值加权计算的一种指数，综合衡量美元强弱程度的指标。"
   ]
  },
  {
   "cell_type": "code",
   "execution_count": 6,
   "metadata": {
    "ExecuteTime": {
     "end_time": "2019-01-09T03:27:17.008709Z",
     "start_time": "2019-01-09T03:27:16.010631Z"
    }
   },
   "outputs": [],
   "source": [
    "StartDT = dt.datetime(2017, 1, 1)# 设置回测开始日期\n",
    "EndDT = dt.datetime(2018, 11, 30)# 设置回测截止日期\n",
    "\n",
    "DFXIID = \"USDX.FX\"# 美元指数 ID\n",
    "DFXIPrice = w.wsd(DFXIID, \"close\", StartDT.strftime(\"%Y-%m-%d\"), EndDT.strftime(\"%Y-%m-%d\"), \"TradingCalendar=NYBOT\")\n",
    "DFXIPrice = pd.Series(DFXIPrice.Data[0], index=[dt.datetime.combine(iDate, dt.time(0)) for iDate in DFXIPrice.Times])\n",
    "\n",
    "LMEAUID = \"AUSPTE.LME\"# 伦敦黄金现货 ID\n",
    "LMEAUPrice = w.wsd(LMEAUID, \"close\", StartDT.strftime(\"%Y-%m-%d\"), EndDT.strftime(\"%Y-%m-%d\"), \"TradingCalendar=LME\")\n",
    "LMEAUPrice = pd.Series(LMEAUPrice.Data[0], index=[dt.datetime.combine(iDate, dt.time(0)) for iDate in LMEAUPrice.Times])\n",
    "\n",
    "SHAUID = \"SHAU.SGE\"# 上海黄金现货 ID\n",
    "SHAUPrice = w.wsd(SHAUID, \"close\", StartDT.strftime(\"%Y-%m-%d\"), EndDT.strftime(\"%Y-%m-%d\"), \"TradingCalendar=SGE\")\n",
    "SHAUPrice = pd.Series(SHAUPrice.Data[0], index=[dt.datetime.combine(iDate, dt.time(0)) for iDate in SHAUPrice.Times])\n",
    "\n",
    "SHAUFID = \"AU.SHF\"# 上海黄金期货 ID\n",
    "SHAUFPrice = w.wsd(SHAUFID, \"close\", StartDT.strftime(\"%Y-%m-%d\"), EndDT.strftime(\"%Y-%m-%d\"), \"TradingCalendar=SGE\")\n",
    "SHAUFPrice = pd.Series(SHAUFPrice.Data[0], index=[dt.datetime.combine(iDate, dt.time(0)) for iDate in SHAUFPrice.Times])\n",
    "\n",
    "DTs = DFXIPrice.index.union(LMEAUPrice.index).union(SHAUPrice.index).union(SHAUFPrice.index)\n",
    "DFXIPrice = DFXIPrice.loc[DTs].fillna(method=\"\")\n",
    "\n",
    "# Fig, Axes = plt.subplots(1, 1, figsize=(25, 8))\n",
    "# Axes.plot(DFXIPrice.index, DFXIPrice.values, color='r', label=\"期货价格\")\n",
    "# RAxis = Axes[0].twinx()\n",
    "# RAxis.plot(JMQC.index, JMQC.values, color='b', label=\"焦煤库存\")\n",
    "# Axes[0].legend(loc='upper left')\n",
    "# RAxis.legend(loc='upper right');"
   ]
  },
  {
   "cell_type": "code",
   "execution_count": null,
   "metadata": {},
   "outputs": [],
   "source": []
  }
 ],
 "metadata": {
  "kernelspec": {
   "display_name": "Python 3",
   "language": "python",
   "name": "python3"
  },
  "language_info": {
   "codemirror_mode": {
    "name": "ipython",
    "version": 3
   },
   "file_extension": ".py",
   "mimetype": "text/x-python",
   "name": "python",
   "nbconvert_exporter": "python",
   "pygments_lexer": "ipython3",
   "version": "3.5.4"
  },
  "latex_envs": {
   "LaTeX_envs_menu_present": true,
   "autoclose": true,
   "autocomplete": true,
   "bibliofile": "biblio.bib",
   "cite_by": "apalike",
   "current_citInitial": 1,
   "eqLabelWithNumbers": true,
   "eqNumInitial": 1,
   "hotkeys": {
    "equation": "Ctrl-E",
    "itemize": "Ctrl-I"
   },
   "labels_anchors": false,
   "latex_user_defs": false,
   "report_style_numbering": false,
   "user_envs_cfg": false
  },
  "toc": {
   "base_numbering": 1,
   "nav_menu": {},
   "number_sections": true,
   "sideBar": true,
   "skip_h1_title": false,
   "title_cell": "Table of Contents",
   "title_sidebar": "Contents",
   "toc_cell": false,
   "toc_position": {},
   "toc_section_display": true,
   "toc_window_display": false
  },
  "varInspector": {
   "cols": {
    "lenName": 16,
    "lenType": 16,
    "lenVar": 40
   },
   "kernels_config": {
    "python": {
     "delete_cmd_postfix": "",
     "delete_cmd_prefix": "del ",
     "library": "var_list.py",
     "varRefreshCmd": "print(var_dic_list())"
    },
    "r": {
     "delete_cmd_postfix": ") ",
     "delete_cmd_prefix": "rm(",
     "library": "var_list.r",
     "varRefreshCmd": "cat(var_dic_list()) "
    }
   },
   "types_to_exclude": [
    "module",
    "function",
    "builtin_function_or_method",
    "instance",
    "_Feature"
   ],
   "window_display": false
  }
 },
 "nbformat": 4,
 "nbformat_minor": 2
}
