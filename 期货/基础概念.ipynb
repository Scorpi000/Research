{
 "cells": [
  {
   "cell_type": "markdown",
   "metadata": {},
   "source": [
    "目前中国期货品种有数十个，其中金融期货包括股指期货和国债期货，商品期货覆盖农产品、能源化工、有色金属、贵金属、煤焦钢矿等各个板块。曾经股指期货的交易额占全部期货品种的 90%，2015 年股指期货受限之后，股指交易量下降 99%，目前（2019年）期货市场由商品主导，特别是煤焦钢矿等黑色系商品。\n",
    "\n",
    "在 2012-2015 年，最受欢迎的期货量化策略是股指日内策略。\n",
    "\n",
    "对于个人投资者而言，期货的高杠杆性本质上是零息贷款，并且杠杆可达 5~10 倍。"
   ]
  },
  {
   "cell_type": "markdown",
   "metadata": {},
   "source": [
    "## 日内策略\n",
    "\n",
    "日内策略强制性日内平仓，日内平仓可以看做一种风险控制手段，规避了隔夜风险，但也放弃了潜在的利润。隔夜风险的规避需要付出增加交易次数进而增加交易费用的代价。由于日内平仓操作是必须成交的，一般会主动成交，从而需要牺牲滑点。\n",
    "\n",
    "一般股指日内回测标准是最新价加合约价值万分之三的成本（\\cite{LiWei:2018}）\n",
    "\n"
   ]
  },
  {
   "cell_type": "code",
   "execution_count": null,
   "metadata": {},
   "outputs": [],
   "source": []
  }
 ],
 "metadata": {
  "kernelspec": {
   "display_name": "Python 3",
   "language": "python",
   "name": "python3"
  },
  "language_info": {
   "codemirror_mode": {
    "name": "ipython",
    "version": 3
   },
   "file_extension": ".py",
   "mimetype": "text/x-python",
   "name": "python",
   "nbconvert_exporter": "python",
   "pygments_lexer": "ipython3",
   "version": "3.5.4"
  },
  "latex_envs": {
   "LaTeX_envs_menu_present": true,
   "autoclose": true,
   "autocomplete": true,
   "bibliofile": "biblio.bib",
   "cite_by": "key",
   "current_citInitial": 1,
   "eqLabelWithNumbers": true,
   "eqNumInitial": 1,
   "hotkeys": {
    "equation": "Ctrl-E",
    "itemize": "Ctrl-I"
   },
   "labels_anchors": false,
   "latex_user_defs": false,
   "report_style_numbering": false,
   "user_envs_cfg": false
  },
  "toc": {
   "base_numbering": 1,
   "nav_menu": {},
   "number_sections": true,
   "sideBar": true,
   "skip_h1_title": false,
   "title_cell": "Table of Contents",
   "title_sidebar": "Contents",
   "toc_cell": false,
   "toc_position": {},
   "toc_section_display": true,
   "toc_window_display": false
  },
  "varInspector": {
   "cols": {
    "lenName": 16,
    "lenType": 16,
    "lenVar": 40
   },
   "kernels_config": {
    "python": {
     "delete_cmd_postfix": "",
     "delete_cmd_prefix": "del ",
     "library": "var_list.py",
     "varRefreshCmd": "print(var_dic_list())"
    },
    "r": {
     "delete_cmd_postfix": ") ",
     "delete_cmd_prefix": "rm(",
     "library": "var_list.r",
     "varRefreshCmd": "cat(var_dic_list()) "
    }
   },
   "types_to_exclude": [
    "module",
    "function",
    "builtin_function_or_method",
    "instance",
    "_Feature"
   ],
   "window_display": false
  }
 },
 "nbformat": 4,
 "nbformat_minor": 2
}
