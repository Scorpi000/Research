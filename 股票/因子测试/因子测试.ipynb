{
 "cells": [
  {
   "cell_type": "markdown",
   "metadata": {},
   "source": [
    "# 因子测试\n",
    "\n",
    "**符号说明**\n",
    "\n",
    "用变量 $i,1\\le i\\le N$ 标识证券，$t,1\\le t\\le T$ 表示时间，$j,1\\le j\\le M$ 表示因子:\n",
    "* $r_{i}^{t}$: $[t-1,t]$ 时段证券 $i$ 的收益率，${{r}^{t}}=\\left( r_{1}^{t},\\ldots ,r_{i}^{t},\\ldots ,r_{N}^{t} \\right)$ 表示在 $[t-1,t]$ 时段收益率的横截面向量。\n",
    "* $\\beta_{i,j}^{t}$: $t$ 时刻证券 $i$ 在因子 $j$ 上的暴露，$\\beta _{j}^{t}=\\left( \\beta _{1,j}^{t},\\ldots ,\\beta _{i,j}^{t},\\ldots ,\\beta _{N,j}^{t} \\right)$ 表示在 $t$ 时刻因子 $j$ 暴露的横截面向量，横截面均值定义为：\n",
    "$$\n",
    "\\bar{\\beta }_{j}^{t}\\text{=}\\frac{1}{N}\\sum\\limits_{i=1}^{N}{\\beta _{i,j}^{t}}\n",
    "$$\n",
    "* $f_{j}^{t}$: $[t-1,t]$ 时段因子 $j$ 的收益。"
   ]
  },
  {
   "cell_type": "markdown",
   "metadata": {},
   "source": [
    "## 单因子测试\n",
    "\n",
    "### Rank IC\n",
    "\n",
    "往期因子值和当期收益率的秩相关性。这里采用的相关系数为Spearman相关系数。记收益率的横截面向量 ${{r}^{t}}$ 的秩向量记为 $Q_{r}^{t}\\text{=}{{\\left( Q_{i,r}^{t} \\right)}_{1\\times N}}$ （其每个元素 $Q_{i,r}^{t}$ 是 ${{r}^{t}}$ 中对应位置的元素 $r_{i}^{t}$ 在 ${{r}^{t}}$ 中的排名），在 $t-1$ 时刻因子 $j$ 暴露的横截面向量 $\\beta_{j}^{t}$ 的秩向量记为 $Q_{j}^{t}\\text{=}{{\\left( Q_{i,j}^{t} \\right)}_{1\\times N}}$ （其每个元素 $Q_{i,j}^{t}$ 是 $\\beta_{j}^{t}$ 中对应位置的元素 $\\beta_{i,j}^{t}$ 在 $\\beta _{j}^{t}$ 中的排名），那么 $t$ 时刻的Rank IC定义为：\n",
    "$$\n",
    "\\rho \\left( Q_{r}^{t},Q_{j}^{t-1} \\right)=\\frac{\\sum\\limits_{i=1}^{N}{\\left( Q_{i,r}^{t}-\\bar{Q}_{r}^{t} \\right)\\left( Q_{i,j}^{t-1}-\\bar{Q}_{j}^{t-1} \\right)}}{\\sqrt{\\sum\\limits_{i=1}^{N}{{{\\left( Q_{i,r}^{t}-\\bar{Q}_{r}^{t} \\right)}^{2}}}\\cdot \\sum\\limits_{i=1}^{N}{{{\\left( Q_{i,j}^{t-1}-\\bar{Q}_{j}^{t-1} \\right)}^{2}}}}}\n",
    "$$\n",
    "其中：\n",
    "$$\n",
    "\\bar{Q}_{r}^{t}\\text{=}\\frac{1}{N}\\sum\\limits_{i=1}^{N}{Q_{i,r}^{t}}\n",
    "$$\n",
    "$$\n",
    "\\bar{Q}_{j}^{t-1}\\text{=}\\frac{1}{N}\\sum\\limits_{i=1}^{N}{Q_{i,j}^{t-1}}\n",
    "$$\n",
    "\n",
    "\n",
    "### 行业调整的 IC\n",
    "\n",
    "扣除行业收益率后的 Rank IC。对于股票 $i$，其收益率 $r_{i}^{t}$ 的行业调整值定义为 $\\tilde{r}_{i}^{t}\\text{=}r_{i}^{t}-R_{I}^{t}$，其中，$R_{I}^{t}$ 为行业 $I$ 在时段 $[t-1,t]$ 的收益率，即 $R_{I}^{t}\\text{=}\\sum\\limits_{i\\in I}{w_{i}^{t}\\cdot r_{i}^{t}}$，$w_{i}^{t}$ 为 $t$ 时刻股票 $i$ 在行业 $I$ 中所占的权重，通常可取等权或者流通市值加权。对于因子 $j$ ，行业调整的Rank IC即为调整后的收益率 ${{\\tilde{r}}^{t}}$ 同 $\\beta_{j}^{t}$ 的Rank IC（计算方法参照 Rank IC）。\n",
    "\n",
    "\n",
    "### IC的衰减\n",
    "\n",
    "因子值和收益率关于日期间隔的衰减情况。对于因子 $j$ ，分别计算 ${{r}^{t}}$ 同 $\\beta _{j}^{t-1},\\beta _{j}^{t-2},\\ldots ,\\beta _{j}^{t-K}$ 的Rank IC（计算参照 1），考察Rank IC序列关于时间间隔 $\\left( 1,2,\\ldots ,K \\right)$ 的变化情况。\n",
    "\n",
    "\n",
    "### 因子换手率\n",
    "\n",
    "当期因子值和上期因子值横截面上的线性相关系数。对于因子 $j$ ，日期 $t$ 和上一日期 $t-1$ 之间的换手率定义为：\n",
    "$$\n",
    "\\rho \\left( \\beta _{j}^{t},\\beta _{j}^{t-1} \\right)=\\frac{\\sum\\limits_{i=1}^{N}{\\left( \\beta _{i,j}^{t}-\\bar{\\beta }_{j}^{t} \\right)\\left( \\beta _{i,j}^{t-1}-\\bar{\\beta }_{j}^{t-1} \\right)}}{\\sqrt{\\sum\\limits_{i=1}^{N}{{{\\left( \\beta _{i,j}^{t}-\\bar{\\beta }_{j}^{t} \\right)}^{2}}}\\cdot \\sum\\limits_{i=1}^{N}{{{\\left( \\beta _{i,j}^{t-1}-\\bar{\\beta }_{j}^{t-1} \\right)}^{2}}}}}\n",
    "$$\n",
    "\n",
    "\n",
    "### 分位数组合\n",
    "\n",
    "按因子值排序分组后形成的投资组合。对于因子 $j$ ，在时刻 $t$ ，首先剔除因子值缺失的股票（通常也会剔除停牌、特别处理的股票），对剩下的股票按照因子暴露 $\\beta_{j}^{t}$ 进行排序，把排序后的股票平均分成 $K$ 组（一般取5或者10组），每一组构建投资组合（通常为等权或者流通市值加权），测试从时刻1到 $T$ 每一组的表现情况。计算每一组的收益率，年化收益率，波动率等指标。\n",
    "\n",
    "\n",
    "### 分组组合\n",
    "\n",
    "按因子值排序分组后形成的投资组合。对于因子 $j$ ，在时刻 $t$ ，首先剔除因子值缺失的股票（通常也会剔除停牌、特别处理的股票），对剩下的股票按照因子暴露 $\\beta_{j}^{t}$ 进行排序，把排序后的股票按照确定比例、确定数量或者绝对的界限分成 $K$ 组，每一组构建投资组合（通常为等权或者流通市值加权），测试从时刻1到 $T$ 每一组的表现情况。计算每一组的收益率，年化收益率，波动率等指标。\n",
    "\n",
    "\n",
    "### 因子值行业分布\n",
    "\n",
    "每个时刻，每个行业内，因子暴露超过某个阈值的股票比例。阈值可以设置为所有因子暴露的平均值、中位数、25%分位数、75%分位数，在时刻 $t$ ，对于行业 $I$ ，行业 $I$ 内的股票数为 $N_{I}^{t}$ ，行业 $I$ 内因子值超过阈值的股票数为 $\\tilde{N}_{I}^{t}$ ，则行业 $I$ 的因子值分布为 ${}^{N_{I}^{t}}/{}_{\\tilde{N}_{I}^{t}}$ 。"
   ]
  },
  {
   "cell_type": "markdown",
   "metadata": {},
   "source": [
    "## 多因子测试\n",
    "\n",
    "### Fama-MacBeth 回归\n",
    "\n",
    "剥离了给定风险因子后的因子收益率。给定 $K$ 个风险因子（一般取市值，Beta，行业等），记股票 $i$ 在这些风险因子上的暴露为 $\\tilde{\\beta }_{i,1}^{t},\\tilde{\\beta }_{i,2}^{t},\\ldots ,\\tilde{\\beta }_{i,K}^{t}$ ，对于因子 $j$ ，在时刻 $t$ ，同风险因子一起与收益率向量 ${{r}^{t}}$ 做横截面回归，即：\n",
    "$$\n",
    "r_{i}^{t}=f_{j}^{t}\\cdot \\beta _{i,j}^{t-1}+\\tilde{f}_{1}^{t}\\cdot \\tilde{\\beta }_{i,1}^{t-1}+\\cdots +\\tilde{f}_{K}^{t}\\cdot \\tilde{\\beta }_{i,K}^{t-1}+\\varepsilon _{i}^{t}\n",
    "$$\n",
    "估计的回归系数 $f_{j}^{t}$ 即为剥离了这 $K$ 个风险因子后因子 $j$ 在时段 $t$ 的收益。\n",
    "\n",
    "### 因子相关性\n",
    "\n",
    "前后两期因子暴露的相关性。取时刻 $t$ 的因子 $i$ 和因子 $j$ 的因子暴露 $\\beta_{i}^{t} 、 \\beta _{i}^{t}$ ，在横截面上计算相关性，方法可以选择：spearman，pearson，kendall 以及 factor-score correlation。"
   ]
  }
 ],
 "metadata": {
  "kernelspec": {
   "display_name": "Python 3",
   "language": "python",
   "name": "python3"
  },
  "language_info": {
   "codemirror_mode": {
    "name": "ipython",
    "version": 3
   },
   "file_extension": ".py",
   "mimetype": "text/x-python",
   "name": "python",
   "nbconvert_exporter": "python",
   "pygments_lexer": "ipython3",
   "version": "3.5.2"
  }
 },
 "nbformat": 4,
 "nbformat_minor": 2
}
