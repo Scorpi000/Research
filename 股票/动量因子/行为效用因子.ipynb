{
 "cells": [
  {
   "cell_type": "markdown",
   "metadata": {},
   "source": [
    "# 行为效用因子\n",
    "\n",
    "\n",
    "## 摘要\n",
    "\n",
    "本部分主要探讨动量类因子的构建。\n",
    "\n",
    "\n",
    "\n",
    "过去 20 年在心理学领域的一个重要发现是所谓的双系统框架（dual-system framework）。根据这个理论，自然人有两类思维模式：系统 1（System 1）和系统 2（System 2）。其中，系统 1 的特点是自动的，无意识的，迅速的反应，即我们常说的第一印象或者第一反应。系统 2 的特点是深思熟虑的，有意识的，缓慢的反应，例如我们进行大数字乘法时所进行的思维活动。\n",
    "\n",
    "当我们面临决策时，首先我们会有系统 1 的第一反应，然后系统 1 将该反应传递给系统 2，系统 2 可以选择接受系统 1 的结果，也可能修正甚至全盘改写系统 1 的结果。心理学研究表明，系统2倾向于完全接受系统 1 的结果或者只做部分修正。\n",
    "\n",
    "![决策形成过程](./images/决策形成过程.png)\n",
    "\n",
    "古典经济模型都是基于理性人假定，因而是建立在系统 2 思维模式之上。这不可避免的忽视了系统 1 的作用，尤其是系统 1 对系统 2 产生的后续影响。20 世纪后半段兴起的行为金融学试图从自然人的各种行为偏差出发，解释金融市场上的异常现象。我们从系统 1 的角度出发，对系统 1 的思维模式进行量化，形成投资者对于股票第一印象的量化因子，最后对该因子进行了相关测试，并形成投资策略。\n",
    "\n",
    "在金融市场中，投资者进行买卖股票的决策依据往往来自于各种描述股价时间序列的直观图表。这些图表广泛的存在于各大财经网站，杂志报刊，以及形形色色的移动设备。对于信息表达的形式，自古以来，人类也倾向于简洁明了的图画。因而，投资者对一只股票的第一印象大多来自于看到的这些价格序列的图表，例如 K 线图，分时图等等。\n",
    "\n",
    "我们假设，当投资者看到股价序列图表后，很短的时间内便产生了对于该只股票的系统 1 反应，该第一印象在最终的决策中起了决定性的作用。具体的，我们认为投资者从图表中得到的信息主要是股票历史收益率分布的直观感受。然后，投资者对该收益率分布进行了初步的评价。\n",
    "\n",
    "这里，我们首先使用前景理论（prospect theory）来量化投资者对收益率分布的初始评价。前景理论是古典期望效用理论的行为金融学版本，它有效地衡量了投资者对于风险的直接反应。如果大多数的投资者表现出相似的系统 1 反应，那么具有较高前景理论值（prospect theory value）的股票会被高估，从而接下来会产生较低的平均收益率。\n",
    "\n",
    "前景理论是由 Kahneman 和 Tversky 在 1979 年提出。后来他们在 1992 年又给出了一个修正版，称为累积前景理论（cumulative prospect theory）。这也是我们这里所用的模型。\n",
    "\n",
    "给定收益率分布：\n",
    "$$\n",
    "\\left(x_{-m}, p_{-m}; \\ldots; x_{-1}, p_{-1}; x_0, p_0; x_1, p_1; \\ldots; x_n, p_n\\right)\n",
    "$$\n",
    "定义前景理论值为："
   ]
  },
  {
   "cell_type": "code",
   "execution_count": null,
   "metadata": {},
   "outputs": [],
   "source": []
  }
 ],
 "metadata": {
  "kernelspec": {
   "display_name": "Python 3",
   "language": "python",
   "name": "python3"
  },
  "language_info": {
   "codemirror_mode": {
    "name": "ipython",
    "version": 3
   },
   "file_extension": ".py",
   "mimetype": "text/x-python",
   "name": "python",
   "nbconvert_exporter": "python",
   "pygments_lexer": "ipython3",
   "version": "3.5.2"
  },
  "latex_envs": {
   "LaTeX_envs_menu_present": true,
   "autoclose": true,
   "autocomplete": true,
   "bibliofile": "biblio.bib",
   "cite_by": "apalike",
   "current_citInitial": 1,
   "eqLabelWithNumbers": true,
   "eqNumInitial": 1,
   "hotkeys": {
    "equation": "Ctrl-E",
    "itemize": "Ctrl-I"
   },
   "labels_anchors": false,
   "latex_user_defs": false,
   "report_style_numbering": false,
   "user_envs_cfg": false
  },
  "toc": {
   "base_numbering": 1,
   "nav_menu": {},
   "number_sections": true,
   "sideBar": true,
   "skip_h1_title": false,
   "title_cell": "Table of Contents",
   "title_sidebar": "Contents",
   "toc_cell": false,
   "toc_position": {},
   "toc_section_display": true,
   "toc_window_display": false
  },
  "varInspector": {
   "cols": {
    "lenName": 16,
    "lenType": 16,
    "lenVar": 40
   },
   "kernels_config": {
    "python": {
     "delete_cmd_postfix": "",
     "delete_cmd_prefix": "del ",
     "library": "var_list.py",
     "varRefreshCmd": "print(var_dic_list())"
    },
    "r": {
     "delete_cmd_postfix": ") ",
     "delete_cmd_prefix": "rm(",
     "library": "var_list.r",
     "varRefreshCmd": "cat(var_dic_list()) "
    }
   },
   "oldHeight": 122.4,
   "position": {
    "height": "40px",
    "left": "654.6px",
    "right": "20px",
    "top": "120px",
    "width": "350px"
   },
   "types_to_exclude": [
    "module",
    "function",
    "builtin_function_or_method",
    "instance",
    "_Feature"
   ],
   "varInspector_section_display": "none",
   "window_display": true
  }
 },
 "nbformat": 4,
 "nbformat_minor": 2
}
