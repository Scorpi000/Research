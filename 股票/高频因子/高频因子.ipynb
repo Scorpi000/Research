{
 "cells": [
  {
   "cell_type": "markdown",
   "metadata": {},
   "source": [
    "# 高频因子\n",
    "\n",
    "## 摘要\n",
    "\n",
    "本部分主要探讨基于高频数据的因子构建。\n"
   ]
  },
  {
   "cell_type": "markdown",
   "metadata": {},
   "source": [
    "## 理论模型\n",
    "\n",
    "### 订单偏斜(Order Imbalance)\n",
    "\n",
    "确定了交易方向后(方法参见附录: 交易方向划分算法), 对每个交易日计算如下的 Order Imbalance 因子:\n",
    "$$\n",
    "IMBAL_t=\\frac{\\sum\\limits_{b=1}^{B} VOL_{b,t}-\\sum\\limits_{s=1}^{S} VOL_{s,t}}{\\sum\\limits_{b=1}^{B} VOL_{b,t}+\\sum\\limits_{s=1}^{S} VOL_{s,t}}\n",
    "$$\n",
    "\n",
    "其中, $VOL_{b,t}$ 表示 t 日第 b 笔划分为买方发起的成交量, $VOL_{s,t}$ 表示 t 日第 s 笔划分为卖方发起的成交量. 总之, IMBAL 因子度量的是买方发起的成交量和卖方发起的成交量的差除以总成交量. 该因子来自于 \\cite{Chung-2010}.\n",
    "\n",
    "\n",
    "### 知情交易概率(Probability of Informed Trading, PIN)\n",
    "\n",
    "Probability of Informed Trading (PIN) 的概念最早是由 \\cite{cit-Easley-1997} 引入的, 相关的文献还有 [Easley-2002]_, [Easley-2010]_. 此处的 PIN 来自于 [Easley-2002]_  建立的市场微观结构模型, 假设有三种市场参与者: 做市商(Market Maker), 知情交易者(Informed Trader)以及不知情交易者(Uninformed Trader), 做市商观察交易行情序列, 其试图推断出交易是由知情交易者发起的还是由不知情交易者发起的, 据此做市商给出最新的买卖报价. 对此建立概率模型:\n",
    "1. 在每个交易日开始之前, 假设一个消息事件发生的概率为 $\\alpha$, 消息事件最初只由知情交易者获得, 知情交易者可以根据该消息事件得到关于股票未来价格变动的信号, 然后入场交易. 如果该交易日没有消息事件发生, 则该交易日的所有交易者为不知情交易者.\n",
    "2. 在一个消息事件发生的条件下, 假设该消息为利空消息的概率为 $\\delta$, 则为利好消息的概率是 $1-\\delta$\n",
    "3. 做市商在该交易日的每个时点设置其买卖报价. 在消息事件发生日, 来自于知情交易者的订单到达率为 $\\mu$, 而来自于不知情交易者的买卖订单到达率分别为 $\\epsilon_b, \\epsilon_s$. 在非消息事件发生日, 所有的订单均来自不知情交易者, 所有买卖订单到达率分别为 $\\epsilon_b, \\epsilon_s$.\n",
    "\n",
    "该模型的图示如下:\n",
    "\n",
    "![Easley et al. 知情交易模型](./images/EasleyTradingModel.png)\n",
    "\n",
    "做市商并不清楚每笔交易是由知情交易者还是不知情交易者发起的, 但他可以根据行情数据来估计该订单由知情交易者发起的概率. 简单的说, 如果做市商观察到大致相等数量的买卖订单, 则大概率上该交易日是非消息事件日. 然而, 如果其观察到买入订单多于卖出订单, 则可以推断该日发生了利好消息. 如果只是简单的统计, 则该模型和 Order Imbalance 因子没有明显的区别. 构建模型的优势在于可以根据过去一段时间的交易行情数据推断出知情交易发生的概率. 假设非知情交易者发出的买卖订单流是独立的 Poisson 过程, 则其对数似然函数为:\n",
    "$$\n",
    "L\\left((B_t, S_t)_{t=1}^{T}|\\theta\\right)=\\sum\\limits_{t=1}^{T}\\left[-\\epsilon_b-\\epsilon_s+M_t(\\ln x_b+\\ln x_s)+B_t\\ln(\\mu+\\epsilon_b)+S_t\\ln(\\mu+\\epsilon_s)\\right]+\\sum\\limits_{t=1}^{T}\\ln\\left[\\alpha(1-\\delta)e^{-\\mu}x_s^{S_t-M_t}x_b^{-M_t}+\\alpha\\delta e^{-\\mu}x_b^{S_t-M_t}x_s^{-M_t}+(1-\\alpha)x_s^{S_t-M_t}x_b^{B_t-M_t}\\right]\n",
    "$$\n",
    "其中, $B_t$ 是 t 日由买方发起的成交量, $S_t$ 是 t 日由卖方发起的成交量, $M_t=\\min(B_t,S_t)+\\max(B_t,S_t)/2$, $x_s=\\epsilon_s/(\\mu+\\epsilon_s), x_b=\\epsilon_b/(\\mu+\\epsilon_b)$, $\\theta=(\\mu,\\epsilon_b,\\epsilon_s,\\alpha,\\delta)$ 是模型参数.\n",
    "\n",
    "可以使用最大似然估计方法估计出模型参数, 然后定义 PIN 因子为:\n",
    "$$\n",
    "PIN=\\frac{\\alpha\\mu}{\\alpha\\mu+\\epsilon_b+\\epsilon_s}\n",
    "$$\n",
    "其中, $\\alpha\\mu+\\epsilon_b+\\epsilon_s$ 是所有订单的到达率, $\\alpha\\mu$ 是知情交易订单的到达率.\n",
    "\n",
    "[Easley-2002]_, [Hwang-2010]_ 指出 PIN 因子倾向于和规模, 流动性以及波动性因子相关, 同时为了衡量 PIN 因子中是否包含了不同于传统因子的独特信息, 需要对 PIN 因子做一些中性化的处理.\n",
    "\n",
    "\n",
    "### 大额交易的异常成交量(Abnormal Volume in Large Trades, ALT)\n",
    "\n",
    "这个因子来源于 [Tong-2009]_, 其背后的思想是认为拥有独有消息的知情交易者倾向于呈现更激进的交易行为, 而寻找该行为的一个线索是大额交易中的异常成交量. 该因子的定义为:\n",
    "1. 用过去一年的交易数据计算成交量 30%, 60%, 90% 的分位数.\n",
    "2. 将成交量超过 90% 分位数的交易记为大额交易.\n",
    "3. 统计过去一个月的大额交易成交量之和, 并除以过去一年的大额交易成交量之和作为 ALT 因子.\n",
    "\n",
    "ALT 因子的一个重要假设是大额交易代表了知情交易行为, 但当前金融市场中, 市场直连通道(Direct Market Access, DMA), 算法交易的兴起, 以及多样性的交易渠道使得交易者可以很好的伪装自己的交易行为, 这会使该因子的有效性减弱.\n",
    "\n",
    "ALT 因子还有一些变体, 第一个称为: 大额交易比例(Percent of Large Trades, PLT), 即过去一个月的大额交易成交量之和除以过去一个月的总成交量. 第二个称为: RALT(Residual ALT), 即 ALT 关于规模, 波动性, 流动性因子中性化后的残差因子."
   ]
  },
  {
   "cell_type": "markdown",
   "metadata": {},
   "source": [
    "## 实证分析\n",
    "\n",
    "### 因子计算\n",
    "\n",
    "数据为 A 股的 Level2 指标数据. 来自于 Wind 量化研究数据库的表: 中国A股Level2指标(AShareL2Indicators).\n",
    "\n",
    "首先设置参数并准备数据"
   ]
  },
  {
   "cell_type": "code",
   "execution_count": 16,
   "metadata": {},
   "outputs": [
    {
     "data": {
      "text/plain": [
       "0"
      ]
     },
     "execution_count": 16,
     "metadata": {},
     "output_type": "execute_result"
    }
   ],
   "source": [
    "# coding=utf-8\n",
    "import time\n",
    "import sys\n",
    "import os\n",
    "import datetime as dt\n",
    "import warnings\n",
    "warnings.filterwarnings(\"ignore\")\n",
    "sys.path.append(\"C:\\\\Users\\\\hushuntai\\\\svn\\\\python\")\n",
    "\n",
    "import numpy as np\n",
    "import pandas as pd\n",
    "import statsmodels.api as sm\n",
    "from matplotlib.pylab import mpl\n",
    "mpl.rcParams['font.sans-serif'] = ['SimHei']\n",
    "mpl.rcParams['axes.unicode_minus'] = False\n",
    "import matplotlib.pyplot as plt\n",
    "plt.style.use('ggplot')\n",
    "%matplotlib inline\n",
    "# %gui qt4\n",
    "# %matplotlib notebook\n",
    "import matplotlib.dates as mdate\n",
    "\n",
    "from QuantStudio.FactorDataBase.WindDB2 import WindDB2\n",
    "WDB = WindDB2()\n",
    "WDB.connect()\n",
    "\n",
    "IDs = [\"000001.SZ\", \"600749.SH\"]\n",
    "#IDs = WDB.getID(index_id=\"全体A股\", is_current=False)\n",
    "StartDT = dt.datetime(2018, 1, 4)\n",
    "EndDT = dt.datetime(2018, 6, 30, 23, 59, 59, 999999)\n",
    "FT = WDB.getTable(\"中国A股Level2指标\")\n",
    "DTs = FT.getDateTime(start_dt=StartDT, end_dt=EndDT)\n",
    "Data = FT.readData(factor_names=[\"主买总量(手)\", \"主卖总量(手)\", \"大买总量(手)\", \"大卖总量(手)\"], ids=IDs, dts=DTs)\n",
    "WDB.disconnect()"
   ]
  },
  {
   "cell_type": "markdown",
   "metadata": {},
   "source": [
    "**订单偏斜因子(IMBAL)**"
   ]
  },
  {
   "cell_type": "code",
   "execution_count": 2,
   "metadata": {},
   "outputs": [],
   "source": [
    "IMBAL = (Data[\"主买总量(手)\"]-Data[\"主卖总量(手)\"])/Data.sum(axis=0)"
   ]
  },
  {
   "cell_type": "markdown",
   "metadata": {},
   "source": [
    "**知情交易概率因子(PIN)**\n",
    "\n",
    "这里我们使用 iminuit 模块来进行极大似然估计."
   ]
  },
  {
   "cell_type": "code",
   "execution_count": 3,
   "metadata": {},
   "outputs": [],
   "source": [
    "T = 60# 训练窗口\n",
    "ijB, ijS, ijM = 0, 0, 0\n",
    "ijmu, ijepsilon_s, ijepsilon_b, ijalpha, ijdelta = 1, 1, 1, 0.2, 0.5\n",
    "\n",
    "def NegtiveLogLikelihood(mu, epsilon_b, epsilon_s, alpha, delta):\n",
    "    x_s = epsilon_s/(mu+epsilon_s)\n",
    "    x_b = epsilon_b/(mu+epsilon_b)\n",
    "    LL = np.sum(-epsilon_b - epsilon_s + ijM*(np.log(x_b)+np.log(x_s))\n",
    "                + ijB*np.log(mu+epsilon_b) + ijS*np.log(mu+epsilon_s))\n",
    "    LL += np.sum(np.log(alpha*(1-delta)*np.exp(-mu)*x_s**(ijS-ijM)*x_b**(-ijM)\n",
    "                        + alpha*delta*np.exp(-mu)*x_b**(ijS-ijM)*x_s**(-ijM)\n",
    "                        + (1-alpha)*x_s**(ijS-ijM)*x_b**(ijB-ijM)))\n",
    "    return -LL\n",
    "\n",
    "from iminuit import Minuit\n",
    "from QuantStudio.Tools.DateTimeFun import getMonthLastDateTime\n",
    "TargetDTs = getMonthLastDateTime(list(Data.major_axis))\n",
    "EndInds = [Data.major_axis.searchsorted(iDT) for iDT in TargetDTs]\n",
    "PIN = np.full((len(TargetDTs), len(IDs)), np.nan)\n",
    "for j, jID in enumerate(IDs):\n",
    "    jB = Data[\"主买总量(手)\"].iloc[:, j].values\n",
    "    jS = Data[\"主卖总量(手)\"].iloc[:, j].values\n",
    "    for i, iDT in enumerate(TargetDTs):\n",
    "        iEndInd = EndInds[i]\n",
    "        iStartInd = max((0, iEndInd-T+1))\n",
    "        ijB = jB[iStartInd:iEndInd+1]\n",
    "        ijS = jS[iStartInd:iEndInd+1]\n",
    "        ijMask = (pd.notnull(ijB) & pd.notnull(ijS))\n",
    "        ijB, ijS = ijB[ijMask], ijS[ijMask]\n",
    "        if ijB.shape[0]==0: continue\n",
    "        ijScale = max((1, np.max(ijB+ijS)))\n",
    "        ijB, ijS = ijB/ijScale, ijS/ijScale\n",
    "        ijM = np.minimum(ijB, ijS)+np.maximum(ijB, ijS)/2\n",
    "        ijMdl = Minuit(NegtiveLogLikelihood, pedantic=False, print_level=0, errordef=0.5, \n",
    "                       mu=ijmu, epsilon_b=ijepsilon_b, epsilon_s=ijepsilon_s, alpha=ijalpha, delta=ijdelta,\n",
    "                       error_mu=0.1, error_epsilon_b=0.1, error_epsilon_s=0.1, error_alpha=0.1, error_delta=0.1,\n",
    "                       limit_mu=(0,None), limit_epsilon_b=(0,None), limit_epsilon_s=(0,None), limit_alpha=(0,1), limit_delta=(0,1))\n",
    "        ijFmin, ijtheta = ijMdl.migrad()\n",
    "        ijmu, ijepsilon_s, ijepsilon_b, ijalpha, ijdelta = ijtheta[0][\"value\"], ijtheta[1][\"value\"], ijtheta[2][\"value\"], ijtheta[3][\"value\"], ijtheta[4][\"value\"]\n",
    "        PIN[i, j] = ijalpha*ijmu/(ijalpha*ijmu+ijepsilon_b+ijepsilon_s)\n",
    "PIN = pd.DataFrame(PIN, index=TargetDTs, columns=IDs)"
   ]
  },
  {
   "cell_type": "markdown",
   "metadata": {},
   "source": [
    "**大额交易的异常成交量(ALT)**"
   ]
  },
  {
   "cell_type": "code",
   "execution_count": 7,
   "metadata": {},
   "outputs": [],
   "source": [
    "DenominatorWinLen = 240# 分母的窗口长度\n",
    "NumeratorWinLen = 21# 分子的窗口长度\n",
    "LargeTradeData = Data.iloc[2:].sum(axis=0)\n",
    "TargetDTs = LargeTradeData.index[DenominatorWinLen-1:]\n",
    "ALT = np.full((len(TargetDTs), len(IDs)), np.nan)\n",
    "for i, iDT in enumerate(TargetDTs):\n",
    "    iData = LargeTradeData.iloc[i:i+DenominatorWinLen, :].values\n",
    "    ALT[i, :] = np.nansum(iData[-NumeratorWinLen:, :], axis=0)/np.nansum(iData, axis=0)\n",
    "ALT[np.isinf(ALT)] = np.nan\n",
    "ALT = pd.DataFrame(ALT, index=TargetDTs, columns=IDs)"
   ]
  },
  {
   "cell_type": "markdown",
   "metadata": {},
   "source": [
    "储存因子数据"
   ]
  },
  {
   "cell_type": "code",
   "execution_count": 8,
   "metadata": {},
   "outputs": [
    {
     "data": {
      "text/plain": [
       "0"
      ]
     },
     "execution_count": 8,
     "metadata": {},
     "output_type": "execute_result"
    }
   ],
   "source": [
    "from QuantStudio.FactorDataBase.HDF5DB import HDF5DB\n",
    "HDB = HDF5DB()\n",
    "HDB.connect()\n",
    "HDB.writeData(pd.Panel({\"IMBAL\":IMBAL, \"PIN\":PIN, \"ALT\":ALT}), \"HFFactor\", if_exists=\"replace\")"
   ]
  },
  {
   "cell_type": "markdown",
   "metadata": {},
   "source": [
    "### 因子测试\n",
    "\n",
    "#### IC 测试"
   ]
  },
  {
   "cell_type": "code",
   "execution_count": 18,
   "metadata": {},
   "outputs": [
    {
     "name": "stdout",
     "output_type": "stream",
     "text": [
      "==========历史回测==========\n",
      "1. 初始化耗时 : 0.61\n",
      "2. 循环计算"
     ]
    },
    {
     "name": "stderr",
     "output_type": "stream",
     "text": [
      "100%|██████████████████████████████████████████| 18/18 [00:02<00:00,  7.44it/s]\n"
     ]
    },
    {
     "name": "stdout",
     "output_type": "stream",
     "text": [
      "耗时 : 2.42\n",
      "3. 结果生成耗时 : 0.01\n",
      "总耗时 : 3.05\n",
      "============================\n"
     ]
    }
   ],
   "source": [
    "from QuantStudio.Tools.QtGUI.QtGUIFun import showOutput\n",
    "from QuantStudio.Tools.DateTimeFun import getMonthLastDateTime\n",
    "from QuantStudio.FactorDataBase.HDF5DB import HDF5DB\n",
    "from QuantStudio.FactorDataBase.CustomDB import FactorCacheFT\n",
    "from QuantStudio.HistoryTest.HistoryTestModel import HistoryTestModel\n",
    "from QuantStudio.HistoryTest.SectionTest.IC import IC\n",
    "from QuantStudio.HistoryTest.SectionTest.Portfolio import QuantilePortfolio\n",
    "\n",
    "# 创建自定义因子库\n",
    "MainFT = FactorCacheFT(\"MainFT\")\n",
    "FT = HDB.getTable(\"ElementaryFactor\")\n",
    "MainFT.addFactors(factor_table=FT, factor_names=[\"复权收盘价\"], args={})\n",
    "MainFT.addFactors(factor_table=HDB.getTable(\"HFFactor\"), factor_names=[\"IMBAL\", \"PIN\", \"ALT\"], args={})\n",
    "MainFT.setDateTime(FT.getDateTime(ifactor_name=\"复权收盘价\", start_dt=dt.datetime(2017, 1, 1), end_dt=dt.datetime(2018, 1, 1)))\n",
    "MainFT.setID(FT.getID(ifactor_name=\"复权收盘价\"))\n",
    "\n",
    "# 创建回测模型\n",
    "Model = HistoryTestModel()\n",
    "Model.Modules.append(IC(factor_table=MainFT))# IC 测试\n",
    "Model.Modules.append(QuantilePortfolio(factor_table=MainFT))# 分位数组合测试\n",
    "\n",
    "# 设置模型参数\n",
    "Model.setArgs()\n",
    "\n",
    "# 运行模型\n",
    "TestDateTimes = MainFT.getDateTime()\n",
    "Model.run(test_dts=TestDateTimes)\n",
    "\n",
    "# 查看结果\n",
    "Output = Model.output()\n",
    "showOutput(Output)"
   ]
  },
  {
   "cell_type": "markdown",
   "metadata": {},
   "source": [
    "## 附录\n",
    "\n",
    "### 交易方向划分算法\n",
    "\n",
    "很多因子的构建基于对交易方向的确认, 交易方向指的是每一笔交易是由买方还是卖方发起的. 交易方向的信息是不公开的, 所以只能根据公开的行情数据进行估计.\n",
    "\n",
    "**Tick Test**\n",
    "\n",
    "Tick Test 相对简单: 如果当前交易的成交价高于上一笔交易的成交价, 则认为当前交易是买方发起的; 反之当前交易的成交价低于上一笔交易成交价, 则认为当前交易是卖方发起的; 特别的, 当前交易成交价和上一笔交易成交价持平, 则认定当前交易方向和上一笔交易方向相同. 如下图所示:\n",
    "\n",
    "![Tick Test 交易方向划分示例](./images/TickTest示例.png)\n",
    "\n",
    "**Lee-Ready 算法**\n",
    "\n",
    "Lee-Ready 算法来自于 Lee 和 Ready [1991], Lee-Ready 算法认为单纯的成交价信息不足以准确的划分交易方向, 结合买卖盘报价数据后可以提高准确率. 方法为: 如果当前成交价高于买卖中间价, 则认为当前交易是买方发起的; 反之低于中间价, 则划分为卖方发起的; 特别的, 如果成交价刚好等于中间价, 则使用 Tick Test 算法来划分. 如下图所示:\n",
    "\n",
    "![Tick Test 交易方向划分示例](./images/TickTest示例.png)"
   ]
  },
  {
   "cell_type": "markdown",
   "metadata": {},
   "source": [
    "# References\n",
    "\n",
    "(<a id=\"cit-Chung-2010\" href=\"#call-Chung-2010\">?</a>) !! _This reference was not found in biblio.bib _ !!\n",
    "\n",
    "(<a id=\"cit-Easley-1997\" href=\"#call-Easley-1997\">?</a>) !! _This reference was not found in biblio.bib _ !!\n",
    "\n"
   ]
  },
  {
   "cell_type": "code",
   "execution_count": null,
   "metadata": {},
   "outputs": [],
   "source": []
  }
 ],
 "metadata": {
  "kernelspec": {
   "display_name": "Python 3",
   "language": "python",
   "name": "python3"
  },
  "language_info": {
   "codemirror_mode": {
    "name": "ipython",
    "version": 3
   },
   "file_extension": ".py",
   "mimetype": "text/x-python",
   "name": "python",
   "nbconvert_exporter": "python",
   "pygments_lexer": "ipython3",
   "version": "3.5.2"
  },
  "latex_envs": {
   "LaTeX_envs_menu_present": true,
   "autoclose": true,
   "autocomplete": true,
   "bibliofile": "biblio.bib",
   "cite_by": "apalike",
   "current_citInitial": 1,
   "eqLabelWithNumbers": true,
   "eqNumInitial": 1,
   "hotkeys": {
    "equation": "Ctrl-E",
    "itemize": "Ctrl-I"
   },
   "labels_anchors": false,
   "latex_user_defs": false,
   "report_style_numbering": false,
   "user_envs_cfg": false
  },
  "toc": {
   "base_numbering": 1,
   "nav_menu": {},
   "number_sections": true,
   "sideBar": true,
   "skip_h1_title": false,
   "title_cell": "Table of Contents",
   "title_sidebar": "Contents",
   "toc_cell": false,
   "toc_position": {
    "height": "calc(100% - 180px)",
    "left": "10px",
    "top": "150px",
    "width": "165px"
   },
   "toc_section_display": true,
   "toc_window_display": false
  },
  "varInspector": {
   "cols": {
    "lenName": 16,
    "lenType": 16,
    "lenVar": 40
   },
   "kernels_config": {
    "python": {
     "delete_cmd_postfix": "",
     "delete_cmd_prefix": "del ",
     "library": "var_list.py",
     "varRefreshCmd": "print(var_dic_list())"
    },
    "r": {
     "delete_cmd_postfix": ") ",
     "delete_cmd_prefix": "rm(",
     "library": "var_list.r",
     "varRefreshCmd": "cat(var_dic_list()) "
    }
   },
   "oldHeight": 122.4,
   "position": {
    "height": "355.4px",
    "left": "1618.6px",
    "right": "20px",
    "top": "131px",
    "width": "331.4px"
   },
   "types_to_exclude": [
    "module",
    "function",
    "builtin_function_or_method",
    "instance",
    "_Feature"
   ],
   "varInspector_section_display": "block",
   "window_display": true
  }
 },
 "nbformat": 4,
 "nbformat_minor": 2
}
