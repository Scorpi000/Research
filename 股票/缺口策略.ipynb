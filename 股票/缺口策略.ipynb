{
 "cells": [
  {
   "cell_type": "markdown",
   "metadata": {},
   "source": [
    "# 摘要"
   ]
  },
  {
   "cell_type": "markdown",
   "metadata": {},
   "source": [
    "# 理论模型\n",
    "\n",
    "股票价格在通常情况下是服从几何随机游走的，但在特殊的条件或者时段会表现出均值回归现象。\n",
    "\n",
    "\\cite{Chan:2013} 中给出的缺口买入策略（Buy-on-Gap）为：\n",
    "1. 在市场开盘时，选择开盘价相对上一个交易日最低价的收益率低于收益率一个标准差的股票，收益率的标准差可以用过去一段时间的收益率数据来估计，比如 90 天。这些股票被认为是向下跳空（Gapped Down）。\n",
    "2. 为了进一步减少买入的股票数量，可以添加一个动量过滤器（Momentum Filter），比如要求开盘价仍然要高于过去收盘价的移动平均线，即要求股票处于一个上涨趋势中，向下的跳空并未破坏趋势，否则这种大幅跳空可能是反映了一些负面消息而产生的实质性下跌，这种下跌很难回复。\n",
    "3. 如果有买入数量的限制，可以买入开盘价相对昨日最低价收益率最低的前 N 只（比如 10 只，前两个步骤筛选后的数目小于 N 则全部买入）股票。\n",
    "4. 在市场收盘时清空所有仓位。\n",
    "\n",
    "该策略的一个支持逻辑是：当指数期货在股票市场开盘前下跌，某些股票会因为恐慌性抛售而大幅下跌，而一旦恐慌性的抛售结束，股票会在当天剩下的时间里恢复性上涨。另外，步骤 2 里要求的股票位于一个长期均线之上会吸引一些交易周期较长的机构投资者卖出，在开盘时这种对于流动性的需求会加重股票向下的压力，股票价格源于流动性需求的变动相比于源于基本面的变动更倾向于回复，从而该策略可能在消息频繁释放的时段依然有效，而这些时段传统的均值回归策略普遍会失效。\n",
    "\n",
    "同样可以反向操作定义所谓的缺口卖出策略。但卖空可能存在某些限制，缺口卖出策略可能会相对难以操作。\n",
    "\n",
    "另外，还可以同时进行缺口买入和缺口卖出策略，构造一个多空策略。还可以在缺口买入的同时做空股指期货来构造一个对冲策略。\n"
   ]
  },
  {
   "cell_type": "markdown",
   "metadata": {},
   "source": [
    "# 实证分析"
   ]
  },
  {
   "cell_type": "code",
   "execution_count": 1,
   "metadata": {
    "ExecuteTime": {
     "end_time": "2019-01-18T03:27:15.437556Z",
     "start_time": "2019-01-18T03:27:13.138121Z"
    },
    "code_folding": [
     0
    ]
   },
   "outputs": [],
   "source": [
    "# coding=utf-8\n",
    "import sys\n",
    "sys.path.append(\"D:\\\\HST\\\\QuantStudio\")\n",
    "sys.path.append(\"C:\\\\Users\\\\hushuntai\\\\svn\\\\python\")\n",
    "import datetime as dt\n",
    "\n",
    "import numpy as np\n",
    "import pandas as pd\n",
    "import statsmodels.api as sm\n",
    "import matplotlib.pyplot as plt\n",
    "%matplotlib inline\n",
    "from tqdm import tqdm_notebook\n",
    "\n",
    "import QuantStudio.api as QS\n",
    "HDB = QS.FactorDB.HDF5DB()\n",
    "HDB.connect();"
   ]
  },
  {
   "cell_type": "code",
   "execution_count": 2,
   "metadata": {
    "ExecuteTime": {
     "end_time": "2019-01-18T03:27:26.009664Z",
     "start_time": "2019-01-18T03:27:16.109345Z"
    },
    "code_folding": [
     0
    ]
   },
   "outputs": [],
   "source": [
    "# 参数设置和数据准备\n",
    "StartDT = dt.datetime(2010, 4, 16)# 回测开始日期\n",
    "EndDT = dt.datetime(2018, 11, 30)# 回测截止日期\n",
    "\n",
    "FT = HDB.getTable(\"ElementaryFactor\")\n",
    "IDs = FT.getID(ifactor_name=\"复权收盘价\")\n",
    "DTs = FT.getDateTime(ifactor_name=\"复权收盘价\", start_dt=StartDT, end_dt=EndDT)\n",
    "Low = FT.readData(factor_names=[\"复权最低价\"], ids=IDs, dts=DTs).iloc[0, :, :]\n",
    "Open = FT.readData(factor_names=[\"复权开盘价\"], ids=IDs, dts=DTs).iloc[0, :, :]\n",
    "Close = FT.readData(factor_names=[\"复权收盘价\"], ids=IDs, dts=DTs).iloc[0, :, :]\n",
    "C2CReturn = FT.readData(factor_names=[\"日收益率\"], ids=IDs, dts=DTs).iloc[0, :, :]\n",
    "FT = HDB.getTable(\"IndexConstituentFactor\")\n",
    "IndexConstituent = FT.readData(factor_names=[\"中证500\"], ids=IDs, dts=DTs).iloc[0, :, :]"
   ]
  },
  {
   "cell_type": "code",
   "execution_count": 3,
   "metadata": {
    "ExecuteTime": {
     "end_time": "2019-01-18T03:27:31.646799Z",
     "start_time": "2019-01-18T03:27:27.181678Z"
    },
    "code_folding": [
     0
    ]
   },
   "outputs": [
    {
     "data": {
      "application/vnd.jupyter.widget-view+json": {
       "model_id": "d9634bb0a888477a8018e87b6ab514a9",
       "version_major": 2,
       "version_minor": 0
      },
      "text/plain": [
       "HBox(children=(IntProgress(value=0, max=1969), HTML(value='')))"
      ]
     },
     "metadata": {},
     "output_type": "display_data"
    },
    {
     "name": "stdout",
     "output_type": "stream",
     "text": [
      "\n"
     ]
    },
    {
     "data": {
      "text/html": [
       "<div>\n",
       "<style scoped>\n",
       "    .dataframe tbody tr th:only-of-type {\n",
       "        vertical-align: middle;\n",
       "    }\n",
       "\n",
       "    .dataframe tbody tr th {\n",
       "        vertical-align: top;\n",
       "    }\n",
       "\n",
       "    .dataframe thead th {\n",
       "        text-align: right;\n",
       "    }\n",
       "</style>\n",
       "<table border=\"1\" class=\"dataframe\">\n",
       "  <thead>\n",
       "    <tr style=\"text-align: right;\">\n",
       "      <th></th>\n",
       "      <th>0</th>\n",
       "    </tr>\n",
       "  </thead>\n",
       "  <tbody>\n",
       "    <tr>\n",
       "      <th>起始时点</th>\n",
       "      <td>2010-08-26 00:00:00</td>\n",
       "    </tr>\n",
       "    <tr>\n",
       "      <th>结束时点</th>\n",
       "      <td>2018-09-28 00:00:00</td>\n",
       "    </tr>\n",
       "    <tr>\n",
       "      <th>时点数</th>\n",
       "      <td>1969</td>\n",
       "    </tr>\n",
       "    <tr>\n",
       "      <th>总收益率</th>\n",
       "      <td>13.088</td>\n",
       "    </tr>\n",
       "    <tr>\n",
       "      <th>年化收益率</th>\n",
       "      <td>0.386454</td>\n",
       "    </tr>\n",
       "    <tr>\n",
       "      <th>年化波动率</th>\n",
       "      <td>0.261653</td>\n",
       "    </tr>\n",
       "    <tr>\n",
       "      <th>Sharpe比率</th>\n",
       "      <td>1.47697</td>\n",
       "    </tr>\n",
       "    <tr>\n",
       "      <th>胜率</th>\n",
       "      <td>0.920772</td>\n",
       "    </tr>\n",
       "    <tr>\n",
       "      <th>最大回撤率</th>\n",
       "      <td>0.269004</td>\n",
       "    </tr>\n",
       "    <tr>\n",
       "      <th>最大回撤开始时点</th>\n",
       "      <td>2017-01-11 00:00:00</td>\n",
       "    </tr>\n",
       "    <tr>\n",
       "      <th>最大回撤结束时点</th>\n",
       "      <td>2017-08-11 00:00:00</td>\n",
       "    </tr>\n",
       "  </tbody>\n",
       "</table>\n",
       "</div>"
      ],
      "text/plain": [
       "                            0\n",
       "起始时点      2010-08-26 00:00:00\n",
       "结束时点      2018-09-28 00:00:00\n",
       "时点数                      1969\n",
       "总收益率                   13.088\n",
       "年化收益率                0.386454\n",
       "年化波动率                0.261653\n",
       "Sharpe比率              1.47697\n",
       "胜率                   0.920772\n",
       "最大回撤率                0.269004\n",
       "最大回撤开始时点  2017-01-11 00:00:00\n",
       "最大回撤结束时点  2017-08-11 00:00:00"
      ]
     },
     "metadata": {},
     "output_type": "display_data"
    },
    {
     "data": {
      "image/png": "[encoded data removed]",
      "text/plain": [
       "<Figure size 1800x576 with 2 Axes>"
      ]
     },
     "metadata": {
      "needs_background": "light"
     },
     "output_type": "display_data"
    }
   ],
   "source": [
    "# 缺口买入策略\n",
    "TopN = 10\n",
    "StdLookBack = 90\n",
    "EntryThreshold = 1\n",
    "MALookBack = 20\n",
    "\n",
    "BuyThreshold = (Low * (1 - EntryThreshold * C2CReturn.rolling(StdLookBack).std())).shift(1)\n",
    "MA = Close.rolling(MALookBack).mean().shift(1)\n",
    "RetGap = Open / Low.shift(1) - 1\n",
    "Mask = ((Open < BuyThreshold) & (Open > MA) & (IndexConstituent==1))\n",
    "\n",
    "MaxLookBack = max(StdLookBack, MALookBack)\n",
    "Amount = pd.DataFrame(0.0, index=DTs[MaxLookBack:], columns=IDs)\n",
    "for i, iDT in enumerate(tqdm_notebook(DTs[MaxLookBack:])):\n",
    "    iRetGap = RetGap.iloc[i+MaxLookBack][Mask.iloc[i+MaxLookBack]]\n",
    "    iIDs = iRetGap.sort_values(ascending=True).iloc[:TopN].index\n",
    "    Amount.loc[iDT, iIDs] = 1.0\n",
    "\n",
    "O2CReturn = Close / Open - 1\n",
    "PNL = Amount * O2CReturn.iloc[MaxLookBack:, :]\n",
    "Return = PNL.sum(axis=1) / Amount.sum(axis=1)\n",
    "Return[pd.isnull(Return) | np.isinf(Return)] = 0\n",
    "NAV = (1 + Return).cumprod()\n",
    "\n",
    "# 展示策略表现\n",
    "display(QS.Tools.Strategy.summaryStrategy(NAV.values, dts=NAV.index.tolist()))\n",
    "Fig, Axes = plt.subplots(1, 2, figsize=(25, 8))\n",
    "Axes[0].plot(NAV)\n",
    "Axes[0].set_title(\"Net Asset Value\")\n",
    "Axes[1].plot(PNL.sum(axis=1).cumsum())\n",
    "Axes[1].set_title(\"Cumulative P & L\");"
   ]
  },
  {
   "cell_type": "markdown",
   "metadata": {},
   "source": [
    "# References\n",
    "\n",
    "[<a id=\"cit-Chan:2013\" href=\"#call-Chan:2013\">Chan:2013</a>] Ernest Chan, ``_Algorithmic trading: winning strategies and their rationale_'',  2013.\n",
    "\n"
   ]
  }
 ],
 "metadata": {
  "kernelspec": {
   "display_name": "Python 3",
   "language": "python",
   "name": "python3"
  },
  "language_info": {
   "codemirror_mode": {
    "name": "ipython",
    "version": 3
   },
   "file_extension": ".py",
   "mimetype": "text/x-python",
   "name": "python",
   "nbconvert_exporter": "python",
   "pygments_lexer": "ipython3",
   "version": "3.5.4"
  },
  "latex_envs": {
   "LaTeX_envs_menu_present": true,
   "autoclose": true,
   "autocomplete": true,
   "bibliofile": "biblio.bib",
   "cite_by": "key",
   "current_citInitial": 1,
   "eqLabelWithNumbers": true,
   "eqNumInitial": 1,
   "hotkeys": {
    "equation": "Ctrl-E",
    "itemize": "Ctrl-I"
   },
   "labels_anchors": false,
   "latex_user_defs": false,
   "report_style_numbering": false,
   "user_envs_cfg": false
  },
  "toc": {
   "base_numbering": 1,
   "nav_menu": {},
   "number_sections": true,
   "sideBar": true,
   "skip_h1_title": false,
   "title_cell": "Table of Contents",
   "title_sidebar": "Contents",
   "toc_cell": false,
   "toc_position": {},
   "toc_section_display": true,
   "toc_window_display": true
  },
  "varInspector": {
   "cols": {
    "lenName": 16,
    "lenType": 16,
    "lenVar": 40
   },
   "kernels_config": {
    "python": {
     "delete_cmd_postfix": "",
     "delete_cmd_prefix": "del ",
     "library": "var_list.py",
     "varRefreshCmd": "print(var_dic_list())"
    },
    "r": {
     "delete_cmd_postfix": ") ",
     "delete_cmd_prefix": "rm(",
     "library": "var_list.r",
     "varRefreshCmd": "cat(var_dic_list()) "
    }
   },
   "types_to_exclude": [
    "module",
    "function",
    "builtin_function_or_method",
    "instance",
    "_Feature"
   ],
   "window_display": false
  }
 },
 "nbformat": 4,
 "nbformat_minor": 2
}
