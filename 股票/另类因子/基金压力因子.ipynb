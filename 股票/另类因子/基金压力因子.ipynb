{
 "cells": [
  {
   "cell_type": "markdown",
   "metadata": {},
   "source": [
    "# 摘要"
   ]
  },
  {
   "cell_type": "markdown",
   "metadata": {},
   "source": [
    "# 理论模型\n",
    "\n",
    "因为大多数的股票型公募基金近乎于满仓操作，当有大量的赎回产生时，其将不得不大量卖出股票，从而对其持有的股票价格产生向下的压力。另外有研究表明，当公募基金有净现金流入时，其倾向于买入当前持有的股票而非新股票，从而对其持有的股票价格产生向上的推力。\n",
    "\n",
    "一个反映基金买卖行为压力的因子可以如下构造：（\\cite{Chan:2013}，\\cite{Coval:2007}）\n",
    "$$\n",
    "{\\rm Pressure}_{t,i} = \\frac{\\sum\\limits_j\\left({\\rm Buy}_{t,j,i}|{\\rm Flow}_{t,j}>5\\%\\right)-\\sum\\limits_j\\left({\\rm Sell}_{t,j,i}|{\\rm Flow}_{t,j}<-5\\%\\right)}{\\sum\\limits_j{\\rm Own}_{t-1,j,i}}\n",
    "$$\n",
    "\n",
    "其中，${\\rm Pressure}_{t,i}$ 是股票 i 在 t 期的因子值，${\\rm Flow}_{t,j}$ 是基金 j 在 t 期净流入的现金占其基金净值的比例，以 5% 作为阈值，超过 5% 被认为是有大量申购行为发生，低于 -5% 被认为是有大量赎回行为发生。$\\left({\\rm Buy}_{t,j,i}|{\\rm Flow}_{t,j}>5\\%\\right)$ 表示在净现金流入比例超过 5% 时股票 i 的买入量，$\\left({\\rm Sell}_{t,j,i}|{\\rm Flow}_{t,j}<-5\\%\\right)$ 表示在净现金流入比例低于 -5% 时股票 i 的卖出量，${\\rm Own}_{t-1,j,i}$ 表示 t-1 期基金 j 对股票 i 的持有量。\n",
    "\n",
    "由于公募基金每个季度公布相关的持仓数据，因而该因子每个季度更新数值。另外，由于投资者行为的羊群效应，资金的净流入可以用基金过去一段时间的净流入以及基金表现来较好的预测，从而可以适当提高该因子的更新频率。"
   ]
  },
  {
   "cell_type": "code",
   "execution_count": null,
   "metadata": {},
   "outputs": [],
   "source": []
  },
  {
   "cell_type": "markdown",
   "metadata": {},
   "source": [
    "# References\n",
    "\n",
    "[<a id=\"cit-Chan:2013\" href=\"#call-Chan:2013\">Chan:2013</a>] Ernest Chan, ``_Algorithmic trading: winning strategies and their rationale_'',  2013.\n",
    "\n",
    "[<a id=\"cit-Coval:2007\" href=\"#call-Coval:2007\">Coval:2007</a>] Joshua Coval and Erik Stafford, ``_Asset fire sales (and purchases) in equity markets_'', Journal of Financial Economics, vol. 86, number 2, pp. 479--512,  2007.\n",
    "\n"
   ]
  }
 ],
 "metadata": {
  "kernelspec": {
   "display_name": "Python 3",
   "language": "python",
   "name": "python3"
  },
  "language_info": {
   "codemirror_mode": {
    "name": "ipython",
    "version": 3
   },
   "file_extension": ".py",
   "mimetype": "text/x-python",
   "name": "python",
   "nbconvert_exporter": "python",
   "pygments_lexer": "ipython3",
   "version": "3.5.4"
  },
  "latex_envs": {
   "LaTeX_envs_menu_present": true,
   "autoclose": true,
   "autocomplete": true,
   "bibliofile": "biblio.bib",
   "cite_by": "key",
   "current_citInitial": 1,
   "eqLabelWithNumbers": true,
   "eqNumInitial": 1,
   "hotkeys": {
    "equation": "Ctrl-E",
    "itemize": "Ctrl-I"
   },
   "labels_anchors": false,
   "latex_user_defs": false,
   "report_style_numbering": false,
   "user_envs_cfg": false
  },
  "toc": {
   "base_numbering": 1,
   "nav_menu": {},
   "number_sections": true,
   "sideBar": true,
   "skip_h1_title": false,
   "title_cell": "Table of Contents",
   "title_sidebar": "Contents",
   "toc_cell": false,
   "toc_position": {},
   "toc_section_display": true,
   "toc_window_display": false
  },
  "varInspector": {
   "cols": {
    "lenName": 16,
    "lenType": 16,
    "lenVar": 40
   },
   "kernels_config": {
    "python": {
     "delete_cmd_postfix": "",
     "delete_cmd_prefix": "del ",
     "library": "var_list.py",
     "varRefreshCmd": "print(var_dic_list())"
    },
    "r": {
     "delete_cmd_postfix": ") ",
     "delete_cmd_prefix": "rm(",
     "library": "var_list.r",
     "varRefreshCmd": "cat(var_dic_list()) "
    }
   },
   "types_to_exclude": [
    "module",
    "function",
    "builtin_function_or_method",
    "instance",
    "_Feature"
   ],
   "window_display": false
  }
 },
 "nbformat": 4,
 "nbformat_minor": 2
}
