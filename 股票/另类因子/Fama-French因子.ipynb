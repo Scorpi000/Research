{
 "cells": [
  {
   "cell_type": "markdown",
   "metadata": {},
   "source": [
    "# Fama-French 因子\n",
    "\n",
    "## 摘要\n",
    "\n",
    "本部分主要探讨基于 Fama-French 回归得到的因子."
   ]
  },
  {
   "cell_type": "markdown",
   "metadata": {},
   "source": [
    "## 理论模型\n",
    "\n",
    "### Fama-French 模型\n",
    "\n",
    "Fama 和 French 1992 年对美国股票市场决定不同股票回报率差异的因素的研究发现, 股票的市场 $\\beta$ 值不能解释不同股票回报率的差异, 而上市公司的市值、账面市值比、市盈率可以解释股票回报率的差异. Fama 和 French 认为, 上述超额收益是对 CAPM 中 $\\beta$ 未能反映的风险因素的补偿. Fama 和 French 1993 年指出可以建立一个三因子模型来解释股票回报率. 该模型认为, 一个投资组合(包括单个股票)的超额回报率可由它对三个因子的暴露来解释, 这三个因子是: \n",
    "1. 市场资产组合($r_m-r_f$);\n",
    "2. 市值因子(returns of a basket of Small-market-capitalization stocks Minus that of a basket of Big-market-captitalization stocks, SMB);\n",
    "3. 账面市值比因子(returns of a basket of High book-to-market stocks Minus that of a basket of Low book-to-maket stocks, HML). \n",
    "\n",
    "这个多因子均衡定价模型可以表示为:\n",
    "$$\n",
    "\\mathbf{E}[r_{i,t}]-r_{f,t} = \\beta_i\\cdot\\left(\\mathbf{E}[r_{m,t}]-r_{f,t}\\right)+s_i\\cdot\\mathbf{SMB}_t+h_i\\cdot\\mathbf{HML}_t\n",
    "$$\n",
    "其中, $r_{f,t}$ 是 t-1 到 t 时刻的无风险收益率, $r_{m,t}$ 是 t-1 到 t 时刻的市场收益率, $r_{i,t}$ 是资产 i 在 t-1 到 t 时刻的收益率, $\\mathbf{SMB}_t$ 是市值因子的模拟组合收益率, $\\mathbf{HML}_t$ 是账面市值比因子的模拟组合收益率, $\\beta_i, s_i, h_i$ 分别为三个因子的因子载荷.\n",
    "\n",
    "从上面的理论模型可以得到回归模型表示如下:\n",
    "$$\n",
    "r_{i,t}-r_{f,t} = \\alpha_i+\\beta_i\\cdot\\left(r_{m,t}-r_{f,t}\\right)+s_i\\cdot\\mathbf{SMB}_t+h_i\\cdot\\mathbf{HML}_t+\\varepsilon_{i,t}\n",
    "$$\n",
    "\n",
    "\n",
    "### IVR\n",
    "\n",
    "基于上面的 Fama-French 模型可以构建的第一个因子为 IVFF, 即利用回归的残差项计算年化波动率.\n",
    "\n",
    "### IVFF\n",
    "\n",
    "另一个 Fama-French 因子是回归的调整 R 平方, 即为 IVR 因子. \n",
    "\n",
    "综上所述, 目前基于 Fama-French 模型得到的因子如下表:\n",
    "\n",
    "| 因子 | 描述 | 排序方向 | 数据类型 |\n",
    "| ---- | ---- | ---- | ---- |\n",
    "| IVR | 1 - Fama-French 回归的调整 R 平方 | 升序 | double |\n",
    "| IVFF | Fama-French 回归残差项的年化波动率 | 升序 | double |\n"
   ]
  },
  {
   "cell_type": "markdown",
   "metadata": {},
   "source": [
    "## 实证分析\n",
    "\n",
    "### 因子计算\n",
    "\n",
    "原始数据包括:\n",
    "1. A 股的 EOD 数据, 来自于 Wind 数据库的表: 中国A股日行情(AShareEODPrices);\n",
    "2. A 股的市值数据, 来自于 Wind 数据库的表: 中国A股Level2指标(AShareL2Indicators);\n"
   ]
  }
 ],
 "metadata": {
  "kernelspec": {
   "display_name": "Python 3",
   "language": "python",
   "name": "python3"
  },
  "language_info": {
   "codemirror_mode": {
    "name": "ipython",
    "version": 3
   },
   "file_extension": ".py",
   "mimetype": "text/x-python",
   "name": "python",
   "nbconvert_exporter": "python",
   "pygments_lexer": "ipython3",
   "version": "3.5.2"
  }
 },
 "nbformat": 4,
 "nbformat_minor": 2
}
