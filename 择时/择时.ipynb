{
 "cells": [
  {
   "cell_type": "markdown",
   "metadata": {},
   "source": [
    "# 宏观面\n",
    "\n",
    "宏观面择时模型的主要逻辑在于实体经济周期与股市的驱动因素在某种程度上是高度相关的，所以股票市场的走势大致上不会偏离经济的运行方向。因此股票市场的趋势可以在一定程度上通过实体经济指标、产业资本运动、货币政策与财政政策变化等宏观经济变量来进行预判。然而宏观变量在选取时往往会碰到一些问题，如数据公布滞后、公布频率不一致、历史长度不足等，需要经过一定的数据处理才能够用于模型.\n",
    "\n",
    "\n",
    "PMI 是一套月度发布的、综合性的经济监测指标体系，PMI 是通过对采购经理的月度调查汇总出来的指数，反映了经济的变化趋势。当该指标高于近三个月均值，得 1 分，否则 0 分（\\cite{SXZQ:2013}）"
   ]
  },
  {
   "cell_type": "markdown",
   "metadata": {},
   "source": [
    "# 基本面\n",
    "\n",
    "从 PPI 和 PPIRM 的相对变动（PPI-PPIRM ）中分析原材料价格上涨对企业经营成本所带来的影响。人们通常从宏观意义上解释 PPI 这一指标，即 PPI 被作为衡量通货膨胀水平的一个重要指标，它衡量的是工业企业所生产产品能够售出的价格水平，与之相对应的指标是 PPIRM，PPIRM 代表了工业企业生产所需采购原材料的成本水平。我们统计发现 PPI 和 PPIRM 的相对变动（PPI-PPIRM ）与 HS300 比较，有一定的先行意义。当该指标高于近三个月均值，得 1 分，否则 0 分。（\\cite{SXZQ:2013}）\n",
    "\n",
    "CMPR：企业盈利能力,定义CMP=CPI-PPI：反映企业未来盈利能力,CPI反映终端产品价格变化，PPI反映企业成本变化,CMPR=（CMP过去三个月均值-CMP过去3年最小值）/ （CMP过去3年最大值-CMP过去3年最小值）*100\n",
    "\n"
   ]
  },
  {
   "cell_type": "markdown",
   "metadata": {},
   "source": [
    "# 资金面\n",
    "\n",
    "流动性对股票市场的作用，我们认为主要通过直接和间接两个渠道。直接渠道包括 3 个方面：（1）影响入市资金的直接借贷成本；（2）影响入市资金的\n",
    "机会成本；（3）增加入市资金量。 \n",
    "\n",
    "M1 同比增速作为货币供应量变动的最佳反映，能够非常好的衡量宏观流动性的变化。当该指标高于近三个月均值，得 1 分，否则 0 分。（\\cite{SXZQ:2013}）"
   ]
  },
  {
   "cell_type": "markdown",
   "metadata": {},
   "source": [
    "# 情绪面\n",
    "\n",
    "封闭式基金折价率（CEFD）\n",
    "\n",
    "可转债转股溢价率（TBPR）\n",
    "\n",
    "IPO 首日涨跌幅（RIPO）\n",
    "\n",
    "市场整体换手率（TRUN）\n",
    "\n",
    "混合型基金平均仓位（MFAP）\n",
    "\n",
    "IPO 首日 PE（IPOPE）\n",
    "\n",
    "将沪深 300 成分个股每月上调评级的家数减去下调评级的家数。当该指标高于近三个月均值，得 1 分，否则 0 分。（\\cite{SXZQ:2013}）\n",
    "\n",
    "高管增持家数（GZN）：衡量高管对目前股票估值水平看法，计算前1个月发布高管增持公告的公司家数（\\cite{SYWG:2012}）\n",
    "\n",
    "大股东增持家数（DZN）：衡量大股东对目前股票估值水平的看法，计算前1个月发布大股东增持公告的公司家数（\\cite{SYWG:2012}）\n",
    "\n"
   ]
  },
  {
   "cell_type": "markdown",
   "metadata": {},
   "source": [
    "# 技术面\n",
    "\n",
    "技术分析始于十九世纪初查尔斯·道创立的道式理论，道式将价格波动趋势分为长期趋势、中期趋势和短期趋势三种，认为价格反映一切市场行为，价格随趋势变化，历史会不断重演等。技术分析包括形态分析（双顶底、头肩顶底、趋势线等）和技术指标（MACD、RSI、KDJ等）。\n",
    "\n",
    "## 技术指标\n",
    "\n",
    "市场上的技术指标可分成三类：趋势指标（移动平均线，MACD指标等）、震荡指标（KDJ指标、威廉指标等）和复合指标（新高-新低指标、腾落指标、交易者指数等）。\n",
    "\n",
    "当市场沿趋势运行时，趋势指标很有效，然而未能预测市场转折点，当市场整盘时，趋势跟踪指标发出的信号往往是错误的；震荡指标有助于识别转折点，属于领先或同步指标，经常在价格转势之前反转，能有效抓住转折点，但当市场沿趋势运行时，震荡指标常常过早发出买卖信号；复合指标能揭示多空双方的强度，属于领先或同步指标。\n",
    "\n",
    "\n",
    "顺势指标（CCI）：衡量市场超买超卖程度,顺势指标CCI是根据股当日平均价格、移动平均值及其相关偏离值计算。参数取24\n",
    "\n",
    "成交量变异率（VR）：衡量市场成交低迷程度,成交量变异率指标VR是股价上涨日成交额之和与下跌日成交额之和的比率，参数N取24。"
   ]
  },
  {
   "cell_type": "markdown",
   "metadata": {},
   "source": [
    "# 跨市场\n",
    "\n",
    "利润利息比（PIR）：衡量股市与债市收益率高低：利润利息比 = 股权投资利润 / 债券利息收益，股权投资利润：股市收益率（1/PE）,债券利息收益用七年期国债收益率（\\cite{SYWG:2012}）\n",
    "\n"
   ]
  },
  {
   "cell_type": "markdown",
   "metadata": {},
   "source": [
    "# 另类方法"
   ]
  },
  {
   "cell_type": "markdown",
   "metadata": {},
   "source": [
    "# 择时模型\n",
    "\n",
    "根据预测目标的不同对择时模型的分类:\n",
    "* 收益率预测模型：未来一段固定时间的标的收益率作为预测目标，又可以分为：\n",
    "    - 回归模型：将收益率的连续值作为预测目标；\n",
    "    - 分类模型：将收益率离散化为若干类型作为预测目标，比如以收益率的正负作为预测目标\n",
    "* 状态判断模型：对标的走势进行划分，以判断当前标的所处的状态为预测目标，常见的走势划分为：\n",
    "    - 趋势/震荡：又可以将趋势划分为上涨趋势，下跌趋势\n",
    "    - 顶/底\n",
    "\n",
    "根据构建方法的不同对择时模型的分类：\n",
    "* 打分模型\n",
    "* 线性回归模型\n",
    "* 机器学习模型\n",
    "\n",
    "\n",
    "\\cite{SXZQ:2013}：我们选择最后一个指标公布日获得的有所数据进行测算，首先分别对各个指标进行择时策略，对下月发出择时指导建议，1 为看多，0 为看空。每个指标给予相同的权重，将 5 个指标每月分值进行相加计算出综合得分，具有[5，4，3，2，1，0] 六个状态，数值越大则表示看多信号越强。然后将 6 个状态分为 4 组，5 为强烈看多，4，3 为谨慎看多，2、1 为谨慎看空，0 为强烈看空，共四种市场择时判断。\n",
    "\n",
    "## 机器学习模型"
   ]
  },
  {
   "cell_type": "markdown",
   "metadata": {},
   "source": [
    "# 择时策略\n",
    "\n",
    "\\cite{SXZQ:2013}：分别为 4 种择时状态给与不同的仓位配置，其中强烈看多给予 100% 的仓位，谨慎看多给与 70% 的仓位，谨慎看空给与 30% 的仓位，强烈看空给与 0% 的仓位"
   ]
  },
  {
   "cell_type": "markdown",
   "metadata": {},
   "source": [
    "# 参考文献\n",
    "\n",
    "[<a id=\"cit-SXZQ:2013\" href=\"#call-SXZQ:2013\">山西证券:2013</a>] 山西证券, 基于五个纬度量化择时框架的构建, 2013-11-28.\n",
    "\n",
    "[<a id=\"cit-SYWG:2012\" href=\"#call-SYWG:2012\">申银万国:2012</a>] 申银万国, 多因素择时模型及2013年上证指数预测, 2012-12."
   ]
  },
  {
   "cell_type": "markdown",
   "metadata": {},
   "source": [
    "# References\n",
    "\n",
    "<mark> <b>The bib file biblio.bib was not found\n",
    "\n",
    "</b> </mark>[<a id=\"cit-SXZQ:2013\" href=\"#call-SXZQ:2013\">SXZQ:2013</a>] !! _This reference was not found in biblio.bib _ !!\n",
    "\n",
    "[<a id=\"cit-SYWG:2012\" href=\"#call-SYWG:2012\">SYWG:2012</a>] !! _This reference was not found in biblio.bib _ !!\n",
    "\n"
   ]
  }
 ],
 "metadata": {
  "hide_input": false,
  "kernelspec": {
   "display_name": "Python 3",
   "language": "python",
   "name": "python3"
  },
  "language_info": {
   "codemirror_mode": {
    "name": "ipython",
    "version": 3
   },
   "file_extension": ".py",
   "mimetype": "text/x-python",
   "name": "python",
   "nbconvert_exporter": "python",
   "pygments_lexer": "ipython3",
   "version": "3.7.0"
  },
  "latex_envs": {
   "LaTeX_envs_menu_present": true,
   "autoclose": false,
   "autocomplete": true,
   "bibliofile": "biblio.bib",
   "cite_by": "key",
   "current_citInitial": 1,
   "eqLabelWithNumbers": true,
   "eqNumInitial": 1,
   "hotkeys": {
    "equation": "Ctrl-E",
    "itemize": "Ctrl-I"
   },
   "labels_anchors": false,
   "latex_user_defs": false,
   "report_style_numbering": false,
   "user_envs_cfg": false
  },
  "toc": {
   "base_numbering": 1,
   "nav_menu": {},
   "number_sections": true,
   "sideBar": true,
   "skip_h1_title": false,
   "title_cell": "Table of Contents",
   "title_sidebar": "Contents",
   "toc_cell": false,
   "toc_position": {
    "height": "calc(100% - 180px)",
    "left": "10px",
    "top": "150px",
    "width": "384px"
   },
   "toc_section_display": true,
   "toc_window_display": true
  },
  "varInspector": {
   "cols": {
    "lenName": 16,
    "lenType": 16,
    "lenVar": 40
   },
   "kernels_config": {
    "python": {
     "delete_cmd_postfix": "",
     "delete_cmd_prefix": "del ",
     "library": "var_list.py",
     "varRefreshCmd": "print(var_dic_list())"
    },
    "r": {
     "delete_cmd_postfix": ") ",
     "delete_cmd_prefix": "rm(",
     "library": "var_list.r",
     "varRefreshCmd": "cat(var_dic_list()) "
    }
   },
   "types_to_exclude": [
    "module",
    "function",
    "builtin_function_or_method",
    "instance",
    "_Feature"
   ],
   "window_display": true
  }
 },
 "nbformat": 4,
 "nbformat_minor": 2
}
