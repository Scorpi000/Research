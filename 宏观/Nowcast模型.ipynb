{
 "cells": [
  {
   "cell_type": "markdown",
   "metadata": {},
   "source": [
    "# DFM 模型\n",
    "\n",
    "假设有 n 个指标，k 个潜在因子，\n",
    "$$\n",
    "\\begin{aligned}\n",
    "\\mathbf{y}_t &= \\boldsymbol{\\mu} + \\boldsymbol{\\Lambda}\\mathbf{f}_t + \\boldsymbol{\\varepsilon}_t\\\\\n",
    "\\mathbf{f}_t &= \\sum\\limits_{m=1}^p A_m \\mathbf{f}_{t-m} + \\mathbf{u}_t,\\ \\mathbf{u}_t \\sim \\mathcal{N}(\\mathbf{0},\\mathbf{Q})\\ \\textrm{i.i.d.}\\\\\n",
    "\\boldsymbol{\\varepsilon}_t &= \\mathbf{A} \\boldsymbol{\\varepsilon}_{t-1} + \\mathbf{e}_t,\\ \\mathbf{e}_t \\sim \\mathcal{N}(\\mathbf{0},\\boldsymbol{\\Sigma})\\ \\textrm{i.i.d.}\n",
    "\\end{aligned}\n",
    "$$\n",
    "其中，\n",
    "$$\n",
    "\\begin{aligned}\n",
    "\\mathbf{A} &= \\begin{pmatrix} \\alpha_1 & \\cdots & 0 \\\\ \\vdots & \\ddots & \\vdots \\\\ 0 & \\cdots & \\alpha_n \\end{pmatrix}\\\\\n",
    "\\boldsymbol{\\Sigma} &= \\begin{pmatrix} \\sigma_1^2 & \\cdots & 0 \\\\ \\vdots & \\ddots & \\vdots \\\\ 0 & \\cdots & \\sigma_n^2 \\end{pmatrix}\n",
    "\\end{aligned}\n",
    "$$"
   ]
  },
  {
   "cell_type": "markdown",
   "metadata": {},
   "source": [
    "# 状态空间表达"
   ]
  },
  {
   "cell_type": "markdown",
   "metadata": {},
   "source": [
    "## 单频率指标"
   ]
  },
  {
   "cell_type": "markdown",
   "metadata": {},
   "source": [
    "如果所有指标的披露频率均为月，记：\n",
    "$$\n",
    "\\mathbf{g}_t = \\begin{pmatrix} \\mathbf{f}_t \\\\ \\mathbf{f}_{t-1} \\\\ \\mathbf{f}_{t-2} \\\\ \\vdots \\\\ \\mathbf{f}_{t-p+1} \\\\ \\boldsymbol{\\varepsilon}_t \\end{pmatrix}\n",
    "$$\n",
    "对应的状态空间方程表达为：\n",
    "$$\n",
    "\\begin{aligned}\n",
    "\\mathbf{y}_t &= \\boldsymbol{\\mu} + \\begin{pmatrix} \\boldsymbol{\\Lambda} & \\mathbf{0} & \\mathbf{0} & \\cdots & \\mathbf{0} & \\mathbf{I} \\end{pmatrix} \\mathbf{g}_t\\\\\n",
    "\\mathbf{g}_t &= \\begin{pmatrix} \\mathbf{f}_t \\\\ \\mathbf{f}_{t-1} \\\\ \\mathbf{f}_{t-2} \\\\ \\vdots \\\\ \\mathbf{f}_{t-p+1} \\\\ \\boldsymbol{\\varepsilon}_t \\end{pmatrix} = \\begin{pmatrix} \\mathbf{A}_1 & \\mathbf{A}_2 & \\mathbf{A}_3 & \\cdots & \\mathbf{A}_p & \\mathbf{0} \\\\ \\mathbf{I} & \\mathbf{0} & \\mathbf{0} & \\cdots & \\mathbf{0} & \\mathbf{0} \\\\ \\mathbf{0} & \\mathbf{I} & \\mathbf{0} & \\cdots & \\mathbf{0} & \\mathbf{0} \\\\ \\vdots & \\vdots & \\vdots & \\ddots & \\vdots & \\vdots \\\\ \\mathbf{0} & \\mathbf{0} & \\mathbf{0} & \\cdots & \\mathbf{0} & \\mathbf{0} \\\\ \\mathbf{0} & \\mathbf{0} & \\mathbf{0} & \\cdots & \\mathbf{0} & \\mathbf{A} \\end{pmatrix} \\mathbf{g}_{t-1} + \\begin{pmatrix} \\mathbf{u}_t \\\\ \\mathbf{0} \\\\ \\mathbf{0} \\\\ \\vdots \\\\ \\mathbf{0} \\\\ \\mathbf{e}_t \\end{pmatrix}\n",
    "\\end{aligned}\n",
    "$$\n",
    "其中\n",
    "$$\n",
    "\\begin{pmatrix} \\mathbf{u}_t \\\\ \\mathbf{0} \\\\ \\mathbf{0} \\\\ \\vdots \\\\ \\mathbf{0} \\\\ \\mathbf{e}_t \\end{pmatrix} \\sim \\mathcal{N}\\left(\\mathbf{0}, \\begin{pmatrix} \\mathbf{Q} & \\mathbf{0} & \\mathbf{0} & \\cdots & \\mathbf{0} & \\mathbf{0} \\\\ \\mathbf{0} & \\mathbf{0} & \\mathbf{0} & \\cdots & \\mathbf{0} & \\mathbf{0} \\\\ \\mathbf{0} & \\mathbf{0} & \\mathbf{0} & \\cdots & \\mathbf{0} & \\mathbf{0} \\\\ \\vdots & \\vdots & \\vdots & \\ddots & \\vdots & \\vdots \\\\ \\mathbf{0} & \\mathbf{0} & \\mathbf{0} & \\cdots & \\mathbf{0} & \\mathbf{0} \\\\ \\mathbf{0} & \\mathbf{0} & \\mathbf{0} & \\cdots & \\mathbf{0} & \\boldsymbol{\\Sigma} \\end{pmatrix}\\right)\n",
    "$$\n"
   ]
  },
  {
   "cell_type": "markdown",
   "metadata": {},
   "source": [
    "## 多频率指标"
   ]
  },
  {
   "cell_type": "markdown",
   "metadata": {},
   "source": [
    "根据披露频率将所有指标分为月度指标和季度指标:\n",
    "$$\n",
    "\\begin{aligned}\n",
    "\\mathbf{y}_t &= \\begin{pmatrix} \\mathbf{y}^M_t \\\\ \\mathbf{y}^Q_t \\end{pmatrix}\\\\\n",
    "\\boldsymbol{\\varepsilon}_t &= \\begin{pmatrix} \\boldsymbol{\\varepsilon}^M_t \\\\ \\boldsymbol{\\varepsilon}^Q_t \\end{pmatrix}\\\\\n",
    "\\mathbf{e}_t &= \\begin{pmatrix} \\mathbf{e}^M_t \\\\ \\mathbf{e}^Q_t \\end{pmatrix}\\\\\n",
    "\\boldsymbol{\\mu} &= \\begin{pmatrix} \\boldsymbol{\\mu}_M \\\\ \\boldsymbol{\\mu}_Q \\end{pmatrix}\\\\\n",
    "\\boldsymbol{\\Lambda} &= \\begin{pmatrix} \\boldsymbol{\\Lambda}_M \\\\ \\boldsymbol{\\Lambda}_Q \\end{pmatrix}\\\\\n",
    "\\mathbf{A} &= \\begin{pmatrix} \\mathbf{A}_M & \\mathbf{0} \\\\ \\mathbf{0} & \\mathbf{A}_Q \\end{pmatrix}\\\\\n",
    "\\boldsymbol{\\Sigma} &= \\begin{pmatrix} \\boldsymbol{\\Sigma}_M & \\mathbf{0} \\\\ \\mathbf{0} & \\boldsymbol{\\Sigma}_Q \\end{pmatrix}\n",
    "\\end{aligned}\n",
    "$$"
   ]
  },
  {
   "cell_type": "markdown",
   "metadata": {},
   "source": [
    "当 $p\\geq3$ 时记：\n",
    "$$\n",
    "\\mathbf{g}_t = \\begin{pmatrix} \\mathbf{f}_t \\\\ \\mathbf{f}_{t-1} \\\\ \\mathbf{f}_{t-2} \\\\ \\vdots \\\\ \\mathbf{f}_{t-p+1} \\\\ \\boldsymbol{\\varepsilon}^M_t \\\\ \\boldsymbol{\\varepsilon}^Q_t \\\\ \\boldsymbol{\\varepsilon}^Q_{t-1} \\\\ \\boldsymbol{\\varepsilon}^Q_{t-2} \\end{pmatrix}\n",
    "$$\n",
    "对应的状态空间方程表达为：\n",
    "$$\n",
    "\\begin{aligned}\n",
    "\\mathbf{y}_t &= \\begin{pmatrix} \\mathbf{y}^M_t \\\\ \\mathbf{y}^Q_t \\end{pmatrix} = \\begin{pmatrix} \\boldsymbol{\\mu}_M \\\\ \\boldsymbol{\\mu}_Q \\end{pmatrix} + \\begin{pmatrix} \\boldsymbol{\\Lambda}_M & \\mathbf{0} & \\mathbf{0} & \\cdots & \\mathbf{0} & \\mathbf{I} & \\mathbf{0} & \\mathbf{0} & \\mathbf{0} \\\\ \\frac{1}{3}\\boldsymbol{\\Lambda}_Q & \\frac{1}{3}\\boldsymbol{\\Lambda}_Q & \\frac{1}{3}\\boldsymbol{\\Lambda}_Q & \\cdots & \\mathbf{0} & \\mathbf{0} & \\frac{1}{3}\\mathbf{I} & \\frac{1}{3}\\mathbf{I} & \\frac{1}{3}\\mathbf{I} \\end{pmatrix} \\mathbf{g}_t\\\\\n",
    "\\mathbf{g}_t &= \\begin{pmatrix} \\mathbf{f}_t \\\\ \\mathbf{f}_{t-1} \\\\ \\mathbf{f}_{t-2} \\\\ \\vdots \\\\ \\mathbf{f}_{t-p+1} \\\\ \\boldsymbol{\\varepsilon}^M_t \\\\ \\boldsymbol{\\varepsilon}^Q_t \\\\ \\boldsymbol{\\varepsilon}^Q_{t-1} \\\\ \\boldsymbol{\\varepsilon}^Q_{t-2} \\end{pmatrix} = \\begin{pmatrix} \\mathbf{A}_1 & \\mathbf{A}_2 & \\mathbf{A}_3 & \\cdots & \\mathbf{A}_p & \\mathbf{0} & \\mathbf{0} & \\mathbf{0} & \\mathbf{0} \\\\ \\mathbf{I} & \\mathbf{0} & \\mathbf{0} & \\cdots & \\mathbf{0} & \\mathbf{0} & \\mathbf{0} & \\mathbf{0} & \\mathbf{0} \\\\ \\mathbf{0} & \\mathbf{I} & \\mathbf{0} & \\cdots & \\mathbf{0} & \\mathbf{0} & \\mathbf{0} & \\mathbf{0} & \\mathbf{0} \\\\ \\vdots & \\vdots & \\vdots & \\ddots & \\vdots & \\vdots & \\vdots & \\vdots & \\vdots \\\\ \\mathbf{0} & \\mathbf{0} & \\mathbf{0} & \\cdots & \\mathbf{0} & \\mathbf{0} & \\mathbf{0} & \\mathbf{0} & \\mathbf{0} \\\\ \\mathbf{0} & \\mathbf{0} & \\mathbf{0} & \\cdots & \\mathbf{0} & \\mathbf{A}_M & \\mathbf{0} & \\mathbf{0} & \\mathbf{0} \\\\ \\mathbf{0} & \\mathbf{0} & \\mathbf{0} & \\cdots & \\mathbf{0} & \\mathbf{0} & \\mathbf{A}_Q & \\mathbf{0} & \\mathbf{0} \\\\ \\mathbf{0} & \\mathbf{0} & \\mathbf{0} & \\cdots & \\mathbf{0} & \\mathbf{0} & \\mathbf{I} & \\mathbf{0} & \\mathbf{0} \\\\ \\mathbf{0} & \\mathbf{0} & \\mathbf{0} & \\cdots & \\mathbf{0} & \\mathbf{0} & \\mathbf{0} & \\mathbf{I} & \\mathbf{0} \\end{pmatrix} \\mathbf{g}_{t-1} + \\begin{pmatrix} \\mathbf{u}_t \\\\ \\mathbf{0} \\\\ \\mathbf{0} \\\\ \\vdots \\\\ \\mathbf{0} \\\\ \\mathbf{e}^M_t \\\\ \\mathbf{e}^Q_t \\\\ \\mathbf{0} \\\\ \\mathbf{0} \\end{pmatrix}\n",
    "\\end{aligned}\n",
    "$$\n",
    "其中\n",
    "$$\n",
    "\\begin{pmatrix} \\mathbf{u}_t \\\\ \\mathbf{0} \\\\ \\mathbf{0} \\\\ \\vdots \\\\ \\mathbf{0} \\\\ \\mathbf{e}^M_t \\\\ \\mathbf{e}^Q_t \\\\ \\mathbf{0} \\\\ \\mathbf{0} \\end{pmatrix} \\sim \\mathcal{N}\\left(\\mathbf{0}, \\begin{pmatrix} \\mathbf{Q} & \\mathbf{0} & \\mathbf{0} & \\cdots & \\mathbf{0} & \\mathbf{0} & \\mathbf{0} & \\mathbf{0} & \\mathbf{0} \\\\ \\mathbf{0} & \\mathbf{0} & \\mathbf{0} & \\cdots & \\mathbf{0} & \\mathbf{0} & \\mathbf{0} & \\mathbf{0} & \\mathbf{0} \\\\ \\mathbf{0} & \\mathbf{0} & \\mathbf{0} & \\cdots & \\mathbf{0} & \\mathbf{0} & \\mathbf{0} & \\mathbf{0} & \\mathbf{0} \\\\ \\vdots & \\vdots & \\vdots & \\ddots & \\vdots & \\vdots & \\vdots & \\vdots & \\vdots \\\\ \\mathbf{0} & \\mathbf{0} & \\mathbf{0} & \\cdots & \\mathbf{0} & \\mathbf{0} & \\mathbf{0} & \\mathbf{0} & \\mathbf{0} \\\\ \\mathbf{0} & \\mathbf{0} & \\mathbf{0} & \\cdots & \\mathbf{0} & \\boldsymbol{\\Sigma}_M & \\mathbf{0} & \\mathbf{0} & \\mathbf{0} \\\\ \\mathbf{0} & \\mathbf{0} & \\mathbf{0} & \\cdots & \\mathbf{0} & \\mathbf{0} & \\boldsymbol{\\Sigma}_Q & \\mathbf{0} & \\mathbf{0} \\\\ \\mathbf{0} & \\mathbf{0} & \\mathbf{0} & \\cdots & \\mathbf{0} & \\mathbf{0} & \\mathbf{0} & \\mathbf{0} & \\mathbf{0} \\\\ \\mathbf{0} & \\mathbf{0} & \\mathbf{0} & \\cdots & \\mathbf{0} & \\mathbf{0} & \\mathbf{0} & \\mathbf{0} & \\mathbf{0} \\end{pmatrix}\\right)\n",
    "$$"
   ]
  },
  {
   "cell_type": "markdown",
   "metadata": {},
   "source": [
    "当 $p=2$ 时记：\n",
    "$$\n",
    "\\mathbf{g}_t = \\begin{pmatrix} \\mathbf{f}_t \\\\ \\mathbf{f}_{t-1} \\\\ \\mathbf{f}_{t-2} \\\\ \\boldsymbol{\\varepsilon}^M_t \\\\ \\boldsymbol{\\varepsilon}^Q_t \\\\ \\boldsymbol{\\varepsilon}^Q_{t-1} \\\\ \\boldsymbol{\\varepsilon}^Q_{t-2} \\end{pmatrix}\n",
    "$$\n",
    "对应的状态空间方程表达为：\n",
    "$$\n",
    "\\begin{aligned}\n",
    "\\mathbf{y}_t &= \\begin{pmatrix} \\mathbf{y}^M_t \\\\ \\mathbf{y}^Q_t \\end{pmatrix} = \\begin{pmatrix} \\boldsymbol{\\mu}_M \\\\ \\boldsymbol{\\mu}_Q \\end{pmatrix} + \\begin{pmatrix} \\boldsymbol{\\Lambda}_M & \\mathbf{0} & \\mathbf{0} & \\mathbf{I} & \\mathbf{0} & \\mathbf{0} & \\mathbf{0} \\\\ \\frac{1}{3}\\boldsymbol{\\Lambda}_Q & \\frac{1}{3}\\boldsymbol{\\Lambda}_Q & \\frac{1}{3}\\boldsymbol{\\Lambda}_Q & \\mathbf{0} & \\frac{1}{3}\\mathbf{I} & \\frac{1}{3}\\mathbf{I} & \\frac{1}{3}\\mathbf{I} \\end{pmatrix} \\mathbf{g}_t\\\\\n",
    "\\mathbf{g}_t &= \\begin{pmatrix} \\mathbf{f}_t \\\\ \\mathbf{f}_{t-1} \\\\ \\mathbf{f}_{t-2} \\\\ \\boldsymbol{\\varepsilon}^M_t \\\\ \\boldsymbol{\\varepsilon}^Q_t \\\\ \\boldsymbol{\\varepsilon}^Q_{t-1} \\\\ \\boldsymbol{\\varepsilon}^Q_{t-2} \\end{pmatrix} = \\begin{pmatrix} \\mathbf{A}_1 & \\mathbf{A}_2 & \\mathbf{0} & \\mathbf{0} & \\mathbf{0} & \\mathbf{0} & \\mathbf{0} \\\\ \\mathbf{I} & \\mathbf{0} & \\mathbf{0} & \\mathbf{0} & \\mathbf{0} & \\mathbf{0} & \\mathbf{0} \\\\ \\mathbf{0} & \\mathbf{I} & \\mathbf{0} & \\mathbf{0} & \\mathbf{0} & \\mathbf{0} & \\mathbf{0} \\\\ \\mathbf{0} & \\mathbf{0} & \\mathbf{0} & \\mathbf{A}_M & \\mathbf{0} & \\mathbf{0} & \\mathbf{0} \\\\ \\mathbf{0} & \\mathbf{0} & \\mathbf{0} & \\mathbf{0} & \\mathbf{A}_Q & \\mathbf{0} & \\mathbf{0} \\\\ \\mathbf{0} & \\mathbf{0} & \\mathbf{0} & \\mathbf{0} & \\mathbf{I} & \\mathbf{0} & \\mathbf{0} \\\\ \\mathbf{0} & \\mathbf{0} & \\mathbf{0} & \\mathbf{0} & \\mathbf{0} & \\mathbf{I} & \\mathbf{0} \\end{pmatrix} \\mathbf{g}_{t-1} + \\begin{pmatrix} \\mathbf{u}_t \\\\ \\mathbf{0} \\\\ \\mathbf{0} \\\\ \\mathbf{e}^M_t \\\\ \\mathbf{e}^Q_t \\\\ \\mathbf{0} \\\\ \\mathbf{0} \\end{pmatrix}\n",
    "\\end{aligned}\n",
    "$$\n",
    "其中\n",
    "$$\n",
    "\\begin{pmatrix} \\mathbf{u}_t \\\\ \\mathbf{0} \\\\ \\mathbf{0} \\\\ \\mathbf{e}^M_t \\\\ \\mathbf{e}^Q_t \\\\ \\mathbf{0} \\\\ \\mathbf{0} \\end{pmatrix} \\sim \\mathcal{N}\\left(\\mathbf{0}, \\begin{pmatrix} \\mathbf{Q} & \\mathbf{0} & \\mathbf{0} & \\mathbf{0} & \\mathbf{0} & \\mathbf{0} & \\mathbf{0} \\\\ \\mathbf{0} & \\mathbf{0} & \\mathbf{0} & \\mathbf{0} & \\mathbf{0} & \\mathbf{0} & \\mathbf{0} \\\\ \\mathbf{0} & \\mathbf{0} & \\mathbf{0} & \\mathbf{0} & \\mathbf{0} & \\mathbf{0} & \\mathbf{0} \\\\ \\mathbf{0} & \\mathbf{0} & \\mathbf{0} & \\boldsymbol{\\Sigma}_M & \\mathbf{0} & \\mathbf{0} & \\mathbf{0} \\\\ \\mathbf{0} & \\mathbf{0} & \\mathbf{0} & \\mathbf{0} & \\boldsymbol{\\Sigma}_Q & \\mathbf{0} & \\mathbf{0} \\\\ \\mathbf{0} & \\mathbf{0} & \\mathbf{0} & \\mathbf{0} & \\mathbf{0} & \\mathbf{0} & \\mathbf{0} \\\\ \\mathbf{0} & \\mathbf{0} & \\mathbf{0} & \\mathbf{0} & \\mathbf{0} & \\mathbf{0} & \\mathbf{0} \\end{pmatrix}\\right)\n",
    "$$"
   ]
  },
  {
   "cell_type": "markdown",
   "metadata": {},
   "source": [
    "当 $p=1$ 时记：\n",
    "$$\n",
    "\\mathbf{g}_t = \\begin{pmatrix} \\mathbf{f}_t \\\\ \\mathbf{f}_{t-1} \\\\ \\mathbf{f}_{t-2} \\\\ \\boldsymbol{\\varepsilon}^M_t \\\\ \\boldsymbol{\\varepsilon}^Q_t \\\\ \\boldsymbol{\\varepsilon}^Q_{t-1} \\\\ \\boldsymbol{\\varepsilon}^Q_{t-2} \\end{pmatrix}\n",
    "$$\n",
    "对应的状态空间方程表达为：\n",
    "$$\n",
    "\\begin{aligned}\n",
    "\\mathbf{y}_t &= \\begin{pmatrix} \\mathbf{y}^M_t \\\\ \\mathbf{y}^Q_t \\end{pmatrix} = \\begin{pmatrix} \\boldsymbol{\\mu}_M \\\\ \\boldsymbol{\\mu}_Q \\end{pmatrix} + \\begin{pmatrix} \\boldsymbol{\\Lambda}_M & \\mathbf{0} & \\mathbf{0} & \\mathbf{I} & \\mathbf{0} & \\mathbf{0} & \\mathbf{0} \\\\ \\frac{1}{3}\\boldsymbol{\\Lambda}_Q & \\frac{1}{3}\\boldsymbol{\\Lambda}_Q & \\frac{1}{3}\\boldsymbol{\\Lambda}_Q & \\mathbf{0} & \\frac{1}{3}\\mathbf{I} & \\frac{1}{3}\\mathbf{I} & \\frac{1}{3}\\mathbf{I} \\end{pmatrix} \\mathbf{g}_t\\\\\n",
    "\\mathbf{g}_t &= \\begin{pmatrix} \\mathbf{f}_t \\\\ \\mathbf{f}_{t-1} \\\\ \\mathbf{f}_{t-2} \\\\ \\boldsymbol{\\varepsilon}^M_t \\\\ \\boldsymbol{\\varepsilon}^Q_t \\\\ \\boldsymbol{\\varepsilon}^Q_{t-1} \\\\ \\boldsymbol{\\varepsilon}^Q_{t-2} \\end{pmatrix} = \\begin{pmatrix} \\mathbf{A}_1 & \\mathbf{0} & \\mathbf{0} & \\mathbf{0} & \\mathbf{0} & \\mathbf{0} & \\mathbf{0} \\\\ \\mathbf{I} & \\mathbf{0} & \\mathbf{0} & \\mathbf{0} & \\mathbf{0} & \\mathbf{0} & \\mathbf{0} \\\\ \\mathbf{0} & \\mathbf{I} & \\mathbf{0} & \\mathbf{0} & \\mathbf{0} & \\mathbf{0} & \\mathbf{0} \\\\ \\mathbf{0} & \\mathbf{0} & \\mathbf{0} & \\mathbf{A}_M & \\mathbf{0} & \\mathbf{0} & \\mathbf{0} \\\\ \\mathbf{0} & \\mathbf{0} & \\mathbf{0} & \\mathbf{0} & \\mathbf{A}_Q & \\mathbf{0} & \\mathbf{0} \\\\ \\mathbf{0} & \\mathbf{0} & \\mathbf{0} & \\mathbf{0} & \\mathbf{I} & \\mathbf{0} & \\mathbf{0} \\\\ \\mathbf{0} & \\mathbf{0} & \\mathbf{0} & \\mathbf{0} & \\mathbf{0} & \\mathbf{I} & \\mathbf{0} \\end{pmatrix} \\mathbf{g}_{t-1} + \\begin{pmatrix} \\mathbf{u}_t \\\\ \\mathbf{0} \\\\ \\mathbf{0} \\\\ \\mathbf{e}^M_t \\\\ \\mathbf{e}^Q_t \\\\ \\mathbf{0} \\\\ \\mathbf{0} \\end{pmatrix}\n",
    "\\end{aligned}\n",
    "$$\n",
    "其中\n",
    "$$\n",
    "\\begin{pmatrix} \\mathbf{u}_t \\\\ \\mathbf{0} \\\\ \\mathbf{0} \\\\ \\mathbf{e}^M_t \\\\ \\mathbf{e}^Q_t \\\\ \\mathbf{0} \\\\ \\mathbf{0} \\end{pmatrix} \\sim \\mathcal{N}\\left(\\mathbf{0}, \\begin{pmatrix} \\mathbf{Q} & \\mathbf{0} & \\mathbf{0} & \\mathbf{0} & \\mathbf{0} & \\mathbf{0} & \\mathbf{0} \\\\ \\mathbf{0} & \\mathbf{0} & \\mathbf{0} & \\mathbf{0} & \\mathbf{0} & \\mathbf{0} & \\mathbf{0} \\\\ \\mathbf{0} & \\mathbf{0} & \\mathbf{0} & \\mathbf{0} & \\mathbf{0} & \\mathbf{0} & \\mathbf{0} \\\\ \\mathbf{0} & \\mathbf{0} & \\mathbf{0} & \\boldsymbol{\\Sigma}_M & \\mathbf{0} & \\mathbf{0} & \\mathbf{0} \\\\ \\mathbf{0} & \\mathbf{0} & \\mathbf{0} & \\mathbf{0} & \\boldsymbol{\\Sigma}_Q & \\mathbf{0} & \\mathbf{0} \\\\ \\mathbf{0} & \\mathbf{0} & \\mathbf{0} & \\mathbf{0} & \\mathbf{0} & \\mathbf{0} & \\mathbf{0} \\\\ \\mathbf{0} & \\mathbf{0} & \\mathbf{0} & \\mathbf{0} & \\mathbf{0} & \\mathbf{0} & \\mathbf{0} \\end{pmatrix}\\right)\n",
    "$$"
   ]
  }
 ],
 "metadata": {
  "hide_input": false,
  "kernelspec": {
   "display_name": "Python 3",
   "language": "python",
   "name": "python3"
  },
  "language_info": {
   "codemirror_mode": {
    "name": "ipython",
    "version": 3
   },
   "file_extension": ".py",
   "mimetype": "text/x-python",
   "name": "python",
   "nbconvert_exporter": "python",
   "pygments_lexer": "ipython3",
   "version": "3.7.0"
  },
  "latex_envs": {
   "LaTeX_envs_menu_present": true,
   "autoclose": false,
   "autocomplete": true,
   "bibliofile": "biblio.bib",
   "cite_by": "apalike",
   "current_citInitial": 1,
   "eqLabelWithNumbers": true,
   "eqNumInitial": 1,
   "hotkeys": {
    "equation": "Ctrl-E",
    "itemize": "Ctrl-I"
   },
   "labels_anchors": false,
   "latex_user_defs": false,
   "report_style_numbering": false,
   "user_envs_cfg": false
  },
  "toc": {
   "base_numbering": 1,
   "nav_menu": {},
   "number_sections": true,
   "sideBar": true,
   "skip_h1_title": false,
   "title_cell": "Table of Contents",
   "title_sidebar": "Contents",
   "toc_cell": false,
   "toc_position": {},
   "toc_section_display": true,
   "toc_window_display": false
  },
  "varInspector": {
   "cols": {
    "lenName": 16,
    "lenType": 16,
    "lenVar": 40
   },
   "kernels_config": {
    "python": {
     "delete_cmd_postfix": "",
     "delete_cmd_prefix": "del ",
     "library": "var_list.py",
     "varRefreshCmd": "print(var_dic_list())"
    },
    "r": {
     "delete_cmd_postfix": ") ",
     "delete_cmd_prefix": "rm(",
     "library": "var_list.r",
     "varRefreshCmd": "cat(var_dic_list()) "
    }
   },
   "types_to_exclude": [
    "module",
    "function",
    "builtin_function_or_method",
    "instance",
    "_Feature"
   ],
   "window_display": false
  }
 },
 "nbformat": 4,
 "nbformat_minor": 2
}
