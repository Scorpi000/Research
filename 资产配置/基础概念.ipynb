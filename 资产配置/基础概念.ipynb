{
 "cells": [
  {
   "cell_type": "markdown",
   "metadata": {},
   "source": [
    "# 战略资产配置\n",
    "\n",
    "**战略资产配置(Strategic Asset Allocation, SAA)**, 也称为**政策资产配置(Policy Asset Allocation)**，战略资产配置的结果通常是一系列大类资产的目标配置比例以及各配置比例的浮动区间。战略资产配置是在一个较长时期内以追求长期回报为目标的资产配置，时间跨度一般是三到五年，甚至更长。战略资产配置的基础假设是各个大类资产的风险和收益长期内收敛到其均值水平，因此只需关注资产的长期平均收益和风险，并据此确定配置比例，无需根据市场的短期波动作出调整。\n",
    "\n",
    "SAA 决定了组合的长期预期收益和风险，但这不包含 TAA 和投资标的选择带来的风险收益。大类资产能够提供对不同 beta 的暴露度或者对不同因子的暴露度，比如股票市场、货币、利率、通胀、信用利差、期限结构等等，beta 为资产提供的是被动的、系统性的风险，这种风险能够得到市场给予的收益补偿，而这种收益补偿与组合经理的投资管理能力或者主动管理过程没有关系，也不需要为此额外支付费用。每类资产都有各自不同的一组 beta，SAA 就是在考虑投资目标和投资限制的同时，决定如何通过资产类别的组合来获取不同的 beta 暴露。\n",
    "\n",
    "\n",
    "战略资产配置的一般流程：\n",
    "1. 确定投资目标（预期收益）、风险偏好以及投资期限；\n",
    "2. 明确投资范围，确定可投资的大类资产类别；\n",
    "3. 分析并预测大类资产在投资期限内的收益、风险以及相关性；\n",
    "4. 选择并运用资产配置模型，确定大类资产的配置比例；\n",
    "5. 确定再平衡策略\n",
    "\n",
    "## 资金性质\n",
    "\n",
    "投资目标、风险偏好以及投资期限由资金性质决定，资本市场环境以及受托人的投资管理能力也是影响投资目标和风险偏好的因素。\n",
    "\n",
    "## 投资范围\n",
    "\n",
    "理论上，可投资的大类资产类别越多越好，多样化可以分散投资风险。但是过多的资产类别会导致投资管理的困难，而且配置于某类资产的比例需要足够大才能凸显其风险收益特征，从而达到分散投资风险的目的。另外，增加大类资产的边际分散贡献是递减的，对于一个分散度已经很好的组合，增加一小部分奇异资产只会增加组合的复杂性。实际的资产配置中，资产类别不宜过多，一般为 5 到 10 种，并且应该尽量选择风险收益特征差异大、相关性低的资产。\n",
    "\n",
    "在做 SAA 分析时，往往要用某只具有代表性的指数表征一类资产，但是一些非传统资产没有合适的指数可用，这是分析的一大挑战。"
   ]
  }
 ],
 "metadata": {
  "hide_input": false,
  "kernelspec": {
   "display_name": "Python 3",
   "language": "python",
   "name": "python3"
  },
  "language_info": {
   "codemirror_mode": {
    "name": "ipython",
    "version": 3
   },
   "file_extension": ".py",
   "mimetype": "text/x-python",
   "name": "python",
   "nbconvert_exporter": "python",
   "pygments_lexer": "ipython3",
   "version": "3.7.0"
  },
  "latex_envs": {
   "LaTeX_envs_menu_present": true,
   "autoclose": true,
   "autocomplete": true,
   "bibliofile": "biblio.bib",
   "cite_by": "apalike",
   "current_citInitial": 1,
   "eqLabelWithNumbers": true,
   "eqNumInitial": 1,
   "hotkeys": {
    "equation": "Ctrl-E",
    "itemize": "Ctrl-I"
   },
   "labels_anchors": false,
   "latex_user_defs": false,
   "report_style_numbering": true,
   "user_envs_cfg": false
  },
  "toc": {
   "base_numbering": 1,
   "nav_menu": {},
   "number_sections": true,
   "sideBar": true,
   "skip_h1_title": false,
   "title_cell": "Table of Contents",
   "title_sidebar": "Contents",
   "toc_cell": false,
   "toc_position": {},
   "toc_section_display": true,
   "toc_window_display": false
  },
  "varInspector": {
   "cols": {
    "lenName": 16,
    "lenType": 16,
    "lenVar": 40
   },
   "kernels_config": {
    "python": {
     "delete_cmd_postfix": "",
     "delete_cmd_prefix": "del ",
     "library": "var_list.py",
     "varRefreshCmd": "print(var_dic_list())"
    },
    "r": {
     "delete_cmd_postfix": ") ",
     "delete_cmd_prefix": "rm(",
     "library": "var_list.r",
     "varRefreshCmd": "cat(var_dic_list()) "
    }
   },
   "types_to_exclude": [
    "module",
    "function",
    "builtin_function_or_method",
    "instance",
    "_Feature"
   ],
   "window_display": false
  }
 },
 "nbformat": 4,
 "nbformat_minor": 4
}
