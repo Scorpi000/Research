{
 "cells": [
  {
   "cell_type": "markdown",
   "metadata": {},
   "source": [
    "“核心—卫星策略”（Core-satellite Strategy）已成为成熟市场上资产配置的主流策略之一。通俗的来说，就是将我们投资基金的资产分成两部分，大头放在“核心”中，剩余资金放入“卫星”中。核心只有一个，卫星却可以有很多个。该策略实际上就是在寻找投资安全、收益稳定、承担损失等之间的一个平衡。\n",
    "\n",
    "一般来说，“核心-卫星策略”就是将资金分成两部分，一部分在整个投资组合中所占权重更大，处于“核心”地位，对投资的安全和收益起着“保驾护航”的重要作用；另一部分所占权重较小，资产比较灵活，像卫星一般，在受约束的同时，有更大的投资空间，往往会带来意想不到的收益。全球知名的先锋、瑞银、巴克莱等资产管理机构都在采用这一策略为客户配置资产。\n",
    "\n",
    "\n",
    "“核心—卫星”策略优势：\n",
    "* 多样化：选择范围广，能纳入多种资产类别作为卫星仓位;\n",
    "* 相对稳定，易于管理：指数基金表现长期稳定，明确的仓位比例限制了人为情绪的影响，整体波动性小;\n",
    "* 成本优势：核心仓位以指数基金为主，调仓频率低，有效降低组合的管理成本和交易成本;\n",
    "* 风险控制：由于各类别资产之间的相关性低，可显著降低单一类别资产的风险性。\n",
    "\n",
    "“核心”资产配置，稳定是关键，“卫星”资产配置，应随市场而动。“核心”资产一旦做好配置，就应该像基地一般岿然不动。这便对其产品品质提出了极高的要求，要求稳定仓位也不能有大幅变动，否则会增加未来大类资产比例的不确定性，指数基金就是不错的选择。而“卫星”资产就更具灵活性，可依据市场动向做决定，去买相应风格的基金产品。\n",
    "\n",
    "“核心—卫星”的资产配置比例可根据具体情况适度调整，配置比例没有硬性规定，投资者可根据自身的风险承受能力和投资目标来进行分配。以积极型投资者来说，其承担的风险较高，希望通过投资高风险产品来获得高额收益，那么其“核心”资产配置比例就可以低一些。卫星资产选择高风险的产品。总的来说，投资者需要根据自己的风险承受能力，有所侧重地进行资产配置，以达到收益保值增值的目的。当然，要构建一个适合自己的核心卫星策略，需要强大的技术和数据支撑。\n",
    "\n",
    "在“核心—卫星”策略中，需注意“核心”和“卫星”之间及其内部的相关性，要尽量选择配置相关性较低的产品，以分散投资风险，优化产品组合的收益结构。\n"
   ]
  }
 ],
 "metadata": {
  "hide_input": false,
  "kernelspec": {
   "display_name": "Python 3",
   "language": "python",
   "name": "python3"
  },
  "language_info": {
   "codemirror_mode": {
    "name": "ipython",
    "version": 3
   },
   "file_extension": ".py",
   "mimetype": "text/x-python",
   "name": "python",
   "nbconvert_exporter": "python",
   "pygments_lexer": "ipython3",
   "version": "3.7.0"
  },
  "latex_envs": {
   "LaTeX_envs_menu_present": true,
   "autoclose": true,
   "autocomplete": true,
   "bibliofile": "biblio.bib",
   "cite_by": "apalike",
   "current_citInitial": 1,
   "eqLabelWithNumbers": true,
   "eqNumInitial": 1,
   "hotkeys": {
    "equation": "Ctrl-E",
    "itemize": "Ctrl-I"
   },
   "labels_anchors": false,
   "latex_user_defs": false,
   "report_style_numbering": true,
   "user_envs_cfg": false
  },
  "toc": {
   "base_numbering": 1,
   "nav_menu": {},
   "number_sections": true,
   "sideBar": true,
   "skip_h1_title": false,
   "title_cell": "Table of Contents",
   "title_sidebar": "Contents",
   "toc_cell": false,
   "toc_position": {},
   "toc_section_display": true,
   "toc_window_display": false
  },
  "varInspector": {
   "cols": {
    "lenName": 16,
    "lenType": 16,
    "lenVar": 40
   },
   "kernels_config": {
    "python": {
     "delete_cmd_postfix": "",
     "delete_cmd_prefix": "del ",
     "library": "var_list.py",
     "varRefreshCmd": "print(var_dic_list())"
    },
    "r": {
     "delete_cmd_postfix": ") ",
     "delete_cmd_prefix": "rm(",
     "library": "var_list.r",
     "varRefreshCmd": "cat(var_dic_list()) "
    }
   },
   "types_to_exclude": [
    "module",
    "function",
    "builtin_function_or_method",
    "instance",
    "_Feature"
   ],
   "window_display": false
  }
 },
 "nbformat": 4,
 "nbformat_minor": 2
}
