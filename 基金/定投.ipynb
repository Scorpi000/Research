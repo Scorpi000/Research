{
 "cells": [
  {
   "cell_type": "markdown",
   "metadata": {},
   "source": [
    "基金定期定额投资简称**基金定投**，是指每隔预设的固定时间，对某一证券投资基金投入固定金额的投资方法。在海外成熟市场，定投广泛被称为**自动投资计划（Automatic Investment Plan，AIP）**，突出定投的交易指令是根据预先设定好的规则自动完成。而定投运用的交易策略被称作美元成本平均法（Dollar cost average）或投资平均法（Investment averaging），突出了该投资法通过不断投入，以长期平均成本获得证券资产，降低择时风险的特点。"
   ]
  },
  {
   "attachments": {},
   "cell_type": "markdown",
   "metadata": {},
   "source": [
    "# 定投的现金流模型\n",
    "\n",
    "定投法所形成的现金流量就是一种年金类型，其特点是：\n",
    "1. 它是一种定期现金流出，通过现金流出形成投资；\n",
    "2. 它一般是一种期初年金，在第 1 期开始资金投入；\n",
    "3. 它一般是一种等额年金，即每隔一段时间流出的资金量是相同的。\n",
    "\n",
    "记投资产品的净值为 $NAV_t$，每期投资金额为 1 个单位，则每期投资份额为\n",
    "$$\n",
    "V_t = \\frac{1}{NAV_t}\n",
    "$$\n",
    "累计 T 期的投资份额为\n",
    "$$\n",
    "Q_T = \\sum\\limits_{t=1}^T V_t = \\sum\\limits_{t=1}^T \\frac{1}{NAV_t}\n",
    "$$\n",
    "\n",
    "如下图所示，到 T 期末，总共定投了 T 次，总共投资金额为 1 × T。此时如果赎回基金实现投资回报，可获得的资金为 $NAV_T \\times Q_T$：\n",
    "\n",
    "![定投的现金流模型](./images/定投的现金流模型.PNG)\n",
    "\n",
    "**平均单位净值（平均成本）**\n",
    "\n",
    "定投的平均单位净值（平均成本）是各期产品单位净值倒数的算数平均数的倒数，即个期产品单位净值的调和平均数。定期定额的平均成本公式如下：\n",
    "$$\n",
    "\\overline{NAV}^H_T = \\frac{T}{Q_T} = \\frac{T}{\\sum\\limits_{t=1}^T \\frac{1}{NAV_t}}\n",
    "$$\n",
    "\n",
    "**定投收益率**\n",
    "\n",
    "从而定投至 T 期的投资收益率为：\n",
    "$$\n",
    "R_T = \\frac{NAV_T\\cdot Q_T}{T} - 1 = \\frac{NAV_T}{\\overline{NAV}^H_T} - 1\n",
    "$$\n",
    "当 T 期产品单位净值大于定投平均成本，即 $NAV_T > \\overline{NAV}^H_T$ 时，定投盈利为正，反之亏损。两者之差额是每单位份额的盈亏金额。"
   ]
  },
  {
   "cell_type": "markdown",
   "metadata": {},
   "source": [
    "**平均单位净值现值**\n",
    "\n",
    "如果考虑货币时间价值，就需要把所有的现金流进行贴现。设贴现率为 r，定投平均单位净值的现值为：\n",
    "$$\n",
    "\\overline{nav}^H_T = \\frac{\\sum\\limits_{t=1}^T\\frac{1}{(1+r)^{t-1}}}{Q_T} = \\frac{(1+r)\\left[1-(1+r)^{-T}\\right]}{rQ_T}\n",
    "$$\n",
    "其中 $\\frac{(1+r)\\left[1-(1+r)^{-T}\\right]}{r} = \\sum\\limits_{t=1}^T\\frac{1}{(1+r)^{t-1}}$ 为截止 T 期所有投资支出现金流的贴现总和。\n",
    "\n",
    "当 T 日基金单位净值贴现值 $nav_T = \\frac{NAV_T}{(1+r)^{T-1}}$ 大于定投平均成本贴现值，即 $nav_T > \\overline{nav}^H_T$ 时，该投资盈利，反之则亏损。\n",
    "\n",
    "**贴现收益率**\n",
    "$$\n",
    "r_T = \\frac{nav_T}{\\overline{nav}^H_T} - 1\n",
    "$$\n",
    "存在的主要问题在于，贴现率的选择具有较强的主观性，选择不同的贴现率，会带来不同的盈亏结果。同时，在一般基金业绩的测算中，也较少有考虑货币时间价值的。"
   ]
  },
  {
   "cell_type": "markdown",
   "metadata": {},
   "source": [
    "**年化收益率**\n",
    "\n",
    "设整个定投区间的投资收益率 $R_T$，同样，采用单利的方式计算整个定投区间的年化收益率为\n",
    "$$\n",
    "\\frac{R_T}{T/K}\n",
    "$$\n",
    "其中，K 代表每年定投次数。"
   ]
  },
  {
   "cell_type": "markdown",
   "metadata": {},
   "source": [
    "**内部收益率**\n",
    "\n",
    "在计算收益率时，由于定投的资金是分批投入的，若要考虑货币的时间价值，又避免以上所讨论的使用某一贴现率贴现的较为主观的方法，则需采用内含收益率计算法。该方法将所有现金流贴现到定投起点，使得净现金流等于 0 的贴现率 r 即为内部收益率。\n",
    "$$\n",
    "\\frac{NAV_T \\cdot Q_T}{(1+r)^{T-1}} = \\sum\\limits_{t=1}^T \\frac{1}{(1+r)^{t-1}}\n",
    "$$\n",
    "相比单笔一次性投资在首期投入全部资金，定投资金的分批投入节约了资金成本，为此，定投的内含收益率大于定投的简单收益率，即：\n",
    "$$\n",
    "r > \\frac{R_T}{T}\n",
    "$$"
   ]
  },
  {
   "cell_type": "markdown",
   "metadata": {},
   "source": [
    "# 定投的连续时间模型\n",
    "\n",
    "假定资产初始价格 $S_0$，价格过程服从随机微分方程：\n",
    "$$\n",
    "\\mathrm{d}S_t = \\mu S_t \\mathrm{d}t + \\sigma S_t \\mathrm{d}W_t\n",
    "$$\n",
    "通过 Ito 引理，求解以上微分方程得到 t 期资产价格：\n",
    "$$\n",
    "S_t = S_0 e^{\\left(\\mu-\\frac{1}{2}\\sigma^2\\right)t + \\sigma W_t}\n",
    "$$\n",
    "\n",
    "假设投资时间长度为 T，投资资金总额为 1。对于一次性投资而言，期末基金资产净值表示为 $V^S_T = \\frac{S_T}{S_0}$。对于定投，将投资时间 T 分为 N 期，每期定投金额表示为 $\\frac{1}{N}$，每期得到的基金份额为：$\\frac{1}{N \\cdot S_{t_i}}, t_i=\\frac{iT}{N}$。投资到期时，定投获得的期末总份数为\n",
    "$$\n",
    "Q_T = \\sum\\limits_{i=0}^{N-1}\\frac{1}{N \\cdot S_{t_i}}\n",
    "$$\n",
    "此时定投期末的基金资产净值为：\n",
    "$$\n",
    "V^M_T = \\sum\\limits_{i=0}^{N-1}\\frac{1 \\cdot S_T}{N \\cdot S_{t_i}} \\to \\frac{1}{T}\\int_0^T\\frac{1 \\cdot S_T}{S_t}\\mathrm{d}t,N\\to\\infty\n",
    "$$\n",
    "取期望可得：\n",
    "$$\n",
    "\\begin{aligned}\n",
    "\\mathbb{E}[V^S_T] &= e^{\\mu T}\\\\\n",
    "\\mathbb{E}[V^M_T] &= \\frac{e^{\\mu T}-1}{\\mu T}\\\\\n",
    "\\mathbb{E}\\left[\\frac{V^M_T}{V^S_T}\\right] &= \\frac{e^{(\\sigma^2-\\mu)T}-1}{(\\sigma^2-\\mu)T}\n",
    "\\end{aligned}\n",
    "$$\n",
    "由函数 $f(x)=\\frac{e^x-1}{x}$ 的单调递增性以及 $f(0)=1$ 可知：\n",
    "* 当 $\\sigma^2-\\mu>0$ 时，$\\mathbb{E}\\left[\\frac{V^M_T}{V^S_T}\\right]>1$；\n",
    "* 当 $\\sigma^2-\\mu=0$ 时，$\\mathbb{E}\\left[\\frac{V^M_T}{V^S_T}\\right]=1$；\n",
    "* 当 $\\sigma^2-\\mu<0$ 时，$\\mathbb{E}\\left[\\frac{V^M_T}{V^S_T}\\right]<1$。\n",
    "\n",
    "在给定投资时间 T 不变时，直观的讲：当 $\\sigma^2-\\mu$ 越大，定投表现相对一次性投资收益期望越好。当 $\\sigma^2-\\mu>0$ 时，平均而言定投比一次性投资效果好。"
   ]
  },
  {
   "cell_type": "markdown",
   "metadata": {},
   "source": [
    "$\\mu$ 称作资产价格的漂移率，是指很短的时间 $\\Delta t$ 内资产收益率的期望值。资产的对数收益率服从以下正态分布：\n",
    "$$\n",
    "\\log \\frac{S_{t+\\Delta t}}{S_t} \\sim \\mathcal{N}\\left((\\mu-\\frac{1}{2}\\sigma^2)\\Delta t, \\sigma^2\\Delta t\\right)\n",
    "$$\n",
    "对于参数估计，假设每天的对数收益率独立同分布，可以用样本均值来估算总体均值\n",
    "$$\n",
    "\\hat{\\mu} = \\frac{\\bar{r}}{\\Delta t} + \\frac{1}{2}\\hat{\\sigma}^2\n",
    "$$\n",
    "其中，$\\hat{\\sigma}$ 是日对数收益率的样本标准差。"
   ]
  },
  {
   "cell_type": "markdown",
   "metadata": {},
   "source": [
    "# 定投与一次性投资的对比\n",
    "\n",
    "定投最直接的对比对象是一次性投资，它与一次性投资的唯一区别就在于投资时点的选择上。假设定投收益率为 $R^M_T = \\frac{NAV_T}{\\overline{NAV}^H_T} - 1$， 一次性投资的收益率为 $R^S_T = \\frac{NAV_T}{NAV_1} - 1$。由调和平均数（$\\overline{NAV}^H_T$）小于等于算数平均数（记为 $\\overline{NAV}_T$）可得：\n",
    "$$\n",
    "R^M_T \\geq \\frac{NAV_T}{\\overline{NAV}_T}-1 = \\frac{NAV_1}{\\overline{NAV}_T}\\cdot R^S_T + \\frac{NAV_1}{\\overline{NAV}_T}-1\n",
    "$$\n",
    "由此可知，定投取得正收益的一个充分条件为 $NAV_T \\geq \\overline{NAV}_T$；定投收益率超过一次性投资收益率的一个充分条件为 $NAV_1 \\leq \\overline{NAV}_T$。从而在单边下跌和先下跌后上涨的行情中，定投表现一定优于一次性投资。"
   ]
  },
  {
   "cell_type": "markdown",
   "metadata": {},
   "source": [
    "# 定投的均线分析法\n",
    "\n",
    "在评估定投效果时，需重点关注定投平均成本的变化。为了方便分析，可以将每个时点的定投平均成本连接起来，就可以得到定投的**平均成本线**，它也是产品单位净值的调和平均线。这条均线可以用来分析基金单位净值的波动对于平均成本的影响，以及所带来的投资盈亏情况。\n",
    "\n",
    "还可以将技术分析中的移动平均线（MA）分析方法应用到定投的分析中。即计算一定时间段内的平均成本，并随着时间推移，加入新一期的投资成本，减去前一期的投资成本，构成**移动平均成本线（MAC）**。相关均线可以是不同期数的周平均成本线、双周平均成本线、月度平均成本线、季度平均成本线等。计算 T 时点最近 N 期的移动平均成本：\n",
    "$$\n",
    "MAC(N)_T = \\frac{N}{\\sum\\limits_{t=T-N+1}^T \\frac{1}{NAV_t}}\n",
    "$$\n",
    "可以将不同时间长度的定投移动平均线绘制于同一图形中，据此观测基金在不同市场条件下，不同投资周期的定投效果。"
   ]
  },
  {
   "cell_type": "markdown",
   "metadata": {},
   "source": [
    "# 定投的市场时机\n",
    "\n",
    "将市场环境划分成“先下跌后回升”、“ 震荡向上”、“先升后回落”、“震荡向下”、和“震荡”四种情况，分别研究不同市场条件下基金定投的收益特征：\n",
    "* “先下跌后回升”即“微笑曲线周期”是定投最适合的市场条件，在净值下跌过程中，平均单位成本不断下降，市场震荡筑底为定投的投资者进一步降低平均成本。而在指数开始反弹后，单位净值在未回复至首次定投时，基金定投便可以实现盈利。“微笑曲线”充分发挥了基金定投分批建仓的优势，在市场回升时快速获利。\n",
    "* “震荡向上”的市场条件下，指数基金的单位净值将随时间推移而逐渐升高，基金定投的平均投入成本也不断推高，虽然依然能够保持盈利，然而盈利情况不如在起始点一次性的投资方式。\n",
    "* “先升后回落”即“倒微笑曲线周期” 是基金定投最不适合的市场条件，冲高回落的过程中，定投投资者多次以高价购入了基金份额，导致平均成本提升，回落过程将造成亏损。定投收益低于初始一次性买入的投资方式。\n",
    "* “震荡向下”的市场条件下，产品的单位净值将随时间推移而逐渐下跌，为此基金定投收益均优于单笔投资收益。基金定投较为有效的降低了持仓风险。在后市，市场可能出现反弹的过程中，也将较早获利。"
   ]
  },
  {
   "cell_type": "markdown",
   "metadata": {},
   "source": [
    "# 定投择基标准\n",
    "\n",
    "**长期业绩好的基金适合定投**。对于一次性投资，业绩好的基金收益更高，对于定投也是如此。定投与基金单位净值走势关系密切，只有投资的基金走势趋势性向好，定投才能取得良好的收益率。当基金只跌不涨或跌的时间、幅度远远大于上涨时，定投相比单笔一次性投资只能减少损失比例，而难以盈利。因此，需要选择长期走势良好的基金品种。对于持续下跌的基金，需要回避。\n",
    "\n",
    "**净值波动大的基金更适宜定投**。定投与一次性投资的另一点区别是，在起始净值和最终净值一定的情况下，一次性投资的收益能够准确计算，但定投\n",
    "的收益率会因中间买入成本的不同而不同，净值波动率也会对定投收益率造成影响。定投在基金单位净值高的时候获得的份额数量少，净值下跌的时候获得的份额数量多的特点，在大幅波动中能够更好的降低投资成本。\n"
   ]
  },
  {
   "cell_type": "markdown",
   "metadata": {},
   "source": [
    "# 智能定投\n",
    "\n",
    "智能定投建立在传统定投基础上，它在保留传统定投纪律性投资特点和降低主观操作可能风险的同时，又通过数量分析方法对市场进行客观的判断，调整每期定投金额，优化投资成本。目前市场上主流的智能定投方案所选用的策略主要包括三种类型：\n",
    "* 基于价格指数的技术策略：基于价格指数的技术策略主要通过对指数进行技术分析，判断市场未来的走势，主要包含两种策略思想：一种是右侧交易，在趋势形成后，跟随趋势追加投资；一种是左侧交易，与右侧交易相反，认为随着价格的升高，投资者面临的风险越高，在向上趋势继续运行时降低投资，避免行情反转后损失过大。\n",
    "* 基于市盈率的基本面策略：主要根据市场市盈率水平的高低，判断当前行情是否处于合理估值水平，在市场处于高估位置，降低投资，在市场处于低估位置，增加投资。\n",
    "* 基于平均投资成本的策略：基于平均投资成本的策略是围绕着基金定投的根本策略思想出发，定投平均单位净值小于赎回时基金单位净值是基金定投取得正收益的充分条件。平均投资成本法对比基金定投每期的平均成本与当前基金单位净值的差距，决定投资数额。"
   ]
  }
 ],
 "metadata": {
  "hide_input": false,
  "kernelspec": {
   "display_name": "Python 3",
   "language": "python",
   "name": "python3"
  },
  "language_info": {
   "codemirror_mode": {
    "name": "ipython",
    "version": 3
   },
   "file_extension": ".py",
   "mimetype": "text/x-python",
   "name": "python",
   "nbconvert_exporter": "python",
   "pygments_lexer": "ipython3",
   "version": "3.7.3"
  },
  "latex_envs": {
   "LaTeX_envs_menu_present": true,
   "autoclose": false,
   "autocomplete": true,
   "bibliofile": "biblio.bib",
   "cite_by": "apalike",
   "current_citInitial": 1,
   "eqLabelWithNumbers": true,
   "eqNumInitial": 1,
   "hotkeys": {
    "equation": "Ctrl-E",
    "itemize": "Ctrl-I"
   },
   "labels_anchors": false,
   "latex_user_defs": false,
   "report_style_numbering": false,
   "user_envs_cfg": false
  },
  "toc": {
   "base_numbering": 1,
   "nav_menu": {},
   "number_sections": true,
   "sideBar": true,
   "skip_h1_title": false,
   "title_cell": "Table of Contents",
   "title_sidebar": "Contents",
   "toc_cell": false,
   "toc_position": {},
   "toc_section_display": true,
   "toc_window_display": false
  },
  "varInspector": {
   "cols": {
    "lenName": 16,
    "lenType": 16,
    "lenVar": 40
   },
   "kernels_config": {
    "python": {
     "delete_cmd_postfix": "",
     "delete_cmd_prefix": "del ",
     "library": "var_list.py",
     "varRefreshCmd": "print(var_dic_list())"
    },
    "r": {
     "delete_cmd_postfix": ") ",
     "delete_cmd_prefix": "rm(",
     "library": "var_list.r",
     "varRefreshCmd": "cat(var_dic_list()) "
    }
   },
   "oldHeight": 122,
   "position": {
    "height": "40px",
    "left": "688px",
    "right": "20px",
    "top": "120px",
    "width": "250px"
   },
   "types_to_exclude": [
    "module",
    "function",
    "builtin_function_or_method",
    "instance",
    "_Feature"
   ],
   "varInspector_section_display": "none",
   "window_display": true
  }
 },
 "nbformat": 4,
 "nbformat_minor": 2
}
