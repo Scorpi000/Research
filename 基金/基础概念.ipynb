{
 "cells": [
  {
   "cell_type": "markdown",
   "metadata": {},
   "source": [
    "# 基金份额\n",
    "\n",
    "概括来讲，字母是区分基金的不同类别，一般来说有三种情况：\n",
    "* 基金费率模式不同，基金公司用字母来区分不同的费率模式；\n",
    "* 基金销售渠道不同，用来区分不同的销售渠道（这种情况本质上大多也是因为费率不同，但是少数基金确实费率相同却仍然分类）；\n",
    "* 在分级基金上，用来区分不同的基金风险级别。\n",
    "\n",
    "股票型基金、债券型基金和混合型基金有 A、B 和 C 三个后缀。其中的不同，就是申购和赎回费用的区别：\n",
    "* A 类份额：表示前端收费。购买这类基金时要付一定的购买费用，但在基金赎回时没有赎回费用。\n",
    "* B 类份额：表示后端收费，即购买费用是在赎回时再付。这种费用是根据持有这只基金的时间长短来决定的，每只基金都各有不同。一般情况而言，基金持有的时间越长，费用越少，如果超过一年后，就不需要任何费用进行赎回。\n",
    "* C 类份额：既不是前端收费，也不是后端收费。投资者在认购和赎回时，都不需要手续费，但和 A 类份额和 B 类份额相比，多了一个销售服务费。\n",
    "\n",
    "A 类份额和 B 类份额都要收取一定的基金管理费和托管费，但是不收取销售服务费。\n",
    "\n",
    "在股票型和混合型基金中，A 类、B 类和 C 类的管理费和托管费一样，但 C 类份额的销售服务费一般从基金净值中扣除，前端收费会随着基金申购金额增加而递减，后端收费随着持有基金时间变长而递减。如果基金的操作资金在 100 万元以内，且在一年内进行赎回的话，就是前段费率小于后端费率，前段收费具有较大优势；如果是长期持有，特别是超过 2 年以上，后端收费优势则更加明显。\n",
    "\n",
    "目前有八成的第三方基金销售渠道对前端基金申购费率都有折扣，现阶段基金前段收费的方式使用更加普遍，选择折扣比较大的渠道来购买基金也可以。\n",
    "\n",
    "C 类份额由于 0 申购费、赎回费也比较低，故适合那些对资金流动性要求高且投资期限小于一年的投资者。注意，C 类份额有销售服务费，而这个费用是基于基金资产净值计算的，所以 C 类份额的收费不适合基金规模偏大的投资者。\n",
    "\n",
    "货币基金和短期理财债券基金最常见的后缀是 A 和 B，差别主要是参与门槛的不同：\n",
    "* A 类是低申购起点，1 分、1 元和 100 元，一般都是普通投资者在购买；\n",
    "* B 类则是高申购起点的，一般水平在 500 万元，低的也要近百万元，一般是机构投资者在购买。如此，B 类基金的销售服务费会低很多，自然收益会高于 A类。\n",
    "\n",
    "货币基金不收取申购和赎回费，A、B 两类货币基金的管理费和托管费都一样，唯一区别是 B 类的销售服务费比 A 类少一些，当然我们也经常发现，一般 B 类货基的七日年化收益率相对高一些。\n",
    "\n",
    "货基也有一类特殊群体：E 类份额，主要是针对销售渠道的区别，有的是对传统销售渠道的和网络销售渠道的区别；有的是对不同销售平台的的区别；也可能是对某一个专门的销售渠道定制的。比如，华夏现金增利 E 份额专为百度理财定制；诺安天天宝货币 E 专为同花顺爱基金收益宝定制。\n",
    "\n",
    "分级基金具有三种份额，分别是母份额、A 份额（稳健份额）、B 份额（激进份额）。最初，分级基金需要标识，但只靠名字来标识，效果并不理想，如瑞福优先和瑞福进取、银华稳进和银华锐进。最后，还是用 A 和 B 区分，更通俗易懂。于是，A 代表的就是低风险份额，B 代表的就是高风险份额。\n",
    "\n",
    "除分级基金外，同一基金的不同字母份额只是销售渠道、申购门槛或者收费方式有区别，对基金运作期的实际净值影响不大。所以，具体选择哪类份额，可根据自己的资金量大小、预计投资时间选择。\n",
    "\n",
    "以上是普遍情况，不同基金公司可能规定不一样。比如，有的基金公司用 A 表示前端收费，用 B 类表示申购的债券基金等其他情况，要以基金合同为准。"
   ]
  }
 ],
 "metadata": {
  "kernelspec": {
   "display_name": "Python 3",
   "language": "python",
   "name": "python3"
  },
  "language_info": {
   "codemirror_mode": {
    "name": "ipython",
    "version": 3
   },
   "file_extension": ".py",
   "mimetype": "text/x-python",
   "name": "python",
   "nbconvert_exporter": "python",
   "pygments_lexer": "ipython3",
   "version": "3.5.4"
  },
  "latex_envs": {
   "LaTeX_envs_menu_present": true,
   "autoclose": true,
   "autocomplete": true,
   "bibliofile": "biblio.bib",
   "cite_by": "apalike",
   "current_citInitial": 1,
   "eqLabelWithNumbers": true,
   "eqNumInitial": 1,
   "hotkeys": {
    "equation": "Ctrl-E",
    "itemize": "Ctrl-I"
   },
   "labels_anchors": false,
   "latex_user_defs": false,
   "report_style_numbering": false,
   "user_envs_cfg": false
  },
  "toc": {
   "base_numbering": 1,
   "nav_menu": {},
   "number_sections": true,
   "sideBar": true,
   "skip_h1_title": false,
   "title_cell": "Table of Contents",
   "title_sidebar": "Contents",
   "toc_cell": false,
   "toc_position": {},
   "toc_section_display": true,
   "toc_window_display": false
  },
  "varInspector": {
   "cols": {
    "lenName": 16,
    "lenType": 16,
    "lenVar": 40
   },
   "kernels_config": {
    "python": {
     "delete_cmd_postfix": "",
     "delete_cmd_prefix": "del ",
     "library": "var_list.py",
     "varRefreshCmd": "print(var_dic_list())"
    },
    "r": {
     "delete_cmd_postfix": ") ",
     "delete_cmd_prefix": "rm(",
     "library": "var_list.r",
     "varRefreshCmd": "cat(var_dic_list()) "
    }
   },
   "types_to_exclude": [
    "module",
    "function",
    "builtin_function_or_method",
    "instance",
    "_Feature"
   ],
   "window_display": false
  }
 },
 "nbformat": 4,
 "nbformat_minor": 2
}
