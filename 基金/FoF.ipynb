{
 "cells": [
  {
   "cell_type": "markdown",
   "metadata": {},
   "source": [
    "FoF 投资应遵循“自上而下”的投资逻辑，在资产配置层面，以战略资产配置为主，战术资产配置为辅，并严格地执行再平衡策略，控制组合的整体风险。科学合理的资产配置是投资组合充分分散化并实现稳健收益的关键。在资产配置的基础上执行基金筛选，以定量和定性分析相结合的方式，寻找最能够体现细分资产风险收益特征的优秀管理人。投资收益的来源可以分解为两部分：基准收益 $\\beta$ 和超额收益 $\\alpha$，保证 $\\beta$ 收益是首要目标，$\\alpha$ 收益只是锦上添花。战略资产配置由资金性质、投资范围、比例限制以及资产未来风险收益特征等因素决定，并可由资产配置模型生成战略资产配置方案，投资者可以定期对战略资产配置方案重新审视和再平衡。战术资产配置由中短期研究、特别投资机会以及主题投资等因素决定。战略资产配置和战术资产配置共同决定了 $\\beta$ 的配置，战术资产配置会涉及到基金筛选和调整的 $\\alpha$ 配置，而战略资产配置对于 $\\beta$ 的配置决定作用解释了资金长期回报的主要部分。\\cite{Qutke:2018}\n",
    "\n",
    "![资产配置逻辑架构](.\\images\\资产配置逻辑架构.PNG)"
   ]
  },
  {
   "cell_type": "markdown",
   "metadata": {},
   "source": [
    "# 战略资产配置\n",
    "\n",
<<<<<<< HEAD
    "战略资产配置(Strategic Asset Allocation, SAA), 也称为政策资产配置(Policy Asset Allocation)，战略资产配置的结果通常是一系列大类资产的目标配置比例以及各配置比例的浮动区间。战略资产配置是在一个较长时期内以追求长期回报为目标的资产配置，时间跨度一般是三到五年，甚至更长。战略资产配置的基础假设是各个大类资产的风险和收益长期内收敛到其均值水平，因此只需关注资产的长期平均收益和风险，并据此确定配置比例，无需根据市场的短期波动作出调整。\n",
    "\n",
    "战略资产配置的一般流程：\n",
    "1. 确定投资目标（预期收益）、风险偏好以及投资期限；\n",
    "2. 明确投资范围，确定可投资的大类资产类别；\n",
    "3. 分析并预测大类资产在投资期限内的收益、风险以及相关性；\n",
    "4. 选择并运用资产配置模型，确定大类资产的配置比例；\n",
    "5. 确定再平衡策略\n",
    "\n",
    "## 资金性质\n",
    "\n",
    "投资目标、风险偏好以及投资期限由资金性质决定，资本市场环境以及受托人的投资管理能力也是影响投资目标和风险偏好的因素。\n",
    "\n",
    "## 投资范围\n",
    "\n",
    "理论上，可投资的大类资产类别越多越好，多样化可以分散投资风险。但是过多的资产类别会导致投资管理的困难，而且配置于某类资产的比例需要足够大才能凸显其风险收益特征，从而达到分散投资风险的目的。实际的资产配置中，资产类别不宜过多，一般为 5 到 10 种，并且应该尽量选择风险收益特征差异大、相关性低的资产。"
   ]
  },
  {
   "cell_type": "markdown",
   "metadata": {},
   "source": [
    "## 资本市场假设\n",
    "\n",
    "资本市场假设（CMAs）一般包括资产的预期收益、风险以及相关性，其作为战略资产配置的输入，期限需和 SAA 的期限相匹配。\n",
    "\n",
    "\n",
    "### 历史数据法\n",
    "\n",
    "历史数据法假设资产的风险和收益在长期将收敛到均值，即资产的风险和收益都是平稳的时间序列，因此根据足够长时期的资产表现历史数据，预测资产未来足够长时期的风险收益，历史数据法得到的结果应该是无偏且一致的。\n",
    "\n",
    "实际应用中历史数据法的问题：\n",
    "1. 很多大类资产历史数据年限不长，尤其是国内市场。数据不足导致样本均值的方差变大，样本均值可能偏离总体均值的真实值很远；或者说在历史数据的时间序列内，观察不到资产收益和风险的长期均值。用历史数据法预测未来收益风险，至少需要 10 年的数据（\\cite{Qutke:2018}）。\n",
    "2. 历史无法代表未来，即便有足够长的历史数据，使用历史均值预测未来都可能失效，即风险和收益长期收敛到均值的假设可能不成立。\n",
    "3. 投资者的投资年限可能不长，这要求资产的风险和收益必须以更快的速度收敛到均值。\n",
    "\n",
    "历史数据法在预测股票市场预期收益率时并不可靠，但在预测股票市场波动性时较为可靠；历史数据法在预测债券市场预期收益率和波动性时效果较好。"
=======
    "## 投资范围\n",
    "\n",
    "理论上，可投资的大类资产类别越多越好，多样化可以分散风险。实际上，资产类别不宜过多（一般为 5-10 种），并且应该尽量选择风险收益特征差异大、相关性低的资产。"
>>>>>>> origin/master
   ]
  },
  {
   "cell_type": "markdown",
   "metadata": {},
   "source": [
<<<<<<< HEAD
    "### 美林时钟分析框架\n",
    "\n",
    "美林时钟分析框架最早由美林证券提出，通过对经济增长和通胀两个指标的分析，将经济周期划分为衰退、复苏、过热、滞涨四个阶段，然后计算每个阶段下各个资产的风险收益指标以及资产间的相关性，结合宏观研究得到未来每个阶段出现的概率，最后对各个指标按照各阶段概率加权平均作为预期指标值。\n",
    "\n",
    "美林时钟在历史数据年限不足的情况下同样无能为力，但由于其对历史时间序列做了精细化的处理，并结合了对未来经济状态的预测，美林时钟不再依赖于均值回归的假设，同时对于预测的未来时间长度也没有限制。\n",
    "\n",
    "![美林时钟分析框架](.\\images\\美林时钟分析框架.jpg)\n",
    "\n",
    "经济增长可以用 GDP 的产出缺口代表，通胀可用 CPI 代表。"
=======
    "## 资本市场假设\n"
>>>>>>> origin/master
   ]
  },
  {
   "cell_type": "markdown",
   "metadata": {},
   "source": [
<<<<<<< HEAD
    "### 状态切换分析框架\n",
    "\n",
    "状态切换（Regime-Switch）分析框架是对美林时钟分析框架的扩展，通过将过去的历史时期划分为不同的状态，计算每个状态下各个资产的风险收益指标以及资产间的相关性，同时预测未来每个状态出现的概率，以此为权重计算指标的加权平均作为指标的预期值。\n",
    "\n",
    "状态划分需要满足的两个条件：\n",
    "* 每个状态都有比较明确清晰的经济学含义；\n",
    "* 每个状态下，各个大类资产都各自有相对稳定的风险收益特征。\n",
    "\n"
=======
    "## 资产配置模型"
>>>>>>> origin/master
   ]
  },
  {
   "cell_type": "markdown",
   "metadata": {},
   "source": [
<<<<<<< HEAD
    "## 资产配置模型\n",
    "\n",
    "## 再平衡策略"
=======
    "## 投资组合投建"
>>>>>>> origin/master
   ]
  },
  {
   "cell_type": "markdown",
   "metadata": {},
   "source": [
<<<<<<< HEAD
    "# 参考文献\n",
    "\n",
    "[<a id=\"cit-Qutke:2018\" href=\"#call-Qutke:2018\">况客研究:2018</a>] 况客研究, FOF投资的量化分析, 中国金融出版社, 2018.\n",
    "\n",
    "[<a id=\"cit-Lustig:2016\" href=\"#call-Lustig:2016\">Lustig:2016</a>] Yoram Lustig 著, 孙静, 郑志勇, 李韵 译, 资产配置投资实践, 电子工业出版社, 2016."
=======
    "## 再平衡"
>>>>>>> origin/master
   ]
  },
  {
   "cell_type": "markdown",
   "metadata": {},
   "source": [
<<<<<<< HEAD
    "# References\n",
    "\n",
    "<mark> <b>The bib file biblio.bib was not found\n",
    "\n",
    "</b> </mark>[<a id=\"cit-Qutke:2018\" href=\"#call-Qutke:2018\">Qutke:2018</a>] !! _This reference was not found in biblio.bib _ !!\n",
    "\n"
=======
    "# 参考文献\n",
    "\n",
    "[<a id=\"cit-Qutke:2018\" href=\"#call-Qutke:2018\">况客研究:2018</a>] 况客研究, FOF投资的量化分析, 中国金融出版社, 2018."
>>>>>>> origin/master
   ]
  }
 ],
 "metadata": {
  "hide_input": false,
  "kernelspec": {
   "display_name": "Python 3",
   "language": "python",
   "name": "python3"
  },
  "language_info": {
   "codemirror_mode": {
    "name": "ipython",
    "version": 3
   },
   "file_extension": ".py",
   "mimetype": "text/x-python",
   "name": "python",
   "nbconvert_exporter": "python",
   "pygments_lexer": "ipython3",
<<<<<<< HEAD
   "version": "3.7.0"
=======
   "version": "3.7.4"
>>>>>>> origin/master
  },
  "latex_envs": {
   "LaTeX_envs_menu_present": true,
   "autoclose": false,
   "autocomplete": true,
   "bibliofile": "biblio.bib",
   "cite_by": "key",
   "current_citInitial": 1,
   "eqLabelWithNumbers": true,
   "eqNumInitial": 1,
   "hotkeys": {
    "equation": "Ctrl-E",
    "itemize": "Ctrl-I"
   },
   "labels_anchors": true,
   "latex_user_defs": false,
   "report_style_numbering": false,
   "user_envs_cfg": false
  },
  "toc": {
   "base_numbering": 1,
   "nav_menu": {},
   "number_sections": true,
   "sideBar": true,
   "skip_h1_title": false,
   "title_cell": "Table of Contents",
   "title_sidebar": "Contents",
   "toc_cell": false,
   "toc_position": {
    "height": "calc(100% - 180px)",
    "left": "10px",
    "top": "150px",
<<<<<<< HEAD
    "width": "247px"
=======
    "width": "178.594px"
>>>>>>> origin/master
   },
   "toc_section_display": true,
   "toc_window_display": true
  },
  "varInspector": {
   "cols": {
    "lenName": 16,
    "lenType": 16,
    "lenVar": 40
   },
   "kernels_config": {
    "python": {
     "delete_cmd_postfix": "",
     "delete_cmd_prefix": "del ",
     "library": "var_list.py",
     "varRefreshCmd": "print(var_dic_list())"
    },
    "r": {
     "delete_cmd_postfix": ") ",
     "delete_cmd_prefix": "rm(",
     "library": "var_list.r",
     "varRefreshCmd": "cat(var_dic_list()) "
    }
   },
<<<<<<< HEAD
   "position": {
    "height": "113px",
    "left": "1418px",
    "right": "20px",
    "top": "120px",
    "width": "242px"
=======
   "oldHeight": 122.5,
   "position": {
    "height": "40px",
    "left": "1098px",
    "right": "20px",
    "top": "120px",
    "width": "250px"
>>>>>>> origin/master
   },
   "types_to_exclude": [
    "module",
    "function",
    "builtin_function_or_method",
    "instance",
    "_Feature"
   ],
<<<<<<< HEAD
=======
   "varInspector_section_display": "none",
>>>>>>> origin/master
   "window_display": true
  }
 },
 "nbformat": 4,
 "nbformat_minor": 2
}
