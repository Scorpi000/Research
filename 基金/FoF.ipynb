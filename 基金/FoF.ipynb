{
 "cells": [
  {
   "cell_type": "markdown",
   "metadata": {},
   "source": [
    "FoF 投资应遵循“自上而下”的投资逻辑，在资产配置层面，以战略资产配置为主，战术资产配置为辅，并严格地执行再平衡策略，控制组合的整体风险。科学合理的资产配置是投资组合充分分散化并实现稳健收益的关键。在资产配置的基础上执行基金筛选，以定量和定性分析相结合的方式，寻找最能够体现细分资产风险收益特征的优秀管理人。投资收益的来源可以分解为两部分：基准收益 $\\beta$ 和超额收益 $\\alpha$，保证 $\\beta$ 收益是首要目标，$\\alpha$ 收益只是锦上添花。战略资产配置由资金性质、投资范围、比例限制以及资产未来风险收益特征等因素决定，并可由资产配置模型生成战略资产配置方案，投资者可以定期对战略资产配置方案重新审视和再平衡。战术资产配置由中短期研究、特别投资机会以及主题投资等因素决定。战略资产配置和战术资产配置共同决定了 $\\beta$ 的配置，战术资产配置会涉及到基金筛选和调整的 $\\alpha$ 配置，而战略资产配置对于 $\\beta$ 的配置决定作用解释了资金长期回报的主要部分。\\cite{Qutke:2018}\n",
    "\n",
    "![资产配置逻辑架构](.\\images\\资产配置逻辑架构.PNG)"
   ]
  },
  {
   "cell_type": "markdown",
   "metadata": {},
   "source": [
    "# 战略资产配置\n",
    "\n",
    "战略资产配置(Strategic Asset Allocation, SAA), 也称为政策资产配置(Policy Asset Allocation)，战略资产配置的结果通常是一系列大类资产的目标配置比例以及各配置比例的浮动区间。战略资产配置是在一个较长时期内以追求长期回报为目标的资产配置，时间跨度一般是三到五年，甚至更长。基础假设是各大类资产的风险和收益长期内收敛到其均值水平，因而只需关注资产的长期平均收益和风险，据此确定配置比例，无须根据市场的短期波动做出调整。\n",
    "\n",
    "战略资产配置的一般流程：\n",
    "* 确定投资目标（预期收益）、风险容忍度以及投资期限；\n",
    "* 明确投资范围，确定可投资的大类资产类别\n",
    "* 分析并预测各大类资产在投资期限内的收益、风险和相关性\n",
    "* 选择并运用资产配置量化模型，确定大类资产配置比例\n",
    "* 选择是否进行再平衡\n"
   ]
  },
  {
   "cell_type": "markdown",
   "metadata": {},
   "source": [
    "## 资金性质\n",
    "\n",
    "投资目标、风险容忍度和投资期限由资金本身的性质决定。\n",
    "\n"
   ]
  },
  {
   "cell_type": "markdown",
   "metadata": {},
   "source": [
    "## 投资范围\n",
    "\n",
    "理论上，可投资的大类资产类别越多越好，多样化可以分散风险。实际上，资产类别不宜过多（一般为 5-10 种），并且应该尽量选择风险收益特征差异大、相关性低的资产。"
   ]
  },
  {
   "cell_type": "markdown",
   "metadata": {},
   "source": [
    "## 资本市场假设\n"
   ]
  },
  {
   "cell_type": "markdown",
   "metadata": {},
   "source": [
    "## 资产配置模型"
   ]
  },
  {
   "cell_type": "markdown",
   "metadata": {},
   "source": [
    "## 投资组合投建"
   ]
  },
  {
   "cell_type": "markdown",
   "metadata": {},
   "source": [
    "## 再平衡"
   ]
  },
  {
   "cell_type": "markdown",
   "metadata": {},
   "source": [
    "# 参考文献\n",
    "\n",
    "[<a id=\"cit-Qutke:2018\" href=\"#call-Qutke:2018\">况客研究:2018</a>] 况客研究, FOF投资的量化分析, 中国金融出版社, 2018."
   ]
  }
 ],
 "metadata": {
  "hide_input": false,
  "kernelspec": {
   "display_name": "Python 3",
   "language": "python",
   "name": "python3"
  },
  "language_info": {
   "codemirror_mode": {
    "name": "ipython",
    "version": 3
   },
   "file_extension": ".py",
   "mimetype": "text/x-python",
   "name": "python",
   "nbconvert_exporter": "python",
   "pygments_lexer": "ipython3",
   "version": "3.7.4"
  },
  "latex_envs": {
   "LaTeX_envs_menu_present": true,
   "autoclose": false,
   "autocomplete": true,
   "bibliofile": "biblio.bib",
   "cite_by": "key",
   "current_citInitial": 1,
   "eqLabelWithNumbers": true,
   "eqNumInitial": 1,
   "hotkeys": {
    "equation": "Ctrl-E",
    "itemize": "Ctrl-I"
   },
   "labels_anchors": true,
   "latex_user_defs": false,
   "report_style_numbering": false,
   "user_envs_cfg": false
  },
  "toc": {
   "base_numbering": 1,
   "nav_menu": {},
   "number_sections": true,
   "sideBar": true,
   "skip_h1_title": false,
   "title_cell": "Table of Contents",
   "title_sidebar": "Contents",
   "toc_cell": false,
   "toc_position": {
    "height": "calc(100% - 180px)",
    "left": "10px",
    "top": "150px",
    "width": "178.594px"
   },
   "toc_section_display": true,
   "toc_window_display": true
  },
  "varInspector": {
   "cols": {
    "lenName": 16,
    "lenType": 16,
    "lenVar": 40
   },
   "kernels_config": {
    "python": {
     "delete_cmd_postfix": "",
     "delete_cmd_prefix": "del ",
     "library": "var_list.py",
     "varRefreshCmd": "print(var_dic_list())"
    },
    "r": {
     "delete_cmd_postfix": ") ",
     "delete_cmd_prefix": "rm(",
     "library": "var_list.r",
     "varRefreshCmd": "cat(var_dic_list()) "
    }
   },
   "oldHeight": 122.5,
   "position": {
    "height": "40px",
    "left": "1098px",
    "right": "20px",
    "top": "120px",
    "width": "250px"
   },
   "types_to_exclude": [
    "module",
    "function",
    "builtin_function_or_method",
    "instance",
    "_Feature"
   ],
   "varInspector_section_display": "none",
   "window_display": true
  }
 },
 "nbformat": 4,
 "nbformat_minor": 2
}
