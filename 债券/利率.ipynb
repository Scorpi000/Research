{
 "cells": [
  {
   "cell_type": "markdown",
   "metadata": {},
   "source": [
    "# 同业拆借利率\n",
    "\n",
    "同业拆借利率指金融机构同业之间的短期资金借贷利率。它有两个利率，拆进利率表示金融机构愿意借款的利率；拆出利率表示愿意贷款的利率。\n",
    "\n",
    "同业拆借利率是拆借市场的资金价格，是货币市场的核心利率，也是整个金融市场上具有代表性的利率，它能够及时、灵敏、准确地反映货币市场乃至整个金融市场短期资金供求关系。当同业拆借利率持续上升时，反映资金需求大于供给，预示市场流动性可能下降，当同业拆借利率下降时，情况相反。\n",
    "\n",
    "同业拆借市场按有无中介机构参与可分为两种情况，即直接交易和间接交易，并由此导致不同的拆借利率的形成方式。在直接交易情况下，拆借利率由交易双方通过直接协商确定；在间接交易情况下，拆借利率根据借贷资金的供求关系通过中介机构公开竞价或从中撮合而确定，当拆借利率确定后，拆借交易双方就只能是这一既定利率水平的接受者。\n",
    "\n",
    "## CHIBOR\n",
    "\n",
    "中国银行间同业拆放利率（China Interbank Offered Rate, CHIBOR），1996 年中央银行推出，以各银行同业拆借实际交易利率的加权平均值来确定。\n",
    "\n",
    "## SHIBOR"
   ]
  },
  {
   "cell_type": "code",
   "execution_count": null,
   "metadata": {},
   "outputs": [],
   "source": []
  }
 ],
 "metadata": {
  "kernelspec": {
   "display_name": "Python 3",
   "language": "python",
   "name": "python3"
  },
  "language_info": {
   "codemirror_mode": {
    "name": "ipython",
    "version": 3
   },
   "file_extension": ".py",
   "mimetype": "text/x-python",
   "name": "python",
   "nbconvert_exporter": "python",
   "pygments_lexer": "ipython3",
   "version": "3.5.4"
  },
  "latex_envs": {
   "LaTeX_envs_menu_present": true,
   "autoclose": true,
   "autocomplete": true,
   "bibliofile": "biblio.bib",
   "cite_by": "apalike",
   "current_citInitial": 1,
   "eqLabelWithNumbers": true,
   "eqNumInitial": 1,
   "hotkeys": {
    "equation": "Ctrl-E",
    "itemize": "Ctrl-I"
   },
   "labels_anchors": false,
   "latex_user_defs": false,
   "report_style_numbering": false,
   "user_envs_cfg": false
  },
  "toc": {
   "base_numbering": 1,
   "nav_menu": {},
   "number_sections": true,
   "sideBar": true,
   "skip_h1_title": false,
   "title_cell": "Table of Contents",
   "title_sidebar": "Contents",
   "toc_cell": false,
   "toc_position": {},
   "toc_section_display": true,
   "toc_window_display": false
  },
  "varInspector": {
   "cols": {
    "lenName": 16,
    "lenType": 16,
    "lenVar": 40
   },
   "kernels_config": {
    "python": {
     "delete_cmd_postfix": "",
     "delete_cmd_prefix": "del ",
     "library": "var_list.py",
     "varRefreshCmd": "print(var_dic_list())"
    },
    "r": {
     "delete_cmd_postfix": ") ",
     "delete_cmd_prefix": "rm(",
     "library": "var_list.r",
     "varRefreshCmd": "cat(var_dic_list()) "
    }
   },
   "types_to_exclude": [
    "module",
    "function",
    "builtin_function_or_method",
    "instance",
    "_Feature"
   ],
   "window_display": false
  }
 },
 "nbformat": 4,
 "nbformat_minor": 2
}
