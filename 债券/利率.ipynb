{
 "cells": [
  {
   "cell_type": "markdown",
   "metadata": {},
   "source": [
    "# 同业拆借利率\n",
    "\n",
    "同业拆借利率指金融机构同业之间的短期资金借贷利率。它有两个利率，拆进利率表示金融机构愿意借款的利率；拆出利率表示愿意贷款的利率。\n",
    "\n",
    "同业拆借利率是拆借市场的资金价格，是货币市场的核心利率，也是整个金融市场上具有代表性的利率，它能够及时、灵敏、准确地反映货币市场乃至整个金融市场短期资金供求关系。当同业拆借利率持续上升时，反映资金需求大于供给，预示市场流动性可能下降，当同业拆借利率下降时，情况相反。\n",
    "\n",
    "同业拆借市场按有无中介机构参与可分为两种情况，即直接交易和间接交易，并由此导致不同的拆借利率的形成方式。在直接交易情况下，拆借利率由交易双方通过直接协商确定；在间接交易情况下，拆借利率根据借贷资金的供求关系通过中介机构公开竞价或从中撮合而确定，当拆借利率确定后，拆借交易双方就只能是这一既定利率水平的接受者。\n",
    "\n",
    "## CHIBOR\n",
    "\n",
    "中国银行间同业拆放利率（China Interbank Offered Rate, CHIBOR），1996 年中央银行推出，以各银行同业拆借实际交易利率的加权平均值来确定。\n",
    "\n",
    "## SHIBOR"
   ]
  },
  {
   "cell_type": "markdown",
   "metadata": {},
   "source": [
    "# 利率模型\n",
    "\n",
    "令 $r_t$ 为**瞬时利率**，则零息票债券的价格为：\n",
    "$$\n",
    "B_t(T) = \\mathbb{E}\\left[e^{-\\int_{t}^Tr_s \\mathrm{d}s}\\Big|\\mathcal{F}_t\\right]\n",
    "$$\n",
    "其中，$T$ 是债券的到期期限，$\\mathcal{F}_t$ 是随机过程 $r_t$ 的适当滤波。\n",
    "\n",
    "定义**即期利率**或者**零息票利率**为：\n",
    "$$\n",
    "R_t(T) = -\\frac{1}{T-t}\\operatorname{ln}B_t(T)\n",
    "$$\n",
    "关于到期期限 $T\\geq t$ 的这组零息票利率 $R_t(T)$ 称为**利率的期限结构**或者**收益率曲线**，其有三种类型：\n",
    "* 长期利率等于短期利率时，为平坦的收益率曲线\n",
    "* 长期利率大于短期利率时，为正常的收益率曲线\n",
    "* 长期利率小于短期利率时，为反转的收益率曲线\n",
    "\n",
    "定义 $[T, T+m]$ 期间 t 时点的**远期利率** $F_t(T, m)$，其满足：\n",
    "$$\n",
    "B_t(T+m) = e^{-mF_t(T,m)}B_t(T)\n",
    "$$\n",
    "即\n",
    "$$\n",
    "F_t(T, m) = -\\frac{1}{m}\\left(\\operatorname{ln}B_t(T+m) - \\operatorname{ln}B_t(T)\\right)\n",
    "$$\n",
    "**瞬时远期利率**为：\n",
    "$$\n",
    "F_t(T) = F_t(T, 0) = -\\frac{\\partial \\operatorname{ln}B_t(T)}{\\partial T}\n",
    "$$\n",
    "\n",
    "对收益率曲线建模包括：定义利率 $r_t$ 随机过程的模型和刻画零息票利率 $R_t(T)$。\n",
    "\n",
    "常利率模型即 $r_t\\equiv r$，此时有 $B_t(T)=e^{-r(T-t)},\\ R_t(T) = r$，此时收益率曲线是平坦的。"
   ]
  },
  {
   "cell_type": "markdown",
   "metadata": {},
   "source": [
    "## Vasicek 模型\n",
    "\n",
    "假设利率遵循 Ornstein-Uhlenbeck 过程：\n",
    "$$\n",
    "\\mathrm{d}r_t = a(b-r_t)\\mathrm{d}t + \\sigma\\mathrm{d}W_t\n",
    "$$\n",
    "其中，$W_t$ 是标准布朗运动，$a>0$ 模型是一个均值回复过程，$b$ 为均衡点。"
   ]
  },
  {
   "cell_type": "markdown",
   "metadata": {},
   "source": [
    "## 收益率曲线校准\n",
    "\n",
    "校准收益率曲线的方法就是用零息票债券的市场价格为即期利率 $R_t(T)$ 估计参数模型或者非参数模型。\n",
    "\n",
    "Nelson 和 Siegel 的约化函数形式：\n",
    "$$\n",
    "R_t(T) = \\theta_1 + \\theta_2\\frac{1-e^{-\\frac{T-t}{\\theta_4}}}{(T-t)/\\theta_4} + \\theta_3\\left(\\frac{1-e^{-\\frac{T-t}{\\theta_4}}}{(T-t)/\\theta_4} - e^{-\\frac{T-t}{\\theta_4}}\\right)\n",
    "$$\n",
    "这个模型有四个参数：\n",
    "* $\\theta_1$：水平参数；\n",
    "* $\\theta_2$：转动参数；\n",
    "* $\\theta_3$：曲线形状参数；\n",
    "* $\\theta_4$：对曲线的断点定位\n",
    "另外，$R_t(t) = \\theta_1 + \\theta_2,\\ R_t(\\infty) = \\theta_1$。\n",
    "\n",
    "Litterman 和 Scheinkman 建议用主成份方法来刻画收益率曲线的因子，Litterman-Scheinkman 模型有三个因子：普通水平因子、斜率因子和凸度因子。"
   ]
  },
  {
   "cell_type": "code",
   "execution_count": null,
   "metadata": {},
   "outputs": [],
   "source": []
  }
 ],
 "metadata": {
  "kernelspec": {
   "display_name": "Python 3",
   "language": "python",
   "name": "python3"
  },
  "language_info": {
   "codemirror_mode": {
    "name": "ipython",
    "version": 3
   },
   "file_extension": ".py",
   "mimetype": "text/x-python",
   "name": "python",
   "nbconvert_exporter": "python",
   "pygments_lexer": "ipython3",
   "version": "3.6.9"
  },
  "latex_envs": {
   "LaTeX_envs_menu_present": true,
   "autoclose": true,
   "autocomplete": true,
   "bibliofile": "biblio.bib",
   "cite_by": "apalike",
   "current_citInitial": 1,
   "eqLabelWithNumbers": true,
   "eqNumInitial": 1,
   "hotkeys": {
    "equation": "Ctrl-E",
    "itemize": "Ctrl-I"
   },
   "labels_anchors": false,
   "latex_user_defs": false,
   "report_style_numbering": false,
   "user_envs_cfg": false
  },
  "toc": {
   "base_numbering": 1,
   "nav_menu": {},
   "number_sections": true,
   "sideBar": true,
   "skip_h1_title": false,
   "title_cell": "Table of Contents",
   "title_sidebar": "Contents",
   "toc_cell": false,
   "toc_position": {},
   "toc_section_display": true,
   "toc_window_display": false
  },
  "varInspector": {
   "cols": {
    "lenName": 16,
    "lenType": 16,
    "lenVar": 40
   },
   "kernels_config": {
    "python": {
     "delete_cmd_postfix": "",
     "delete_cmd_prefix": "del ",
     "library": "var_list.py",
     "varRefreshCmd": "print(var_dic_list())"
    },
    "r": {
     "delete_cmd_postfix": ") ",
     "delete_cmd_prefix": "rm(",
     "library": "var_list.r",
     "varRefreshCmd": "cat(var_dic_list()) "
    }
   },
   "types_to_exclude": [
    "module",
    "function",
    "builtin_function_or_method",
    "instance",
    "_Feature"
   ],
   "window_display": false
  }
 },
 "nbformat": 4,
 "nbformat_minor": 2
}
