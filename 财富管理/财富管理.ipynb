{
 "cells": [
  {
   "cell_type": "markdown",
   "metadata": {},
   "source": [
    "# 理财业务与市场\n",
    "\n",
    "![理财市场](.\\images\\理财市场.png)\n",
    "\n",
    "## 银行理财业务\n",
    "\n",
    "![银行理财业务分类](.\\images\\银行理财业务分类.png)"
   ]
  },
  {
   "cell_type": "markdown",
   "metadata": {},
   "source": [
    "理财师的工作目标和重心：帮助客户解决问题，实现其理财目标\n",
    "\n",
    "工作流程：\n",
    "1. 接触客户，建立信任关系；\n",
    "2. 收集、整理和分析客户的家庭财务状况；\n",
    "3. 明确客户的理财目标；\n",
    "4. 制订理财规划方案；\n",
    "5. 执行理财规划方案；\n",
    "6. 后续跟踪服务\n"
   ]
  },
  {
   "cell_type": "markdown",
   "metadata": {},
   "source": [
    "# 获客\n",
    "\n",
    "问题：\n",
    "1. 客户从哪里来？\n",
    "2. 客户的需求是什么？\n",
    "\n",
    "\n",
    "理财师首先应该是一名合格的销售人员\n",
    "\n"
   ]
  },
  {
   "cell_type": "markdown",
   "metadata": {},
   "source": [
    "# 客户分类和需求分析\n",
    "\n",
    "**了解客户(KYC, Know Your Customer)**\n",
    "\n",
    "客户信息：\n",
    "* 基本信息\n",
    "* 财务信息\n",
    "* 个人兴趣及人生规划和目标\n",
    "\n",
    "## 客户分类\n",
    "\n",
    "按照财富观分类：\n",
    "* 储藏者\n",
    "* 积累者\n",
    "* 修道士\n",
    "* 挥霍者\n",
    "* 逃避者\n",
    "\n",
    "按照风险态度分类：\n",
    "* 风险厌恶型\n",
    "* 风险偏好型\n",
    "* 风险中立型\n",
    "\n",
    "\n",
    "按照管理资产(AUM, Asset Under Management)分类：\n",
    "* 大众客户\n",
    "* 贵宾客户\n",
    "\n",
    "按照客户利润贡献度(CPA, Customer Profitability Analysis)分类：\n",
    "* 富裕客户\n",
    "* 大众富裕客户\n",
    "* 大众客户"
   ]
  },
  {
   "cell_type": "markdown",
   "metadata": {},
   "source": [
    "## 客户需求分析\n",
    "\n",
    "马斯洛需求层次：\n",
    "1. 生理需求\n",
    "2. 安全需求\n",
    "3. 爱和归属感的需求\n",
    "4. 被尊重的需求\n",
    "5. 自我实现的需求\n",
    "\n",
    "客户的理财目标又分为：\n",
    "* 经济目标：买房、买车、教育、养老等具体理财目标\n",
    "* 人生价值目标：精神追求\n",
    "\n",
    "按照客户金融理财需求的层次，客户需求分为：\n",
    "* 生活需求\n",
    "* 投资需求\n",
    "\n"
   ]
  },
  {
   "cell_type": "markdown",
   "metadata": {},
   "source": [
    "# 理财目标\n",
    "\n",
    "客户的理财目标一般包括：\n",
    "* 家庭收支和债务管理；\n",
    "* 家庭财富保障\n",
    "* 投资规划\n",
    "* 教育投资规划\n",
    "* 退休养老规划\n",
    "* 税务规划\n",
    "* 遗嘱、遗产分配\n",
    "\n",
    "也可以概括为四个方面：\n",
    "* 财富积累：主要包含家庭收支与债务管理；\n",
    "* 财富保障：主要针对人身、财产保障等的保险计划；\n",
    "* 财富增值：主要解决的财务问题是教育和养老的资金需求和投资规划；\n",
    "* 财富分配：包含税务安排和遗产分配\n",
    "\n",
    "从一般角度，理财目标可归结为两个层次：\n",
    "* 财务安全：个人或者家庭对财务现状充满信心，认为现有的财富足以应对未来的财务支出和其他生活目标的实现，不会出现大的财务危机。衡量内容：\n",
    "    - 是否有稳定、充足的收入；\n",
    "    - 个人事业是否有发展的潜力；\n",
    "    - 是否有充足的现金准备；\n",
    "    - 是否有舒适的住房；\n",
    "    - 是否购买了适当的财产和人身保险；\n",
    "    - 是否有适当、收益稳定投资；\n",
    "    - 是否享受社会保障；\n",
    "    - 是否有额外的养老保障计划\n",
    "* 财务自由：个人和家庭的收入主要来源于主动投资而不是被动工作，即当投资的固定收益可以完全覆盖个人或家庭发生的各项支出时，可认为达到了财务自由。\n",
    "\n",
    "理财目标确定的 **SMART 原则**：\n",
    "* Specific：具体明确；\n",
    "* Measurable：可以量化和检验；\n",
    "* Attainable：合理性和可行性；\n",
    "* Realistic：实事求是；\n",
    "* Time-binding：有时限和先后顺序"
   ]
  },
  {
   "cell_type": "markdown",
   "metadata": {},
   "source": [
    "# 理财规划方案\n",
    "\n"
   ]
  },
  {
   "cell_type": "markdown",
   "metadata": {},
   "source": [
    "# 理财规划方案的执行\n",
    "\n",
    "执行原则：\n",
    "* 了解原则\n",
    "* 诚信原则\n",
    "* 连续性原则\n",
    "\n",
    "## 客户档案管理\n",
    "\n"
   ]
  },
  {
   "cell_type": "markdown",
   "metadata": {},
   "source": [
    "# 后续跟踪服务"
   ]
  }
 ],
 "metadata": {
  "hide_input": false,
  "kernelspec": {
   "display_name": "Python 3",
   "language": "python",
   "name": "python3"
  },
  "language_info": {
   "codemirror_mode": {
    "name": "ipython",
    "version": 3
   },
   "file_extension": ".py",
   "mimetype": "text/x-python",
   "name": "python",
   "nbconvert_exporter": "python",
   "pygments_lexer": "ipython3",
   "version": "3.7.0"
  },
  "latex_envs": {
   "LaTeX_envs_menu_present": true,
   "autoclose": false,
   "autocomplete": true,
   "bibliofile": "biblio.bib",
   "cite_by": "apalike",
   "current_citInitial": 1,
   "eqLabelWithNumbers": true,
   "eqNumInitial": 1,
   "hotkeys": {
    "equation": "Ctrl-E",
    "itemize": "Ctrl-I"
   },
   "labels_anchors": false,
   "latex_user_defs": false,
   "report_style_numbering": false,
   "user_envs_cfg": false
  },
  "toc": {
   "base_numbering": 1,
   "nav_menu": {},
   "number_sections": true,
   "sideBar": true,
   "skip_h1_title": false,
   "title_cell": "Table of Contents",
   "title_sidebar": "Contents",
   "toc_cell": false,
   "toc_position": {},
   "toc_section_display": true,
   "toc_window_display": false
  },
  "varInspector": {
   "cols": {
    "lenName": 16,
    "lenType": 16,
    "lenVar": 40
   },
   "kernels_config": {
    "python": {
     "delete_cmd_postfix": "",
     "delete_cmd_prefix": "del ",
     "library": "var_list.py",
     "varRefreshCmd": "print(var_dic_list())"
    },
    "r": {
     "delete_cmd_postfix": ") ",
     "delete_cmd_prefix": "rm(",
     "library": "var_list.r",
     "varRefreshCmd": "cat(var_dic_list()) "
    }
   },
   "types_to_exclude": [
    "module",
    "function",
    "builtin_function_or_method",
    "instance",
    "_Feature"
   ],
   "window_display": false
  }
 },
 "nbformat": 4,
 "nbformat_minor": 2
}
