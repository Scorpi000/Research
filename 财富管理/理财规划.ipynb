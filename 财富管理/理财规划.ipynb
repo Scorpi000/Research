{
 "cells": [
  {
   "cell_type": "markdown",
   "metadata": {},
   "source": [
    "# 理财规划\n",
    "\n",
    "\n",
    "![理财规划](.\\images\\理财规划.png)"
   ]
  },
  {
   "cell_type": "markdown",
   "metadata": {},
   "source": [
    "# 理财规划方法"
   ]
  },
  {
   "cell_type": "markdown",
   "metadata": {},
   "source": [
    "## 货币的时间价值\n",
    "\n",
    "货币的时间价值是理财的“第一原则”。时间价值既是资源稀缺性的体现也是人类心理认知的反应，表现在信用货币体制下，现在的货币在价值上总是高于未来等额的货币。\n",
    "\n",
    "货币之所以具有时间价值，是因为：\n",
    "* 货币可以满足当前消费或用于投资而产生回报，货币占用具有机会成本；\n",
    "* 通货膨胀会致使货币贬值；\n",
    "* 投资有风险，需要提供风险补偿。\n",
    "\n",
    "货币时间价值的影响因素：\n",
    "* 时间：时间的长短是影响货币时间价值的首要因素，时间越长，货币时间价值越明显。\n",
    "* 收益率或通货膨胀率：收益率是决定货币在未来增值程度的关键因素，而通货膨胀率则是使货币购买力缩水的反向因素。\n",
    "* 计息方式：单利始终以最初的本金为基数计算收益，而复利则以本金和利息为基数计息，从而产生利上加利、息上添息的收益倍增效应。\n",
    "\n",
    "基本参数：\n",
    "* 现值：货币现在的价值，即资金在期初的价值，通常用 PV(Present Value) 表示。\n",
    "* 终值：货币在未来某个时间点上的价值，即资金在期末的价值，通常用 FV(Future Value) 表示。\n",
    "    - 单利终值：一定金额的本金按照单利计算若干期后的本利和；\n",
    "    - 复利终值：一定金额的本金按照复利计算若干期后的本利和；\n",
    "* 时间：货币价值的参照系，即资金经过的时间，通常用 t(time) 表示。\n",
    "* 利率（或通货膨胀率）：影响货币时间价值程度的波动要素，通常用 r(rate) 表示，通常表示为年利率。\n",
    "\n",
    "基本公式：\n",
    "$$\n",
    "FV = PV \\times \\left(1 + r\\right)^t\n",
    "$$\n",
    "连续复利下为：\n",
    "$$\n",
    "FV = PV \\times e^{rt}\n",
    "$$\n",
    "\n",
    "**72法则**\n",
    "\n",
    "用于估计一定投资额倍增或减半所需要的时间的方法：用 72 除以收益率或者通胀率的数值就可以得到固定一笔投资翻番或者减半所需要的时间，此法则只适用于利率或通胀率在一个合适的区间内的情况。\n",
    "\n",
    "**复利期间**：计算复利的周期，比如月、季度等。\n",
    "\n",
    "**复利期间数量**：一年内计算复利的次数，比如以月为复利期间，则复利期间数量为 12。\n",
    "\n",
    "**有效年利率(EAR)**: 按照复利期间投资的年化收益率，名义年利率与有效年利率的换算：\n",
    "$$\n",
    "EAR = \\left(1 + \\frac{r}{m}\\right)^m - 1\n",
    "$$\n",
    "其中，$m$ 为复利期间数量。"
   ]
  },
  {
   "cell_type": "markdown",
   "metadata": {},
   "source": [
    "## 规则现金流的计算\n",
    "\n",
    "### 普通年金\n",
    "\n",
    "在一定期限内，时间间隔相同、不间断、金额相等、方向相同的一系列现金流，通常用 PMT(payment) 或者 C 表示。年金的利息也具有时间价值，因此，年金终值和现值的计算通常采用复利的形式。根据等值现金流发生的时间点的不同，年金可以分为期初年金和期末年金，一般假定年金为期末年金。\n",
    "\n",
    "期末年金的现值：\n",
    "$$\n",
    "PV = \\sum\\limits_{t=1}^T \\frac{C}{(1+r)^t} = \\frac{C}{r}\\left[1 - \\frac{1}{(1+r)^T}\\right]\n",
    "$$\n",
    "期末年金的终值：\n",
    "$$\n",
    "FV = \\sum\\limits_{t=1}^T C(1+r)^{t-1} = \\frac{C\\left[(1+r)^T - 1\\right]}{r}\n",
    "$$\n",
    "\n",
    "期初年金的现值：\n",
    "$$\n",
    "PV = \\sum\\limits_{t=1}^T \\frac{C}{(1+r)^{t-1}} = \\frac{C}{r}\\left[1 - \\frac{1}{(1+r)^T}\\right](1+r)\n",
    "$$\n",
    "期初年金的终值：\n",
    "$$\n",
    "FV = \\sum\\limits_{t=1}^T C(1+r)^{\\tau} = \\frac{C}{r}\\left[(1+r)^T - 1\\right](1+r)\n",
    "$$"
   ]
  },
  {
   "cell_type": "code",
   "execution_count": null,
   "metadata": {
    "code_folding": [
     0
    ]
   },
   "outputs": [],
   "source": [
    "# 计算现值 pv\n",
    "import numpy as np\n",
    "\n",
    "Rate = 0.05# 贴现率\n",
    "Nper = 5# 期数\n",
    "Pmt = 8# 每期现金流\n",
    "FV = 10# 终值\n",
    "When = \"end\"# 现金流发生在期初还是期末\n",
    "print(np.pv(rate=Rate, nper=Nper, pmt=Pmt, fv=FV, when=When))"
   ]
  },
  {
   "cell_type": "code",
   "execution_count": null,
   "metadata": {
    "code_folding": [
     0
    ]
   },
   "outputs": [],
   "source": [
    "# 计算终值 fv\n",
    "import numpy as np\n",
    "\n",
    "Rate = 0.05# 贴现率\n",
    "Nper = 5# 期数\n",
    "Pmt = 8# 每期现金流\n",
    "PV = -50# 现值\n",
    "When = \"end\"# 现金流发生在期初还是期末\n",
    "print(np.fv(rate=Rate, nper=Nper, pmt=Pmt, pv=PV, when=When))"
   ]
  },
  {
   "cell_type": "code",
   "execution_count": null,
   "metadata": {},
   "outputs": [],
   "source": [
    "# 计算现金流\n",
    "import numpy as np\n",
    "\n",
    "Rate = 0.05# 贴现率\n",
    "Nper = 5# 期数\n",
    "PV = -50# 现值\n",
    "FV = 10# 终值\n",
    "When = \"end\"# 现金流发生在期初还是期末\n",
    "print(np.pmt(rate=Rate, nper=Nper, pv=PV, fv=FV, when=When))"
   ]
  },
  {
   "cell_type": "code",
   "execution_count": null,
   "metadata": {},
   "outputs": [],
   "source": [
    "# 计算期数\n",
    "import numpy as np\n",
    "\n",
    "Rate = 0.05# 贴现率\n",
    "Pmt = 8# 现金流\n",
    "PV = -50# 现值\n",
    "FV = 10# 终值\n",
    "When = \"end\"# 现金流发生在期初还是期末\n",
    "print(np.nper(rate=Rate, pmt=Pmt, pv=PV, fv=FV, when=When))"
   ]
  },
  {
   "cell_type": "code",
   "execution_count": null,
   "metadata": {},
   "outputs": [],
   "source": [
    "# 计算贴现率\n",
    "import numpy as np\n",
    "\n",
    "Nper = 8# 期数\n",
    "Pmt = 8# 现金流\n",
    "PV = -50# 现值\n",
    "FV = 10# 终值\n",
    "When = \"end\"# 现金流发生在期初还是期末\n",
    "print(np.rate(nper=Nper, pmt=Pmt, pv=PV, fv=FV, when=When, guess=0.1, tol=1e-6, maxiter=100))"
   ]
  },
  {
   "cell_type": "markdown",
   "metadata": {},
   "source": [
    "### 永续年金\n",
    "\n",
    "在无限期内，时间间隔相同、不间断、金额相等、方向相同的一系列现金流，比如优先股股利等。\n",
    "\n",
    "期末永续年金的现值：\n",
    "$$\n",
    "PV = \\sum\\limits_{t=1}^\\infty \\frac{C}{(1+r)^t} = \\frac{C}{r}\n",
    "$$\n",
    "\n",
    "期初永续年金的现值：\n",
    "$$\n",
    "PV = \\sum\\limits_{t=1}^\\infty \\frac{C}{(1+r)^{t-1}} = C+\\frac{C}{r}\n",
    "$$"
   ]
  },
  {
   "cell_type": "markdown",
   "metadata": {},
   "source": [
    "### 普通增长型年金(等比增长型年金)\n",
    "\n",
    "在一定期限内，时间间隔相同、不间断、金额不相等单每期增长率相等、方向相同的一系列现金流，假设现金流每期固定增长率为 $g$。\n",
    "\n",
    "期末增长型年金的现值：\n",
    "$$\n",
    "PV = \\sum\\limits_{t=1}^T \\frac{C(1+g)^{t-1}}{(1+r)^t} = \\left\\{\\begin{aligned}\n",
    "& \\frac{C}{r-g}\\left[1 - \\left(\\frac{1+g}{1+r}\\right)^T\\right],\\ r\\neq g\\\\\n",
    "& \\frac{TC}{1+r},\\ r=g\n",
    "\\end{aligned}\\right.\n",
    "$$\n",
    "期末增长型年金的终值：\n",
    "$$\n",
    "FV = \\sum\\limits_{t=1}^T C(1+g)^{t-1}(1+r)^{T-t} = \\left\\{\\begin{aligned}\n",
    "& \\frac{C(1+r)^T}{r-g}\\left[1 - \\left(\\frac{1+g}{1+r}\\right)^T\\right],\\ r\\neq g\\\\\n",
    "& TC(1+r)^{t-1},\\ r=g\n",
    "\\end{aligned}\\right.\n",
    "$$"
   ]
  },
  {
   "cell_type": "markdown",
   "metadata": {},
   "source": [
    "### 增长型永续年金\n",
    "\n",
    "在无限期内，时间间隔相同、不间断、金额不相等单每期增长率相等、方向相同的一系列现金流，假设现金流每期固定增长率为 $g$。\n",
    "\n",
    "期末增长型永续年金的现值：\n",
    "$$\n",
    "PV = \\sum\\limits_{t=1}^\\infty \\frac{C(1+g)^{t-1}}{(1+r)^\\tau} = \\frac{C}{r-g},\\ r>g\n",
    "$$"
   ]
  },
  {
   "cell_type": "markdown",
   "metadata": {},
   "source": [
    "## 不规则现金流的计算\n",
    "\n",
    "**净现值(NPV)**\n",
    "\n",
    "所有现金流(包括正现金流和负现金流)的现值之和，净现值为正，说明投资可以获利；净现值为负，说明投资是亏损的。\n",
    "\n",
    "$$\n",
    "NPV = \\sum\\limits_{t=0}^{T} \\frac{C_t}{(1+r)^t}\n",
    "$$\n",
    "\n",
    "**内部回报率(IRR)**\n",
    "\n",
    "也称为内部收益率，指使现金流的净现值之和等于 0 的利率。\n",
    "\n",
    "$$\n",
    "0 = NPV = \\sum\\limits_{t=0}^{T} \\frac{C_t}{(1+IRR)^t}\n",
    "$$"
   ]
  },
  {
   "cell_type": "code",
   "execution_count": null,
   "metadata": {},
   "outputs": [],
   "source": [
    "# 计算内部回报率 IRR\n",
    "import numpy as np\n",
    "\n",
    "Pmt = np.array([-5, 10.5, 1, -8, 1])# 现金流, 正数表示流入（deposits）, 负数表示流出（withdraws）\n",
    "print(np.irr(Pmt))"
   ]
  },
  {
   "cell_type": "code",
   "execution_count": null,
   "metadata": {},
   "outputs": [],
   "source": [
    "# 计算净现值\n",
    "import numpy as np\n",
    "\n",
    "Rate = 0.05# 贴现率\n",
    "Pmt = np.array([-5, 10.5, 1, -8, 1])# 现金流, 正数表示流入（deposits）, 负数表示流出（withdraws）\n",
    "print(np.npv(Rate, Pmt))"
   ]
  },
  {
   "cell_type": "markdown",
   "metadata": {},
   "source": [
    "假设收益率或者贴现率也不固定，一般的：\n",
    "\n",
    "![理财规划](.\\images\\期末现金流.png)\n",
    "\n",
    "对于期末现金流，有：\n",
    "$$\n",
    "NPV = PV + \\sum\\limits_{t=1}^{T}\\frac{C_t}{\\prod\\limits_{\\tau=1}^{t}(1+r_\\tau)}+\\frac{FV}{\\prod\\limits_{\\tau=1}^{T}(1+r_\\tau)}\n",
    "$$\n",
    "\n",
    "让净现值为 0，则 FV,PV,C,r,T 满足方程：\n",
    "$$\n",
    "PV + \\sum\\limits_{t=1}^{T}\\frac{C_t}{\\prod\\limits_{\\tau=1}^{t}(1+r_\\tau)}+\\frac{FV}{\\prod\\limits_{\\tau=1}^{T}(1+r_\\tau)} = 0\n",
    "$$\n",
    "\n",
    "![理财规划](.\\images\\期初现金流.png)\n",
    "\n",
    "对于期初现金流，有：\n",
    "$$\n",
    "NPV = PV + \\sum\\limits_{t=1}^{T}\\frac{C_t}{\\prod\\limits_{\\tau=1}^{t-1}(1+r_\\tau)}+\\frac{FV}{\\prod\\limits_{\\tau=1}^{T}(1+r_\\tau)}\n",
    "$$\n",
    "\n",
    "让净现值为 0，则 FV,PV,C,r,T 满足方程：\n",
    "$$\n",
    "PV + \\sum\\limits_{t=1}^{T}\\frac{C_t}{\\prod\\limits_{\\tau=1}^{t-1}(1+r_\\tau)}+\\frac{FV}{\\prod\\limits_{\\tau=1}^{T}(1+r_\\tau)} = 0\n",
    "$$"
   ]
  },
  {
   "cell_type": "markdown",
   "metadata": {},
   "source": [
    "期末现金流现值为：\n",
    "$$\n",
    "PV = - \\sum\\limits_{t=1}^{T}\\frac{C_t}{\\prod\\limits_{\\tau=1}^{t}(1+r_\\tau)}-\\frac{FV}{\\prod\\limits_{\\tau=1}^{T}(1+r_\\tau)}\n",
    "$$\n",
    "\n",
    "期初现金流现值为：\n",
    "$$\n",
    "PV = - \\sum\\limits_{t=1}^{T}\\frac{C_t}{\\prod\\limits_{\\tau=1}^{t-1}(1+r_\\tau)}-\\frac{FV}{\\prod\\limits_{\\tau=1}^{T}(1+r_\\tau)}\n",
    "$$"
   ]
  },
  {
   "cell_type": "code",
   "execution_count": 1,
   "metadata": {
    "ExecuteTime": {
     "end_time": "2020-02-10T09:47:12.282247Z",
     "start_time": "2020-02-10T09:47:08.649073Z"
    }
   },
   "outputs": [
    {
     "data": {
      "image/png": "[encoded data removed]",
      "text/plain": [
       "<Figure size 432x288 with 1 Axes>"
      ]
     },
     "metadata": {
      "needs_background": "light"
     },
     "output_type": "display_data"
    }
   ],
   "source": [
    "# 计算现值 pv\n",
    "import numpy as np\n",
    "import pandas as pd\n",
    "import matplotlib.pyplot as plt\n",
    "\n",
    "from CashFlowCalculator import pv\n",
    "from RateSimulator import LognormalRateSimulator, ConstantRateSimulator\n",
    "\n",
    "Rate = LognormalRateSimulator(RateMean=0.05, RateSigma=0.03, NPeriod=5, NSample=1000, Seed=0).simulate()\n",
    "# Rate = ConstantRateSimulator(ConstRate=0.05).simulate()\n",
    "Pmt = -8# 每期现金流\n",
    "FV = 100# 终值\n",
    "When = \"end\"# 现金流发生在期初还是期末\n",
    "PV = pv(rate=Rate, pmt=Pmt, fv=FV, when=When, output=\"single\")\n",
    "# print(PV)\n",
    "\n",
    "if np.ndim(PV)<2:\n",
    "    plt.hist(PV, 20, density=True, label=\"PV\", color=\"b\");"
   ]
  },
  {
   "cell_type": "markdown",
   "metadata": {},
   "source": [
    "期末现金流终值为：\n",
    "$$\n",
    "FV = - \\sum\\limits_{t=1}^{T} C_t\\cdot\\prod\\limits_{\\tau=t+1}^{T}(1+r_\\tau) - PV \\cdot \\prod\\limits_{t=1}^{T}(1+r_t)\n",
    "$$\n",
    "\n",
    "期初现金流终值为：\n",
    "$$\n",
    "FV = - \\sum\\limits_{t=1}^{T} C_t\\cdot\\prod\\limits_{\\tau=t+1}^{T}(1+r_\\tau) - PV \\cdot \\prod\\limits_{t=1}^{T}(1+r_t)\n",
    "$$"
   ]
  },
  {
   "cell_type": "code",
   "execution_count": 3,
   "metadata": {
    "ExecuteTime": {
     "end_time": "2020-02-10T09:47:38.032606Z",
     "start_time": "2020-02-10T09:47:37.897605Z"
    }
   },
   "outputs": [
    {
     "data": {
      "image/png": "[encoded data removed]",
      "text/plain": [
       "<Figure size 432x288 with 1 Axes>"
      ]
     },
     "metadata": {
      "needs_background": "light"
     },
     "output_type": "display_data"
    }
   ],
   "source": [
    "# 计算终值 fv\n",
    "import numpy as np\n",
    "import pandas as pd\n",
    "import matplotlib.pyplot as plt\n",
    "\n",
    "from CashFlowCalculator import fv\n",
    "from RateSimulator import LognormalRateSimulator, ConstantRateSimulator\n",
    "\n",
    "Rate = LognormalRateSimulator(RateMean=0.05, RateSigma=0.03, NPeriod=5, NSample=1000, Seed=0).simulate()\n",
    "# Rate = ConstantRateSimulator(ConstRate=0.05).simulate()\n",
    "Pmt = -8# 每期现金流\n",
    "PV = -10# 现值\n",
    "When = \"end\"# 现金流发生在期初还是期末\n",
    "FV = fv(rate=Rate, pmt=Pmt, pv=PV, when=When, output=\"single\")\n",
    "# print(FV)\n",
    "\n",
    "if np.ndim(FV)<2:\n",
    "    plt.hist(FV, 20, density=True, label=\"FV\", color=\"b\");"
   ]
  },
  {
   "cell_type": "markdown",
   "metadata": {},
   "source": [
    "现金流：\n",
    "$$\n",
    "C = - \\frac{PV\\cdot\\prod\\limits_{\\tau=1}^{T}(1+r_\\tau) + FV}{\\sum\\limits_{t=1}^{T}\\cdot\\prod\\limits_{\\tau=t+1}^{T}(1+r_\\tau)}\n",
    "$$"
   ]
  },
  {
   "cell_type": "code",
   "execution_count": 5,
   "metadata": {
    "ExecuteTime": {
     "end_time": "2020-02-10T09:47:55.031743Z",
     "start_time": "2020-02-10T09:47:54.921744Z"
    }
   },
   "outputs": [
    {
     "data": {
      "image/png": "[encoded data removed]",
      "text/plain": [
       "<Figure size 432x288 with 1 Axes>"
      ]
     },
     "metadata": {
      "needs_background": "light"
     },
     "output_type": "display_data"
    }
   ],
   "source": [
    "# 计算现金流\n",
    "import numpy as np\n",
    "import pandas as pd\n",
    "import matplotlib.pyplot as plt\n",
    "\n",
    "from CashFlowCalculator import pmt\n",
    "from RateSimulator import LognormalRateSimulator, ConstantRateSimulator\n",
    "\n",
    "Rate = LognormalRateSimulator(RateMean=0.05, RateSigma=0.03, NPeriod=5, NSample=1000, Seed=0).simulate()\n",
    "# Rate = ConstantRateSimulator(ConstRate=0.05).simulate()\n",
    "PV = -10# 现值\n",
    "FV = 100# 终值\n",
    "When = \"end\"# 现金流发生在期初还是期末\n",
    "Pmt = pmt(rate=Rate, pv=PV, fv=FV, when=When)\n",
    "# print(Pmt)\n",
    "\n",
    "if np.ndim(Pmt)<2:\n",
    "    plt.hist(Pmt, 20, density=True, label=\"Pmt\", color=\"b\");"
   ]
  },
  {
   "cell_type": "code",
   "execution_count": 6,
   "metadata": {
    "ExecuteTime": {
     "end_time": "2020-02-10T09:48:22.965722Z",
     "start_time": "2020-02-10T09:48:22.832696Z"
    }
   },
   "outputs": [
    {
     "data": {
      "image/png": "[encoded data removed]",
      "text/plain": [
       "<Figure size 432x288 with 1 Axes>"
      ]
     },
     "metadata": {
      "needs_background": "light"
     },
     "output_type": "display_data"
    }
   ],
   "source": [
    "# 计算收益率\n",
    "import numpy as np\n",
    "import pandas as pd\n",
    "import matplotlib.pyplot as plt\n",
    "\n",
    "from CashFlowCalculator import rate\n",
    "\n",
    "T = 5\n",
    "Pmt = -8 + np.zeros((T, ))\n",
    "PV = -10# 现值\n",
    "FV = np.array([80,100,120])# 终值\n",
    "When = \"end\"# 现金流发生在期初还是期末\n",
    "Rate = rate(pmt=Pmt, pv=PV, fv=FV, when=When)\n",
    "# print(Rate)\n",
    "\n",
    "plt.hist(Rate, 20, density=True, label=\"Rate\", color=\"b\");"
   ]
  },
  {
   "cell_type": "markdown",
   "metadata": {},
   "source": [
    "# 退休养老规划\n",
    "\n",
    "## 案例 1\n",
    "\n",
    "牛女士今年 50 岁，计划 60 岁退休，目前其年开支额为 10 万元，投资收益率为 6%，假设预期寿命为 80 岁，未来通货膨胀率为 3%，目前所需筹备的养老金为多少？\n",
    "\n",
    "实际收益率 = (1 + 名义收益率) / (1 + 通货膨胀率) - 1 = 2.91%\n",
    "\n",
    "假设生活质量不变，10 年后退休时的生活开销为：$10\\times(1+3\\%)^{10}=13.44$\n",
    "\n",
    "客户退休后 20 年的总支出折现到 60 岁时点的现值为：\n",
    "$$\n",
    "PV(FV=0,PMT=-13.44,r=2.91\\%,n=20,期初年金) = 207.4946\n",
    "$$\n",
    "\n",
    "退休总开支从 60 岁折算到 50 岁时点的现值为：\n",
    "$$\n",
    "PV(FV=207.4946,PMT=0,r=6\\%,n=10) = 115.8639\n",
    "$$"
   ]
  },
  {
   "cell_type": "markdown",
   "metadata": {},
   "source": [
    "## 案例 2\n",
    "\n",
    "张一一今年 30 岁，计划 55 岁退休，目前其年开支额为 3.5 万元，假设预期寿命为 80 岁，未来通货膨胀率为 2.01%。投资计划为：期初存入 10 万元, 以后每年存入 2 万元，退休前投资风格为稳健性，预期年化收益率为 5%，年化波动率为 6%, 退休后将所有资金投资货币基金，预期收益率为 2%。该养老规划是否可行？"
   ]
  },
  {
   "cell_type": "code",
   "execution_count": 11,
   "metadata": {
    "ExecuteTime": {
     "end_time": "2020-02-10T09:55:38.702971Z",
     "start_time": "2020-02-10T09:55:38.505971Z"
    },
    "scrolled": false
   },
   "outputs": [
    {
     "name": "stdout",
     "output_type": "stream",
     "text": [
      "可行性:  0.563\n"
     ]
    },
    {
     "data": {
      "image/png": "[encoded data removed]",
      "text/plain": [
       "<Figure size 576x576 with 1 Axes>"
      ]
     },
     "metadata": {
      "needs_background": "light"
     },
     "output_type": "display_data"
    }
   ],
   "source": [
    "# 退休养老规划\n",
    "import warnings\n",
    "warnings.filterwarnings(\"ignore\")\n",
    "\n",
    "import numpy as np\n",
    "import pandas as pd\n",
    "import matplotlib.pyplot as plt\n",
    "from matplotlib.pylab import mpl\n",
    "mpl.rcParams['font.sans-serif'] = [\"SimHei\"]\n",
    "%matplotlib inline\n",
    "\n",
    "from RateSimulator import LognormalRateSimulator, ConstantRateSimulator\n",
    "from FinancialPlan import PensionPlan\n",
    "\n",
    "Mdl = PensionPlan(CurrentAge = 30,\n",
    "                RetirementAge = 55,\n",
    "                FinalAge = 80,\n",
    "                Cost = 35000,\n",
    "                CostGrowthRate = 0.0201,\n",
    "                PV = 100000,\n",
    "                PeriodInvest = 20000,\n",
    "                When = \"end\",\n",
    "                PreRetirementRate = LognormalRateSimulator(RateMean=0.06, RateSigma=0.06, NSample=1000, Seed=0),\n",
    "                PostRetirementRate = ConstantRateSimulator(ConstRate=0.02, NSample=1000))\n",
    "\n",
    "print(\"可行性: \", Mdl.calc_feasibility())\n",
    "CumPrincipal = Mdl.calc_cumulate_principal()\n",
    "AccountBalance = Mdl.calc_account_balance()\n",
    "AvgAccountBalance = np.mean(AccountBalance, axis=1)\n",
    "UpAccountBalance = np.percentile(AccountBalance, 75, axis=1)\n",
    "DownAccountBalance = np.percentile(AccountBalance, 25, axis=1)\n",
    "# UpAccountBalance = np.max(AccountBalance, axis=1)\n",
    "# DownAccountBalance = np.min(AccountBalance, axis=1)\n",
    "\n",
    "Fig, Axes = plt.subplots(1, 1, figsize=(8, 8))\n",
    "Axes.plot(np.arange(30, 81), CumPrincipal, label=\"累计本金投入\", color=\"r\", linewidth=2)\n",
    "Axes.plot(np.arange(30, 81), AvgAccountBalance, label=\"账户剩余金额\", color=\"b\", linewidth=2)\n",
    "Axes.plot(np.arange(30, 81), UpAccountBalance, label=\"账户剩余金额上限\", color=\"b\", linewidth=2, linestyle=\"--\")\n",
    "Axes.plot(np.arange(30, 81), DownAccountBalance, label=\"账户剩余金额下限\", color=\"b\", linewidth=2, linestyle=\"--\")\n",
    "Axes.legend(loc=\"best\");"
   ]
  },
  {
   "cell_type": "markdown",
   "metadata": {},
   "source": [
    "# 居住规划\n",
    "\n",
    "## 房贷\n",
    "\n",
    "房贷的种类有：\n",
    "* 传统型房贷\n",
    "    - 等额本息偿还\n",
    "    - 等额本金偿还\n",
    "* 抵利型房贷：住房抵押贷款和存款账户的组合产品，存款账户按按揭贷款利率水平计息（故称抵利）。抵利型房贷相当于允许以存款提前还贷，当有好的投资机会时，抵利的存款账户中的资金可以取出来运用，没有其他投资机会时，这部分资金的收益率等于贷款利率，高于一般存款利率。抵利型房贷适合现金流量不稳定，但至少会大于本利摊还额的客户，超额现金流进入可抵利存款账户，可达到节省利息支出并提前还清贷款本金的效果。\n",
    "* 气球贷：是指先少量、分期偿还贷款利息和部分本金，剩余本金到最后一期一次偿清，整个还款模式就像气球一样“头小尾大”。"
   ]
  },
  {
   "cell_type": "markdown",
   "metadata": {},
   "source": [
    "### 等额本息偿还\n",
    "\n",
    "借款金额较大的贷款，通常采用等额本息偿还方式，优点是每期现金流固定，易于管理。\n",
    "\n",
    "假设贷款总额为 L，名义年利率为 R，贷款年数为 N，每年的还款期数为 m，每期期末还款，即总期数为 $T=N\\cdot m$，每期的利率为 $r=\\frac{R}{m}$，记每期的还款金额为 C，则由：\n",
    "$$\n",
    "L - \\sum\\limits_{t=1}^{T}\\frac{C}{(1+r)^t} = 0\n",
    "$$\n",
    "得：\n",
    "$$\n",
    "C = \\frac{Lr(1+r)^T}{(1+r)^T-1}\n",
    "$$\n",
    "\n",
    "还款金额的利息部分和现金部分的组成为：\n",
    "* 第 1 期还款金额 C 中的利息部分为 $I_1 = L\\cdot r$，本金部分为 $P_1 = C - I_1 = C - Lr$，第 1 期末的剩余本金为 $A_1 = L - P_1 = L(1+r) - C$;\n",
    "* 第 2 期还款金额 C 中的利息部分为 $I_2 = A_1\\cdot r = Lr(1+r)-Cr$，本金部分为 $P_2 = C - I_2 = (C-Lr)(1+r)$，第 2 期末的剩余本金为 $A_2 = A_1 - P_2 = L(1+r)^2 - C - C(1+r)$;\n",
    "* 第 t 期还款金额 C 中的利息部分为 $I_t = A_{t-1}\\cdot r = (Lr-C)(1+r)^{t-1}+C$，本金部分为 $P_t = C - I_t = (C-Lr)(1+r)^{t-1}$，第 t 期末的剩余本金为 $A_t = A_{t-1} - P_t = \\left(L-\\frac{C}{r}\\right)(1+r)^t+\\frac{C}{r}$;\n",
    "\n"
   ]
  },
  {
   "cell_type": "markdown",
   "metadata": {},
   "source": [
    "### 等额本金偿还\n",
    "\n",
    "等额本金偿还方式的特点是，本息合计一般前期还款现金流量大，后期小。优点是还款压力越来越轻，总利息支付额较低。\n",
    "\n",
    "假设贷款总额为 L，名义年利率为 R，贷款年数为 N，每年的还款期数为 m，每期期末还款，即总期数为 $T=N\\cdot m$，每期的利率为 $r=\\frac{R}{m}$，则每期偿还的本金固定为：\n",
    "$$\n",
    "P = \\frac{L}{T}\n",
    "$$\n",
    "\n",
    "还款金额的利息部分和现金部分的组成为：\n",
    "* 第 1 期偿还的利息部分为 $I_1 = L\\cdot r$，偿还金额为 $C_1 = I_1 + P = Lr + P$，第 1 期末的剩余本金为 $A_1 = L - P$;\n",
    "* 第 2 期偿还的利息部分为 $I_2 = A_1\\cdot r = (L - P)r$，偿还金额为 $C_2 = I_2 + P = (L-P)r+P$，第 2 期末的剩余本金为 $A_2 = A_1 - P = L-2P$;\n",
    "* 第 t 期偿还的利息部分为 $I_t = A_{t-1}\\cdot r = (L - tP)r$，偿还金额为 $C_t = I_t + P = (L-tP)r+P$，第 t 期末的剩余本金为 $A_t = A_{t-1} - P = L-tP$;"
   ]
  },
  {
   "cell_type": "markdown",
   "metadata": {},
   "source": [
    "# 教育投资规划\n",
    "\n",
    "规划类型\n",
    "* 教育对象\n",
    "    - 职业教育规划\n",
    "    - 子女教育规划\n",
    "\n",
    "\n",
    "教育支出的特点：\n",
    "* 投资周期长、金额大\n",
    "* 支出时间和费用相对刚性\n",
    "* 教育费用逐年增长\n",
    "* 不确定因素多\n",
    "\n",
    "教育投资规划的工具\n",
    "* 短期工具\n",
    "    - 国家助学贷款\n",
    "    - 商业助学贷款\n",
    "    - 出国留学贷款\n",
    "* 长期工具\n",
    "    - 教育储蓄\n",
    "    - 银行储蓄\n",
    "    - 教育保险\n",
    "    - 基金产品\n",
    "    - 教育金信托\n",
    "    - 其他投资理财产品\n",
    "\n",
    "教育投资规划的原则\n",
    "* 提前规划、从宽预计\n",
    "* 专项积累、专款专用\n",
    "* 计划周详、稳健投资\n",
    "\n",
    "\n",
    "教育投资规划流程：\n",
    "1. 接触客户，建立信任关系\n",
    "2. 收集、整理和分析客户的家庭财务状况\n",
    "3. 明确客户的教育投资目标\n",
    "    * 确定对子女学历的基本要求\n",
    "        - 大学类型：在教育费用方面综合型院校会比专业型院校相对较低\n",
    "        - 受教育程度：继续深造会使得子女教育周期拉长\n",
    "        - 是否出国留学\n",
    "    * 确定子女的读书地点和专业\n",
    "    * 确定子女的兴趣与天赋\n",
    "4. 制订教育投资规划方案\n",
    "    * 计算教育资金需求\n",
    "        - 根据家长确定的期望教育程度，估算预期教育费用\n",
    "        - 设定学费增长率，计算未来入学时所需的费用：通常在通货膨胀率的基础上增加几个百分点\n",
    "    * 计算教育资金总供给和资金缺口\n",
    "    * 制订教育投资方案、选择投资工具\n",
    "        - 选择开始投资的时间\n",
    "        - 确定教育投资规划方案与投资工具\n",
    "5. 教育投资规划方案的执行\n",
    "6. 后续跟踪服务\n",
    "\n",
    "\n",
    "## 出国留学投资规划\n",
    "\n",
    "出国留学的成本分析\n",
    "* 出国留学前的费用\n",
    "    - 考试费用\n",
    "    - 第三方费用\n",
    "    - 其他费用\n",
    "* 留学国家及地区的费用\n",
    "\n",
    "\n",
    "## 案例\n",
    "\n",
    "从孩子刚出生开始为其 18 岁读大学前准备 30 万元的留学基金，目前有 10 万元存款，假设投资回报率为 6%，未来 18 年教育费用每年增加 8%，为了达成目标，从现在开始定额投资，需要每月再投入多少钱？\n",
    "\n",
    "计算 18 年后的留学费用：$30 \\times (1 + 8\\%)^{18} = 119.88$\n",
    "\n",
    "从 0 岁起：\n",
    "$$\n",
    "PV = -10, FV = 119.88, r = 6\\%/12 = 0.5\\%, t = 18\\times12=216\n",
    "$$\n",
    "由\n",
    "$$\n",
    "PV(1+r)^t + \\frac{C\\left[(1+r)^t - 1\\right]}{r} + FV = 0\n",
    "$$\n",
    "可以计算得到\n",
    "$$\n",
    "C = -\\frac{r\\left[PV(1+r)^t+FV\\right]}{(1+r)^t-1} \\approx 0.2337\n",
    "$$"
   ]
  },
  {
   "cell_type": "markdown",
   "metadata": {},
   "source": [
    "# 投资规划\n",
    "\n",
    "投资规划具有双重意义，其本身是一种理财规划，另外其也是实现其他理财规划目标的手段\n",
    "\n",
    "投资的目的：\n",
    "* 抵御通货膨胀\n",
    "* 实现资产增值\n",
    "* 获取经常性收益\n",
    "\n",
    "投资规划方案制定\n",
    "1. 了解客户财务状况和理财需求；\n",
    "2. 明确客户理财目标，预期收益和风险偏好；\n",
    "3. 收集、整理和分析客户目前资金投资分布和收益状况，包括存在的问题；\n",
    "4. 根据理财目标、预期收益和风险属性，制订新的资产配置组合方案；\n",
    "5. 投资规划方案的执行，包括原有资产分类的调整和后续跟踪评估。\n",
    "\n",
    "\n",
    "## 资产配置\n",
    "\n",
    "基本方法：\n",
    "* 历史数据法\n",
    "* 情景综合分析法\n",
    "\n",
    "资产配置策略类型\n",
    "* 范围分类：\n",
    "    - 全球资产配置\n",
    "    - 股票资产配置\n",
    "    - 债券资产配置\n",
    "    - 行业风格资产配置\n",
    "    - ...\n",
    "* 时间跨度和风格分类：\n",
    "    - 战略性资产配置\n",
    "    - 战术性资产配置\n",
    "    - 资产混合配置\n",
    "    - ...\n",
    "* 策略方法：\n",
    "    - 买入并持有策略\n",
    "    - 恒定混合策略\n",
    "    - 投资组合保险策略\n",
    "    - 动态资产配置策略\n",
    "    - ...\n",
    "\n",
    "\n"
   ]
  }
 ],
 "metadata": {
  "hide_input": false,
  "kernelspec": {
   "display_name": "Python 3",
   "language": "python",
   "name": "python3"
  },
  "language_info": {
   "codemirror_mode": {
    "name": "ipython",
    "version": 3
   },
   "file_extension": ".py",
   "mimetype": "text/x-python",
   "name": "python",
   "nbconvert_exporter": "python",
   "pygments_lexer": "ipython3",
   "version": "3.7.0"
  },
  "latex_envs": {
   "LaTeX_envs_menu_present": true,
   "autoclose": false,
   "autocomplete": true,
   "bibliofile": "biblio.bib",
   "cite_by": "apalike",
   "current_citInitial": 1,
   "eqLabelWithNumbers": true,
   "eqNumInitial": 1,
   "hotkeys": {
    "equation": "Ctrl-E",
    "itemize": "Ctrl-I"
   },
   "labels_anchors": false,
   "latex_user_defs": false,
   "report_style_numbering": false,
   "user_envs_cfg": false
  },
  "toc": {
   "base_numbering": 1,
   "nav_menu": {},
   "number_sections": true,
   "sideBar": true,
   "skip_h1_title": false,
   "title_cell": "Table of Contents",
   "title_sidebar": "Contents",
   "toc_cell": false,
   "toc_position": {
    "height": "calc(100% - 180px)",
    "left": "10px",
    "top": "150px",
    "width": "200px"
   },
   "toc_section_display": true,
   "toc_window_display": true
  },
  "varInspector": {
   "cols": {
    "lenName": 16,
    "lenType": 16,
    "lenVar": 40
   },
   "kernels_config": {
    "python": {
     "delete_cmd_postfix": "",
     "delete_cmd_prefix": "del ",
     "library": "var_list.py",
     "varRefreshCmd": "print(var_dic_list())"
    },
    "r": {
     "delete_cmd_postfix": ") ",
     "delete_cmd_prefix": "rm(",
     "library": "var_list.r",
     "varRefreshCmd": "cat(var_dic_list()) "
    }
   },
   "position": {
    "height": "257px",
    "left": "1402px",
    "right": "20px",
    "top": "110px",
    "width": "269px"
   },
   "types_to_exclude": [
    "module",
    "function",
    "builtin_function_or_method",
    "instance",
    "_Feature"
   ],
   "window_display": true
  }
 },
 "nbformat": 4,
 "nbformat_minor": 2
}
