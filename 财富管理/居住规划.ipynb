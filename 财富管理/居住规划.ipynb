{
 "cells": [
  {
   "cell_type": "markdown",
   "metadata": {},
   "source": [
    "# 居住规划\n",
    "\n",
    "\n",
    "居住规划流程\n",
    "\n",
    "![居住规划流程](.\\images\\居住规划流程.png)\n",
    "\n",
    "租房购房优缺点\n",
    "\n",
    "![租房购房优缺点](.\\images\\租房购房优缺点.png)\n"
   ]
  },
  {
   "cell_type": "markdown",
   "metadata": {},
   "source": [
    "## 房贷种类\n",
    "\n",
    "### 传统型房贷\n",
    "\n",
    "假设贷款额为 PV，贷款名义年利率为 r，贷款年限 n，年付息次数 $m_p$，年计息次数 $m_c$\n",
    "\n",
    "**等额本息**\n",
    "\n",
    "每期的支付现金流为\n",
    "\n",
    "\n",
    "**等额本金**"
   ]
  },
  {
   "cell_type": "markdown",
   "metadata": {},
   "source": [
    "## 租房购房的决策\n",
    "\n",
    "**年成本法**\n",
    "\n",
    "租房年成本 = 押金 × 机会成本率 + 年租金\n",
    "\n",
    "购房年成本 = 首付款 × 机会成本率 + 贷款余额 × 贷款利率 + 年维修费及税金 - 房价预期年涨幅\n",
    "\n",
    "**净现值法**\n",
    "\n",
    "租房现金流（租金缴纳发生在期初）：\n",
    "* 第 1 年期初：- （押金 + 第 1 年租金）\n",
    "* 第 n 年期初：- 第 n 年租金\n",
    "* 最后一年期末：押金\n",
    "\n",
    "购房现金流（还款发生在期末）：\n",
    "* 第 1 年期初：- 首付款\n",
    "* 第 n 年期末：- （年房贷本利摊还额 + 年维护成本）\n",
    "* 最后一年期末：房屋出售额 - 年房贷本利摊还额 - 年维护成本 - 房贷余额\n"
   ]
  },
  {
   "cell_type": "code",
   "execution_count": null,
   "metadata": {},
   "outputs": [],
   "source": []
  }
 ],
 "metadata": {
  "kernelspec": {
   "display_name": "Python 3",
   "language": "python",
   "name": "python3"
  },
  "language_info": {
   "codemirror_mode": {
    "name": "ipython",
    "version": 3
   },
   "file_extension": ".py",
   "mimetype": "text/x-python",
   "name": "python",
   "nbconvert_exporter": "python",
   "pygments_lexer": "ipython3",
   "version": "3.7.3"
  },
  "latex_envs": {
   "LaTeX_envs_menu_present": true,
   "autoclose": false,
   "autocomplete": true,
   "bibliofile": "biblio.bib",
   "cite_by": "apalike",
   "current_citInitial": 1,
   "eqLabelWithNumbers": true,
   "eqNumInitial": 1,
   "hotkeys": {
    "equation": "Ctrl-E",
    "itemize": "Ctrl-I"
   },
   "labels_anchors": false,
   "latex_user_defs": false,
   "report_style_numbering": false,
   "user_envs_cfg": false
  },
  "toc": {
   "base_numbering": 1,
   "nav_menu": {},
   "number_sections": true,
   "sideBar": true,
   "skip_h1_title": false,
   "title_cell": "Table of Contents",
   "title_sidebar": "Contents",
   "toc_cell": false,
   "toc_position": {},
   "toc_section_display": true,
   "toc_window_display": false
  },
  "varInspector": {
   "cols": {
    "lenName": 16,
    "lenType": 16,
    "lenVar": 40
   },
   "kernels_config": {
    "python": {
     "delete_cmd_postfix": "",
     "delete_cmd_prefix": "del ",
     "library": "var_list.py",
     "varRefreshCmd": "print(var_dic_list())"
    },
    "r": {
     "delete_cmd_postfix": ") ",
     "delete_cmd_prefix": "rm(",
     "library": "var_list.r",
     "varRefreshCmd": "cat(var_dic_list()) "
    }
   },
   "types_to_exclude": [
    "module",
    "function",
    "builtin_function_or_method",
    "instance",
    "_Feature"
   ],
   "window_display": false
  }
 },
 "nbformat": 4,
 "nbformat_minor": 2
}
