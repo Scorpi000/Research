{
 "cells": [
  {
   "cell_type": "markdown",
   "metadata": {},
   "source": [
    "# 资本市场假设\n",
    "\n",
    "资本市场假设（CMAs）一般包括资产的预期收益、风险以及相关性，其作为战略资产配置的输入，期限需和 SAA 的期限相匹配。\n",
    "\n",
    "\n",
    "## 历史数据法\n",
    "\n",
    "历史数据法假设资产的风险和收益在长期将收敛到均值，即资产的风险和收益都是平稳的时间序列，因此根据足够长时期的资产表现历史数据，预测资产未来足够长时期的风险收益，历史数据法得到的结果应该是无偏且一致的。\n",
    "\n",
    "实际应用中历史数据法的问题：\n",
    "1. 很多大类资产历史数据年限不长，尤其是国内市场。数据不足导致样本均值的方差变大，样本均值可能偏离总体均值的真实值很远；或者说在历史数据的时间序列内，观察不到资产收益和风险的长期均值。用历史数据法预测未来收益风险，至少需要 10 年的数据（\\cite{Qutke:2018}）。\n",
    "2. 历史无法代表未来，即便有足够长的历史数据，使用历史均值预测未来都可能失效，即风险和收益长期收敛到均值的假设可能不成立。\n",
    "3. 投资者的投资年限可能不长，这要求资产的风险和收益必须以更快的速度收敛到均值。\n",
    "\n",
    "历史数据法在预测股票市场预期收益率和相关性时并不可靠，但在预测股票市场波动性时较为可靠；历史数据法在预测债券市场预期收益率和波动性时效果较好。"
   ]
  },
  {
   "cell_type": "markdown",
   "metadata": {},
   "source": [
    "# 参考文献\n",
    "\n",
    "[<a id=\"cit-Qutke:2018\" href=\"#call-Qutke:2018\">况客研究:2018</a>] 况客研究, FOF投资的量化分析, 中国金融出版社, 2018.\n",
    "\n",
    "[<a id=\"cit-Lustig:2016\" href=\"#call-Lustig:2016\">Lustig:2016</a>] Yoram Lustig 著, 孙静, 郑志勇, 李韵 译, 资产配置投资实践, 电子工业出版社, 2016."
   ]
  },
  {
   "cell_type": "markdown",
   "metadata": {},
   "source": [
    "# References\n",
    "\n",
    "<mark> <b>The bib file biblio.bib was not found\n",
    "\n",
    "</b> </mark>[<a id=\"cit-Qutke:2018\" href=\"#call-Qutke:2018\">Qutke:2018</a>] !! _This reference was not found in biblio.bib _ !!\n",
    "\n"
   ]
  }
 ],
 "metadata": {
  "hide_input": false,
  "kernelspec": {
   "display_name": "Python 3",
   "language": "python",
   "name": "python3"
  },
  "language_info": {
   "codemirror_mode": {
    "name": "ipython",
    "version": 3
   },
   "file_extension": ".py",
   "mimetype": "text/x-python",
   "name": "python",
   "nbconvert_exporter": "python",
   "pygments_lexer": "ipython3",
   "version": "3.7.3"
  },
  "latex_envs": {
   "LaTeX_envs_menu_present": true,
   "autoclose": false,
   "autocomplete": true,
   "bibliofile": "biblio.bib",
   "cite_by": "key",
   "current_citInitial": 1,
   "eqLabelWithNumbers": true,
   "eqNumInitial": 1,
   "hotkeys": {
    "equation": "Ctrl-E",
    "itemize": "Ctrl-I"
   },
   "labels_anchors": false,
   "latex_user_defs": false,
   "report_style_numbering": false,
   "user_envs_cfg": false
  },
  "toc": {
   "base_numbering": 1,
   "nav_menu": {},
   "number_sections": true,
   "sideBar": true,
   "skip_h1_title": false,
   "title_cell": "Table of Contents",
   "title_sidebar": "Contents",
   "toc_cell": false,
   "toc_position": {},
   "toc_section_display": true,
   "toc_window_display": true
  },
  "varInspector": {
   "cols": {
    "lenName": 16,
    "lenType": 16,
    "lenVar": 40
   },
   "kernels_config": {
    "python": {
     "delete_cmd_postfix": "",
     "delete_cmd_prefix": "del ",
     "library": "var_list.py",
     "varRefreshCmd": "print(var_dic_list())"
    },
    "r": {
     "delete_cmd_postfix": ") ",
     "delete_cmd_prefix": "rm(",
     "library": "var_list.r",
     "varRefreshCmd": "cat(var_dic_list()) "
    }
   },
   "types_to_exclude": [
    "module",
    "function",
    "builtin_function_or_method",
    "instance",
    "_Feature"
   ],
   "window_display": true
  }
 },
 "nbformat": 4,
 "nbformat_minor": 2
}
