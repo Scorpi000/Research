{
 "cells": [
  {
   "cell_type": "markdown",
   "metadata": {},
   "source": [
    "# 摘要"
   ]
  },
  {
   "cell_type": "markdown",
   "metadata": {},
   "source": [
    "# 理论模型\n",
    "\n",
    "海龟交易体系是查理德▪丹尼斯在 20 世纪 80 年代举办的海龟交易培训班中教授的交易体系，丹尼斯举办海龟交易培训班的目的是想验证交易能力是天生的还是\n",
    "可以后天习得的。\n",
    "\n",
    "海龟交易系统使用基于波动性的百分比用作头寸规模风险度量。头寸规模是该系统最有特色的部分。海龟交易系统使用 N 的概念来表示某个特定市场的波动性，\n",
    "N 即为 ATR 指标的值，ATR 为 TR(True Range) 指标的均值：\n",
    "\\begin{align*}\n",
    "{\\rm TR}_t &= \\max\\{H_t-L_t, |H_t-C_{t-1}|, |C_{t-1}-L_t|\\}\\\\\n",
    "{\\rm ATR}_t &= \\operatorname{EMA}({\\rm TR}, n)\n",
    "\\end{align*}\n",
    "\n",
    "其中，$H_t,L_t,C_t$ 是 t 时段的最高价，最低价，收盘价，$\\operatorname{avg}({\\rm TR}, n)$ 表示 TR 过去 n 期的指数移动平均值。\n",
    "\n"
   ]
  },
  {
   "cell_type": "code",
   "execution_count": null,
   "metadata": {},
   "outputs": [],
   "source": []
  }
 ],
 "metadata": {
  "kernelspec": {
   "display_name": "Python 3",
   "language": "python",
   "name": "python3"
  },
  "language_info": {
   "codemirror_mode": {
    "name": "ipython",
    "version": 3
   },
   "file_extension": ".py",
   "mimetype": "text/x-python",
   "name": "python",
   "nbconvert_exporter": "python",
   "pygments_lexer": "ipython3",
   "version": "3.5.4"
  },
  "latex_envs": {
   "LaTeX_envs_menu_present": true,
   "autoclose": true,
   "autocomplete": true,
   "bibliofile": "biblio.bib",
   "cite_by": "apalike",
   "current_citInitial": 1,
   "eqLabelWithNumbers": true,
   "eqNumInitial": 1,
   "hotkeys": {
    "equation": "Ctrl-E",
    "itemize": "Ctrl-I"
   },
   "labels_anchors": false,
   "latex_user_defs": false,
   "report_style_numbering": false,
   "user_envs_cfg": false
  },
  "toc": {
   "base_numbering": 1,
   "nav_menu": {},
   "number_sections": true,
   "sideBar": true,
   "skip_h1_title": false,
   "title_cell": "Table of Contents",
   "title_sidebar": "Contents",
   "toc_cell": false,
   "toc_position": {},
   "toc_section_display": true,
   "toc_window_display": false
  },
  "varInspector": {
   "cols": {
    "lenName": 16,
    "lenType": 16,
    "lenVar": 40
   },
   "kernels_config": {
    "python": {
     "delete_cmd_postfix": "",
     "delete_cmd_prefix": "del ",
     "library": "var_list.py",
     "varRefreshCmd": "print(var_dic_list())"
    },
    "r": {
     "delete_cmd_postfix": ") ",
     "delete_cmd_prefix": "rm(",
     "library": "var_list.r",
     "varRefreshCmd": "cat(var_dic_list()) "
    }
   },
   "types_to_exclude": [
    "module",
    "function",
    "builtin_function_or_method",
    "instance",
    "_Feature"
   ],
   "window_display": false
  }
 },
 "nbformat": 4,
 "nbformat_minor": 2
}
