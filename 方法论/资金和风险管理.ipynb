{
 "cells": [
  {
   "cell_type": "markdown",
   "metadata": {},
   "source": [
    "# 资金管理\n",
    "\n",
    "## 凯利公式\n",
    "\n",
    "净值最大化与投资组合的长期复合增长率最大化是一样的，如果在未来某时点净值为 0 的概率大于 0，则长期净值（长期增长率）必然为 0，从而必须避免净值为 0。\n",
    "\n",
    "**凯利杠杆**：假设一组策略 $i=1,\\ldots,n$ 的单期超额收益率（无杠杆）服从多维正态分布 $\\mathcal{N}(\\mathbf{\\mu},\\mathbf{\\Sigma})$，则这 n 个策略的最优配置比例为：\n",
    "$$\n",
    "\\mathbf{f}^*=\\mathbf{\\Sigma}^{-1}\\mathbf{\\mu}\n",
    "$$\n",
    "如果假设所有的策略在统计上独立，协方差矩阵为对角阵，则为：\n",
    "$$\n",
    "f_i^*=\\frac{\\mu_i}{\\sigma_i^2}\n",
    "$$\n",
    "对于单个策略来说，凯利公式给出的是最优资金杠杆。\n",
    "\n",
    "单个策略的简单推导，收益率服从正态分布的假设下，复合杠杆增长率为：\n",
    "$$\n",
    "\\operatorname{g}(f) = r+f\\mu-\\frac{\\sigma^2}{2}f^2\n",
    "$$\n",
    "其中，$f$ 是给定的杠杆，$r$ 是无风险利率，最大化 $\\operatorname{g}(f)$ 即要求满足：\n",
    "$$\n",
    "\\frac{{\\rm d}\\operatorname{g}(f)}{{\\rm d}f} = \\mu-\\sigma^2f=0\n",
    "$$\n",
    "即：$f=\\frac{\\mu}{\\sigma^2}$。\n",
    "\n",
    "如果假设收益率的分布未知，则可以利用经验分布求解最优杠杆。设策略的历史收益率样本为${R_i}_{i=1}^N$，$N$ 是样本数量，则通过最大化下面的目标函数来求解最优杠杆：（\\cite{Chan:2013}）\n",
    "$$\n",
    "\\operatorname{g}(f) = \\frac{1}{N}\\sum\\limits_{i=1}^N\\log(1+fR_i)\n",
    "$$\n",
    "利用策略历史收益率样本来估计最优杠杆可能面临样本量不足的问题。这可以通过 Monte Carlo 模拟的方法来补充，利用 Pearson 或 Johnson 系统生成策略收益率的模拟样本，同样利用上式来计算最优杠杆。\n",
    "\n",
    "**半凯利杠杆**：由于参数估计上存在误差，并且收益率不一定服从正态假定，处于安全的考虑，所使用的杠杆往往是凯利公式给出的杠杆的一半。\n",
    "\n",
    "如果存在杠杆限制，比如最大的杠杆比例为 $l$，则简单的做法是让调整后的杠杆为：\n",
    "$$\n",
    "f'_i = \\frac{l}{\\sum\\limits^{n}_i|f_i|}\n",
    "$$\n",
    "其中，$f_i$ 为不受限制下的杠杆。这里忽略了头寸相互抵消的情况，头寸抵消可以使用比公式计算得到的更高杠杆。该结果并不是最优解。\n",
    "\n",
    "采用凯利公式可以得到理论上净值的最大长期复合增长率：\n",
    "$$\n",
    "g=r+\\frac{S^2}{2}\n",
    "$$\n",
    "其中，$r$ 为无风险利率，$S$ 为组合策略的夏普比率。\n",
    "\n",
    "按照凯利公式，随着净值的变化，需要对资本配置进行不断地调整，使其尽可能的一直符合凯利公式给出的比例。应至少在每个交易日结束时做一次资本配置的调整。另外，还应该周期性的跟踪最新的收益率均值和标准差的估计，如果策略的平均持有期为 1 天，根据经验法则，建议参数估计的回溯期为 6 个月。（\\cite{Chan:2009}）\n",
    "\n",
    "凯利公式能够实现净值的指数增长，这一增长的上限是策略的容量。继续保持增长需要策略数量的增加，比如寻找比现有策略频率更高的策略，或者寻找持有期更长的策略（虽然夏普率较低，但可以显著提高策略的容量）。\n",
    "\n",
    "经验法则（\\cite{Chan:2013}）：相比于用凯利公式对所有的策略进行资金配置，将凯利公式独立地应用于每个策略会更实际，这可以使得失效的策略更快的降低资金配置并退出。"
   ]
  },
  {
   "cell_type": "markdown",
   "metadata": {},
   "source": [
    "# 风险管理\n",
    "\n",
    "风险管理中最可怕的情形是历史上从未出现过的情形，Ludwig Wittgenstein 说过：“凡事不能说的事情，就应该沉默”，对这种不可知，理论模型应该沉默。（\\cite{Chan:2009}）\n",
    "\n",
    "可通过对历史最大单期亏损的简单回测（在每一期期末用凯利公式对组合进行调整），估计落在正态分布之外的极端事件（“黑天鹅事件”）。最大可承受回撤与最大历史亏损的比作为杠杆上限。所使用的杠杆一般是半凯利杠杆和该杠杆上限的较小值。\n",
    "\n",
    "## 止损（Stop Loss）\n",
    "\n",
    "止损方式一般有两种：\n",
    "* 回撤超过阈值时，清空头寸，但事后可以重新进入头寸，这种止损不能保证控制策略的最大回撤，比较常用；\n",
    "* 回撤超过阈值时，清空头寸并停止执行策略，这种止损可以控制最大回撤，但并不常用。\n",
    "\n",
    "无论何时发生亏损，风险管理总会建议减仓。然而，当大灾难发生时，证券价格往往是不连续下跌的，因此清仓止损指令的成交价格要远低于灾难发生前的价格。在清仓行为中，止损不是避免灾难性的亏损，而是使其真实发生。\n",
    "\n",
    "止损只有在趋势状态（即在交易的期望持续时间内价格会进一步下跌）时才是有益的。如果当前时段市场是均值回归的，不及时止损反而可以恢复到原来的状态。但判断市场处于趋势状态（止损有益）还是均值回归状态（止损有害）并不是一件容易的事情。\\cite{Chan:2009} 给出的建议是价格波动是由于消息或者基本面原因导致的，一般是趋势状态，用交易员的话说，就是“不要试图与迎面而来的火车相撞”。如果价格在没有任何消息或明显原因的情况下剧烈波动，很有可能是流动性事件引起的，比如大股东个人原因大量抛售，流动性事件的持续时间较短，价格也很有可能回归到之前的水平。\n",
    "\n",
    "对于均值回归策略，如果要设置止损，应该让阈值比回测时的最大回撤要大，以保证在策略真正失效或者发生了黑天鹅事件时采取止损。\n",
    "\n",
    "## 固定比例投资组合保险（Constant Proportion Portfolio Insurance, CPPI）\n",
    "\n",
    "假设最大回撤限制为 $-D$，由凯利公式确定的最优杠杆为 $f$，则将账户分成风险账户和无风险账户，风险账户资金占比固定为$D$，无风险账户资金占比固定为$1-D$，风险账户的杠杆比例为 $f$，凯利公式保证了风险账户的净值始终大于 0，从而整个账户的最大回撤不会超过 $D$。\n",
    "\n",
    "\n",
    "## 风险指标\n",
    "\n",
    "**VIX 指数**\n",
    "\n",
    "**TED 利差**\n",
    "\n",
    "三个月 Libor 利率和三个月的国债利率之差。它反映的是银行违约的风险。\n",
    "\n",
    "\n",
    "## 非市场风险\n",
    "\n",
    "**模型风险**\n",
    "\n",
    "模型风险是指由于交易模型错误而非市场统计特征变化造成的亏损可能性。\n",
    "\n",
    "**软件风险**\n",
    "\n",
    "软件风险是指生成指令的自动交易系统没有真实反映回测模型所引起的风险。其原因在于软件故障无所不在。"
   ]
  },
  {
   "cell_type": "markdown",
   "metadata": {},
   "source": [
    "# 心理建设\n",
    "\n",
    "## 禀赋效应（Endowment Effect）\n",
    "\n",
    "又称作安于现状偏差（Status Quo Bias）或者亏损厌恶（Loss Aversion）。一般人更偏好于安于现状，或者只在价格比购买时高很多的情况下才愿意卖掉股票。这些行为偏差会让人在没有任何合理原因的时候坚持持有亏损头寸。同是，亏损厌恶会导致人们过早的卖掉盈利头寸，尽管平均来说多持有一段时间会获利更多，这是因为失去手头盈利所带来的痛苦远高于获得更高盈利所带来的快乐。\n",
    "\n",
    "## 代表性偏差（Representativeness Bias）\n",
    "\n",
    "人们倾向于对近期经验赋予过多的权重，而低估了长期平均的作用。或者将事物划分为有代表性特征的几类，然后根据已有的模式制定决策思维过程。在对事物进行评价时，会过分强调这几类的重要性，而忽略其它事物，并习惯用大样本中的小样本去判断整个大样本。\n",
    "\n",
    "大额亏损后，量化交易员倾向于立刻修改策略中的参数，但如果使用修改后的系统进行交易，则可能会带来其他尚未发生的大额亏损或者消除许多现有的盈利机会。所有的交易都是在概率状态下进行的，没有系统能够避免所有会导致亏损的市场异常状态。\n",
    "\n",
    "风险管理的黄金法则：任何时刻都要将投资组合的规模保持在可控的范围内。"
   ]
  },
  {
   "cell_type": "markdown",
   "metadata": {},
   "source": [
    "# References\n",
    "\n",
    "[<a id=\"cit-Chan:2009\" href=\"#call-Chan:2009\">Chan:2009</a>] Ernest Chan, ``_Quantitative trading: how to build your own algorithmic trading business_'',  2009.\n",
    "\n",
    "[<a id=\"cit-Chan:2013\" href=\"#call-Chan:2013\">Chan:2013</a>] Ernest Chan, ``_Algorithmic trading: winning strategies and their rationale_'',  2013.\n",
    "\n"
   ]
  }
 ],
 "metadata": {
  "author": "f",
  "kernelspec": {
   "display_name": "Python 3",
   "language": "python",
   "name": "python3"
  },
  "language_info": {
   "codemirror_mode": {
    "name": "ipython",
    "version": 3
   },
   "file_extension": ".py",
   "mimetype": "text/x-python",
   "name": "python",
   "nbconvert_exporter": "python",
   "pygments_lexer": "ipython3",
   "version": "3.5.4"
  },
  "latex_envs": {
   "LaTeX_envs_menu_present": true,
   "autoclose": true,
   "autocomplete": true,
   "bibliofile": "biblio.bib",
   "cite_by": "key",
   "current_citInitial": 1,
   "eqLabelWithNumbers": true,
   "eqNumInitial": 1,
   "hotkeys": {
    "equation": "Ctrl-E",
    "itemize": "Ctrl-I"
   },
   "labels_anchors": false,
   "latex_user_defs": false,
   "report_style_numbering": false,
   "user_envs_cfg": false
  },
  "toc": {
   "base_numbering": 1,
   "nav_menu": {},
   "number_sections": true,
   "sideBar": true,
   "skip_h1_title": false,
   "title_cell": "Table of Contents",
   "title_sidebar": "Contents",
   "toc_cell": false,
   "toc_position": {},
   "toc_section_display": true,
   "toc_window_display": false
  },
  "varInspector": {
   "cols": {
    "lenName": 16,
    "lenType": 16,
    "lenVar": 40
   },
   "kernels_config": {
    "python": {
     "delete_cmd_postfix": "",
     "delete_cmd_prefix": "del ",
     "library": "var_list.py",
     "varRefreshCmd": "print(var_dic_list())"
    },
    "r": {
     "delete_cmd_postfix": ") ",
     "delete_cmd_prefix": "rm(",
     "library": "var_list.r",
     "varRefreshCmd": "cat(var_dic_list()) "
    }
   },
   "types_to_exclude": [
    "module",
    "function",
    "builtin_function_or_method",
    "instance",
    "_Feature"
   ],
   "window_display": false
  }
 },
 "nbformat": 4,
 "nbformat_minor": 2
}
