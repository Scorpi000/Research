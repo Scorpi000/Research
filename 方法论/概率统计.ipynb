{
 "cells": [
  {
   "cell_type": "markdown",
   "metadata": {},
   "source": [
    "# 方差和协方差\n",
    "\n",
    "$\\mathbf{x}$ 是 $n\\times1$ 的随机向量，则其 **方差协方差矩阵（Variance-Covariance Matrix）** 定义为：\n",
    "$$\n",
    "\\operatorname{Var}(\\mathbf{x}) = \\mathbb{E}\\left[\\left(\\mathbf{x}-\\mathbb{E}(\\mathbf{x})\\right)\\cdot\\left(\\mathbf{x}-\\mathbb{E}(\\mathbf{x})\\right)'\\right] = \\begin{pmatrix} \\sigma^2_1 & \\cdots & \\sigma^2_{1,n} \\\\ \\vdots & \\ddots & \\vdots \\\\ \\sigma^2_{n,1} & \\cdots & \\sigma^2_n \\end{pmatrix}\n",
    "$$\n",
    "\n",
    "\n",
    "方差协方差矩阵的性质：\n",
    "1. $\\mathbf{a}$ 是 $n\\times1$ 的非随机向量，则 $\\operatorname{Var}(\\mathbf{a}'\\mathbf{x}) = \\mathbf{a}'\\operatorname{Var}(\\mathbf{x})\\mathbf{a}\\geq 0$，这说明方差协方差矩阵是半正定阵。\n",
    "2. $\\mathbf{A}$ 是 $k\\times n$ 的非随机矩阵，$\\mathbf{b}$ 是 $n\\times1$ 的非随机向量，则 $\\operatorname{Var}(\\mathbf{A}\\mathbf{x}+\\mathbf{b}) = \\mathbf{A}\\cdot\\operatorname{Var}(\\mathbf{x})\\cdot\\mathbf{A}'$。\n",
    "\n",
    "$\\mathbf{x},\\mathbf{y}$ 分别是 $n\\times1,k\\times1$ 的随机向量，则其 $n\\times k$ 维的 **协方差矩阵（Covariance Matrix）** 定义为：\n",
    "$$\n",
    "\\operatorname{Cov}(\\mathbf{x},\\mathbf{y}) = \\mathbb{E}\\left[\\left(\\mathbf{x}-\\mathbb{E}(\\mathbf{x})\\right)\\cdot\\left(\\mathbf{y}-\\mathbb{E}(\\mathbf{y})\\right)'\\right] = \\begin{pmatrix} \\sigma^2_{1,1} & \\cdots & \\sigma^2_{1,k} \\\\ \\vdots & \\ddots & \\vdots \\\\ \\sigma^2_{n,1} & \\cdots & \\sigma^2_{n,k} \\end{pmatrix}\n",
    "$$\n",
    "\n",
    "协方差矩阵的性质：\n",
    "1. $\\mathbf{A},\\mathbf{B}$ 是非随机矩阵，$\\mathbf{a},\\mathbf{b}$ 是非随机向量，则 $\\operatorname{Cov}(\\mathbf{A}\\mathbf{x}+\\mathbf{a},\\mathbf{B}\\mathbf{y}+\\mathbf{b}) = \\mathbf{A}\\cdot\\operatorname{Cov}(\\mathbf{x},\\mathbf{y})\\cdot\\mathbf{B}'$。"
   ]
  },
  {
   "cell_type": "markdown",
   "metadata": {},
   "source": [
    "# 常用分布\n",
    "\n",
    "## 正态分布\n",
    "\n",
    "$\\mathbf{x}$ 是 $n\\times1$ 的随机向量，其服从均值为 $\\boldsymbol{\\mu}$，协方差矩阵为 $\\boldsymbol{\\Sigma}$ 的 **多元正态分布（Multivariate Normal Distribution）**，记为 $\\mathbf{x}\\sim\\mathcal{N}(\\boldsymbol{\\mu},\\boldsymbol{\\Sigma})$，其密度函数为：\n",
    "$$\n",
    "f(\\mathbf{x}) = \\frac{1}{\\sqrt{(2\\pi)^n|\\boldsymbol{\\Sigma}|}}\\exp\\left\\{-\\frac{1}{2}(\\mathbf{x}-\\boldsymbol{\\mu})'\\boldsymbol{\\Sigma}^{-1}(\\mathbf{x}-\\boldsymbol{\\mu})\\right\\}\n",
    "$$\n",
    "\n",
    "性质：\n",
    "1. 如果 $\\mathbf{x}\\sim\\mathcal{N}(\\boldsymbol{\\mu},\\boldsymbol{\\Sigma})$，$\\mathbf{A}$ 是 $k\\times n$ 的非随机矩阵，$\\mathbf{b}$ 是 $n\\times1$ 的非随机向量，则 $\\mathbf{A}\\mathbf{x}+\\mathbf{b}\\sim\\mathcal{N}(\\mathbf{A}\\boldsymbol{\\mu}+\\mathbf{b},\\ \\mathbf{A}\\boldsymbol{\\Sigma}\\mathbf{A}')$。\n",
    "2. 如果 $\\mathbf{x}\\sim\\mathcal{N}(\\boldsymbol{\\mu},\\boldsymbol{\\Sigma})$，$\\mathbf{A},\\mathbf{B}$ 是非随机矩阵，则 $\\mathbf{A}\\mathbf{x},\\mathbf{B}\\mathbf{x}$ 独立的充要条件为 $\\mathbf{A}\\boldsymbol{\\Sigma}\\mathbf{B}'=\\mathbf{0}$。"
   ]
  },
  {
   "cell_type": "markdown",
   "metadata": {},
   "source": [
    "## $\\chi^2$ 分布\n",
    "\n",
    "如果 $n\\times1$ 的随机向量 $\\mathbf{x}$ 服从标准多元正态分布 $\\mathbf{x}\\sim\\mathcal{N}(\\mathbf{0},\\mathbf{I}_n)$，则随机变量 $s=\\mathbf{x}'\\mathbf{x}$ 服从自由度为 n 的 $\\chi^2$ **分布（Chi-Squared Distribution）**，记为 $s\\sim\\chi^2_n$。\n",
    "\n",
    "性质：\n",
    "1. 若 $\\mathbf{x}\\sim\\mathcal{N}(\\boldsymbol{\\mu},\\boldsymbol{\\Sigma})$，则 $(\\mathbf{x}-\\boldsymbol{\\mu})'\\boldsymbol{\\Sigma}^{-1}(\\mathbf{x}-\\boldsymbol{\\mu})\\sim\\chi^2_n$。\n",
    "2. 若 $\\mathbf{x}\\sim\\mathcal{N}(\\mathbf{0},\\mathbf{I}_n)$，$\\mathbf{A}$ 是秩为 k 的对称幂等阵，则 $\\mathbf{x}'\\mathbf{A}\\mathbf{x}\\sim\\chi^2_k$。\n",
    "3. 若 $\\mathbf{x}\\sim\\mathcal{N}(\\mathbf{0},\\mathbf{I}_n)$，$\\mathbf{A},\\ \\mathbf{B}$ 均是对称幂等阵，则两个 $\\chi^2$ 随机变量 $\\mathbf{x}'\\mathbf{A}\\mathbf{x},\\ \\mathbf{x}'\\mathbf{B}\\mathbf{x}$ 独立的充要条件是 $\\mathbf{A}\\mathbf{B}=\\mathbf{0}$。"
   ]
  },
  {
   "cell_type": "markdown",
   "metadata": {},
   "source": [
    "## t 分布\n",
    "\n",
    "如果随机变量 $z$ 服从标准正态分布 $z\\sim\\mathcal{N}(0,1)$，$s$ 服从自由度为 n 的 $\\chi^2$ 分布 $s\\sim\\chi^2_n$，$z,s$ 相互独立，则随机变量 $t=\\frac{z}{\\sqrt{s/n}}$ 服从自由度为 n 的 **t 分布（t Distribution）**，记为 $s\\sim t_n$。\n",
    "\n",
    "性质：\n",
    "1. 若 $\\mathbf{x}\\sim\\mathcal{N}(0,\\sigma^2\\mathbf{I}_n)$，$\\mathbf{A}$ 是 $k\\times n$ 的非随机矩阵，$\\mathbf{B}$ 是对称幂等阵，则正态随机向量 $\\mathbf{A}\\mathbf{x}$ 与 $\\chi^2$ 随机变量 $\\mathbf{x}'\\mathbf{A}\\mathbf{x}$ 独立的充要条件为 $\\mathbf{A}\\mathbf{B}=\\mathbf{0}$。\n",
    "2. 若 $\\mathbf{x}\\sim\\mathcal{N}(0,\\mathbf{I}_n)$，$\\mathbf{a}$ 是非随机向量，$\\mathbf{B}$ 是秩为 k 的对称幂等阵，并且 $\\mathbf{B}\\mathbf{a}=\\mathbf{0}$，则：\n",
    "$$\n",
    "\\frac{\\frac{1}{\\mathbf{a}'\\mathbf{a}}\\mathbf{a}'\\mathbf{x}}{\\sqrt{\\mathbf{x}'\\mathbf{B}\\mathbf{x}/k}}\\sim t_k\n",
    "$$"
   ]
  },
  {
   "cell_type": "markdown",
   "metadata": {},
   "source": [
    "## F 分布\n",
    "\n",
    "如果随机变量 $s_1, s_2$ 服从自由度为 $n_1,n_2$ 的 $\\chi^2$ 分布 $s_1\\sim\\chi^2_{n_1},\\ s_2\\sim\\chi^2_{n_2}$，$s_1, s_2$ 相互独立，则随机变量 $F=\\frac{s_1/n_1}{s_2/n_2}$ 服从自由度为 $(n_1,n_2)$ 的 **F 分布（F Distribution）**，记为 $F\\sim F_{n_1,n_2}$。\n",
    "\n",
    "性质：\n",
    "1. 若 $\\mathbf{x}\\sim\\mathcal{N}(\\mathbf{0},\\mathbf{I}_n)$，$\\mathbf{A},\\ \\mathbf{B}$ 分别是秩为 $k_1,k_2$ 对称幂等阵，并且 $\\mathbf{A}\\mathbf{B}=\\mathbf{0}$，则：\n",
    "$$\n",
    "\\frac{\\mathbf{x}'\\mathbf{A}\\mathbf{x}/k_1}{\\mathbf{x}'\\mathbf{B}\\mathbf{x}/k_2}\\sim F_{k_1,k_2}\n",
    "$$"
   ]
  }
 ],
 "metadata": {
  "kernelspec": {
   "display_name": "Python 3",
   "language": "python",
   "name": "python3"
  },
  "language_info": {
   "codemirror_mode": {
    "name": "ipython",
    "version": 3
   },
   "file_extension": ".py",
   "mimetype": "text/x-python",
   "name": "python",
   "nbconvert_exporter": "python",
   "pygments_lexer": "ipython3",
   "version": "3.7.0"
  },
  "latex_envs": {
   "LaTeX_envs_menu_present": true,
   "autoclose": false,
   "autocomplete": true,
   "bibliofile": "biblio.bib",
   "cite_by": "apalike",
   "current_citInitial": 1,
   "eqLabelWithNumbers": false,
   "eqNumInitial": 1,
   "hotkeys": {
    "equation": "Ctrl-E",
    "itemize": "Ctrl-I"
   },
   "labels_anchors": false,
   "latex_user_defs": false,
   "report_style_numbering": false,
   "user_envs_cfg": false
  },
  "toc": {
   "base_numbering": 1,
   "nav_menu": {},
   "number_sections": true,
   "sideBar": true,
   "skip_h1_title": false,
   "title_cell": "Table of Contents",
   "title_sidebar": "Contents",
   "toc_cell": false,
   "toc_position": {},
   "toc_section_display": true,
   "toc_window_display": false
  },
  "varInspector": {
   "cols": {
    "lenName": 16,
    "lenType": 16,
    "lenVar": 40
   },
   "kernels_config": {
    "python": {
     "delete_cmd_postfix": "",
     "delete_cmd_prefix": "del ",
     "library": "var_list.py",
     "varRefreshCmd": "print(var_dic_list())"
    },
    "r": {
     "delete_cmd_postfix": ") ",
     "delete_cmd_prefix": "rm(",
     "library": "var_list.r",
     "varRefreshCmd": "cat(var_dic_list()) "
    }
   },
   "types_to_exclude": [
    "module",
    "function",
    "builtin_function_or_method",
    "instance",
    "_Feature"
   ],
   "window_display": false
  }
 },
 "nbformat": 4,
 "nbformat_minor": 2
}
