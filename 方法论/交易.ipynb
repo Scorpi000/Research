{
 "cells": [
  {
   "cell_type": "markdown",
   "metadata": {},
   "source": [
    "# 交易\n",
    "\n",
    "## 最小化交易成本\n",
    "\n",
    "**避免交易低价股**\n",
    "\n",
    "低价股不仅会增加总佣金成本，还会有相对较高的买卖价差，从而增加总流动性成本。\n",
    "\n",
    "**根据股票流动性限制订单规模**\n",
    "\n",
    "衡量流动性的常用指标是平均日交易量。\n",
    "\n",
    "经验法则（\\cite{Chan:2009}）：单个订单的股票数不宜超过平均日交易量的 1%。\n",
    "\n",
    "**根据股票市值决定订单规模**\n",
    "\n",
    "决定订单规模的方法并不是精确的科学，但绝大数从业人员不建议采用线性比例方法，上市公司的市值差别很大，而线性比例方法（按市值的一定线性比例确定投入的资本）会导致交易组合剔除掉绝大多数小盘股和微盘股，失去了分散投资的好处。为了获得分散化投资的好处，权重比例不宜超过 10 倍，即资本权重与市值的 4 次方根成正比。\n",
    "\n",
    "**拆分大额指令**\n",
    "\n",
    "这种方法能够减少市场冲击，但会增大滑点。\n"
   ]
  },
  {
   "cell_type": "markdown",
   "metadata": {},
   "source": [
    "## 仿真交易\n",
    "\n",
    "事实上，仿真交易是在不亏钱的情况下能够查找自动交易系统漏洞的唯一方法。比如仿真交易可以发现策略的前视偏差。另外，仿真交易可以使你对策略有更好的直观理解，包括盈亏波动、所用的资本量、每天交易次数和包括数据在内的各种操作难题。\n",
    "\n",
    "仿真交易是纯粹的样本外测试，从而极有可能发现策略的过拟合偏差。"
   ]
  },
  {
   "cell_type": "markdown",
   "metadata": {},
   "source": [
    "## 实际业绩偏离预期的原因\n",
    "\n",
    "诊断：\n",
    "* 自动交易系统生成的交易是否与回测程序生成的交易匹配；\n",
    "* 交易成本是否高于预期；\n",
    "* 是否发生了状态转换（Regime Switch），即金融市场结构或者宏观环境发生较大的变化；\n",
    "* 如果策略有卖空交易，是否交易的股票融券困难。"
   ]
  },
  {
   "cell_type": "markdown",
   "metadata": {},
   "source": [
    "# References\n",
    "\n",
    "[<a id=\"cit-Chan:2009\" href=\"#call-Chan:2009\">Chan:2009</a>] Ernest Chan, ``_Quantitative trading: how to build your own algorithmic trading business_'',  2009.\n",
    "\n"
   ]
  }
 ],
 "metadata": {
  "kernelspec": {
   "display_name": "Python 3",
   "language": "python",
   "name": "python3"
  },
  "language_info": {
   "codemirror_mode": {
    "name": "ipython",
    "version": 3
   },
   "file_extension": ".py",
   "mimetype": "text/x-python",
   "name": "python",
   "nbconvert_exporter": "python",
   "pygments_lexer": "ipython3",
   "version": "3.5.4"
  },
  "latex_envs": {
   "LaTeX_envs_menu_present": true,
   "autoclose": true,
   "autocomplete": true,
   "bibliofile": "biblio.bib",
   "cite_by": "key",
   "current_citInitial": 1,
   "eqLabelWithNumbers": true,
   "eqNumInitial": 1,
   "hotkeys": {
    "equation": "Ctrl-E",
    "itemize": "Ctrl-I"
   },
   "labels_anchors": false,
   "latex_user_defs": false,
   "report_style_numbering": false,
   "user_envs_cfg": false
  },
  "toc": {
   "base_numbering": 1,
   "nav_menu": {},
   "number_sections": true,
   "sideBar": true,
   "skip_h1_title": false,
   "title_cell": "Table of Contents",
   "title_sidebar": "Contents",
   "toc_cell": false,
   "toc_position": {},
   "toc_section_display": true,
   "toc_window_display": false
  },
  "varInspector": {
   "cols": {
    "lenName": 16,
    "lenType": 16,
    "lenVar": 40
   },
   "kernels_config": {
    "python": {
     "delete_cmd_postfix": "",
     "delete_cmd_prefix": "del ",
     "library": "var_list.py",
     "varRefreshCmd": "print(var_dic_list())"
    },
    "r": {
     "delete_cmd_postfix": ") ",
     "delete_cmd_prefix": "rm(",
     "library": "var_list.r",
     "varRefreshCmd": "cat(var_dic_list()) "
    }
   },
   "types_to_exclude": [
    "module",
    "function",
    "builtin_function_or_method",
    "instance",
    "_Feature"
   ],
   "window_display": false
  }
 },
 "nbformat": 4,
 "nbformat_minor": 2
}
