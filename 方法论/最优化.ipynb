{
 "cells": [
  {
   "cell_type": "markdown",
   "metadata": {},
   "source": [
    "# 二次规划\n",
    "\n",
    "<a id='QuandprogWithEqConstraint'></a>\n",
    "## 等式约束下的二次规划问题\n",
    "\n",
    "等式约束下的二次规划问题：\n",
    "$$\n",
    "\\begin{aligned}\n",
    "& \\mathop{\\min}_{\\mathbf{x}}\\mathbf{x}'\\mathbf{V}\\mathbf{x}\\\\\n",
    "& \\rm{s.t.}\\ \\mathbf{A}\\mathbf{x}=\\mathbf{b}\n",
    "\\end{aligned}\n",
    "$$\n",
    "\n",
    "Lagrange 函数为：\n",
    "$$\n",
    "L(\\mathbf{x}, \\boldsymbol{\\lambda}) = \\mathbf{x}'\\mathbf{V}\\mathbf{x}+\\boldsymbol{\\lambda}'(\\mathbf{A}\\mathbf{x}-\\mathbf{b})\n",
    "$$\n",
    "\n",
    "极值点的一阶必要条件：\n",
    "$$\n",
    "\\left\\{\n",
    "\\begin{aligned}\n",
    "& \\frac{\\partial L}{\\partial \\mathbf{x}} = 2\\mathbf{V}\\mathbf{x}+\\mathbf{A}'\\boldsymbol{\\lambda} = 0\\\\\n",
    "& \\frac{\\partial L}{\\partial \\mathbf{\\lambda}} = \\mathbf{A}\\mathbf{x}-\\mathbf{b} = 0\n",
    "\\end{aligned}\n",
    "\\right.\n",
    "$$\n",
    "即：\n",
    "$$\n",
    "\\begin{pmatrix} 2\\mathbf{V} & \\mathbf{A}' \\\\ \\mathbf{A} & \\mathbf{0} \\end{pmatrix} \\begin{pmatrix} \\mathbf{x} \\\\ \\boldsymbol{\\lambda} \\end{pmatrix} = \\begin{pmatrix} \\mathbf{0} \\\\ \\mathbf{b} \\end{pmatrix}\n",
    "$$\n",
    "由[分块矩阵的逆公式](.\\矩阵运算.ipynb\\#InvOfBlockMatrix)得：\n",
    "$$\n",
    "\\left\\{\n",
    "\\begin{aligned}\n",
    "& \\mathbf{x} = \\mathbf{V}^{-1}\\mathbf{A}'(\\mathbf{A}\\mathbf{V}^{-1}\\mathbf{A})^{-1}\\mathbf{b}\\\\\n",
    "& \\boldsymbol{\\lambda} = -2(\\mathbf{A}\\mathbf{V}^{-1}\\mathbf{A})^{-1}\\mathbf{b}\n",
    "\\end{aligned}\n",
    "\\right.\n",
    "$$\n"
   ]
  },
  {
   "cell_type": "markdown",
   "metadata": {},
   "source": [
    "# Lagrange 对偶性\n",
    "\n",
    "**原问题（Primal Problem）**\n",
    "\n",
    "考虑约束最优化问题：\n",
    "$$\n",
    "\\begin{aligned}\n",
    "\\mathop{\\min}_{\\mathbf{x}\\in\\mathbf{R}^n}&\\ f(\\mathbf{x})\\\\\n",
    "\\rm{s.t.}&\\ c_i(\\mathbf{x})\\leq0,\\ i=1,2,\\ldots,k\\\\\n",
    "&\\ h_j(\\mathbf{x})=0,\\ j=1,2,\\ldots,l\n",
    "\\end{aligned}\n",
    "$$\n",
    "记可行域为：$\\mathcal{C}=\\{\\mathbf{x}\\in\\mathbf{R}^n|\\mathbf{c}(\\mathbf{x})\\leq\\mathbf{0},\\ \\mathbf{h}(\\mathbf{x})=\\mathbf{0}\\}$，其中，$\\mathbf{c}(\\mathbf{x})=(c_1(\\mathbf{x}),\\ldots,c_k(\\mathbf{x}))', \\mathbf{h}(\\mathbf{x})=(h_1(\\mathbf{x}),\\ldots,h_l(\\mathbf{x}))'$。\n",
    "\n",
    "引入**广义 Lagrange 函数（Generalized Lagrange Function）**：\n",
    "$$\n",
    "L(\\mathbf{x}, \\boldsymbol{\\alpha}, \\boldsymbol{\\beta}) = f(\\mathbf{x}) + \\sum\\limits_{i=1}^{k}\\alpha_ic_i(\\mathbf{x}) + \\sum\\limits_{j=1}^{l}\\beta_jh_j(\\mathbf{x})\n",
    "$$\n",
    "其中，$\\boldsymbol{\\alpha}\\geq\\mathbf{0},\\boldsymbol{\\beta}$ 是 **Lagrange 乘子（Lagrange Multiplier）**，定义关于 $\\mathbf{x}$ 的函数：\n",
    "$$\n",
    "\\theta_P(\\mathbf{x}) = \\mathop{\\max}_{\\boldsymbol{\\alpha}\\geq\\mathbf{0},\\boldsymbol{\\beta}}\\ L(\\mathbf{x}, \\boldsymbol{\\alpha}, \\boldsymbol{\\beta})=\\left\\{\n",
    "\\begin{aligned}\n",
    "& f(\\mathbf{x}),\\ \\mathbf{x}\\in\\mathcal{C}\\\\\n",
    "& +\\infty, \\ \\mathbf{x}\\notin\\mathcal{C}\n",
    "\\end{aligned}\n",
    "\\right.\n",
    "$$\n",
    "从而原约束最优化问题等价于下面的无约束最优化问题：\n",
    "$$\n",
    "\\min_{\\mathbf{x}\\in\\mathbf{R}^n}\\theta_P(\\mathbf{x})=\\min_{\\mathbf{x}\\in\\mathbf{R}^n}\\max_{\\boldsymbol{\\alpha}\\geq\\mathbf{0},\\boldsymbol{\\beta}}\\ L(\\mathbf{x}, \\boldsymbol{\\alpha}, \\boldsymbol{\\beta})\n",
    "$$\n",
    "上述问题也称为**广义 Lagrange 函数 $L(\\mathbf{x}, \\boldsymbol{\\alpha}, \\boldsymbol{\\beta})$ 的极小极大问题**。"
   ]
  },
  {
   "cell_type": "markdown",
   "metadata": {},
   "source": [
    "**对偶问题（Dual Problem）**\n",
    "\n",
    "定义关于 $(\\boldsymbol{\\alpha},\\boldsymbol{\\beta})$ 的函数：\n",
    "$$\n",
    "\\theta_D(\\boldsymbol{\\alpha},\\boldsymbol{\\beta})=\\min_{\\mathbf{x}\\in\\mathcal{R}^n}L(\\mathbf{x},\\boldsymbol{\\alpha},\\boldsymbol{\\beta})\n",
    "$$\n",
    "则原问题的对偶问题为：\n",
    "$$\n",
    "\\begin{aligned}\n",
    "\\max_{\\boldsymbol{\\alpha},\\boldsymbol{\\beta}}&\\ \\theta_D(\\boldsymbol{\\alpha},\\boldsymbol{\\beta})=\\max_{\\boldsymbol{\\alpha},\\boldsymbol{\\beta}}\\min_{\\mathbf{x}\\in\\mathbf{R}^n}\\ L(\\mathbf{x}, \\boldsymbol{\\alpha}, \\boldsymbol{\\beta})\\\\\n",
    "\\rm{s.t.}&\\ \\boldsymbol{\\alpha}\\geq\\mathbf{0}\n",
    "\\end{aligned}\n",
    "$$\n",
    "上述问题也称为**广义 Lagrange 函数 $L(\\mathbf{x}, \\boldsymbol{\\alpha}, \\boldsymbol{\\beta})$ 的极大极小问题**。"
   ]
  },
  {
   "cell_type": "markdown",
   "metadata": {},
   "source": [
    "**原问题和对偶问题的关系**\n",
    "\n",
    "* 若原问题和对偶问题均有最优解，则：\n",
    "$$\n",
    "\\min_{\\mathbf{x}\\in\\mathbf{R}^n}\\theta_P(\\mathbf{x})=\\max_{\\boldsymbol{\\alpha},\\boldsymbol{\\beta}}\\min_{\\mathbf{x}\\in\\mathbf{R}^n}\\ L(\\mathbf{x}, \\boldsymbol{\\alpha}, \\boldsymbol{\\beta})\\leq\\min_{\\mathbf{x}\\in\\mathbf{R}^n}\\max_{\\boldsymbol{\\alpha}\\geq\\mathbf{0},\\boldsymbol{\\beta}}\\ L(\\mathbf{x}, \\boldsymbol{\\alpha}, \\boldsymbol{\\beta})=\\max_{\\boldsymbol{\\alpha}\\geq\\mathbf{0},\\boldsymbol{\\beta}}\\theta_D(\\boldsymbol{\\alpha},\\boldsymbol{\\beta})\n",
    "$$\n",
    "\n",
    "\n",
    "* 若 $\\mathbf{x}^*$ 是原问题的可行解，$(\\boldsymbol{\\alpha}^*, \\boldsymbol{\\beta}^*)$ 是对偶问题的可行解，并且有 $\\theta_P(\\mathbf{x}^*)=\\theta_D(\\boldsymbol{\\alpha}^*, \\boldsymbol{\\beta}^*)$，则 $\\mathbf{x}^*$ 和 $(\\boldsymbol{\\alpha}^*, \\boldsymbol{\\beta}^*)$ 分别是原问题和对偶问题的最优解。\n",
    "\n",
    "\n",
    "* 假设 $f(\\mathbf{x})$ 和 $c_i(\\mathbf{x})$ 均为凸函数，$h_j(\\mathbf{x})$ 为仿射函数，并且假设不等式约束 $c_i(\\mathbf{x})$ 是严格可行的，即：\n",
    "$$\n",
    "\\exists \\mathbf{x}\\in\\mathcal{R}^n,\\ s.t.\\ c_i(\\mathbf{x})<0,\\ \\forall i\n",
    "$$\n",
    "那么存在 $\\mathbf{x}^*, \\boldsymbol{\\alpha}^*, \\boldsymbol{\\beta}^*$，使得 $\\mathbf{x}^*$ 是原问题的解，$\\boldsymbol{\\alpha}^*, \\boldsymbol{\\beta}^*$ 是对偶问题的解，并且：\n",
    "$$\n",
    "\\theta_P(\\mathbf{x}^*)=\\theta_D(\\boldsymbol{\\alpha}^*, \\boldsymbol{\\beta}^*)\n",
    "$$\n",
    "\n",
    "\n",
    "* 假设 $f(\\mathbf{x})$ 和 $c_i(\\mathbf{x})$ 均为凸函数，$h_j(\\mathbf{x})$ 为仿射函数，并且假设不等式约束 $c_i(\\mathbf{x})$ 是严格可行的，即：\n",
    "$$\n",
    "\\exists \\mathbf{x}\\in\\mathcal{R}^n,\\ s.t.\\ c_i(\\mathbf{x})<0,\\ \\forall i\n",
    "$$\n",
    "那么 $\\mathbf{x}^*$ 和 $\\boldsymbol{\\alpha}^*, \\boldsymbol{\\beta}^*$ 分别是原问题和对偶问题的解的充要条件为，$\\mathbf{x}^*, \\boldsymbol{\\alpha}^*, \\boldsymbol{\\beta}^*$ 满足下面的 **KKT（Karush-Kuhn-Tucker）条件**：\n",
    "$$\n",
    "\\begin{aligned}\n",
    "& \\nabla_\\mathbf{x}L(\\mathbf{x}^*, \\boldsymbol{\\alpha}^*, \\boldsymbol{\\beta}^*)=\\mathbf{0}\\\\\n",
    "& \\nabla_\\boldsymbol{\\alpha}L(\\mathbf{x}^*, \\boldsymbol{\\alpha}^*, \\boldsymbol{\\beta}^*)=\\mathbf{0}\\\\\n",
    "& \\nabla_\\boldsymbol{\\beta}L(\\mathbf{x}^*, \\boldsymbol{\\alpha}^*, \\boldsymbol{\\beta}^*)=\\mathbf{0}\\\\\n",
    "& \\alpha_i^*c_i(\\mathbf{x}^*)=0,\\ i=1,\\ldots,k\\\\\n",
    "& c_i(\\mathbf{x}^*)\\leq0,\\ i=1,\\ldots,k\\\\\n",
    "& \\alpha_i^*\\geq0,\\ i=1,\\ldots,k\\\\\n",
    "& h_j(\\mathbf{x}^*)=0,\\ j=1,\\ldots,l\\\\\n",
    "\\end{aligned}\n",
    "$$\n",
    "其中，$\\alpha_i^*c_i(\\mathbf{x}^*)=0$ 称为 KKT 的**对偶互补条件**，由此条件可知：若 $\\alpha^*_i>0$，则 $c_i(\\mathbf{x}^*)=0$；若 $c_i(\\mathbf{x}^*)<0$，则 $\\alpha^*_i=0$。"
   ]
  },
  {
   "cell_type": "markdown",
   "metadata": {},
   "source": [
    "# References\n",
    "\n",
    "1. 李航，统计学习方法，2012-03"
   ]
  }
 ],
 "metadata": {
  "kernelspec": {
   "display_name": "Python 3",
   "language": "python",
   "name": "python3"
  },
  "language_info": {
   "codemirror_mode": {
    "name": "ipython",
    "version": 3
   },
   "file_extension": ".py",
   "mimetype": "text/x-python",
   "name": "python",
   "nbconvert_exporter": "python",
   "pygments_lexer": "ipython3",
   "version": "3.7.0"
  },
  "latex_envs": {
   "LaTeX_envs_menu_present": true,
   "autoclose": true,
   "autocomplete": true,
   "bibliofile": "biblio.bib",
   "cite_by": "apalike",
   "current_citInitial": 1,
   "eqLabelWithNumbers": true,
   "eqNumInitial": 1,
   "hotkeys": {
    "equation": "Ctrl-E",
    "itemize": "Ctrl-I"
   },
   "labels_anchors": false,
   "latex_user_defs": false,
   "report_style_numbering": false,
   "user_envs_cfg": false
  },
  "toc": {
   "base_numbering": 1,
   "nav_menu": {},
   "number_sections": true,
   "sideBar": true,
   "skip_h1_title": false,
   "title_cell": "Table of Contents",
   "title_sidebar": "Contents",
   "toc_cell": false,
   "toc_position": {},
   "toc_section_display": true,
   "toc_window_display": false
  },
  "varInspector": {
   "cols": {
    "lenName": 16,
    "lenType": 16,
    "lenVar": 40
   },
   "kernels_config": {
    "python": {
     "delete_cmd_postfix": "",
     "delete_cmd_prefix": "del ",
     "library": "var_list.py",
     "varRefreshCmd": "print(var_dic_list())"
    },
    "r": {
     "delete_cmd_postfix": ") ",
     "delete_cmd_prefix": "rm(",
     "library": "var_list.r",
     "varRefreshCmd": "cat(var_dic_list()) "
    }
   },
   "types_to_exclude": [
    "module",
    "function",
    "builtin_function_or_method",
    "instance",
    "_Feature"
   ],
   "window_display": false
  }
 },
 "nbformat": 4,
 "nbformat_minor": 2
}
