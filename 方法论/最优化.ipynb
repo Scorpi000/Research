{
 "cells": [
  {
   "cell_type": "markdown",
   "metadata": {},
   "source": [
    "# 二次规划\n",
    "\n",
    "<a id='QuandprogWithEqConstraint'></a>\n",
    "## 等式约束下的二次规划问题\n",
    "\n",
    "优化问题：\n",
    "$$\n",
    "\\begin{aligned}\n",
    "& \\mathop{\\min}_{\\mathbf{x}}\\mathbf{x}'\\mathbf{V}\\mathbf{x}\\\\\n",
    "& \\rm{s.t.}\\ \\mathbf{A}\\mathbf{x}=\\mathbf{b}\n",
    "\\end{aligned}\n",
    "$$\n",
    "\n",
    "Lagrange 函数为：\n",
    "$$\n",
    "L(\\mathbf{x}, \\boldsymbol{\\lambda}) = \\mathbf{x}'\\mathbf{V}\\mathbf{x}+\\boldsymbol{\\lambda}'(\\mathbf{A}\\mathbf{x}-\\mathbf{b})\n",
    "$$\n",
    "\n",
    "极值点的一阶必要条件：\n",
    "$$\n",
    "\\left\\{\n",
    "\\begin{aligned}\n",
    "& \\frac{\\partial L}{\\partial \\mathbf{x}} = 2\\mathbf{V}\\mathbf{x}+\\mathbf{A}'\\boldsymbol{\\lambda} = 0\\\\\n",
    "& \\frac{\\partial L}{\\partial \\mathbf{\\lambda}} = \\mathbf{A}\\mathbf{x}-\\mathbf{b} = 0\n",
    "\\end{aligned}\n",
    "\\right.\n",
    "$$\n",
    "即：\n",
    "$$\n",
    "\\begin{pmatrix} 2\\mathbf{V} & \\mathbf{A}' \\\\ \\mathbf{A} & \\mathbf{0} \\end{pmatrix} \\begin{pmatrix} \\mathbf{x} \\\\ \\boldsymbol{\\lambda} \\end{pmatrix} = \\begin{pmatrix} \\mathbf{0} \\\\ \\mathbf{b} \\end{pmatrix}\n",
    "$$\n",
    "由[分块矩阵的逆公式](.\\矩阵运算.ipynb\\#InvOfBlockMatrix)得：\n",
    "$$\n",
    "\\left\\{\n",
    "\\begin{aligned}\n",
    "& \\mathbf{x} = \\mathbf{V}^{-1}\\mathbf{A}'(\\mathbf{A}\\mathbf{V}^{-1}\\mathbf{A})^{-1}\\mathbf{b}\\\\\n",
    "& \\boldsymbol{\\lambda} = -2(\\mathbf{A}\\mathbf{V}^{-1}\\mathbf{A})^{-1}\\mathbf{b}\n",
    "\\end{aligned}\n",
    "\\right.\n",
    "$$\n"
   ]
  },
  {
   "cell_type": "code",
   "execution_count": null,
   "metadata": {},
   "outputs": [],
   "source": []
  }
 ],
 "metadata": {
  "kernelspec": {
   "display_name": "Python 3",
   "language": "python",
   "name": "python3"
  },
  "language_info": {
   "codemirror_mode": {
    "name": "ipython",
    "version": 3
   },
   "file_extension": ".py",
   "mimetype": "text/x-python",
   "name": "python",
   "nbconvert_exporter": "python",
   "pygments_lexer": "ipython3",
   "version": "3.5.4"
  },
  "latex_envs": {
   "LaTeX_envs_menu_present": true,
   "autoclose": true,
   "autocomplete": true,
   "bibliofile": "biblio.bib",
   "cite_by": "apalike",
   "current_citInitial": 1,
   "eqLabelWithNumbers": true,
   "eqNumInitial": 1,
   "hotkeys": {
    "equation": "Ctrl-E",
    "itemize": "Ctrl-I"
   },
   "labels_anchors": false,
   "latex_user_defs": false,
   "report_style_numbering": false,
   "user_envs_cfg": false
  },
  "toc": {
   "base_numbering": 1,
   "nav_menu": {},
   "number_sections": true,
   "sideBar": true,
   "skip_h1_title": false,
   "title_cell": "Table of Contents",
   "title_sidebar": "Contents",
   "toc_cell": false,
   "toc_position": {},
   "toc_section_display": true,
   "toc_window_display": false
  },
  "varInspector": {
   "cols": {
    "lenName": 16,
    "lenType": 16,
    "lenVar": 40
   },
   "kernels_config": {
    "python": {
     "delete_cmd_postfix": "",
     "delete_cmd_prefix": "del ",
     "library": "var_list.py",
     "varRefreshCmd": "print(var_dic_list())"
    },
    "r": {
     "delete_cmd_postfix": ") ",
     "delete_cmd_prefix": "rm(",
     "library": "var_list.r",
     "varRefreshCmd": "cat(var_dic_list()) "
    }
   },
   "types_to_exclude": [
    "module",
    "function",
    "builtin_function_or_method",
    "instance",
    "_Feature"
   ],
   "window_display": false
  }
 },
 "nbformat": 4,
 "nbformat_minor": 2
}
