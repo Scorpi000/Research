{
 "cells": [
  {
   "cell_type": "markdown",
   "metadata": {},
   "source": [
    "# EM 算法"
   ]
  },
  {
   "cell_type": "markdown",
   "metadata": {},
   "source": [
    "**EM 算法（Expectation Maximization Algorithm）**于 1977 年由 Dempster 等人提出，用于含有**隐变量（Hidden Variable）**或者**潜在变量（Latent Variable）**的概率模型参数的极大似然估计或极大后验概率估计。\n",
    "\n",
    "用 $Y$ 表示观测随机变量的数据，$Z$ 表示隐随机变量的数据。$Y$ 和 $Z$ 合起来称为**完全数据（Complete-Data）**，只有观测数据称为**不完全数据（Incomplete-Data）**。假设需要估计的参数为 $\\theta$，记：\n",
    "* 不完全数据的概率分布为 $P(Y|\\theta)$，对数似然函数为 $L(\\theta)=\\log P(Y|\\theta)$；\n",
    "* 完全数据的联合概率分布为 $P(Y,Z|\\theta)$，对数似然函数为 $\\log P(Y,Z|\\theta)$。\n"
   ]
  },
  {
   "cell_type": "markdown",
   "metadata": {},
   "source": [
    "EM 算法通过迭代求不完全数据的对数似然函数 $L(\\theta)$ 的极大似然估计：\n",
    "1. 选择参数的初始值 $\\theta^{(0)}$，开始迭代；（初值可以任意选择，但 EM 算法对初值是敏感的）\n",
    "2. E 步：求期望，设第 i 次迭代的参数估计值为 $\\theta^{(i)}$，计算给定观测数据 $Y$ 和当前参数估计 $\\theta^{(i)}$ 条件下完全数据联合分布对数似然函数的关于隐变量 $Z$ 的条件期望，称为 **Q 函数（Q Function）**：\n",
    "$$\n",
    "Q(\\theta,\\theta^{(i)}) = \\mathbb{E}_Z\\left[ \\log P(Y,Z|\\theta) \\big| Y,\\theta^{(i)} \\right] = \\sum\\limits_{Z}\\log P(Y,Z|\\theta) \\cdot P(Z|Y,\\theta^{(i)})\n",
    "$$\n",
    "3. M 步：极大化，求使得 Q 函数极大化的 $\\theta$ 作为新的参数估计值 $\\theta^{(i+1)}$:\n",
    "$$\n",
    "\\theta^{(i+1)} = \\mathop{\\arg\\max}_\\theta Q(\\theta,\\theta^{(i)})\n",
    "$$\n",
    "4. 重复 2,3 步直到满足停止迭代的条件，一般为给定容许误差 $\\varepsilon$，满足如下条件则停止迭代：\n",
    "$$\n",
    "\\left\\|\\theta^{(i+1)} - \\theta^{(i+1)}\\right\\| < \\varepsilon \\textrm{ 或者 } \\left\\|Q(\\theta^{(i+1)},\\theta^{(i)}) - Q(\\theta^{(i)},\\theta^{(i)})\\right\\| < \\varepsilon\n",
    "$$"
   ]
  },
  {
   "cell_type": "markdown",
   "metadata": {},
   "source": [
    "# 算法推导\n",
    "\n",
    "对于含有隐变量的概率模型，极大似然估计的目标是极大化观测数据（不完全数据）$Y$ 关于参数 $\\theta$ 的对数似然函数：\n",
    "$$\n",
    "L(\\theta) = \\log P(Y|\\theta) = \\log \\sum\\limits_Z P(Y,Z|\\theta) = \\log \\left(\\sum\\limits_Z P(Y|Z,\\theta)P(Z|\\theta)\\right)\n",
    "$$\n",
    "EM 算法通过迭代逐步近似极大化上式，假设在第 i 次迭代后参数估计值为 $\\theta^{(i)}$，如果新的估计值可以使得 $L(\\theta)$ 增大，即 $L(\\theta)>L(\\theta^{(i)})$，则有可能通过迭代逐步逼近极大值。\n",
    "$$\n",
    "\\begin{aligned}\n",
    "L(\\theta) - L(\\theta^{(i)}) &= \\log \\left(\\sum\\limits_Z P(Y|Z,\\theta)P(Z|\\theta)\\right) - \\log P(Y|\\theta^{(i)})\\\\\n",
    "&= \\log \\left(\\sum\\limits_Z P(Z|Y,\\theta^{(i)})\\frac{P(Y|Z,\\theta)P(Z|\\theta)}{P(Z|Y,\\theta^{(i)})}\\right) - \\log P(Y|\\theta^{(i)})\\\\\n",
    "&\\geq \\sum\\limits_Z P(Z|Y,\\theta^{(i)}) \\log \\frac{P(Y|Z,\\theta)P(Z|\\theta)}{P(Z|Y,\\theta^{(i)})} - \\log P(Y|\\theta^{(i)}),\\textrm{( Jensen 不等式)}\\\\\n",
    "&= \\sum\\limits_Z P(Z|Y,\\theta^{(i)}) \\log \\frac{P(Y|Z,\\theta)P(Z|\\theta)}{P(Z|Y,\\theta^{(i)})P(Y|\\theta^{(i)})}\n",
    "\\end{aligned}\n",
    "$$\n",
    "记\n",
    "$$\n",
    "B(\\theta,\\theta^{(i)}) = L(\\theta^{(i)}) + \\sum\\limits_Z P(Z|Y,\\theta^{(i)}) \\log \\frac{P(Y|Z,\\theta)P(Z|\\theta)}{P(Z|Y,\\theta^{(i)})P(Y|\\theta^{(i)})}\n",
    "$$\n",
    "则 $L(\\theta)\\geq B(\\theta,\\theta^{(i)})$，即 $B(\\theta,\\theta^{(i)})$ 是 $L(\\theta)$ 的下界且有\n",
    "$$\n",
    "L(\\theta^{(i)}) = B(\\theta^{(i)},\\theta^{(i)})\n",
    "$$\n",
    "从而任何可以使得 $B(\\theta,\\theta^{(i)})$ 增大的 $\\theta$ 同样也可以使得 $L(\\theta)$ 增大，即任意满足 $B(\\hat{\\theta},\\theta^{(i)})\\geq B(\\theta^{(i)},\\theta^{(i)})$ 的 $\\hat{\\theta}$ 均有：\n",
    "$$\n",
    "L(\\hat{\\theta}) \\geq B(\\hat{\\theta},\\theta^{(i)}) \\geq B(\\theta^{(i)},\\theta^{(i)}) = L(\\theta^{(i)})\n",
    "$$\n",
    "为了使得 $L(\\theta)$ 尽可能的增大，选择 $\\theta^{(i+1)}$ 为 $B(\\theta,\\theta^{(i)})$ 的极大值点：\n",
    "$$\n",
    "\\begin{aligned}\n",
    "\\theta^{(i+1)} &= \\mathop{\\arg\\max}_\\theta B(\\theta,\\theta^{(i)})\\\\\n",
    "&= \\mathop{\\arg\\max}_\\theta \\left( L(\\theta^{(i)}) + \\sum\\limits_Z P(Z|Y,\\theta^{(i)}) \\log \\frac{P(Y|Z,\\theta)P(Z|\\theta)}{P(Z|Y,\\theta^{(i)})P(Y|\\theta^{(i)})} \\right)\\\\\n",
    "&= \\mathop{\\arg\\max}_\\theta \\left( \\sum\\limits_Z P(Z|Y,\\theta^{(i)}) \\log \\left[P(Y|Z,\\theta)P(Z|\\theta)\\right] \\right)\\\\\n",
    "&= \\mathop{\\arg\\max}_\\theta \\left( \\sum\\limits_Z P(Z|Y,\\theta^{(i)}) \\log P(Y,Z|\\theta) \\right)\\\\\n",
    "&= \\mathop{\\arg\\max}_\\theta Q(\\theta,\\theta^{(i)})\\\\\n",
    "\\end{aligned}\n",
    "$$"
   ]
  },
  {
   "cell_type": "markdown",
   "metadata": {},
   "source": [
    "# 参考文献\n",
    "\n",
    "[<a id=\"cit-李航:2012\" href=\"#call-李航:2012\">李航:2012</a>] 李航, 统计学习方法, 清华大学出版社, 2012."
   ]
  }
 ],
 "metadata": {
  "hide_input": false,
  "kernelspec": {
   "display_name": "Python 3",
   "language": "python",
   "name": "python3"
  },
  "language_info": {
   "codemirror_mode": {
    "name": "ipython",
    "version": 3
   },
   "file_extension": ".py",
   "mimetype": "text/x-python",
   "name": "python",
   "nbconvert_exporter": "python",
   "pygments_lexer": "ipython3",
   "version": "3.7.0"
  },
  "latex_envs": {
   "LaTeX_envs_menu_present": true,
   "autoclose": true,
   "autocomplete": true,
   "bibliofile": "biblio.bib",
   "cite_by": "apalike",
   "current_citInitial": 1,
   "eqLabelWithNumbers": true,
   "eqNumInitial": 1,
   "hotkeys": {
    "equation": "Ctrl-E",
    "itemize": "Ctrl-I"
   },
   "labels_anchors": false,
   "latex_user_defs": false,
   "report_style_numbering": true,
   "user_envs_cfg": false
  },
  "toc": {
   "base_numbering": 1,
   "nav_menu": {},
   "number_sections": true,
   "sideBar": true,
   "skip_h1_title": false,
   "title_cell": "Table of Contents",
   "title_sidebar": "Contents",
   "toc_cell": false,
   "toc_position": {},
   "toc_section_display": true,
   "toc_window_display": true
  },
  "varInspector": {
   "cols": {
    "lenName": 16,
    "lenType": 16,
    "lenVar": 40
   },
   "kernels_config": {
    "python": {
     "delete_cmd_postfix": "",
     "delete_cmd_prefix": "del ",
     "library": "var_list.py",
     "varRefreshCmd": "print(var_dic_list())"
    },
    "r": {
     "delete_cmd_postfix": ") ",
     "delete_cmd_prefix": "rm(",
     "library": "var_list.r",
     "varRefreshCmd": "cat(var_dic_list()) "
    }
   },
   "types_to_exclude": [
    "module",
    "function",
    "builtin_function_or_method",
    "instance",
    "_Feature"
   ],
   "window_display": false
  }
 },
 "nbformat": 4,
 "nbformat_minor": 2
}
