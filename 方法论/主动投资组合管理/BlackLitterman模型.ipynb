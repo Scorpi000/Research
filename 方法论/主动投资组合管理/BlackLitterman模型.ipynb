{
 "cells": [
  {
   "cell_type": "markdown",
   "metadata": {},
   "source": [
    "The Black-Litterman asset allocation model, created by Fischer Black and Robert Litterman, is a sophisticated portfolio construction method that overcomes the problem of unintuitive, highly-concentrated portfolios, input-sensitivity, and estimation error maximization. The Black-Litterman model uses a Bayesian approach to combine the subjective views of an investor regarding the expected returns of one or more assets with the market equilibrium vector of expected returns (the prior distribution) to form a new, mixed estimate of expected returns.\n",
    "\n",
    "\n",
    "\n"
   ]
  },
  {
   "cell_type": "markdown",
   "metadata": {},
   "source": [
    "# 附录\n",
    "\n",
    "## 基于 Sampling Theory 推导 B-L 模型\n",
    "\n",
    "以下内容参考 \\cite{Mankert:2011}。\n",
    "\n",
    "抽样理论基于样本数据进行统计推断，因此假设市场和个体投资者都观察到了资产未来收益率的一组样本，市场观察到的样本收益率由均衡组合来表达，而投资者观察到的样本收益率则反映在其观点中。市场观察到的样本和投资者的不同。\n",
    "\n",
    "假设资产的收益率服从正态分布 $\\mathbf{r}\\sim\\mathcal{N}(\\boldsymbol{\\mu},\\boldsymbol{\\Sigma})$。首先考虑市场对预期收益率的估计，设市场观察到所有 N 个资产的 m 个样本：\n",
    "$$\n",
    "\\mathbf{r}_1,\\mathbf{r}_2,\\ldots,\\mathbf{r}_m\n",
    "$$\n",
    "则根据极大似然估计可知，市场对 $\\boldsymbol{\\mu}$ 的估计，即市场预期收益率为：\n",
    "$$\n",
    "\\bar{\\mathbf{r}}^M = \\frac{1}{m}\\sum\\limits_{i=1}^{m}\\mathbf{r}_i\\sim\\mathcal{N}(\\boldsymbol{\\mu},\\frac{\\boldsymbol{\\Sigma}}{m})\n",
    "$$\n",
    "市场的预期收益率通过均衡组合表达，即该上式得到的估计量应该等于通过逆优化得到的预期收益率：\n",
    "$$\n",
    "\\bar{\\mathbf{r}}^M = \\boldsymbol{\\Pi} = \\lambda\\boldsymbol{\\Sigma}\\mathbf{w}^M\n",
    "$$\n",
    "\n",
    "下面考虑投资者对预期收益率的估计，投资者可能没有观察到单个资产的收益率样本，而是观察到某些资产组合的收益率样本，这些投资组合的权重向量即组成了投资者观点矩阵 $\\mathbf{P}$，每一行为一个投资组合。假设投资者有 $K\\leq N$ 个观点，则矩阵的维度为 $K\\times N$。设投资者观察到投资组合的 n 个样本：\n",
    "$$\n",
    "\\mathbf{q}_1,\\mathbf{q}_2,\\ldots,\\mathbf{q}_n\n",
    "$$\n",
    "其中，$\\mathbf{q}\\sim\\mathcal{N}(\\mathbf{P}\\boldsymbol{\\mu},\\mathbf{P}\\boldsymbol{\\Sigma}\\mathbf{P}')$。同样，可以得到投资者对这些投资组合的预期收益率的最大似然估计为:\n",
    "$$\n",
    "\\bar{\\mathbf{q}} = \\frac{1}{n}\\sum\\limits_{i=1}^{n}\\mathbf{q}_i\\sim\\mathcal{N}(\\mathbf{P}\\boldsymbol{\\mu},\\frac{1}{n}\\mathbf{P}\\boldsymbol{\\Sigma}\\mathbf{P}')\n",
    "$$\n",
    "如果要保持一致性，那么投资者观点的信心矩阵应该满足 $\\boldsymbol{\\Omega} = \\mathbf{P}\\boldsymbol{\\Sigma}\\mathbf{P}'$，即 $\\mathbf{q}\\sim\\mathcal{N}(\\mathbf{P}\\boldsymbol{\\mu},\\boldsymbol{\\Omega})$。投资者的预期收益率通过观点表达，即 $\\bar{\\mathbf{q}}=\\mathbf{Q}$。"
   ]
  },
  {
   "cell_type": "markdown",
   "metadata": {},
   "source": [
    "最后，结合市场和投资者观察到的样本来估计预期收益率。所有样本组成的似然函数可以写成：\n",
    "$$\n",
    "L(\\boldsymbol{\\mu}) = -\\frac{1}{2}\\sum\\limits_{i=1}^{m}(\\mathbf{r}_i-\\boldsymbol{\\mu})'\\boldsymbol{\\Sigma}^{-1}(\\mathbf{r}_i-\\boldsymbol{\\mu}) - \\frac{1}{2}\\sum\\limits_{j=1}^{n}(\\mathbf{q}_j-\\mathbf{P}\\boldsymbol{\\mu})'\\boldsymbol{\\Omega}^{-1}(\\mathbf{q}_j-\\mathbf{P}\\boldsymbol{\\mu})\n",
    "$$\n",
    "求导得：\n",
    "$$\n",
    "\\frac{\\partial L}{\\partial\\boldsymbol{\\mu}} = \\sum\\limits_{i=1}^{m}\\boldsymbol{\\Sigma}^{-1}(\\mathbf{r}_i-\\boldsymbol{\\mu}) + \\sum\\limits_{j=1}^{n}\\mathbf{P}'\\boldsymbol{\\Omega}^{-1}(\\mathbf{q}_j-\\mathbf{P}\\boldsymbol{\\mu}) = 0\n",
    "$$\n",
    "解得预期收益率的最大似然估计为：\n",
    "$$\n",
    "\\boldsymbol{\\mu}^* = \\left(\\frac{m}{n}\\boldsymbol{\\Sigma}^{-1}+\\mathbf{P}'\\boldsymbol{\\Omega}^{-1}\\mathbf{P}\\right)^{-1}\\left(\\frac{m}{n}\\boldsymbol{\\Sigma}^{-1}\\bar{\\mathbf{r}}^M + \\mathbf{P}'\\boldsymbol{\\Omega}^{-1}\\bar{\\mathbf{q}}\\right)\n",
    "$$\n",
    "再令 $\\tau=\\frac{n}{m}$ 得：\n",
    "$$\n",
    "\\boldsymbol{\\mu}^* = \\left((\\tau\\boldsymbol{\\Sigma})^{-1}+\\mathbf{P}'\\boldsymbol{\\Omega}^{-1}\\mathbf{P}\\right)^{-1}\\left((\\tau\\boldsymbol{\\Sigma})^{-1}\\boldsymbol{\\Pi} + \\mathbf{P}'\\boldsymbol{\\Omega}^{-1}\\mathbf{Q}\\right)\n",
    "$$"
   ]
  },
  {
   "cell_type": "markdown",
   "metadata": {},
   "source": [
    "# 参考文献\n",
    "\n",
    "[<a id=\"cit-Idzorek:2005\" href=\"#call-Idzorek:2005\">Idzorek:2005</a>] Thomas M. Idzorek, A Step-by-step Guide to the Black-Litterman Model: Incorporating User-Specified Confidence Levels, Ibbotson Associates, 2005-04-26.\n",
    "\n",
    "[<a id=\"cit-Mankert:2011\" href=\"#call-Mankert:2011\">Mankert:2011</a>] Charlotta Mankert, Michael J. Seiler, Mathematical Derivations and Practical Implications for the Use of the Black-Litterman Model, The Journal of Real Estate Portfolio Management, 2011."
   ]
  }
 ],
 "metadata": {
  "hide_input": false,
  "kernelspec": {
   "display_name": "Python 3",
   "language": "python",
   "name": "python3"
  },
  "language_info": {
   "codemirror_mode": {
    "name": "ipython",
    "version": 3
   },
   "file_extension": ".py",
   "mimetype": "text/x-python",
   "name": "python",
   "nbconvert_exporter": "python",
   "pygments_lexer": "ipython3",
   "version": "3.7.0"
  },
  "latex_envs": {
   "LaTeX_envs_menu_present": true,
   "autoclose": true,
   "autocomplete": true,
   "bibliofile": "biblio.bib",
   "cite_by": "key",
   "current_citInitial": 1,
   "eqLabelWithNumbers": true,
   "eqNumInitial": 1,
   "hotkeys": {
    "equation": "Ctrl-E",
    "itemize": "Ctrl-I"
   },
   "labels_anchors": false,
   "latex_user_defs": false,
   "report_style_numbering": true,
   "user_envs_cfg": false
  },
  "toc": {
   "base_numbering": 1,
   "nav_menu": {
    "height": "193px",
    "width": "252px"
   },
   "number_sections": true,
   "sideBar": true,
   "skip_h1_title": false,
   "title_cell": "Table of Contents",
   "title_sidebar": "Contents",
   "toc_cell": false,
   "toc_position": {},
   "toc_section_display": true,
   "toc_window_display": false
  },
  "varInspector": {
   "cols": {
    "lenName": 16,
    "lenType": 16,
    "lenVar": 40
   },
   "kernels_config": {
    "python": {
     "delete_cmd_postfix": "",
     "delete_cmd_prefix": "del ",
     "library": "var_list.py",
     "varRefreshCmd": "print(var_dic_list())"
    },
    "r": {
     "delete_cmd_postfix": ") ",
     "delete_cmd_prefix": "rm(",
     "library": "var_list.r",
     "varRefreshCmd": "cat(var_dic_list()) "
    }
   },
   "types_to_exclude": [
    "module",
    "function",
    "builtin_function_or_method",
    "instance",
    "_Feature"
   ],
   "window_display": false
  }
 },
 "nbformat": 4,
 "nbformat_minor": 2
}
