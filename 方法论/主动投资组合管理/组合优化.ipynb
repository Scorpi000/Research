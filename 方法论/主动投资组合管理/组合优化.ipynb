{
 "cells": [
  {
   "cell_type": "markdown",
   "metadata": {},
   "source": [
    "# 约束条件\n",
    "\n",
    "常见的约束条件基本属于以下的范畴。\n",
    "\n",
    "## 上下限约束\n",
    "\n",
    "$$\n",
    "\\mathbf{a}\\le\\mathbf{w}-\\mathbf{w}_b\\le\\mathbf{b}\n",
    "$$\n",
    "其中, $\\mathbf{w}_b$ 是基准权重向量, 如果 $\\mathbf{w}_b=\\mathbf{0}$ 表示对绝对权重的限制, 否则表示对相对权重的约束, $\\mathbf{a}$ 是权重约束下限, $\\mathbf{b}$ 是权重约束上限, 比如 $\\mathbf{w}\\ge \\mathbf{0}$ 表示限制为多头投资. \n",
    "\n",
    "## 线性约束\n",
    "\n",
    "一般的线性等式约束条件为：\n",
    "$$\n",
    "\\mathbf{A}\\mathbf{w} = \\mathbf{b}\n",
    "$$\n",
    "线性不等式约束条件为：\n",
    "$$\n",
    "\\mathbf{A}\\mathbf{w} \\leq \\mathbf{b}\n",
    "$$\n",
    "具体的，常见线性约束有：\n",
    "* **预算约束**\n",
    "$$\n",
    "\\mathbf{1}^T \\cdot \\mathbf{w} = a\n",
    "$$\n",
    "其中, $\\mathbf{1}$ 是全 1 向量, $a$ 是总权重, 比如 $a=1$ 表示限制为全额投资。\n",
    "* **因子暴露约束**\n",
    "$$\n",
    "\\mathbf{x}^T \\cdot \\left( \\mathbf{w} - \\mathbf{w}_b \\right) =(\\leq,\\geq) a\n",
    "$$\n",
    "其中, $\\mathbf{x}$ 是因子暴露向量, $\\mathbf{w}_b$ 是基准权重向量, $a$ 是组合相对于基准的超额因子暴露, 比如 $\\mathbf{x}^T\\cdot \\left(\\mathbf{w}-\\mathbf{w}_b\\right) = 0$ 表示风格中性。\n",
    "* **预期收益约束**\n",
    "$$\n",
    "\\boldsymbol{\\mu}^T \\cdot \\mathbf{w} \\ge a\n",
    "$$\n",
    "其中, $\\boldsymbol{\\mu}$ 是预期收益率向量, $a$ 是预期收益下限。\n",
    "\n",
    "## 波动率约束\n",
    "\n",
    "$$\n",
    "\\left(\\mathbf{w}-\\mathbf{w}_b\\right)^T\\cdot \\mathbf{\\Sigma}\\cdot \\left(\\mathbf{w}-\\mathbf{w}_b\\right)\\le \\sigma^2\n",
    "$$\n",
    "其中, $\\mathbf{\\Sigma}$ 是收益率的预期协方差矩阵, $\\mathbf{w}_b$ 是基准权重向量, $\\sigma$ 是组合相对于基准的跟踪误差限制. 如果 $\\mathbf{w}_b=\\mathbf{0}$ 则是对于多头波动率的控制. \n",
    "\n",
    "## 换手率约束\n",
    "\n",
    "$$\n",
    "\\begin{aligned}\n",
    "    & \\sum\\limits_{i=1}^n \\left| w_{i} - w_{0i} \\right| \\leq a \\\\\n",
    "    & \\sum\\limits_{i=1}^n \\left( w_{i} - w_{0i} \\right)^{+} \\leq a \\\\\n",
    "    & \\sum\\limits_{i=1}^n \\left( w_{i} - w_{0i} \\right)^{-} \\leq a \\\\\n",
    "    & A_i \\cdot \\left| w_i - w_{0i} \\right| \\leq a_i \\\\\n",
    "    & A_i \\cdot \\left( w_i - w_{0i} \\right)^+ \\leq a_i \\\\\n",
    "    & A_i \\cdot \\left( w_i - w_{0i} \\right)^- \\leq a_i \\\\\n",
    "\\end{aligned}\n",
    "$$\n",
    "其中, 前三个条件是总换手约束、总买入换手约束以及总卖出换手约束, 后面三个条件分别是个券换手约束、个券买入换手约束以及个券卖出换手约束, $w_{0i}$ 是当前持有的资产 $i$ 的权重, $A_i$ 是资产 $i$ 的成交额。"
   ]
  },
  {
   "cell_type": "markdown",
   "metadata": {},
   "source": [
    "## 整型约束\n",
    "\n",
    "引入 0-1 辅助决策变量：\n",
    "$$\n",
    "\\delta_i = \\left\\{\\begin{aligned}\n",
    "& 1,\\ \\text{if}\\ w_i \\neq 0\\\\\n",
    "& 0,\\ \\text{if}\\ w_i = 0\n",
    "\\end{aligned}\\right.\n",
    "$$\n",
    "常见的整型约束有：\n",
    "* **权重门槛约束**：给定证券 i 的最小持有权重 $a_i$，即证券 i 的权重要么为 0 要么超过 $a_i$\n",
    "$$\n",
    "|w_i|\\geq a_i\\cdot\\delta_i\n",
    "$$\n",
    "* **换手门槛约束**：给定证券 i 的最小换手率 $a_i$，即证券 i 的交易量要么为 0 要么超过 $a_i$\n",
    "$$\n",
    "|w_i - w_{0i}| \\geq a_i\\cdot\\delta_i\n",
    "$$\n",
    "* **基数约束**：即限制权重不为 0 的证券数量：\n",
    "$$\n",
    "\\sum\\limits_{i=1}^n \\delta_i =(\\leq,\\geq) K\n",
    "$$\n",
    "* **整手交易约束**：首先分解权重\n",
    "$$\n",
    "w_i = z_i \\cdot u_i\n",
    "$$\n",
    "其中 $z_i\\in\\mathcal{N}$ 是整型变量，$u_i$ 为证券 i 的交易单位，比如所有证券的持有金额为 $A$，股票 i 的交易价格为 $p_i$，交易单位是 100 股，则 $u_i = \\frac{100p_i}{A}$，然后将优化问题的决策变量 $w_i$ 替换为 $z_i$，最后可能需要对无法满足的约束比如全额投资预算约束 $\\sum\\limits_{i=1}^n w_i = 1$ 引入松弛变量：\n",
    "$$\n",
    "\\begin{aligned}\n",
    "& \\sum\\limits_{i=1}^n u_iz_i + \\varepsilon^+ - \\varepsilon^- = 1\\\\\n",
    "& \\varepsilon^+\\geq 0,\\varepsilon^-\\geq 0\n",
    "\\end{aligned}\n",
    "$$\n",
    "在优化目标中加入惩罚项 $\\gamma(\\varepsilon^+ + \\varepsilon^-)$。"
   ]
  }
 ],
 "metadata": {
  "hide_input": false,
  "kernelspec": {
   "display_name": "Python 3",
   "language": "python",
   "name": "python3"
  },
  "language_info": {
   "codemirror_mode": {
    "name": "ipython",
    "version": 3
   },
   "file_extension": ".py",
   "mimetype": "text/x-python",
   "name": "python",
   "nbconvert_exporter": "python",
   "pygments_lexer": "ipython3",
   "version": "3.7.0"
  },
  "latex_envs": {
   "LaTeX_envs_menu_present": true,
   "autoclose": true,
   "autocomplete": true,
   "bibliofile": "biblio.bib",
   "cite_by": "apalike",
   "current_citInitial": 1,
   "eqLabelWithNumbers": true,
   "eqNumInitial": 1,
   "hotkeys": {
    "equation": "Ctrl-E",
    "itemize": "Ctrl-I"
   },
   "labels_anchors": false,
   "latex_user_defs": false,
   "report_style_numbering": true,
   "user_envs_cfg": false
  },
  "toc": {
   "base_numbering": 1,
   "nav_menu": {},
   "number_sections": true,
   "sideBar": true,
   "skip_h1_title": false,
   "title_cell": "Table of Contents",
   "title_sidebar": "Contents",
   "toc_cell": false,
   "toc_position": {},
   "toc_section_display": true,
   "toc_window_display": true
  },
  "varInspector": {
   "cols": {
    "lenName": 16,
    "lenType": 16,
    "lenVar": 40
   },
   "kernels_config": {
    "python": {
     "delete_cmd_postfix": "",
     "delete_cmd_prefix": "del ",
     "library": "var_list.py",
     "varRefreshCmd": "print(var_dic_list())"
    },
    "r": {
     "delete_cmd_postfix": ") ",
     "delete_cmd_prefix": "rm(",
     "library": "var_list.r",
     "varRefreshCmd": "cat(var_dic_list()) "
    }
   },
   "types_to_exclude": [
    "module",
    "function",
    "builtin_function_or_method",
    "instance",
    "_Feature"
   ],
   "window_display": false
  }
 },
 "nbformat": 4,
 "nbformat_minor": 2
}
