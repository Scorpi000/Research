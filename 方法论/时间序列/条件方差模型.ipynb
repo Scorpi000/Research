{
 "cells": [
  {
   "cell_type": "markdown",
   "metadata": {},
   "source": [
    "# Engle ARCH 检验\n",
    "\n",
    "考虑序列 $r_t$，给定滞后期 L，Engle ARCH 检验的原假设为序列无条件异方差性（Conditional Heteroscedasticity, ARCH Effect）,备择假设为序列服从 ARCH(L) 模型:\n",
    "$$\n",
    "r^2_t = a_0+a_1r^2_{t-1}+\\cdots+a_Lr^2_{t-L}+\\epsilon_t\n",
    "$$\n",
    "备择假设为 $\\exists j=0,\\ldots,L,a_j\\neq0$。\n",
    "\n",
    "检验统计量为 Lagrange 乘数统计量 $TR^2$，其中 $T$ 为样本数量，$R^2$ 为通过回归估计 ARCH(L) 模型的回归 R 平方。\n",
    "\n",
    "原假设下, Lagrange 乘数统计量服从渐进 $\\chi^2(L)$ 分布。\n",
    "\n",
    "注：滞后期 L 的选取会影响检验的效果：\n",
    "Fit a sequence of arima, garch, egarch, or gjr models using estimate. Restrict each model by specifying progressively smaller ARCH lags (i.e., ARCH effects corresponding to increasingly smaller lag polynomial terms).\n",
    "Obtain loglikelihoods from the estimated models.\n",
    "Use lratiotest to evaluate the significance of each restriction. Alternatively, determine information criteria using aicbic and combine them with measures of fit.\n",
    "Residuals in an ARCH process are dependent, but not correlated. Thus, archtest tests for heteroscedasticity without autocorrelation. To test for autocorrelation, use lbqtest.\n",
    "GARCH(P,Q) processes are locally equivalent to ARCH(P + Q) processes. If archtest(res,'Lags',Lags) shows evidence of conditional heteroscedasticity in residuals from a mean model, then it might be better to model a GARCH(P,Q) model with P + Q = Lags."
   ]
  },
  {
   "cell_type": "code",
   "execution_count": null,
   "metadata": {},
   "outputs": [],
   "source": []
  }
 ],
 "metadata": {
  "kernelspec": {
   "display_name": "Python 3",
   "language": "python",
   "name": "python3"
  },
  "language_info": {
   "codemirror_mode": {
    "name": "ipython",
    "version": 3
   },
   "file_extension": ".py",
   "mimetype": "text/x-python",
   "name": "python",
   "nbconvert_exporter": "python",
   "pygments_lexer": "ipython3",
   "version": "3.5.4"
  },
  "latex_envs": {
   "LaTeX_envs_menu_present": true,
   "autoclose": true,
   "autocomplete": true,
   "bibliofile": "biblio.bib",
   "cite_by": "apalike",
   "current_citInitial": 1,
   "eqLabelWithNumbers": true,
   "eqNumInitial": 1,
   "hotkeys": {
    "equation": "Ctrl-E",
    "itemize": "Ctrl-I"
   },
   "labels_anchors": false,
   "latex_user_defs": false,
   "report_style_numbering": false,
   "user_envs_cfg": false
  },
  "toc": {
   "base_numbering": 1,
   "nav_menu": {},
   "number_sections": true,
   "sideBar": true,
   "skip_h1_title": false,
   "title_cell": "Table of Contents",
   "title_sidebar": "Contents",
   "toc_cell": false,
   "toc_position": {},
   "toc_section_display": true,
   "toc_window_display": false
  },
  "varInspector": {
   "cols": {
    "lenName": 16,
    "lenType": 16,
    "lenVar": 40
   },
   "kernels_config": {
    "python": {
     "delete_cmd_postfix": "",
     "delete_cmd_prefix": "del ",
     "library": "var_list.py",
     "varRefreshCmd": "print(var_dic_list())"
    },
    "r": {
     "delete_cmd_postfix": ") ",
     "delete_cmd_prefix": "rm(",
     "library": "var_list.r",
     "varRefreshCmd": "cat(var_dic_list()) "
    }
   },
   "types_to_exclude": [
    "module",
    "function",
    "builtin_function_or_method",
    "instance",
    "_Feature"
   ],
   "window_display": false
  }
 },
 "nbformat": 4,
 "nbformat_minor": 2
}
