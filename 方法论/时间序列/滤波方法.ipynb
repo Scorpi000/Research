{
 "cells": [
  {
   "cell_type": "markdown",
   "metadata": {},
   "source": [
    "# 滤波器\n",
    "\n",
    "给定时间序列：\n",
    "$$\n",
    "\\{x_t\\}_{t=-\\infty}^{\\infty} = \\begin{pmatrix} \\ldots,x_{-2},x_{-1},x_0,x_1,x_2,\\ldots \\end{pmatrix}\n",
    "$$\n",
    "一个有限长度的观测到的时间序列向量 $\\mathbf{x}$ 可以看做该随机过程的一个实现的片段：\n",
    "\n",
    "<img src=\"./images/时间序列观测样本.PNG\" />\n",
    "\n",
    "**滤波器（Filter）**即是将时间序列 $x_t$ 转换为另一个时间序列 $y_t$ 的变换：\n",
    "\n",
    "<img src=\"./images/滤波器.PNG\" />\n",
    "\n",
    "**线性滤波器（Linear Filter）**的输出 $y_t$ 是输入序列 $x_t$ 和**滤波器系数（Filter Coefficients）**序列 $w_t$ 的卷积（Convolution）：\n",
    "$$\n",
    "y_t = \\sum\\limits_{i=-\\infty}^{\\infty} w_ix_{t-i}\n",
    "$$\n",
    "\n",
    "**多级滤波（Multistage Filtering）**或者**滤波器级联（Filter Cascade）**\n",
    "\n",
    "<img src=\"./images/滤波器级联.PNG\" />\n",
    "\n",
    "一个滤波器的输出作为另一个滤波器的输入将多个滤波器串联起来，对于线性滤波器，假设第一个滤波器系数为 $w_1$，第二个滤波器系数为 $w_2$，则滤波器级联的系数为两个系数的卷积 $w_1 * w_2$\n",
    "\n",
    "**因果滤波器（Causal Filter）**或者**物理可实现滤波器（Physically Realizable Filter）**：只需要输入序列当前和过去的值，即：\n",
    "$$\n",
    "y_t = \\sum\\limits_{i=0}^{\\infty} w_ix_{t-i}\n",
    "$$\n",
    "\n",
    "**非时变滤波器（Time Invariant Filter）**：滤波器系数关于时间是常量。"
   ]
  },
  {
   "cell_type": "markdown",
   "metadata": {},
   "source": [
    "# 时域上的线性滤波器\n",
    "\n",
    "**单位脉冲信号（Unit Impulse Signal）**：\n",
    "$$\n",
    "x_t = \\left\\{\\begin{aligned}\n",
    "& 1,\\textrm{  if }t=0\\\\\n",
    "& 0,\\textrm{  otherwise} \n",
    "\\end{aligned}\\right.\n",
    "$$\n",
    "给定单位脉冲信号作为滤波器的输入，滤波器的输出称为**脉冲响应函数（Impulse Response Function）**。\n",
    "\n",
    "对于线性滤波器，其脉冲响应函数即为滤波器系数 $w_t$。\n",
    "\n",
    "在时域上，滤波器根据其脉冲响应可以分为：\n",
    "* **有限脉冲响应滤波器（Finite Impulse Response Filter, FIR Filter）**：即脉冲响应的非零值是有限个；\n",
    "* **无限脉冲响应滤波器（Infinite Impulse Response Filter, IIR Filter）**：即脉冲响应的非零值是无限个。\n",
    "\n",
    "## IIR 滤波器\n",
    "\n",
    "线性滤波器也可以看做如下常系数线性差分方程的特例：\n",
    "$$\n",
    "y_t = \\sum\\limits_{i=1}^L a_iy_{t-i} + \\sum\\limits_{i=0}^M w_ix_{t-i}\n",
    "$$\n",
    "如果 $L\\geq 1$，则该滤波器是一个 IIR 滤波器。"
   ]
  },
  {
   "cell_type": "markdown",
   "metadata": {},
   "source": [
    "## FIR 滤波器\n",
    "\n",
    "FIR 滤波器的一般形式：\n",
    "$$\n",
    "y_t = \\sum\\limits_{i=-N}^M w_ix_{t-i}\n",
    "$$\n",
    "\n",
    "**中心移动平均线**：\n",
    "$$\n",
    "y_t = \\frac{1}{M+N+1}\\sum\\limits_{i=-N}^M x_{t-i}\n",
    "$$\n",
    "\n",
    "由 $(0.5+0.5)^{2N}$ 的展开式作为滤波器系数的一类对称的中心化移动平均滤波器，比如 **Hanning Filter**（$N=2$）：\n",
    "$$\n",
    "y_t = 0.0625x_{t-2} + 0.25x_{t-1} + 0.375x_t + 0.25x_{t+1} + 0.0625x_{t+2}\n",
    "$$\n",
    "当 $N\\to\\infty$，上述滤波器的脉冲响应的形状趋向于正态分布的形状。\n",
    "\n",
    "**Hamming Filter**：\n",
    "$$\n",
    "y_t = 0.23x_{t-1} + 0.54x_{t} + 0.23x_{t+1}\n",
    "$$"
   ]
  },
  {
   "cell_type": "markdown",
   "metadata": {},
   "source": [
    "因果 FIR 滤波器的一般形式：\n",
    "$$\n",
    "y_t = \\sum\\limits_{i=0}^M w_ix_{t-i}\n",
    "$$\n",
    "\n",
    "**简单移动平均线**：\n",
    "$$\n",
    "y_t = \\frac{1}{M+1} \\sum\\limits_{i=0}^M x_{t-i}\n",
    "$$\n",
    "\n",
    "**线性加权移动平均线**：\n",
    "$$\n",
    "y_t = \\frac{2}{(M+1)(M+2)} \\sum\\limits_{i=0}^M (M+1-i)x_{t-i}\n",
    "$$\n",
    "\n",
    "**指数加权移动平均线（Exponential Weighted Moving Average, EWMA）**：\n",
    "$$\n",
    "y_t = \\frac{1}{\\sum\\limits \\phi^i}\\sum\\limits_{i=0}^M \\phi^i x_{t-i}\n",
    "$$\n",
    "\n",
    "**Almon Lag**：\n",
    "$$\n",
    "y_t = \\frac{1}{\\sum\\limits w'_i}\\sum\\limits_{i=0}^M w'_i x_{t-i}\n",
    "$$\n",
    "其中\n",
    "$$\n",
    "w'_i = \\phi_0 + \\phi_1 i - \\phi_2 i^2,\\ 0<\\phi_0,\\phi_1,\\phi_2\\geq1,\\ i=0,1,\\ldots,M\n",
    "$$"
   ]
  },
  {
   "cell_type": "markdown",
   "metadata": {},
   "source": [
    "# 频域上的线性滤波器\n",
    "\n",
    "考虑正弦信号 $x_t = \\sin(a+2\\pi ft)$，其中 $f$ 为信号的**频率（Frequency）**，表示单位时间内完整周期的个数；$p=\\frac{1}{f}$ 为信号的**周期（Period）**，$\\omega=2\\pi f$ 称为**角频率（Angular Frequency）**。\n",
    "\n",
    "在离散时间情形下，频率 $f=1/2$ 或者角频率 $\\omega=\\pi$ 称为 **Nyquist 频率**，这是信号可能的最高频率，或者说信号可能的最短的周期必须是采样间隔的 2 倍。如果采样间隔大于连续信号周期的一半，比如采样间隔等于信号周期，则采样后的离散信号将是常数，从而无法得知信号的周期信息。\n",
    "\n",
    "信号的 **Fourier 变换**：\n",
    "$$\n",
    "X(f) = \\sum\\limits_{t=-\\infty}^{\\infty} x_t e^{-i2\\pi ft}\n",
    "$$\n",
    "也称为 **Analysis Equation**；\n",
    "\n",
    "**Fourier 逆变换**为：\n",
    "$$\n",
    "x_t = \\frac{1}{2\\pi}\\int_{-\\pi}^{\\pi} X(f)e^{i2\\pi ft}\\mathrm{d}f\n",
    "$$\n",
    "也称为 **Synthesis Equation**\n",
    "\n",
    "在时域上，脉冲响应函数是描述和划分滤波器的有用工具；在频域上的工具为**频率响应函数（Frequency Response Function）** 或称为 **Transfer Function**：\n",
    "$$\n",
    "H(f) = \\sum\\limits_{k=-\\infty}^{\\infty} w_k e^{-i2\\pi fk}\n",
    "$$\n",
    "其中，$w_k$ 为滤波器的脉冲响应函数，即频率响应函数是脉冲响应函数的 Fourier 变换。\n",
    "\n",
    "考虑给定频率 $f$ 的简谐信号 $x_t = e^{i2\\pi ft}$，对于线性滤波器 $y_t=\\sum\\limits_{k=-\\infty}^{\\infty}w_k x_{t-k}$，其输出信号为：\n",
    "$$\n",
    "\\begin{aligned}\n",
    "y_t &= \\sum\\limits_{k=-\\infty}^{\\infty} w_k e^{i2\\pi f(t-k)}\\\\\n",
    "&= \\left(\\sum\\limits_{k=-\\infty}^{\\infty} w_k e^{-i2\\pi fk}\\right) e^{i2\\pi ft}\\\\\n",
    "&= H(f)e^{i2\\pi ft}\n",
    "\\end{aligned}\n",
    "$$\n",
    "即线性滤波器对于简谐信号的作用等于其频率响应函数乘以原信号。如果将频率响应函数写成极坐标表达式：\n",
    "$$\n",
    "H(f) = G(f)e^{i\\theta(f)}\n",
    "$$\n",
    "则第一部分 $G(f)=\\left|H(f)\\right|$ 称为**增益函数（Gain Function）**，其函数图像称为**增益图像（Gain Diagram）**，后一部分称为**相位函数（Phase Function）**，如果滤波器的相位不为 0，那么滤波器会对原始序列的相位产生改变，这被称为**相位偏移（Phase Shift）**。\n",
    "\n",
    "根据滤波器的增益函数可以将滤波器分为：\n",
    "* **低通滤波器（Low-Pass Filter）**：即增益函数值在低频区域较大，高频区域较小；\n",
    "* **高通滤波器（High-Pass Filter）**：即增益函数值在低频区域较小，高频区域较大；\n",
    "\n",
    "**理想滤波器（Ideal Filter）**：对于给定的频段 $[f_l,f_u]$，其频率响应函数为\n",
    "$$\n",
    "H(f) = \\left\\{\\begin{aligned}\n",
    "& 1,\\ f_l \\leq f \\leq f_u\\\\\n",
    "& 0,\\ otherwise\n",
    "\\end{aligned}\\right.\n",
    "$$\n",
    "对于理想的低通滤波器有 $f_l=0,f_u<1/2$，理想的高通滤波器 $f_l>0,f_u=1/2$。理想滤波器在计算上无法实现，因为其有无限多个系数。实际中使用的滤波器是有限的，其作为理想滤波器某种程度的近似。"
   ]
  },
  {
   "cell_type": "markdown",
   "metadata": {},
   "source": [
    "# 参考文献\n",
    "\n",
    "[<a id=\"cit-Gencay:2002\" href=\"#call-Gencay:2002\">Gencay:2002</a>] Ramazan Gencay, Faruk Selcuk, Brandon Whitcher, An Introduction to Wavelets and Other Filtering Methods in Finance and Economics, Academic Press, 2002."
   ]
  }
 ],
 "metadata": {
  "hide_input": false,
  "kernelspec": {
   "display_name": "Python 3",
   "language": "python",
   "name": "python3"
  },
  "language_info": {
   "codemirror_mode": {
    "name": "ipython",
    "version": 3
   },
   "file_extension": ".py",
   "mimetype": "text/x-python",
   "name": "python",
   "nbconvert_exporter": "python",
   "pygments_lexer": "ipython3",
   "version": "3.7.0"
  },
  "latex_envs": {
   "LaTeX_envs_menu_present": true,
   "autoclose": true,
   "autocomplete": true,
   "bibliofile": "biblio.bib",
   "cite_by": "apalike",
   "current_citInitial": 1,
   "eqLabelWithNumbers": true,
   "eqNumInitial": 1,
   "hotkeys": {
    "equation": "Ctrl-E",
    "itemize": "Ctrl-I"
   },
   "labels_anchors": false,
   "latex_user_defs": false,
   "report_style_numbering": true,
   "user_envs_cfg": false
  },
  "toc": {
   "base_numbering": 1,
   "nav_menu": {
    "height": "236px",
    "width": "247px"
   },
   "number_sections": true,
   "sideBar": true,
   "skip_h1_title": false,
   "title_cell": "Table of Contents",
   "title_sidebar": "Contents",
   "toc_cell": false,
   "toc_position": {},
   "toc_section_display": true,
   "toc_window_display": false
  },
  "varInspector": {
   "cols": {
    "lenName": 16,
    "lenType": 16,
    "lenVar": 40
   },
   "kernels_config": {
    "python": {
     "delete_cmd_postfix": "",
     "delete_cmd_prefix": "del ",
     "library": "var_list.py",
     "varRefreshCmd": "print(var_dic_list())"
    },
    "r": {
     "delete_cmd_postfix": ") ",
     "delete_cmd_prefix": "rm(",
     "library": "var_list.r",
     "varRefreshCmd": "cat(var_dic_list()) "
    }
   },
   "types_to_exclude": [
    "module",
    "function",
    "builtin_function_or_method",
    "instance",
    "_Feature"
   ],
   "window_display": false
  }
 },
 "nbformat": 4,
 "nbformat_minor": 2
}
