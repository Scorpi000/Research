{
 "cells": [
  {
   "attachments": {},
   "cell_type": "markdown",
   "metadata": {},
   "source": [
    "# 滚动分析（Rolling Analysis）\n",
    "\n",
    "给定历史数据，滚动分析通常用于回测模型的稳定性和预测性。传统时间序列建模的关键假定是模型的参数对于时间是不变的，然而经济环境经常发生较大的变化，没有任何理由假设模型的参数是常数。用于评价模型参数不变性的通用方法是在一个滚动窗口中估计模型参数，如果模型参数确实在整个样本期间是固定的，那么不同滚动窗口里得到的估计值应该不会有显著差异，反之参数在样本中的某个时点发生了变化，则滚动估计量应该可以捕捉到这种不稳定性。\n",
    "\n",
    "滚动分析的作用:\n",
    "* 模型对于时间的稳定性\n",
    "* 模型预测的准确性\n",
    "\n",
    "\n",
    "## 参数稳定性\n",
    "\n",
    "假设有包含所有时期的样本数据：\n",
    "1. 选择一个窗口长度，比如 m，m 依赖于样本的整体大小 T 以及数据的周期性。通常，对于较短时间间隔收集的数据可以选择较小的 m，较长的时间间隔则对应较大的 m。较大的窗长倾向于产生更光滑的滚动窗口估计量。\n",
    "2. 假设连续两个滚动窗口的增量是 1 期，则整个数据集被分成 N=T-m+1 个子样本。第一个滚动窗口包含第 1 到 m 个观测，第二个窗口包含第 2 到 m+1 个观测，以此类推。对样本的划分有很多变体，比如，对于季度数据，可以设置窗口之间的增量是 4。\n",
    "3. 在每个滚动窗口中使用子样本估计模型参数。\n",
    "4. 绘制参数估计量以及执行区间相对于窗口索引的图像，如果图像呈现出明显的趋势或者较大的波动，则说明模型参数是时变的。\n",
    "\n",
    "\n",
    "## 预测效果\n",
    "\n",
    "比较不同模型的预测效果：\n",
    "1. 选择一个窗口长度，比如 m，m 依赖于样本的整体大小 T 以及数据的周期性。通常，对于较短时间间隔收集的数据可以选择较小的 m，较长的时间间隔则对应较大的 m。较大的窗长倾向于产生更光滑的滚动窗口估计量。\n",
    "2. 选择一个预测期，比如 h，h 依赖于实际应用的要求以及数据的周期性。\n",
    "3. 假设连续两个滚动窗口的增量是 1 期，则整个数据集被分成 N=T-m+1 个子样本。第一个滚动窗口包含第 1 到 m 个观测，第二个窗口包含第 2 到 m+1 个观测，以此类推。对样本的划分有很多变体，比如，对于季度数据，可以设置窗口之间的增量是 4。\n",
    "4. 在每个滚动窗口中：\n",
    "    * 估计模型；\n",
    "    * 估计向前 h 步预测；\n",
    "    * 计算预测误差，$e_{nj}=y_{m-h+n+j}-\\hat{y}_{nj}$，其中，$e_{nj}$ 为第 n 个滚动窗口的第 j 步向前预测误差，$y$ 是响应变量的观测值，$\\hat{y}_{nj}$ 是第 n 个滚动窗口的第 j 步向前预测值；\n",
    "5. 计算预测的均方根误差（Root Mean Squared Error, RMSE）：\n",
    "$$\n",
    "RMSE_{j}=\\sqrt{\\frac{\\sum_\\limits{n=1}^{N} e_{nj}^{2}}{n}}, j=1,\\ldots,h\n",
    "$$\n",
    "6. 比较不同模型的 RMSE，具有最小 RMSE 的模型预测效果最好。\n",
    "\n",
    "![滚动窗口](.\\\\images\\\\滚动窗口.PNG)"
   ]
  },
  {
   "cell_type": "code",
   "execution_count": null,
   "metadata": {},
   "outputs": [],
   "source": []
  }
 ],
 "metadata": {
  "kernelspec": {
   "display_name": "Python 3",
   "language": "python",
   "name": "python3"
  },
  "language_info": {
   "codemirror_mode": {
    "name": "ipython",
    "version": 3
   },
   "file_extension": ".py",
   "mimetype": "text/x-python",
   "name": "python",
   "nbconvert_exporter": "python",
   "pygments_lexer": "ipython3",
   "version": "3.5.4"
  },
  "latex_envs": {
   "LaTeX_envs_menu_present": true,
   "autoclose": true,
   "autocomplete": true,
   "bibliofile": "biblio.bib",
   "cite_by": "apalike",
   "current_citInitial": 1,
   "eqLabelWithNumbers": true,
   "eqNumInitial": 1,
   "hotkeys": {
    "equation": "Ctrl-E",
    "itemize": "Ctrl-I"
   },
   "labels_anchors": false,
   "latex_user_defs": false,
   "report_style_numbering": false,
   "user_envs_cfg": false
  },
  "toc": {
   "base_numbering": 1,
   "nav_menu": {},
   "number_sections": true,
   "sideBar": true,
   "skip_h1_title": false,
   "title_cell": "Table of Contents",
   "title_sidebar": "Contents",
   "toc_cell": false,
   "toc_position": {},
   "toc_section_display": true,
   "toc_window_display": false
  },
  "varInspector": {
   "cols": {
    "lenName": 16,
    "lenType": 16,
    "lenVar": 40
   },
   "kernels_config": {
    "python": {
     "delete_cmd_postfix": "",
     "delete_cmd_prefix": "del ",
     "library": "var_list.py",
     "varRefreshCmd": "print(var_dic_list())"
    },
    "r": {
     "delete_cmd_postfix": ") ",
     "delete_cmd_prefix": "rm(",
     "library": "var_list.r",
     "varRefreshCmd": "cat(var_dic_list()) "
    }
   },
   "types_to_exclude": [
    "module",
    "function",
    "builtin_function_or_method",
    "instance",
    "_Feature"
   ],
   "window_display": false
  }
 },
 "nbformat": 4,
 "nbformat_minor": 2
}
