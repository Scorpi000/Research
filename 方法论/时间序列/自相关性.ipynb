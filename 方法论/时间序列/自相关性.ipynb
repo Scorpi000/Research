{
 "cells": [
  {
   "cell_type": "markdown",
   "metadata": {},
   "source": [
    "# Ljung-Box Q 检验\n",
    "\n",
    "Ljung-Box Q 检验用于检验一系列自相关性（序列相关性）是否具有统计显著性。\n",
    "\n",
    "固定最大滞后期 L，对于自相关函数 $\\rho_k,k=1,\\ldots,L$，原假设为不存在自相关性，即 $\\rho_k=0,\\forall k=1,\\ldots,L$，备择假设为存在某阶自相关性，即 $\\exists k,\\rho_k\\neq0$。\n",
    "\n",
    "检验统计量为：\n",
    "$$\n",
    "Q = T(T+2)\\sum\\limits_{k=1}^{L}\\frac{\\rho_k^2}{T-k}\n",
    "$$\n",
    "其中 T 为样本数量。原假设下, Q 统计量服从渐进 $\\chi^2(L)$ 分布。\n",
    "\n",
    "Q 检验常用于检验一个序列是不是白噪声过程。另外，如果用于检验的数据是某个模型的残差，则必须调整 $\\chi^2$ 分布的自由度为 L-模型估计参数的个数（不包括常数项），比如，数据为 ARMA(p,q) 模型的残差，则自由度变为 L-p-q。\n",
    "\n",
    "注：滞后期 L 的选取会影响检验的效果：\n",
    "* L 过小会检验不出可能存在的高阶自相关性\n",
    "* L 过大则检验会出现较低的统计功效，某一阶自相关性的显著性会被其他阶不显著的自相关性所掩盖。\n",
    "* Tsay 通过模拟的结果显示设置滞后期为 log(T) 会有较好的统计效果。\n",
    "* 另外，Q 检验也可以用于检验残差的平方序列来确定是否存在条件异方差（Conditional Heteroscedasticity, ARCH Effect）。\n"
   ]
  },
  {
   "cell_type": "code",
   "execution_count": null,
   "metadata": {},
   "outputs": [],
   "source": []
  }
 ],
 "metadata": {
  "kernelspec": {
   "display_name": "Python 3",
   "language": "python",
   "name": "python3"
  },
  "language_info": {
   "codemirror_mode": {
    "name": "ipython",
    "version": 3
   },
   "file_extension": ".py",
   "mimetype": "text/x-python",
   "name": "python",
   "nbconvert_exporter": "python",
   "pygments_lexer": "ipython3",
   "version": "3.5.4"
  },
  "latex_envs": {
   "LaTeX_envs_menu_present": true,
   "autoclose": true,
   "autocomplete": true,
   "bibliofile": "biblio.bib",
   "cite_by": "apalike",
   "current_citInitial": 1,
   "eqLabelWithNumbers": true,
   "eqNumInitial": 1,
   "hotkeys": {
    "equation": "Ctrl-E",
    "itemize": "Ctrl-I"
   },
   "labels_anchors": false,
   "latex_user_defs": false,
   "report_style_numbering": false,
   "user_envs_cfg": false
  },
  "toc": {
   "base_numbering": 1,
   "nav_menu": {},
   "number_sections": true,
   "sideBar": true,
   "skip_h1_title": false,
   "title_cell": "Table of Contents",
   "title_sidebar": "Contents",
   "toc_cell": false,
   "toc_position": {},
   "toc_section_display": true,
   "toc_window_display": false
  },
  "varInspector": {
   "cols": {
    "lenName": 16,
    "lenType": 16,
    "lenVar": 40
   },
   "kernels_config": {
    "python": {
     "delete_cmd_postfix": "",
     "delete_cmd_prefix": "del ",
     "library": "var_list.py",
     "varRefreshCmd": "print(var_dic_list())"
    },
    "r": {
     "delete_cmd_postfix": ") ",
     "delete_cmd_prefix": "rm(",
     "library": "var_list.r",
     "varRefreshCmd": "cat(var_dic_list()) "
    }
   },
   "types_to_exclude": [
    "module",
    "function",
    "builtin_function_or_method",
    "instance",
    "_Feature"
   ],
   "window_display": false
  }
 },
 "nbformat": 4,
 "nbformat_minor": 2
}
