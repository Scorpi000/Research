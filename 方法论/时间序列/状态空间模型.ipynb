{
 "cells": [
  {
   "cell_type": "markdown",
   "metadata": {},
   "source": [
    "# 状态空间模型（State-Space Model）\n",
    "\n",
    "状态空间模型是一个离散时间，包含两个方程的随机模型：\n",
    "* 状态方程（State Equation）：描述隐含过程对于时间的转移\n",
    "* 观测方程（Observation Equation）：描述由隐含过程生成观测的行为\n",
    "\n",
    "一个线性多元时变的高斯状态空间模型描述如下：\n",
    "$$\n",
    "\\begin{array}{l}\n",
    "x_{t}=A_{t}x_{t-1}+B_{t}u_{t}\\\\\n",
    "y_{t}-\\left(Z_{t} \\beta\\right)^{\\prime}=C_{t}x_{t}+D_{t}\\varepsilon_{t}\n",
    "\\end{array}\n",
    "$$\n",
    "其中：\n",
    "* $t=1,\\ldots,T$；\n",
    "* $x_{t}=\\left[x_{t1}, \\dots, x_{tm_{t}}\\right]^{\\prime}$ 是 $m_t$ 维的状态向量，其描述的是无法观测到的隐含过程的动态行为，初始状态向量 $x_0$ 服从均值为 $\\mu_0$，协方差矩阵为 $\\Sigma$ 的多元正态分布；\n",
    "* $y_{t}=\\left[y_{t1}, \\dots, y_{tn_{t}}\\right]^{\\prime}$ 是 $n_t$ 维的观测向量，其描述的是 $t$ 时刻对状态的观测值；\n",
    "* $A_t$ 是 $m_t\\times m_t$ 维的状态转移矩阵（State-Transition Matrix），描述了状态从 $t-1$ 时刻如何转移到 $t$ 时刻；\n",
    "* $B_t$ 是 $m_t\\times k_t$ 维的 State-Disturbance-Loading Matrix，描述了状态在 $t$ 时刻如何同新息（Innovation）结合；\n",
    "* $C_t$ 是 $n_t\\times m_t$ 维的 Measurement-Sensitivity Matrix，描述了状态在 $t$ 时刻如何生成观测；\n",
    "* $D_t$ 是 $n_t\\times h_t$ 维的 Observation-Innovation Matrix，描述了观测在 $t$ 时刻如何同观测误差（Observation Error）结合；\n",
    "* $u_{t}=\\left[u_{t1},\\ldots, u_{t k_{t}}\\right]^{\\prime}$ 是 $k_t$ 维方差为 1 的高斯白噪声，其代表状态扰动；\n",
    "* $\\varepsilon_{t}=\\left[\\varepsilon_{t1},\\ldots, \\varepsilon_{t h_{t}}\\right]^{\\prime}$ 是 $h_t$ 维方差为 1 的高斯白噪声，其代表观测误差；\n",
    "* $\\varepsilon_t, u_t$ 不相关；\n",
    "* $Z_{t}=\\left[{z_{t1}}, {z_{t2}}, {\\ldots}, {z_{td}}\\right]$ 是 $T\\times d$ 维预测变量矩阵 $Z$ 的第 $t$ 行，$Z$ 的每一列表示一个预测变量；\n",
    "* $\\beta$ 是 $d\\times n$ 维 $Z_t$ 的回归系数。"
   ]
  }
 ],
 "metadata": {
  "hide_input": false,
  "kernelspec": {
   "display_name": "Python 3",
   "language": "python",
   "name": "python3"
  },
  "language_info": {
   "codemirror_mode": {
    "name": "ipython",
    "version": 3
   },
   "file_extension": ".py",
   "mimetype": "text/x-python",
   "name": "python",
   "nbconvert_exporter": "python",
   "pygments_lexer": "ipython3",
   "version": "3.7.0"
  },
  "latex_envs": {
   "LaTeX_envs_menu_present": true,
   "autoclose": true,
   "autocomplete": true,
   "bibliofile": "biblio.bib",
   "cite_by": "apalike",
   "current_citInitial": 1,
   "eqLabelWithNumbers": true,
   "eqNumInitial": 1,
   "hotkeys": {
    "equation": "Ctrl-E",
    "itemize": "Ctrl-I"
   },
   "labels_anchors": false,
   "latex_user_defs": false,
   "report_style_numbering": false,
   "user_envs_cfg": false
  },
  "toc": {
   "base_numbering": 1,
   "nav_menu": {},
   "number_sections": true,
   "sideBar": true,
   "skip_h1_title": false,
   "title_cell": "Table of Contents",
   "title_sidebar": "Contents",
   "toc_cell": false,
   "toc_position": {},
   "toc_section_display": true,
   "toc_window_display": false
  },
  "varInspector": {
   "cols": {
    "lenName": 16,
    "lenType": 16,
    "lenVar": 40
   },
   "kernels_config": {
    "python": {
     "delete_cmd_postfix": "",
     "delete_cmd_prefix": "del ",
     "library": "var_list.py",
     "varRefreshCmd": "print(var_dic_list())"
    },
    "r": {
     "delete_cmd_postfix": ") ",
     "delete_cmd_prefix": "rm(",
     "library": "var_list.r",
     "varRefreshCmd": "cat(var_dic_list()) "
    }
   },
   "types_to_exclude": [
    "module",
    "function",
    "builtin_function_or_method",
    "instance",
    "_Feature"
   ],
   "window_display": false
  }
 },
 "nbformat": 4,
 "nbformat_minor": 2
}
