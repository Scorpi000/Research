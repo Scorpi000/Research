{
 "cells": [
  {
   "cell_type": "markdown",
   "metadata": {},
   "source": [
    "# 交易统计指标\n",
    "\n",
    "\n",
    "\n",
    "\n",
    "\n"
   ]
  },
  {
   "cell_type": "markdown",
   "metadata": {},
   "source": [
    "# 净值统计指标\n",
    "\n",
    "假设回测的区间为 $[0, T]$, 每时刻 t 策略的净值为 $V_t$，区间 $(t-1, T]$ 的简单收益率记为：\n",
    "$$\n",
    "R_t = \\frac{V_t}{V_{t-1}} - 1\n",
    "$$\n",
    "而对数收益率记为：\n",
    "$$\n",
    "r_t = \\log V_t - \\log V_{t-1} = \\log(1+R_t)\\leq R_t\n",
    "$$\n",
    "\n",
    "## 年化收益率\n",
    "\n",
    "记以年为单位的回测时间为 $T_Y$ 年，则平均每年包含的期数为 $N_Y=\\frac{T}{T_Y}$，则以单利计算的平均年化收益率为：\n",
    "$$\n",
    "\\bar{R}_{SY} = \\frac{1}{T_Y}\\sum\\limits_{t=1}^{T}R_t = N_Y\\cdot\\frac{1}{T}\\sum\\limits_{t=1}^{T}R_t\n",
    "$$\n",
    "\n",
    "以复利计算的平均年化收益率为：\n",
    "$$\n",
    "\\bar{R}_Y = \\left[\\prod\\limits_{t=1}^{T}(1+R_t)\\right]^{\\frac{1}{T_Y}}-1=\\left(\\frac{V_T}{V_0}\\right)^{\\frac{1}{T_Y}}-1\n",
    "$$\n",
    "\n",
    "以连续复利计算的平均年化收益率为：\n",
    "$$\n",
    "\\bar{r}_Y = \\frac{1}{T_Y}\\sum\\limits_{t=1}^{T}r_t = \\log(1+\\bar{R}_Y)\\leq \\bar{R}_Y\n",
    "$$\n",
    "\n",
    "## 信息比率（Information Ratio）\n",
    "\n",
    "信息比率 = 超额收益率 / 超额收益率的标准差\n",
    "\n",
    "超额收益率 = 策略收益率 - 基准收益率\n",
    "\n",
    "信息比率用于评价纯多头或者纯空头的单向策略。\n",
    "\n",
    "\n",
    "## 夏普比率（Sharpe Ratio）\n",
    "\n",
    "夏普比率用于评价中性策略，但由于无风险利率比较容易形成共识，而基准的选择却难有普遍标准，所以单向策略有时也会选用夏普比率作为衡量指标。（\\cite{Chan:2009}）\n",
    "\n",
    "越高的夏普比率事实上是可以使得收益率越大的，高夏普比率可以运用更高的杠杆进行交易，重要的是策略的杠杆收益率，而非名义收益率。\n",
    "\n",
    "经验法则（\\cite{Chan:2009}）：\n",
    "* 如果一项策略的年交易次数有限，夏普比率通常就不会太高，但并不影响把这项策略作为多元策略的组成部分，但不足以把它当做主要盈利来源的策略。\n",
    "* 如果一项策略的回撤很大（比如 10%），或者回撤时间很长（比如 4 个月或更长），也不大可能有很高的夏普比率。\n",
    "* 任何夏普比率低于 1 的策略都不适合单独使用；几乎每个月都盈利的策略其夏普比率通常大于 2；几乎每天都盈利的策略，其夏普比率通常大于 3。\n",
    "\n",
    "## 回撤（Drawdown）\n",
    "\n",
    "\\begin{definition}\\label{def:高水位线}\n",
    "**高水位线（High Watermark）**定义为 t 时刻以及其之前的净值曲线的最大值：\n",
    "$$\n",
    "HW_t = \\max\\limits_{s\\leq t}\\{V_s\\}\n",
    "$$\n",
    "\\end{definition}\n",
    "\n",
    "\\begin{definition}\\label{def:回撤}\n",
    "时刻 t 的**回撤（Drawdown）**定义为 t 时刻净值（假定期间内未发生任何撤资和注资）与 t 时刻之前的净值曲线的最大值（即高水位线）之差：\n",
    "$$\n",
    "D_t = V_t - HW_t = V_t - \\max\\limits_{s\\leq t}\\{V_s\\}\n",
    "$$\n",
    "\n",
    "**最大回撤（Maximum Drawdown）**就是回撤的最大值：$MD = \\max\\limits_{t}\\{D_t\\}$。\n",
    "\n",
    "时刻 t 的**回撤率（Drawdown Rate）** 则为时刻 t 的回撤比上高水位线：\n",
    "$$\n",
    "DR_t = \\frac{D_t}{HW_t} = \\frac{V_t - \\max\\limits_{s\\leq t}\\{V_s\\}}{\\max\\limits_{s\\leq t}\\{V_s\\}}\n",
    "$$\n",
    "\n",
    "**最大回撤率（Maximum Drawdown Rate）**就是回撤率的最大值：$MDR = \\max\\limits_{t}\\{DR_t\\}$。\n",
    "\n",
    "时刻 t 的**回撤期（Drawdown Duration）**定义为 t 时刻距离高水位线的时间：\n",
    "$$\n",
    "DD_t = t - \\operatorname{argmax}\\limits_{s\\leq t}\\{V_s\\}\n",
    "$$\n",
    "\n",
    "**最大回撤期（Maximum Drawdown Duration）**就是回撤期的最大值：$MDD = \\max\\limits_{t}\\{DD_t\\}$。\n",
    "\\end{definition}\n",
    "\n",
    "**MAR 比率**：年化收益率与最大回撤的比。由于最大回撤随着时间递增，而年化收益率的波动较大，且一般不随时间递增，因此 MAR 比率对于考察时间长的策略不利。可以使用利润率相对于最大回撤的比值替代。"
   ]
  },
  {
   "cell_type": "markdown",
   "metadata": {},
   "source": [
    "# 统计显著性\n",
    "\n",
    "在任何的回测中，样本的有限性是必须面对的问题。所有计算的度量指标都存在随机性，换句话说，一个策略表现的好很可能是因为在这个特定的小样本上运气好。\n",
    "\n",
    "如果考察的指标是收益率，假设策略的收益率服从正态分布，则可以对收益率是否为 0 进行假设检验，检验统计量为平均收益率除以收益率的标准差并乘以期数的平方根，这近似于夏普比率乘以期数的平方根，因此夏普比率可以作为策略显著性的指标。\n",
    "\n",
    "### Monte Carlo 模拟\n",
    "\n",
    "**样本模拟**\n",
    "\n",
    "设定证券价格的分布或生成过程（比如假设收益率的均值，方差，偏度，丰度同真实样本相同），通过 Monte Carlo 方法模拟产生很多的证券价格历史序列，将策略应用于每个模拟序列并生成策略的收益率序列以及评价指标，考察模拟的结果优于真实序列回测结果的比例 p，如果 p 很小，则可以有理由相信策略的表现较好，否则，策略的表现只是反映了市场表现。\n",
    "\n",
    "该方法起作用的理由是：策略的有效性来源于捕捉了证券价格时间序列中的某种微妙的模式或者相关性，而这种模式应该和价格分布的前几阶矩无关，而产生的模拟样本和历史样本只是具有相同的矩和长度，如果策略没有反映某些特别的模式，则策略在历史样本和模拟样本上的表现应该无法区分，否则就有理由相信策略的有效性。\n",
    "\n",
    "**策略模拟**\n",
    "\n",
    "不同于前者，这个方式是模拟生成不同的交易信号，比如模拟不同的进出场时间，但保持买卖的数量或者金额相同，又或者在保持选股数量相同的条件下随机选股并赋权，所有的策略均在同一个历史样本上回测，考察模拟的结果优于真实序列回测结果的比例 p，如果 p 很小，则可以有理由相信策略的表现较好。\n",
    "\n",
    "以上两种方法可能给出的结论会不一致，这是因为两种模拟产生的分布不同，策略比较的随机性基准也不同。\n",
    "\n"
   ]
  },
  {
   "cell_type": "markdown",
   "metadata": {},
   "source": [
    "注意事项（\\cite{Chan:2009}）：\n",
    "* 一项策略可行与否通常并不取决于策略本身，而取决于使用策略的人。\n",
    "* 许多策略很久以前的回测业绩要远远好于现在，可能的原因是采用量化策略的机构并不多，或者以前的买卖价差比现在要大得多。（\\cite{Chan:2009}）在评价策略时应重点关注最近几年的业绩，而非包括早年的总体业绩。\n",
    "* 回测结果可以反映策略未来表现的一个基本假设是证券价格序列的统计性质不发生变化，从而过去能盈利的交易逻辑未来依然可以盈利。金融市场普遍存在状态转换（Regime Switch），比如市场监管或规则的变化，宏观经济环境等，因而早年的金融数据不能简单应用于现在相同的模型，金融时间序列普遍非平稳。"
   ]
  },
  {
   "cell_type": "markdown",
   "metadata": {},
   "source": [
    "# References\n",
    "\n",
    "[<a id=\"cit-Chan:2009\" href=\"#call-Chan:2009\">Chan:2009</a>] Ernest Chan, ``_Quantitative trading: how to build your own algorithmic trading business_'',  2009.\n",
    "\n"
   ]
  }
 ],
 "metadata": {
  "kernelspec": {
   "display_name": "Python 3",
   "language": "python",
   "name": "python3"
  },
  "language_info": {
   "codemirror_mode": {
    "name": "ipython",
    "version": 3
   },
   "file_extension": ".py",
   "mimetype": "text/x-python",
   "name": "python",
   "nbconvert_exporter": "python",
   "pygments_lexer": "ipython3",
   "version": "3.5.4"
  },
  "latex_envs": {
   "LaTeX_envs_menu_present": true,
   "autoclose": true,
   "autocomplete": true,
   "bibliofile": "biblio.bib",
   "cite_by": "key",
   "current_citInitial": 1,
   "eqLabelWithNumbers": true,
   "eqNumInitial": 1,
   "hotkeys": {
    "equation": "Ctrl-E",
    "itemize": "Ctrl-I"
   },
   "labels_anchors": false,
   "latex_user_defs": false,
   "report_style_numbering": false,
   "user_envs_cfg": false
  },
  "toc": {
   "base_numbering": 1,
   "nav_menu": {},
   "number_sections": true,
   "sideBar": true,
   "skip_h1_title": false,
   "title_cell": "Table of Contents",
   "title_sidebar": "Contents",
   "toc_cell": false,
   "toc_position": {},
   "toc_section_display": true,
   "toc_window_display": true
  },
  "varInspector": {
   "cols": {
    "lenName": 16,
    "lenType": 16,
    "lenVar": 40
   },
   "kernels_config": {
    "python": {
     "delete_cmd_postfix": "",
     "delete_cmd_prefix": "del ",
     "library": "var_list.py",
     "varRefreshCmd": "print(var_dic_list())"
    },
    "r": {
     "delete_cmd_postfix": ") ",
     "delete_cmd_prefix": "rm(",
     "library": "var_list.r",
     "varRefreshCmd": "cat(var_dic_list()) "
    }
   },
   "types_to_exclude": [
    "module",
    "function",
    "builtin_function_or_method",
    "instance",
    "_Feature"
   ],
   "window_display": false
  }
 },
 "nbformat": 4,
 "nbformat_minor": 2
}
