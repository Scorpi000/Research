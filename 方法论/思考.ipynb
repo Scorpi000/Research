{
 "cells": [
  {
   "cell_type": "markdown",
   "metadata": {},
   "source": [
    "# 容量\n",
    "\n",
    "容量就是一个策略能产生较好收益率的净值规模。许多简单可盈利的策略的容量较小。\n",
    "\n",
    "许多盈利的小容量策略其实是在扮演做市商的角色：在市场需要短期流动性时提供流动性，在流动性需求消失时获利走人。但当资金规模变大时，管理者就变成了需要流动性的一方，就不得不为获取流动性而支付一定的成本。为了最小化流动性需求的成本，只能持有头寸较长的时间，而持有头寸较长时间就会遭遇不利的状态转换（Regime Switch）。尽管模型可能长期可以盈利，但那些偶然事件导致的大幅回撤仍然无法避免。（\\cite{Chan:2009}）\n"
   ]
  },
  {
   "cell_type": "markdown",
   "metadata": {},
   "source": [
    "每十年都会有一些突然的、重大的状态转换发生，导致某些策略的突然死亡。不管作任何的商业努力，经历一段高速增长期后不可避免地会进入稳定状态，行业常熟的标志就是只能获得不起眼的收益。但是，只要金融市场需要瞬时流动性，量化交易永远会有盈利基础。（\\cite{Chan:2009}）"
   ]
  },
  {
   "cell_type": "markdown",
   "metadata": {},
   "source": [
    "# 其他\n",
    "\n",
    "Experts are uniformly inferior to algorithms in every domain that has a significant degree of uncertainty or unpredictabillilty.——Daniel Kahneman.\n",
    "\n",
    "It is the \"unknown unknowns\" that will harm us, not the \"known unknowns\".——Donald Rumsfeld"
   ]
  },
  {
   "cell_type": "markdown",
   "metadata": {},
   "source": [
    "# References\n",
    "\n",
    "[<a id=\"cit-Chan:2009\" href=\"#call-Chan:2009\">Chan:2009</a>] Ernest Chan, ``_Quantitative trading: how to build your own algorithmic trading business_'',  2009.\n",
    "\n"
   ]
  }
 ],
 "metadata": {
  "kernelspec": {
   "display_name": "Python 3",
   "language": "python",
   "name": "python3"
  },
  "language_info": {
   "codemirror_mode": {
    "name": "ipython",
    "version": 3
   },
   "file_extension": ".py",
   "mimetype": "text/x-python",
   "name": "python",
   "nbconvert_exporter": "python",
   "pygments_lexer": "ipython3",
   "version": "3.5.4"
  },
  "latex_envs": {
   "LaTeX_envs_menu_present": true,
   "autoclose": true,
   "autocomplete": true,
   "bibliofile": "biblio.bib",
   "cite_by": "key",
   "current_citInitial": 1,
   "eqLabelWithNumbers": true,
   "eqNumInitial": 1,
   "hotkeys": {
    "equation": "Ctrl-E",
    "itemize": "Ctrl-I"
   },
   "labels_anchors": false,
   "latex_user_defs": false,
   "report_style_numbering": false,
   "user_envs_cfg": false
  },
  "toc": {
   "base_numbering": 1,
   "nav_menu": {},
   "number_sections": true,
   "sideBar": true,
   "skip_h1_title": false,
   "title_cell": "Table of Contents",
   "title_sidebar": "Contents",
   "toc_cell": false,
   "toc_position": {},
   "toc_section_display": true,
   "toc_window_display": false
  },
  "varInspector": {
   "cols": {
    "lenName": 16,
    "lenType": 16,
    "lenVar": 40
   },
   "kernels_config": {
    "python": {
     "delete_cmd_postfix": "",
     "delete_cmd_prefix": "del ",
     "library": "var_list.py",
     "varRefreshCmd": "print(var_dic_list())"
    },
    "r": {
     "delete_cmd_postfix": ") ",
     "delete_cmd_prefix": "rm(",
     "library": "var_list.r",
     "varRefreshCmd": "cat(var_dic_list()) "
    }
   },
   "types_to_exclude": [
    "module",
    "function",
    "builtin_function_or_method",
    "instance",
    "_Feature"
   ],
   "window_display": false
  }
 },
 "nbformat": 4,
 "nbformat_minor": 2
}
