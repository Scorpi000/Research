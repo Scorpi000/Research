{
 "cells": [
  {
   "cell_type": "markdown",
   "metadata": {},
   "source": [
    "# 符号说明\n",
    "\n",
    "* $\\mathbf{w} = (w_1,w_2,\\ldots,w_N)'$: 风险资产头寸的权重(列)向量，也称为投资组合，$w_i$ 表示组合在风险资产 $i$ 上的投资权重；\n",
    "* $\\mathbf{f} = (f_1,f_2,\\ldots,f_N)'$: 风险资产的预期超额收益率向量，$f_i$ 表示风险资产 $i$ 的预期超额收益率；\n",
    "* $\\boldsymbol{\\mu} = (\\mu_1,\\mu_2,\\ldots,\\mu_N)'$: CAPM 下风险资产的预期超额收益率向量，$\\mu_i$ 表示 CAPM 下风险资产 $i$ 的预期超额收益率，当 CAPM 成立时有 $\\mathbf{f}=\\boldsymbol{\\mu}$；\n",
    "* $\\boldsymbol{\\Sigma}=(\\sigma^2_{i,j})_{N\\times N}$: 风险资产超额收益率的协方差矩阵（假设非奇异）；\n",
    "* $\\boldsymbol{\\beta}=(\\beta_1,\\beta_2,\\ldots,\\beta_N)'$: 风险资产的 beta 值，$\\beta_i$ 表示风险资产 $i$ 的 beta 值；\n",
    "* $\\boldsymbol{\\iota}=(1,1,\\ldots,1)'$: 全 1 向量；"
   ]
  },
  {
   "cell_type": "markdown",
   "metadata": {},
   "source": [
    "# 基本假设\n",
    "\n",
    "* A1. 存在一个无风险资产；\n",
    "* A2. 所有一阶和二阶矩均存在；\n",
    "* A3. 不存在零风险的全额投资组合；\n",
    "* A4. 最小方差的全额投资组合的预期超额收益率是严格正值"
   ]
  },
  {
   "cell_type": "markdown",
   "metadata": {},
   "source": [
    "# 特征组合\n",
    "\n",
    "资产拥有许多**特征（Attribute）**，例如贝塔、预期收益率、盈市率（Earnings-to-Price Ratio, EP）、市值、所属行业板块等。用向量 $\\mathbf{a}=(a_1,a_2,\\ldots,a_N)'$ 表示资产的任意一个特征，投资组合 $\\mathbf{w}_p$ 对特征 $\\mathbf{a}$ 的**暴露（Exposure）**定义为：\n",
    "$$\n",
    "a_p=\\sum\\limits_{i=1}^{N}a_iw_{i,p}=\\mathbf{a}'\\mathbf{w}_p\n",
    "$$\n",
    "\n",
    "定义特征 $\\mathbf{a}$ 的**特征组合**为对 $\\mathbf{a}$ 具有单位暴露度的最小风险投资组合：\n",
    "$$\n",
    "\\begin{aligned}\n",
    "\\mathbf{w}_a = \\ & \\mathop{\\arg\\max}_{\\mathbf{w}}\\mathbf{w}'\\mathbf{V}\\mathbf{w}\\\\\n",
    "& \\rm{s.t.}\\ \\mathbf{a}'\\mathbf{w}=1\n",
    "\\end{aligned}\n",
    "$$\n",
    "求解该最优化问题可得：\n",
    "$$\n",
    "\\mathbf{w}_a = \\frac{\\mathbf{V}^{-1}\\bf{a}}{\\bf{a}'\\mathbf{V}^{-1}\\bf{a}}\n",
    "$$\n",
    "特征组合并不一定是全额投资组合，它可以包含多头头寸和空头头寸，并带有杠杆。特征组合可以充分并且唯一地代表定义它的特征。\n",
    "\n",
    "这个过程是可逆的。可以从一个组合开始，找到以其作为特征组合的那个特征。换言之，这个特征组合能够最有效地表达该特征。对于特征 $\\mathbf{a}$ 的特征组合 $\\mathbf{w}_a$，全体资产对于该组合的 beta 即为特征 $\\mathbf{a}$：\n",
    "$$\n",
    "\\boldsymbol{\\beta}_a=\\frac{\\mathbf{V}\\mathbf{w}_a}{\\sigma^2_a}=\\frac{\\mathbf{V}\\mathbf{w}_a}{\\mathbf{w}_a'\\mathbf{V}\\mathbf{w}_a}=\\bf{a}\n",
    "$$\n",
    "\n",
    "特征和投资组合之间具有一一对应关系：\n",
    "$$\n",
    "\\begin{aligned}\n",
    "& \\mathbf{w}_a = \\frac{\\mathbf{V}^{-1}\\mathbf{a}}{\\mathbf{a}'\\mathbf{V}^{-1}\\mathbf{a}}\\\\\n",
    "& \\mathbf{a} = \\frac{\\mathbf{V}\\mathbf{w}_a}{\\mathbf{w}_a'\\mathbf{V}\\mathbf{w}_a}\\\\\n",
    "& \\mathbf{a}'\\mathbf{w}_a = 1\n",
    "\\end{aligned}\n",
    "$$\n",
    "\n",
    "特征组合有如下性质：\n",
    "* 特征组合的方差为：\n",
    "$$\n",
    "\\sigma^2_a=\\mathbf{w}'_a\\mathbf{V}\\mathbf{w}_a=\\frac{1}{\\mathbf{a}'\\mathbf{V}^{-1}\\mathbf{a}}\n",
    "$$\n",
    "\n",
    "* 对于两个特征 $\\mathbf{a},\\mathbf{b}$，其对应的特征组合分别为 $\\mathbf{w}_a,\\mathbf{w}_b$，则这两个特征组合的协方差为：\n",
    "$$\n",
    "\\sigma^2_{a,b} = \\mathbf{w}'_a\\mathbf{V}\\mathbf{w}_b=\\frac{\\mathbf{a}'\\mathbf{V}^{-1}\\mathbf{b}}{\\mathbf{a}'\\mathbf{V}^{-1}\\mathbf{a}\\cdot\\mathbf{b}'\\mathbf{V}^{-1}\\mathbf{b}}=a_b\\sigma_a^2 = b_a\\sigma_b^2\n",
    "$$\n",
    "相关系数为：\n",
    "$$\n",
    "\\rho_{a,b} = \\frac{\\mathbf{w}'_a\\mathbf{V}\\mathbf{w}_b}{\\sqrt{\\mathbf{w}'_a\\mathbf{V}\\mathbf{w}_a}\\cdot\\sqrt{\\mathbf{w}'_b\\mathbf{V}\\mathbf{w}_b}} = \\frac{\\mathbf{a}'\\mathbf{V}^{-1}\\mathbf{b}}{\\sqrt{\\mathbf{a}'\\mathbf{V}^{-1}\\mathbf{a}}\\cdot\\sqrt{\\mathbf{b}'\\mathbf{V}^{-1}\\mathbf{b}}}\n",
    "$$\n",
    "其中，$a_b=\\mathbf{a}'\\mathbf{w}_b,\\ b_a=\\mathbf{b}'\\mathbf{w}_a$ 分别为特征组合 $\\mathbf{w}_b$ 对特征 $\\mathbf{a}$ 的暴露和特征组合 $\\mathbf{w}_a$ 对特征 $\\mathbf{b}$ 的暴露。\n",
    "\n",
    "* 对于任意的实数 $\\kappa$，特征 $\\kappa\\mathbf{a}$ 的特征组合为 $\\frac{\\mathbf{w}_a}{\\kappa}$。\n",
    "\n",
    "* 两个特征 $\\mathbf{a},\\mathbf{b}$ 的线性组合特征 $\\mathbf{d} = \\kappa_a\\mathbf{a}+\\kappa_b\\mathbf{b}$ 的特征组合为：\n",
    "$$\n",
    "\\frac{\\mathbf{w}_d}{\\sigma_d^2} = \\kappa_a\\frac{\\mathbf{w}_a}{\\sigma_a^2} + \\kappa_b\\frac{\\mathbf{w}_b}{\\sigma_b^2}\n",
    "$$\n",
    "其中，\n",
    "$$\n",
    "\\frac{1}{\\sigma_d^2} = \\frac{\\kappa_ad_a}{\\sigma^2_a} + \\frac{\\kappa_bd_b}{\\sigma^2_b},\\ d_a=\\mathbf{d}'\\mathbf{w}_a,\\ d_b=\\mathbf{d}'\\mathbf{w}_b\n",
    "$$\n",
    "\n",
    "特征组合的机制使得能够通过计算一个组合与特征组合的协方差，来确定该组合对相应特征的暴露。一旦建立了特征和投资组合之间的一一对应关系，CAPM 就变为一个关于特征——“预期超额收益率”的特征组合的经济命题。"
   ]
  },
  {
   "cell_type": "markdown",
   "metadata": {},
   "source": [
    "## 最小方差组合\n",
    "取特征为全 1 向量 $\\boldsymbol{\\iota}$，则对应的特征组合为最小方差组合 C，每个组合对特征 $\\boldsymbol{\\iota}$ 的暴露衡量了其对于风险资产的总投资比例 $\\iota_p$，从而全额投资组合的暴露为 1。\n",
    "\n",
    "最小方差组合为：\n",
    "$$\n",
    "\\mathbf{w}_C = \\frac{\\boldsymbol{\\Sigma}^{-1}\\boldsymbol{\\iota}}{\\boldsymbol{\\iota}'\\boldsymbol{\\Sigma}^{-1}\\boldsymbol{\\iota}}\n",
    "$$\n",
    "全局最小方差为：\n",
    "$$\n",
    "\\sigma_C^2=\\mathbf{w}'_C\\boldsymbol{\\Sigma}\\mathbf{w}_C=\\frac{1}{\\boldsymbol{\\iota}'\\boldsymbol{\\Sigma}^{-1}\\boldsymbol{\\iota}}\n",
    "$$\n",
    "全体资产对于最小方差组合的 beta 均为 1：\n",
    "$$\n",
    "\\boldsymbol{\\beta}_C=\\frac{\\boldsymbol{\\Sigma}\\mathbf{w}_C}{\\sigma^2_C}=\\boldsymbol{\\iota}\n",
    "$$\n",
    "任一组合 $\\mathbf{w}_p$ 和最小方差组合的协方差为：\n",
    "$$\n",
    "\\sigma_{p,C} = \\iota_p\\sigma_C^2\n",
    "$$\n",
    "全额投资组合与最小方差组合的协方差恒等于 $\\sigma_C^2$。\n",
    "\n"
   ]
  },
  {
   "cell_type": "markdown",
   "metadata": {},
   "source": [
    "## 基准组合\n",
    "取特征为全体资产对于基准组合 B 的 beta $\\boldsymbol{\\beta}=\\frac{\\boldsymbol{\\Sigma}\\mathbf{w}_B}{\\sigma_B^2}$，则其对应的特征组合恰好为基准组合 B：\n",
    "$$\n",
    "\\mathbf{w}_\\beta = \\frac{\\boldsymbol{\\Sigma}^{-1}\\boldsymbol{\\beta}}{\\boldsymbol{\\beta}'\\boldsymbol{\\Sigma}^{-1}\\boldsymbol{\\beta}}=\\mathbf{w}_B\n",
    "$$\n",
    "从而，基准组合就是 beta 为 1 的最小方差组合。"
   ]
  },
  {
   "cell_type": "markdown",
   "metadata": {},
   "source": [
    "## 最大夏普率组合"
   ]
  },
  {
   "cell_type": "code",
   "execution_count": null,
   "metadata": {},
   "outputs": [],
   "source": []
  }
 ],
 "metadata": {
  "kernelspec": {
   "display_name": "Python 3",
   "language": "python",
   "name": "python3"
  },
  "language_info": {
   "codemirror_mode": {
    "name": "ipython",
    "version": 3
   },
   "file_extension": ".py",
   "mimetype": "text/x-python",
   "name": "python",
   "nbconvert_exporter": "python",
   "pygments_lexer": "ipython3",
   "version": "3.7.0"
  },
  "latex_envs": {
   "LaTeX_envs_menu_present": true,
   "autoclose": false,
   "autocomplete": true,
   "bibliofile": "biblio.bib",
   "cite_by": "apalike",
   "current_citInitial": 1,
   "eqLabelWithNumbers": false,
   "eqNumInitial": 1,
   "hotkeys": {
    "equation": "Ctrl-E",
    "itemize": "Ctrl-I"
   },
   "labels_anchors": false,
   "latex_user_defs": false,
   "report_style_numbering": false,
   "user_envs_cfg": false
  },
  "toc": {
   "base_numbering": 1,
   "nav_menu": {},
   "number_sections": true,
   "sideBar": true,
   "skip_h1_title": false,
   "title_cell": "Table of Contents",
   "title_sidebar": "Contents",
   "toc_cell": false,
   "toc_position": {
    "height": "calc(100% - 180px)",
    "left": "10px",
    "top": "150px",
    "width": "165px"
   },
   "toc_section_display": true,
   "toc_window_display": true
  },
  "varInspector": {
   "cols": {
    "lenName": 16,
    "lenType": 16,
    "lenVar": 40
   },
   "kernels_config": {
    "python": {
     "delete_cmd_postfix": "",
     "delete_cmd_prefix": "del ",
     "library": "var_list.py",
     "varRefreshCmd": "print(var_dic_list())"
    },
    "r": {
     "delete_cmd_postfix": ") ",
     "delete_cmd_prefix": "rm(",
     "library": "var_list.r",
     "varRefreshCmd": "cat(var_dic_list()) "
    }
   },
   "types_to_exclude": [
    "module",
    "function",
    "builtin_function_or_method",
    "instance",
    "_Feature"
   ],
   "window_display": false
  }
 },
 "nbformat": 4,
 "nbformat_minor": 2
}
