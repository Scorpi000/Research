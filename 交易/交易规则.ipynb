{
 "cells": [
  {
   "cell_type": "markdown",
   "metadata": {},
   "source": [
    "# 交易规则\n",
    "\n",
    "## 中金所交易规则\n",
    "\n"
   ]
  },
  {
   "cell_type": "markdown",
   "metadata": {},
   "source": [
    "# 交易时间\n",
    "\n",
    "## 期货\n",
    "\n",
    "连续交易指除上午9：00-11：30和下午13：30-15：00之外由交易所规定交易时间的交易，通常指夜盘交易。\n",
    "\n",
    "一个完整的期货交易日是指从前一个有交易的工作日夜盘开始至当天日盘结束。如：2018年9月11日夜盘（21:00起）与2018年9月12日日盘（9:00--15:00）为一个交易日。每周一至周五为正常交易日（周五的夜盘与下一周一为一个交易日），法定节假日休市，法定节假日前一天夜盘休市。\n",
    "\n",
    "日盘交易时间：\n",
    "* 商品期货：【9:00-----10:15】【10:30----11:30】        【13:30------15:00】\n",
    "* 股指期货：    【9:30------------------11:30】    【13:00--------------15:00】\n",
    "* 国债期货：  【9:15---------------------11:30】    【13:00--------------15:15】\n",
    "\n",
    "夜盘交易时间：\n",
    "* 【21:00----23:00】：橡胶，螺纹钢，热卷，沥青，燃料油，纸浆\n",
    "* 【21:00------23:30】：大豆，豆粕，豆油，菜籽粕，菜籽油，棕榈油，棉花，白糖，焦煤，焦炭，铁矿石，动力煤，玻璃，甲醇，PTA\n",
    "* 【21:00------------01:00】：铜，铝，锌，铅，镍，锡\n",
    "* 【21:00------------------02:30】：黄金，白银，原油\n",
    "\n",
    "最后交易日日盘交易时间：\n",
    "* 苹果：【9:00--------11:00】\n",
    "* 国债： 【9:15---------11:30】\n",
    "\n",
    "日盘和夜盘集合竞价时间：开盘前 5 分钟的前 4 分钟。\n",
    "\n"
   ]
  },
  {
   "cell_type": "code",
   "execution_count": null,
   "metadata": {},
   "outputs": [],
   "source": []
  }
 ],
 "metadata": {
  "kernelspec": {
   "display_name": "Python 3",
   "language": "python",
   "name": "python3"
  },
  "language_info": {
   "codemirror_mode": {
    "name": "ipython",
    "version": 3
   },
   "file_extension": ".py",
   "mimetype": "text/x-python",
   "name": "python",
   "nbconvert_exporter": "python",
   "pygments_lexer": "ipython3",
   "version": "3.5.4"
  },
  "latex_envs": {
   "LaTeX_envs_menu_present": true,
   "autoclose": true,
   "autocomplete": true,
   "bibliofile": "biblio.bib",
   "cite_by": "apalike",
   "current_citInitial": 1,
   "eqLabelWithNumbers": true,
   "eqNumInitial": 1,
   "hotkeys": {
    "equation": "Ctrl-E",
    "itemize": "Ctrl-I"
   },
   "labels_anchors": false,
   "latex_user_defs": false,
   "report_style_numbering": false,
   "user_envs_cfg": false
  },
  "toc": {
   "base_numbering": 1,
   "nav_menu": {},
   "number_sections": true,
   "sideBar": true,
   "skip_h1_title": false,
   "title_cell": "Table of Contents",
   "title_sidebar": "Contents",
   "toc_cell": false,
   "toc_position": {},
   "toc_section_display": true,
   "toc_window_display": false
  },
  "varInspector": {
   "cols": {
    "lenName": 16,
    "lenType": 16,
    "lenVar": 40
   },
   "kernels_config": {
    "python": {
     "delete_cmd_postfix": "",
     "delete_cmd_prefix": "del ",
     "library": "var_list.py",
     "varRefreshCmd": "print(var_dic_list())"
    },
    "r": {
     "delete_cmd_postfix": ") ",
     "delete_cmd_prefix": "rm(",
     "library": "var_list.r",
     "varRefreshCmd": "cat(var_dic_list()) "
    }
   },
   "types_to_exclude": [
    "module",
    "function",
    "builtin_function_or_method",
    "instance",
    "_Feature"
   ],
   "window_display": false
  }
 },
 "nbformat": 4,
 "nbformat_minor": 2
}
